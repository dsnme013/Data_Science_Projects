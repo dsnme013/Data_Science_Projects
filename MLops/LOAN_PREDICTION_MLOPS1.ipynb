{
 "cells": [
  {
   "cell_type": "code",
   "execution_count": 1,
   "id": "fb7b579e",
   "metadata": {},
   "outputs": [],
   "source": [
    "import os\n",
    "os.environ['GIT_PYTHON_REFRESH']='quiet'\n",
    "os.environ['MLFLOW_TRACKING_URI']=\"file:///Users\\\\Hepsibha\\\\Desktop\\\\LOAN\""
   ]
  },
  {
   "cell_type": "code",
   "execution_count": 2,
   "id": "11fcf502",
   "metadata": {},
   "outputs": [
    {
     "name": "stderr",
     "output_type": "stream",
     "text": [
      "C:\\Users\\Hepsibha\\anaconda3\\Lib\\site-packages\\pandas\\core\\arrays\\masked.py:60: UserWarning: Pandas requires version '1.3.6' or newer of 'bottleneck' (version '1.3.5' currently installed).\n",
      "  from pandas.core import (\n"
     ]
    },
    {
     "name": "stdout",
     "output_type": "stream",
     "text": [
      "                             run_id       experiment_id    status  \\\n",
      "0  6d845461bf9f4ebd987c03d90b5ae373  352360772790994211  FINISHED   \n",
      "1  e9b275f7482e422aa1bc8c35d944f9a6  352360772790994211   RUNNING   \n",
      "2  5c65278f9cd14985a98998ef81e13856  352360772790994211  FINISHED   \n",
      "3  c8117d098c8345ce82492ccb3fd6c362  352360772790994211    FAILED   \n",
      "\n",
      "                                        artifact_uri  \\\n",
      "0  file:///C:/Users/Hepsibha/Desktop/LOAN/3523607...   \n",
      "1  file:///C:/Users/Hepsibha/Desktop/LOAN/3523607...   \n",
      "2  file:///C:/Users/Hepsibha/Desktop/LOAN/3523607...   \n",
      "3  file:///C:/Users/Hepsibha/Desktop/LOAN/3523607...   \n",
      "\n",
      "                        start_time                         end_time  \\\n",
      "0 2024-05-24 06:13:40.923000+00:00 2024-05-24 06:58:25.171000+00:00   \n",
      "1 2024-05-23 19:10:30.985000+00:00                              NaT   \n",
      "2 2024-05-23 14:48:56.896000+00:00 2024-05-23 17:51:56.114000+00:00   \n",
      "3 2024-05-23 13:16:36.308000+00:00 2024-05-23 14:48:44.093000+00:00   \n",
      "\n",
      "   metrics.gbm_training_score  metrics.rf_testing_score  \\\n",
      "0                    0.893022                  0.877116   \n",
      "1                         NaN                       NaN   \n",
      "2                    0.893639                  0.877116   \n",
      "3                         NaN                       NaN   \n",
      "\n",
      "   metrics.rf_training_score  metrics.gbm_testing_score  ...  \\\n",
      "0                   0.877092                   0.887249  ...   \n",
      "1                        NaN                        NaN  ...   \n",
      "2                   0.877092                   0.887950  ...   \n",
      "3                        NaN                        NaN  ...   \n",
      "\n",
      "  params.gbm_minimum_samples_split params.rf_max_depth params.n_estimators  \\\n",
      "0                                5                   6                5000   \n",
      "1                                5                   6                5000   \n",
      "2                                5                   6                5000   \n",
      "3                                5                   6                5000   \n",
      "\n",
      "                             tags.mlflow.source.name tags.feature_set_version  \\\n",
      "0  C:\\Users\\Hepsibha\\anaconda3\\Lib\\site-packages\\...             loan default   \n",
      "1  C:\\Users\\Hepsibha\\anaconda3\\Lib\\site-packages\\...                     None   \n",
      "2  C:\\Users\\Hepsibha\\anaconda3\\Lib\\site-packages\\...             loan default   \n",
      "3  C:\\Users\\Hepsibha\\anaconda3\\Lib\\site-packages\\...                     None   \n",
      "\n",
      "  tags.mlflow.source.type tags.mlflow.user tags.iteration_name  \\\n",
      "0                   LOCAL         Hepsibha  test_rf_gb_sklearn   \n",
      "1                   LOCAL         Hepsibha                None   \n",
      "2                   LOCAL         Hepsibha  test_rf_gb_sklearn   \n",
      "3                   LOCAL         Hepsibha                None   \n",
      "\n",
      "                       tags.mlflow.log-model.history tags.mlflow.runName  \n",
      "0  [{\"run_id\": \"6d845461bf9f4ebd987c03d90b5ae373\"...    delicate-cod-800  \n",
      "1                                               None     kindly-skink-94  \n",
      "2  [{\"run_id\": \"5c65278f9cd14985a98998ef81e13856\"...   luminous-moth-884  \n",
      "3                                               None  sneaky-squirrel-39  \n",
      "\n",
      "[4 rows x 23 columns]\n"
     ]
    }
   ],
   "source": [
    "import mlflow\n",
    "\n",
    "all_runs = mlflow.search_runs(search_all_experiments=True)\n",
    "print(all_runs)"
   ]
  },
  {
   "cell_type": "code",
   "execution_count": 5,
   "id": "744c8e5b",
   "metadata": {},
   "outputs": [
    {
     "name": "stdout",
     "output_type": "stream",
     "text": [
      "Requirement already satisfied: bottleneck in c:\\users\\hepsibha\\anaconda3\\lib\\site-packages (1.3.5)\n",
      "Collecting bottleneck\n",
      "  Obtaining dependency information for bottleneck from https://files.pythonhosted.org/packages/a7/ef/f5ee62f290f61842b34413ae82042825556ee1078e195d0e34c674fdc72e/Bottleneck-1.3.8-cp311-cp311-win_amd64.whl.metadata\n",
      "  Downloading Bottleneck-1.3.8-cp311-cp311-win_amd64.whl.metadata (8.1 kB)\n",
      "Requirement already satisfied: numpy in c:\\users\\hepsibha\\anaconda3\\lib\\site-packages (from bottleneck) (1.24.3)\n",
      "Downloading Bottleneck-1.3.8-cp311-cp311-win_amd64.whl (110 kB)\n",
      "   ---------------------------------------- 0.0/110.1 kB ? eta -:--:--\n",
      "   --- ------------------------------------ 10.2/110.1 kB ? eta -:--:--\n",
      "   ------- ------------------------------- 20.5/110.1 kB 330.3 kB/s eta 0:00:01\n",
      "   ------------------ -------------------- 51.2/110.1 kB 525.1 kB/s eta 0:00:01\n",
      "   ---------------------------------------- 110.1/110.1 kB 1.1 MB/s eta 0:00:00\n",
      "Installing collected packages: bottleneck\n",
      "  Attempting uninstall: bottleneck\n",
      "    Found existing installation: Bottleneck 1.3.5\n",
      "    Uninstalling Bottleneck-1.3.5:\n",
      "      Successfully uninstalled Bottleneck-1.3.5\n",
      "Successfully installed bottleneck-1.3.8\n",
      "Note: you may need to restart the kernel to use updated packages.\n"
     ]
    }
   ],
   "source": [
    "pip install --upgrade bottleneck"
   ]
  },
  {
   "cell_type": "code",
   "execution_count": null,
   "id": "6e663523",
   "metadata": {},
   "outputs": [],
   "source": [
    "!mlflow models serve -p 8002 -m runs:/6d845461bf9f4ebd987c03d90b5ae373/random-forest-model  --no-conda"
   ]
  },
  {
   "cell_type": "code",
   "execution_count": null,
   "id": "e8582cb3",
   "metadata": {},
   "outputs": [],
   "source": []
  }
 ],
 "metadata": {
  "kernelspec": {
   "display_name": "Python 3 (ipykernel)",
   "language": "python",
   "name": "python3"
  },
  "language_info": {
   "codemirror_mode": {
    "name": "ipython",
    "version": 3
   },
   "file_extension": ".py",
   "mimetype": "text/x-python",
   "name": "python",
   "nbconvert_exporter": "python",
   "pygments_lexer": "ipython3",
   "version": "3.11.5"
  }
 },
 "nbformat": 4,
 "nbformat_minor": 5
}

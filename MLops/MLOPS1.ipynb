{
 "cells": [
  {
   "cell_type": "code",
   "execution_count": 1,
   "id": "487c297d-c867-40f9-b34d-414c53929e7f",
   "metadata": {},
   "outputs": [
    {
     "name": "stdout",
     "output_type": "stream",
     "text": [
      "Collecting mlflow\n",
      "  Downloading mlflow-2.12.2-py3-none-any.whl.metadata (29 kB)\n",
      "Requirement already satisfied: Flask<4 in c:\\users\\manasa\\anaconda3\\lib\\site-packages (from mlflow) (2.2.5)\n",
      "Collecting alembic!=1.10.0,<2 (from mlflow)\n",
      "  Downloading alembic-1.13.1-py3-none-any.whl.metadata (7.4 kB)\n",
      "Requirement already satisfied: click<9,>=7.0 in c:\\users\\manasa\\anaconda3\\lib\\site-packages (from mlflow) (8.1.7)\n",
      "Requirement already satisfied: cloudpickle<4 in c:\\users\\manasa\\anaconda3\\lib\\site-packages (from mlflow) (2.2.1)\n",
      "Collecting docker<8,>=4.0.0 (from mlflow)\n",
      "  Downloading docker-7.0.0-py3-none-any.whl.metadata (3.5 kB)\n",
      "Requirement already satisfied: entrypoints<1 in c:\\users\\manasa\\anaconda3\\lib\\site-packages (from mlflow) (0.4)\n",
      "Requirement already satisfied: gitpython<4,>=3.1.9 in c:\\users\\manasa\\anaconda3\\lib\\site-packages (from mlflow) (3.1.37)\n",
      "Collecting graphene<4 (from mlflow)\n",
      "  Downloading graphene-3.3-py2.py3-none-any.whl.metadata (7.7 kB)\n",
      "Requirement already satisfied: importlib-metadata!=4.7.0,<8,>=3.7.0 in c:\\users\\manasa\\anaconda3\\lib\\site-packages (from mlflow) (7.0.0)\n",
      "Requirement already satisfied: markdown<4,>=3.3 in c:\\users\\manasa\\anaconda3\\lib\\site-packages (from mlflow) (3.4.1)\n",
      "Requirement already satisfied: matplotlib<4 in c:\\users\\manasa\\anaconda3\\lib\\site-packages (from mlflow) (3.8.0)\n",
      "Requirement already satisfied: numpy<2 in c:\\users\\manasa\\anaconda3\\lib\\site-packages (from mlflow) (1.26.4)\n",
      "Requirement already satisfied: packaging<25 in c:\\users\\manasa\\anaconda3\\lib\\site-packages (from mlflow) (23.2)\n",
      "Requirement already satisfied: pandas<3 in c:\\users\\manasa\\anaconda3\\lib\\site-packages (from mlflow) (2.2.1)\n",
      "Requirement already satisfied: protobuf<5,>=3.12.0 in c:\\users\\manasa\\anaconda3\\lib\\site-packages (from mlflow) (3.20.3)\n",
      "Requirement already satisfied: pyarrow<16,>=4.0.0 in c:\\users\\manasa\\anaconda3\\lib\\site-packages (from mlflow) (14.0.2)\n",
      "Requirement already satisfied: pytz<2025 in c:\\users\\manasa\\anaconda3\\lib\\site-packages (from mlflow) (2023.3.post1)\n",
      "Requirement already satisfied: pyyaml<7,>=5.1 in c:\\users\\manasa\\anaconda3\\lib\\site-packages (from mlflow) (6.0.1)\n",
      "Collecting querystring-parser<2 (from mlflow)\n",
      "  Downloading querystring_parser-1.2.4-py2.py3-none-any.whl.metadata (559 bytes)\n",
      "Requirement already satisfied: requests<3,>=2.17.3 in c:\\users\\manasa\\anaconda3\\lib\\site-packages (from mlflow) (2.31.0)\n",
      "Requirement already satisfied: scikit-learn<2 in c:\\users\\manasa\\anaconda3\\lib\\site-packages (from mlflow) (1.4.1.post1)\n",
      "Requirement already satisfied: scipy<2 in c:\\users\\manasa\\anaconda3\\lib\\site-packages (from mlflow) (1.11.4)\n",
      "Requirement already satisfied: sqlalchemy<3,>=1.4.0 in c:\\users\\manasa\\anaconda3\\lib\\site-packages (from mlflow) (2.0.25)\n",
      "Collecting sqlparse<1,>=0.4.0 (from mlflow)\n",
      "  Downloading sqlparse-0.5.0-py3-none-any.whl.metadata (3.9 kB)\n",
      "Requirement already satisfied: Jinja2<4,>=3.0 in c:\\users\\manasa\\anaconda3\\lib\\site-packages (from mlflow) (3.1.3)\n",
      "Collecting waitress<4 (from mlflow)\n",
      "  Downloading waitress-3.0.0-py3-none-any.whl.metadata (4.2 kB)\n",
      "Collecting Mako (from alembic!=1.10.0,<2->mlflow)\n",
      "  Downloading Mako-1.3.5-py3-none-any.whl.metadata (2.9 kB)\n",
      "Requirement already satisfied: typing-extensions>=4 in c:\\users\\manasa\\anaconda3\\lib\\site-packages (from alembic!=1.10.0,<2->mlflow) (4.9.0)\n",
      "Requirement already satisfied: colorama in c:\\users\\manasa\\anaconda3\\lib\\site-packages (from click<9,>=7.0->mlflow) (0.4.6)\n",
      "Requirement already satisfied: urllib3>=1.26.0 in c:\\users\\manasa\\anaconda3\\lib\\site-packages (from docker<8,>=4.0.0->mlflow) (2.0.7)\n",
      "Requirement already satisfied: pywin32>=304 in c:\\users\\manasa\\anaconda3\\lib\\site-packages (from docker<8,>=4.0.0->mlflow) (305.1)\n",
      "Requirement already satisfied: Werkzeug>=2.2.2 in c:\\users\\manasa\\anaconda3\\lib\\site-packages (from Flask<4->mlflow) (2.2.3)\n",
      "Requirement already satisfied: itsdangerous>=2.0 in c:\\users\\manasa\\anaconda3\\lib\\site-packages (from Flask<4->mlflow) (2.0.1)\n",
      "Requirement already satisfied: gitdb<5,>=4.0.1 in c:\\users\\manasa\\anaconda3\\lib\\site-packages (from gitpython<4,>=3.1.9->mlflow) (4.0.7)\n",
      "Collecting graphql-core<3.3,>=3.1 (from graphene<4->mlflow)\n",
      "  Downloading graphql_core-3.2.3-py3-none-any.whl.metadata (10 kB)\n",
      "Collecting graphql-relay<3.3,>=3.1 (from graphene<4->mlflow)\n",
      "  Downloading graphql_relay-3.2.0-py3-none-any.whl.metadata (12 kB)\n",
      "Collecting aniso8601<10,>=8 (from graphene<4->mlflow)\n",
      "  Downloading aniso8601-9.0.1-py2.py3-none-any.whl.metadata (23 kB)\n",
      "Requirement already satisfied: zipp>=0.5 in c:\\users\\manasa\\anaconda3\\lib\\site-packages (from importlib-metadata!=4.7.0,<8,>=3.7.0->mlflow) (3.17.0)\n",
      "Requirement already satisfied: MarkupSafe>=2.0 in c:\\users\\manasa\\anaconda3\\lib\\site-packages (from Jinja2<4,>=3.0->mlflow) (2.1.3)\n",
      "Requirement already satisfied: contourpy>=1.0.1 in c:\\users\\manasa\\anaconda3\\lib\\site-packages (from matplotlib<4->mlflow) (1.2.0)\n",
      "Requirement already satisfied: cycler>=0.10 in c:\\users\\manasa\\anaconda3\\lib\\site-packages (from matplotlib<4->mlflow) (0.11.0)\n",
      "Requirement already satisfied: fonttools>=4.22.0 in c:\\users\\manasa\\anaconda3\\lib\\site-packages (from matplotlib<4->mlflow) (4.25.0)\n",
      "Requirement already satisfied: kiwisolver>=1.0.1 in c:\\users\\manasa\\anaconda3\\lib\\site-packages (from matplotlib<4->mlflow) (1.4.4)\n",
      "Requirement already satisfied: pillow>=6.2.0 in c:\\users\\manasa\\anaconda3\\lib\\site-packages (from matplotlib<4->mlflow) (10.2.0)\n",
      "Requirement already satisfied: pyparsing>=2.3.1 in c:\\users\\manasa\\anaconda3\\lib\\site-packages (from matplotlib<4->mlflow) (3.0.9)\n",
      "Requirement already satisfied: python-dateutil>=2.7 in c:\\users\\manasa\\anaconda3\\lib\\site-packages (from matplotlib<4->mlflow) (2.8.2)\n",
      "Requirement already satisfied: tzdata>=2022.7 in c:\\users\\manasa\\anaconda3\\lib\\site-packages (from pandas<3->mlflow) (2023.3)\n",
      "Requirement already satisfied: six in c:\\users\\manasa\\anaconda3\\lib\\site-packages (from querystring-parser<2->mlflow) (1.16.0)\n",
      "Requirement already satisfied: charset-normalizer<4,>=2 in c:\\users\\manasa\\anaconda3\\lib\\site-packages (from requests<3,>=2.17.3->mlflow) (2.0.4)\n",
      "Requirement already satisfied: idna<4,>=2.5 in c:\\users\\manasa\\anaconda3\\lib\\site-packages (from requests<3,>=2.17.3->mlflow) (3.4)\n",
      "Requirement already satisfied: certifi>=2017.4.17 in c:\\users\\manasa\\anaconda3\\lib\\site-packages (from requests<3,>=2.17.3->mlflow) (2024.2.2)\n",
      "Requirement already satisfied: joblib>=1.2.0 in c:\\users\\manasa\\anaconda3\\lib\\site-packages (from scikit-learn<2->mlflow) (1.2.0)\n",
      "Requirement already satisfied: threadpoolctl>=2.0.0 in c:\\users\\manasa\\anaconda3\\lib\\site-packages (from scikit-learn<2->mlflow) (2.2.0)\n",
      "Requirement already satisfied: greenlet!=0.4.17 in c:\\users\\manasa\\anaconda3\\lib\\site-packages (from sqlalchemy<3,>=1.4.0->mlflow) (3.0.1)\n",
      "Requirement already satisfied: smmap<5,>=3.0.1 in c:\\users\\manasa\\anaconda3\\lib\\site-packages (from gitdb<5,>=4.0.1->gitpython<4,>=3.1.9->mlflow) (4.0.0)\n",
      "Downloading mlflow-2.12.2-py3-none-any.whl (20.2 MB)\n",
      "   ---------------------------------------- 0.0/20.2 MB ? eta -:--:--\n",
      "   ---------------------------------------- 0.0/20.2 MB 1.9 MB/s eta 0:00:11\n",
      "   ---------------------------------------- 0.1/20.2 MB 1.1 MB/s eta 0:00:20\n",
      "   ---------------------------------------- 0.2/20.2 MB 1.7 MB/s eta 0:00:12\n",
      "    --------------------------------------- 0.4/20.2 MB 2.4 MB/s eta 0:00:09\n",
      "   - -------------------------------------- 0.5/20.2 MB 2.4 MB/s eta 0:00:09\n",
      "   - -------------------------------------- 1.0/20.2 MB 3.7 MB/s eta 0:00:06\n",
      "   -- ------------------------------------- 1.3/20.2 MB 4.1 MB/s eta 0:00:05\n",
      "   ---- ----------------------------------- 2.1/20.2 MB 6.2 MB/s eta 0:00:03\n",
      "   ----- ---------------------------------- 2.9/20.2 MB 7.1 MB/s eta 0:00:03\n",
      "   -------- ------------------------------- 4.5/20.2 MB 10.4 MB/s eta 0:00:02\n",
      "   ----------- ---------------------------- 5.7/20.2 MB 11.3 MB/s eta 0:00:02\n",
      "   --------------- ------------------------ 7.9/20.2 MB 14.8 MB/s eta 0:00:01\n",
      "   ------------------- -------------------- 9.9/20.2 MB 17.1 MB/s eta 0:00:01\n",
      "   ----------------------- ---------------- 12.0/20.2 MB 34.4 MB/s eta 0:00:01\n",
      "   -------------------------- ------------- 13.4/20.2 MB 38.6 MB/s eta 0:00:01\n",
      "   ------------------------------ --------- 15.4/20.2 MB 43.7 MB/s eta 0:00:01\n",
      "   ---------------------------------- ----- 17.3/20.2 MB 40.9 MB/s eta 0:00:01\n",
      "   -------------------------------------- - 19.5/20.2 MB 40.9 MB/s eta 0:00:01\n",
      "   ---------------------------------------  20.2/20.2 MB 43.7 MB/s eta 0:00:01\n",
      "   ---------------------------------------- 20.2/20.2 MB 36.4 MB/s eta 0:00:00\n",
      "Downloading alembic-1.13.1-py3-none-any.whl (233 kB)\n",
      "   ---------------------------------------- 0.0/233.4 kB ? eta -:--:--\n",
      "   -------------------------------------- - 225.3/233.4 kB 4.6 MB/s eta 0:00:01\n",
      "   ---------------------------------------- 233.4/233.4 kB 3.5 MB/s eta 0:00:00\n",
      "Downloading docker-7.0.0-py3-none-any.whl (147 kB)\n",
      "   ---------------------------------------- 0.0/147.6 kB ? eta -:--:--\n",
      "   ---------------------------------------- 147.6/147.6 kB ? eta 0:00:00\n",
      "Downloading graphene-3.3-py2.py3-none-any.whl (128 kB)\n",
      "   ---------------------------------------- 0.0/128.2 kB ? eta -:--:--\n",
      "   ---------------------------------------- 128.2/128.2 kB 7.4 MB/s eta 0:00:00\n",
      "Downloading querystring_parser-1.2.4-py2.py3-none-any.whl (7.9 kB)\n",
      "Downloading sqlparse-0.5.0-py3-none-any.whl (43 kB)\n",
      "   ---------------------------------------- 0.0/44.0 kB ? eta -:--:--\n",
      "   ---------------------------------------- 44.0/44.0 kB 2.2 MB/s eta 0:00:00\n",
      "Downloading waitress-3.0.0-py3-none-any.whl (56 kB)\n",
      "   ---------------------------------------- 0.0/56.7 kB ? eta -:--:--\n",
      "   ---------------------------------------- 56.7/56.7 kB ? eta 0:00:00\n",
      "Downloading aniso8601-9.0.1-py2.py3-none-any.whl (52 kB)\n",
      "   ---------------------------------------- 0.0/52.8 kB ? eta -:--:--\n",
      "   ---------------------------------------- 52.8/52.8 kB 2.8 MB/s eta 0:00:00\n",
      "Downloading graphql_core-3.2.3-py3-none-any.whl (202 kB)\n",
      "   ---------------------------------------- 0.0/202.9 kB ? eta -:--:--\n",
      "   --------------------------------------- 202.9/202.9 kB 12.0 MB/s eta 0:00:00\n",
      "Downloading graphql_relay-3.2.0-py3-none-any.whl (16 kB)\n",
      "Downloading Mako-1.3.5-py3-none-any.whl (78 kB)\n",
      "   ---------------------------------------- 0.0/78.6 kB ? eta -:--:--\n",
      "   ---------------------------------------- 78.6/78.6 kB 4.3 MB/s eta 0:00:00\n",
      "Installing collected packages: aniso8601, waitress, sqlparse, querystring-parser, Mako, graphql-core, graphql-relay, docker, alembic, graphene, mlflow\n",
      "Successfully installed Mako-1.3.5 alembic-1.13.1 aniso8601-9.0.1 docker-7.0.0 graphene-3.3 graphql-core-3.2.3 graphql-relay-3.2.0 mlflow-2.12.2 querystring-parser-1.2.4 sqlparse-0.5.0 waitress-3.0.0\n"
     ]
    },
    {
     "name": "stderr",
     "output_type": "stream",
     "text": [
      "\n",
      "[notice] A new release of pip is available: 23.3.2 -> 24.0\n",
      "[notice] To update, run: python.exe -m pip install --upgrade pip\n"
     ]
    }
   ],
   "source": [
    "!pip install mlflow"
   ]
  },
  {
   "cell_type": "code",
   "execution_count": 2,
   "id": "c6d906c5-d68c-4642-9734-a664369d5dfb",
   "metadata": {},
   "outputs": [],
   "source": [
    "import os\n",
    "os.environ['GIT_PYTHON_REFRESH']='quiet'\n",
    "os.environ['MLFLOW_TRACKING_URI']='file:///C:/Users/MLOPS'"
   ]
  },
  {
   "cell_type": "code",
   "execution_count": 3,
   "id": "5e2a64b0-0cbc-4171-9d80-d933578f3c89",
   "metadata": {},
   "outputs": [],
   "source": [
    "from sklearn.datasets import load_iris\n",
    "import pandas as pd\n",
    "\n",
    "iris = load_iris()\n",
    "iris_df = pd.DataFrame(iris.data, columns=iris.feature_names)\n",
    "iris_df['target'] = iris.target"
   ]
  },
  {
   "cell_type": "code",
   "execution_count": 4,
   "id": "b28ea0c3-7676-4927-bbde-8826d393af85",
   "metadata": {},
   "outputs": [
    {
     "name": "stdout",
     "output_type": "stream",
     "text": [
      "Accuracy: 1.0\n"
     ]
    }
   ],
   "source": [
    "from sklearn.model_selection import train_test_split\n",
    "from sklearn.ensemble import RandomForestClassifier\n",
    "from sklearn.metrics import accuracy_score\n",
    "\n",
    "X = iris_df.drop('target', axis=1)\n",
    "y = iris_df['target']\n",
    "\n",
    "X_train, X_test, y_train, y_test = train_test_split(X, y, test_size=0.2, random_state=42)\n",
    "\n",
    "# Train a Random Forest classifier\n",
    "rf = RandomForestClassifier(n_estimators=100)\n",
    "rf.fit(X_train, y_train)\n",
    "\n",
    "# Evaluate the model\n",
    "predictions = rf.predict(X_test)\n",
    "accuracy = accuracy_score(y_test, predictions)\n",
    "print(\"Accuracy:\", accuracy)"
   ]
  },
  {
   "cell_type": "code",
   "execution_count": 19,
   "id": "acdac416-08b3-40f1-a69b-7571525db0ec",
   "metadata": {},
   "outputs": [],
   "source": [
    "import mlflow\n",
    "import mlflow.sklearn\n",
    "\n",
    "# Log the model with MLflow\n",
    "mlflow.set_tracking_uri(uri=\"file:///C:/Users/MLOPS\")\n",
    "EXPERIMENT_ID = mlflow.create_experiment(\"ex8\",tags={\"version\":'v1','m1':'rf'})\n",
    "exp=mlflow.set_experiment(experiment_name=\"ex8\")\n",
    "with mlflow.start_run():\n",
    "    mlflow.sklearn.log_model(rf, \"random-forest-model\")\n",
    "    mlflow.log_metric(\"accuracy\", accuracy)"
   ]
  },
  {
   "cell_type": "code",
   "execution_count": 22,
   "id": "7e132bb4-32e5-4ef2-a2c1-bf8445dcbdcf",
   "metadata": {},
   "outputs": [
    {
     "name": "stdout",
     "output_type": "stream",
     "text": [
      "{'predictions': [1, 0, 2, 1, 1, 0, 1, 2, 1, 1, 2, 0, 0, 0, 0, 1, 2, 1, 1, 2, 0, 2, 0, 2, 2, 2, 2, 2, 0, 0]}\n"
     ]
    }
   ],
   "source": [
    "import requests\n",
    "import json\n",
    "\n",
    "#data = {\"columns\": iris.feature_names, \"data\": [[6.1, 2.8, 4.7, 1.2]]}\n",
    "data = {'dataframe_records': X_test.values.tolist()}\n",
    "headers = {\"Content-Type\": \"application/json\"}\n",
    "\n",
    "response = requests.post(\"http://localhost:8001/invocations\", data=json.dumps(data), headers=headers)\n",
    "predictions = response.json()\n",
    "\n",
    "print(predictions)"
   ]
  },
  {
   "cell_type": "code",
   "execution_count": 23,
   "id": "127ca7cb-c036-462c-b685-6e004ba9c7c5",
   "metadata": {},
   "outputs": [
    {
     "data": {
      "text/plain": [
       "{'dataframe_records': [[6.1, 2.8, 4.7, 1.2],\n",
       "  [5.7, 3.8, 1.7, 0.3],\n",
       "  [7.7, 2.6, 6.9, 2.3],\n",
       "  [6.0, 2.9, 4.5, 1.5],\n",
       "  [6.8, 2.8, 4.8, 1.4],\n",
       "  [5.4, 3.4, 1.5, 0.4],\n",
       "  [5.6, 2.9, 3.6, 1.3],\n",
       "  [6.9, 3.1, 5.1, 2.3],\n",
       "  [6.2, 2.2, 4.5, 1.5],\n",
       "  [5.8, 2.7, 3.9, 1.2],\n",
       "  [6.5, 3.2, 5.1, 2.0],\n",
       "  [4.8, 3.0, 1.4, 0.1],\n",
       "  [5.5, 3.5, 1.3, 0.2],\n",
       "  [4.9, 3.1, 1.5, 0.1],\n",
       "  [5.1, 3.8, 1.5, 0.3],\n",
       "  [6.3, 3.3, 4.7, 1.6],\n",
       "  [6.5, 3.0, 5.8, 2.2],\n",
       "  [5.6, 2.5, 3.9, 1.1],\n",
       "  [5.7, 2.8, 4.5, 1.3],\n",
       "  [6.4, 2.8, 5.6, 2.2],\n",
       "  [4.7, 3.2, 1.6, 0.2],\n",
       "  [6.1, 3.0, 4.9, 1.8],\n",
       "  [5.0, 3.4, 1.6, 0.4],\n",
       "  [6.4, 2.8, 5.6, 2.1],\n",
       "  [7.9, 3.8, 6.4, 2.0],\n",
       "  [6.7, 3.0, 5.2, 2.3],\n",
       "  [6.7, 2.5, 5.8, 1.8],\n",
       "  [6.8, 3.2, 5.9, 2.3],\n",
       "  [4.8, 3.0, 1.4, 0.3],\n",
       "  [4.8, 3.1, 1.6, 0.2]]}"
      ]
     },
     "execution_count": 23,
     "metadata": {},
     "output_type": "execute_result"
    }
   ],
   "source": [
    "data"
   ]
  },
  {
   "cell_type": "code",
   "execution_count": null,
   "id": "4fd2ca4d-32ef-4bfd-8f1b-92e97735bc29",
   "metadata": {},
   "outputs": [],
   "source": []
  }
 ],
 "metadata": {
  "kernelspec": {
   "display_name": "Python 3 (ipykernel)",
   "language": "python",
   "name": "python3"
  },
  "language_info": {
   "codemirror_mode": {
    "name": "ipython",
    "version": 3
   },
   "file_extension": ".py",
   "mimetype": "text/x-python",
   "name": "python",
   "nbconvert_exporter": "python",
   "pygments_lexer": "ipython3",
   "version": "3.11.7"
  }
 },
 "nbformat": 4,
 "nbformat_minor": 5
}

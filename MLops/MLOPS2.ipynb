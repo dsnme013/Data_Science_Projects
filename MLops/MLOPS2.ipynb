{
 "cells": [
  {
   "cell_type": "code",
   "execution_count": 1,
   "id": "3f27b853-8b55-48c9-ac79-33aa917bf3dd",
   "metadata": {},
   "outputs": [],
   "source": [
    "import os\n",
    "os.environ['MLFLOW_TRACKING_URI']='file:///C:/Users/MLOPS'"
   ]
  },
  {
   "cell_type": "code",
   "execution_count": 2,
   "id": "5a7267f4-c31f-4489-be4b-01ad5232a710",
   "metadata": {},
   "outputs": [
    {
     "name": "stdout",
     "output_type": "stream",
     "text": [
      "                             run_id       experiment_id    status  \\\n",
      "0  19c250d5fa374d21ad20e891ab32ae5d  713435337390586936  FINISHED   \n",
      "1  b82bf13eda124038b3924e6f912ad33a  814301638686506394  FINISHED   \n",
      "\n",
      "                                        artifact_uri  \\\n",
      "0  file:///C:/Users/MLOPS/713435337390586936/19c2...   \n",
      "1  file:///C://Users//MLOPS/814301638686506394/b8...   \n",
      "\n",
      "                        start_time                         end_time  \\\n",
      "0 2024-05-14 13:03:41.416000+00:00 2024-05-14 13:03:44.561000+00:00   \n",
      "1 2024-05-14 13:02:23.181000+00:00 2024-05-14 13:02:34.751000+00:00   \n",
      "\n",
      "   metrics.accuracy tags.mlflow.source.type   tags.mlflow.runName  \\\n",
      "0               1.0                   LOCAL   secretive-shrew-493   \n",
      "1               1.0                   LOCAL  incongruous-hawk-545   \n",
      "\n",
      "  tags.mlflow.user                            tags.mlflow.source.name  \\\n",
      "0           MANASA  C:\\Users\\MANASA\\anaconda3\\Lib\\site-packages\\ip...   \n",
      "1           MANASA  C:\\Users\\MANASA\\anaconda3\\Lib\\site-packages\\ip...   \n",
      "\n",
      "                       tags.mlflow.log-model.history  \n",
      "0  [{\"run_id\": \"19c250d5fa374d21ad20e891ab32ae5d\"...  \n",
      "1  [{\"run_id\": \"b82bf13eda124038b3924e6f912ad33a\"...  \n"
     ]
    }
   ],
   "source": [
    "import mlflow\n",
    "\n",
    "all_runs = mlflow.search_runs(search_all_experiments=True)\n",
    "print(all_runs)"
   ]
  },
  {
   "cell_type": "code",
   "execution_count": null,
   "id": "5614cd0d-944e-4e92-a433-d723d15bea55",
   "metadata": {},
   "outputs": [],
   "source": [
    "!mlflow models serve -p 8001 -m runs:/19c250d5fa374d21ad20e891ab32ae5d/random-forest-model  --no-conda"
   ]
  },
  {
   "cell_type": "code",
   "execution_count": null,
   "id": "60bee23a-258a-46af-9411-dfc7b7cc12c1",
   "metadata": {},
   "outputs": [],
   "source": []
  }
 ],
 "metadata": {
  "kernelspec": {
   "display_name": "Python 3 (ipykernel)",
   "language": "python",
   "name": "python3"
  },
  "language_info": {
   "codemirror_mode": {
    "name": "ipython",
    "version": 3
   },
   "file_extension": ".py",
   "mimetype": "text/x-python",
   "name": "python",
   "nbconvert_exporter": "python",
   "pygments_lexer": "ipython3",
   "version": "3.11.7"
  }
 },
 "nbformat": 4,
 "nbformat_minor": 5
}

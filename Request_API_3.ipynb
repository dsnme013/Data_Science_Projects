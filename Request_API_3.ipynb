{
 "cells": [
  {
   "cell_type": "code",
   "execution_count": 7,
   "id": "a59f272b-43d0-4d85-bfb8-bb9abfc9fcfc",
   "metadata": {},
   "outputs": [
    {
     "name": "stdout",
     "output_type": "stream",
     "text": [
      "200\n",
      "[104474.45187385]\n"
     ]
    }
   ],
   "source": [
    "import requests\n",
    "import json\n",
    "\n",
    "\n",
    "\n",
    "\n",
    "url=\"http://127.0.0.1:5000/get_pre/?age=21&balance=18508&loan=5165&score=580\"\n",
    "\n",
    "\n",
    "response = requests.post(url=url)\n",
    "\n",
    "print(response.status_code)\n",
    "response_text = response.text\n",
    "d1=json.loads(response_text)\n",
    "print(d1)"
   ]
  },
  {
   "cell_type": "code",
   "execution_count": null,
   "id": "f41e7baa-5e57-4156-a84c-ad927565ffbf",
   "metadata": {},
   "outputs": [],
   "source": [
    "import requests\n",
    "import json\n",
    "\n",
    "\n",
    "import pandas as pd\n",
    "\n",
    "df=pd.read_csv(\"G:\\\\Data Science\\\\gb_model_13apri24_xtest.csv\")\n",
    "for i1 in list(df.index.values):\n",
    "    url_1 = \"http://127.0.0.1:5000/get_pre/?age={df.loc[i1,'Age']}&balance={df.loc[i1,'Balance']}&loan={df.loc[i1,'loan']}&score={df.loc[i1,'score']}\"\n",
    "    response = requests.post(url=url)\n",
    "\n",
    "    print(response.status_code)\n",
    "    response_text = response.text\n",
    "    d1=json.loads(response_text)\n",
    "    print(d1)\n",
    "\n",
    "    #url=\"http://127.0.0.1:5000/get_pre/?age=21&balance=18508&loan=5165&score=580\""
   ]
  }
 ],
 "metadata": {
  "kernelspec": {
   "display_name": "Python 3 (ipykernel)",
   "language": "python",
   "name": "python3"
  },
  "language_info": {
   "codemirror_mode": {
    "name": "ipython",
    "version": 3
   },
   "file_extension": ".py",
   "mimetype": "text/x-python",
   "name": "python",
   "nbconvert_exporter": "python",
   "pygments_lexer": "ipython3",
   "version": "3.11.7"
  }
 },
 "nbformat": 4,
 "nbformat_minor": 5
}

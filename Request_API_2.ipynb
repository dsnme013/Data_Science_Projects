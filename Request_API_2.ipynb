{
 "cells": [
  {
   "cell_type": "code",
   "execution_count": 1,
   "id": "102db8ae-695a-4d77-a206-364642db479e",
   "metadata": {},
   "outputs": [],
   "source": [
    "import pickle"
   ]
  },
  {
   "cell_type": "code",
   "execution_count": 2,
   "id": "fe41e572-e0b5-416f-b96f-f05a1f55c103",
   "metadata": {},
   "outputs": [],
   "source": [
    "f1=open(\"G:\\\\Data Science\\\\gb_model_13apri24.sav\",'rb')"
   ]
  },
  {
   "cell_type": "code",
   "execution_count": 3,
   "id": "6d27ebca-8af9-4c12-a484-377701ede90e",
   "metadata": {},
   "outputs": [],
   "source": [
    "gb_model=pickle.load(f1)"
   ]
  },
  {
   "cell_type": "code",
   "execution_count": 7,
   "id": "227cca73-e8d2-407e-92ed-8f99ce915893",
   "metadata": {},
   "outputs": [],
   "source": [
    "import pandas as pd"
   ]
  },
  {
   "cell_type": "code",
   "execution_count": 14,
   "id": "29944e10-8b63-4cfc-817e-9e793e052ae7",
   "metadata": {},
   "outputs": [],
   "source": [
    "df=pd.DataFrame({\"Age\":[21],\"Balance\":[18508],\"loan\":[5165],\"score\":[580]})"
   ]
  },
  {
   "cell_type": "code",
   "execution_count": 15,
   "id": "2ba6b86c-3ea1-4efe-9845-ae3320d1d31d",
   "metadata": {},
   "outputs": [
    {
     "data": {
      "text/html": [
       "<div>\n",
       "<style scoped>\n",
       "    .dataframe tbody tr th:only-of-type {\n",
       "        vertical-align: middle;\n",
       "    }\n",
       "\n",
       "    .dataframe tbody tr th {\n",
       "        vertical-align: top;\n",
       "    }\n",
       "\n",
       "    .dataframe thead th {\n",
       "        text-align: right;\n",
       "    }\n",
       "</style>\n",
       "<table border=\"1\" class=\"dataframe\">\n",
       "  <thead>\n",
       "    <tr style=\"text-align: right;\">\n",
       "      <th></th>\n",
       "      <th>Age</th>\n",
       "      <th>Balance</th>\n",
       "      <th>loan</th>\n",
       "      <th>score</th>\n",
       "    </tr>\n",
       "  </thead>\n",
       "  <tbody>\n",
       "    <tr>\n",
       "      <th>0</th>\n",
       "      <td>21</td>\n",
       "      <td>18508</td>\n",
       "      <td>5165</td>\n",
       "      <td>580</td>\n",
       "    </tr>\n",
       "  </tbody>\n",
       "</table>\n",
       "</div>"
      ],
      "text/plain": [
       "   Age  Balance  loan  score\n",
       "0   21    18508  5165    580"
      ]
     },
     "execution_count": 15,
     "metadata": {},
     "output_type": "execute_result"
    }
   ],
   "source": [
    "df.head()\n"
   ]
  },
  {
   "cell_type": "code",
   "execution_count": 16,
   "id": "9fccfee7-4e6a-4ba2-9224-9e5b86db1d53",
   "metadata": {},
   "outputs": [
    {
     "data": {
      "text/plain": [
       "array([104474.45187385])"
      ]
     },
     "execution_count": 16,
     "metadata": {},
     "output_type": "execute_result"
    }
   ],
   "source": [
    "gb_model.predict(df)"
   ]
  },
  {
   "cell_type": "code",
   "execution_count": 18,
   "id": "960c430b-64c7-41e9-a5d1-2a991a934861",
   "metadata": {},
   "outputs": [],
   "source": [
    "def get_prediction(age,balance,loan,score):\n",
    "    x=pd.DataFrame({\"Age\":[21],\"Balance\":[18508],\"loan\":[5165],\"score\":[580]})\n",
    "    result = gb_model(x)\n",
    "    return result"
   ]
  },
  {
   "cell_type": "code",
   "execution_count": null,
   "id": "6f0287c2-ac2e-4159-b762-7c2724f4e9cd",
   "metadata": {},
   "outputs": [
    {
     "name": "stdout",
     "output_type": "stream",
     "text": [
      " * Serving Flask app '__main__'\n",
      " * Debug mode: off\n"
     ]
    },
    {
     "name": "stderr",
     "output_type": "stream",
     "text": [
      "WARNING: This is a development server. Do not use it in a production deployment. Use a production WSGI server instead.\n",
      " * Running on http://127.0.0.1:5000\n",
      "Press CTRL+C to quit\n",
      "127.0.0.1 - - [13/Apr/2024 16:45:44] \"GET /get_pre/?age=21&balance=18508&loan=5165&score=580 HTTP/1.1\" 200 -\n"
     ]
    },
    {
     "name": "stdout",
     "output_type": "stream",
     "text": [
      "[104474.45187385]\n"
     ]
    },
    {
     "name": "stderr",
     "output_type": "stream",
     "text": [
      "127.0.0.1 - - [13/Apr/2024 16:49:33] \"POST /get_pre/?age=21&balance=18508&loan=5165&score=580 HTTP/1.1\" 200 -\n"
     ]
    },
    {
     "name": "stdout",
     "output_type": "stream",
     "text": [
      "[104474.45187385]\n"
     ]
    },
    {
     "name": "stderr",
     "output_type": "stream",
     "text": [
      "127.0.0.1 - - [13/Apr/2024 16:51:03] \"GET /get_pre/?age=21&balance=18508&loan=5165&score=580 HTTP/1.1\" 200 -\n"
     ]
    },
    {
     "name": "stdout",
     "output_type": "stream",
     "text": [
      "[104474.45187385]\n"
     ]
    },
    {
     "name": "stderr",
     "output_type": "stream",
     "text": [
      "127.0.0.1 - - [13/Apr/2024 16:59:23] \"POST /get_pre/?age=21&balance=18508&loan=5165&score=580 HTTP/1.1\" 200 -\n",
      "127.0.0.1 - - [13/Apr/2024 16:59:23] \"POST /get_pre/?age=21&balance=18508&loan=5165&score=580 HTTP/1.1\" 200 -\n",
      "127.0.0.1 - - [13/Apr/2024 16:59:23] \"POST /get_pre/?age=21&balance=18508&loan=5165&score=580 HTTP/1.1\" 200 -\n",
      "127.0.0.1 - - [13/Apr/2024 16:59:23] \"POST /get_pre/?age=21&balance=18508&loan=5165&score=580 HTTP/1.1\" 200 -\n",
      "127.0.0.1 - - [13/Apr/2024 16:59:23] \"POST /get_pre/?age=21&balance=18508&loan=5165&score=580 HTTP/1.1\" 200 -\n",
      "127.0.0.1 - - [13/Apr/2024 16:59:23] \"POST /get_pre/?age=21&balance=18508&loan=5165&score=580 HTTP/1.1\" 200 -\n",
      "127.0.0.1 - - [13/Apr/2024 16:59:23] \"POST /get_pre/?age=21&balance=18508&loan=5165&score=580 HTTP/1.1\" 200 -\n",
      "127.0.0.1 - - [13/Apr/2024 16:59:23] \"POST /get_pre/?age=21&balance=18508&loan=5165&score=580 HTTP/1.1\" 200 -\n",
      "127.0.0.1 - - [13/Apr/2024 16:59:23] \"POST /get_pre/?age=21&balance=18508&loan=5165&score=580 HTTP/1.1\" 200 -\n"
     ]
    },
    {
     "name": "stdout",
     "output_type": "stream",
     "text": [
      "[104474.45187385]\n",
      "[104474.45187385]\n",
      "[104474.45187385]\n",
      "[104474.45187385]\n",
      "[104474.45187385]\n",
      "[104474.45187385]\n",
      "[104474.45187385]\n",
      "[104474.45187385]\n",
      "[104474.45187385]\n"
     ]
    },
    {
     "name": "stderr",
     "output_type": "stream",
     "text": [
      "127.0.0.1 - - [13/Apr/2024 16:59:23] \"POST /get_pre/?age=21&balance=18508&loan=5165&score=580 HTTP/1.1\" 200 -\n",
      "127.0.0.1 - - [13/Apr/2024 16:59:23] \"POST /get_pre/?age=21&balance=18508&loan=5165&score=580 HTTP/1.1\" 200 -\n",
      "127.0.0.1 - - [13/Apr/2024 16:59:23] \"POST /get_pre/?age=21&balance=18508&loan=5165&score=580 HTTP/1.1\" 200 -\n",
      "127.0.0.1 - - [13/Apr/2024 16:59:23] \"POST /get_pre/?age=21&balance=18508&loan=5165&score=580 HTTP/1.1\" 200 -\n",
      "127.0.0.1 - - [13/Apr/2024 16:59:23] \"POST /get_pre/?age=21&balance=18508&loan=5165&score=580 HTTP/1.1\" 200 -\n",
      "127.0.0.1 - - [13/Apr/2024 16:59:23] \"POST /get_pre/?age=21&balance=18508&loan=5165&score=580 HTTP/1.1\" 200 -\n",
      "127.0.0.1 - - [13/Apr/2024 16:59:23] \"POST /get_pre/?age=21&balance=18508&loan=5165&score=580 HTTP/1.1\" 200 -\n",
      "127.0.0.1 - - [13/Apr/2024 16:59:23] \"POST /get_pre/?age=21&balance=18508&loan=5165&score=580 HTTP/1.1\" 200 -\n",
      "127.0.0.1 - - [13/Apr/2024 16:59:23] \"POST /get_pre/?age=21&balance=18508&loan=5165&score=580 HTTP/1.1\" 200 -\n"
     ]
    },
    {
     "name": "stdout",
     "output_type": "stream",
     "text": [
      "[104474.45187385]\n",
      "[104474.45187385]\n",
      "[104474.45187385]\n",
      "[104474.45187385]\n",
      "[104474.45187385]\n",
      "[104474.45187385]\n",
      "[104474.45187385]\n",
      "[104474.45187385]\n",
      "[104474.45187385]\n"
     ]
    },
    {
     "name": "stderr",
     "output_type": "stream",
     "text": [
      "127.0.0.1 - - [13/Apr/2024 16:59:23] \"POST /get_pre/?age=21&balance=18508&loan=5165&score=580 HTTP/1.1\" 200 -\n",
      "127.0.0.1 - - [13/Apr/2024 16:59:23] \"POST /get_pre/?age=21&balance=18508&loan=5165&score=580 HTTP/1.1\" 200 -\n",
      "127.0.0.1 - - [13/Apr/2024 16:59:23] \"POST /get_pre/?age=21&balance=18508&loan=5165&score=580 HTTP/1.1\" 200 -\n",
      "127.0.0.1 - - [13/Apr/2024 16:59:23] \"POST /get_pre/?age=21&balance=18508&loan=5165&score=580 HTTP/1.1\" 200 -\n",
      "127.0.0.1 - - [13/Apr/2024 16:59:23] \"POST /get_pre/?age=21&balance=18508&loan=5165&score=580 HTTP/1.1\" 200 -\n",
      "127.0.0.1 - - [13/Apr/2024 16:59:23] \"POST /get_pre/?age=21&balance=18508&loan=5165&score=580 HTTP/1.1\" 200 -\n",
      "127.0.0.1 - - [13/Apr/2024 16:59:23] \"POST /get_pre/?age=21&balance=18508&loan=5165&score=580 HTTP/1.1\" 200 -\n",
      "127.0.0.1 - - [13/Apr/2024 16:59:23] \"POST /get_pre/?age=21&balance=18508&loan=5165&score=580 HTTP/1.1\" 200 -\n",
      "127.0.0.1 - - [13/Apr/2024 16:59:23] \"POST /get_pre/?age=21&balance=18508&loan=5165&score=580 HTTP/1.1\" 200 -\n",
      "127.0.0.1 - - [13/Apr/2024 16:59:23] \"POST /get_pre/?age=21&balance=18508&loan=5165&score=580 HTTP/1.1\" 200 -\n"
     ]
    },
    {
     "name": "stdout",
     "output_type": "stream",
     "text": [
      "[104474.45187385]\n",
      "[104474.45187385]\n",
      "[104474.45187385]\n",
      "[104474.45187385]\n",
      "[104474.45187385]\n",
      "[104474.45187385]\n",
      "[104474.45187385]\n",
      "[104474.45187385]\n",
      "[104474.45187385]\n",
      "[104474.45187385]\n"
     ]
    },
    {
     "name": "stderr",
     "output_type": "stream",
     "text": [
      "127.0.0.1 - - [13/Apr/2024 16:59:23] \"POST /get_pre/?age=21&balance=18508&loan=5165&score=580 HTTP/1.1\" 200 -\n",
      "127.0.0.1 - - [13/Apr/2024 16:59:23] \"POST /get_pre/?age=21&balance=18508&loan=5165&score=580 HTTP/1.1\" 200 -\n",
      "127.0.0.1 - - [13/Apr/2024 16:59:23] \"POST /get_pre/?age=21&balance=18508&loan=5165&score=580 HTTP/1.1\" 200 -\n",
      "127.0.0.1 - - [13/Apr/2024 16:59:23] \"POST /get_pre/?age=21&balance=18508&loan=5165&score=580 HTTP/1.1\" 200 -\n",
      "127.0.0.1 - - [13/Apr/2024 16:59:23] \"POST /get_pre/?age=21&balance=18508&loan=5165&score=580 HTTP/1.1\" 200 -\n",
      "127.0.0.1 - - [13/Apr/2024 16:59:23] \"POST /get_pre/?age=21&balance=18508&loan=5165&score=580 HTTP/1.1\" 200 -\n",
      "127.0.0.1 - - [13/Apr/2024 16:59:23] \"POST /get_pre/?age=21&balance=18508&loan=5165&score=580 HTTP/1.1\" 200 -\n",
      "127.0.0.1 - - [13/Apr/2024 16:59:23] \"POST /get_pre/?age=21&balance=18508&loan=5165&score=580 HTTP/1.1\" 200 -\n",
      "127.0.0.1 - - [13/Apr/2024 16:59:23] \"POST /get_pre/?age=21&balance=18508&loan=5165&score=580 HTTP/1.1\" 200 -\n",
      "127.0.0.1 - - [13/Apr/2024 16:59:23] \"POST /get_pre/?age=21&balance=18508&loan=5165&score=580 HTTP/1.1\" 200 -\n"
     ]
    },
    {
     "name": "stdout",
     "output_type": "stream",
     "text": [
      "[104474.45187385]\n",
      "[104474.45187385]\n",
      "[104474.45187385]\n",
      "[104474.45187385]\n",
      "[104474.45187385]\n",
      "[104474.45187385]\n",
      "[104474.45187385]\n",
      "[104474.45187385]\n",
      "[104474.45187385]\n",
      "[104474.45187385]\n"
     ]
    },
    {
     "name": "stderr",
     "output_type": "stream",
     "text": [
      "127.0.0.1 - - [13/Apr/2024 16:59:24] \"POST /get_pre/?age=21&balance=18508&loan=5165&score=580 HTTP/1.1\" 200 -\n",
      "127.0.0.1 - - [13/Apr/2024 16:59:24] \"POST /get_pre/?age=21&balance=18508&loan=5165&score=580 HTTP/1.1\" 200 -\n",
      "127.0.0.1 - - [13/Apr/2024 16:59:24] \"POST /get_pre/?age=21&balance=18508&loan=5165&score=580 HTTP/1.1\" 200 -\n",
      "127.0.0.1 - - [13/Apr/2024 16:59:24] \"POST /get_pre/?age=21&balance=18508&loan=5165&score=580 HTTP/1.1\" 200 -\n",
      "127.0.0.1 - - [13/Apr/2024 16:59:24] \"POST /get_pre/?age=21&balance=18508&loan=5165&score=580 HTTP/1.1\" 200 -\n",
      "127.0.0.1 - - [13/Apr/2024 16:59:24] \"POST /get_pre/?age=21&balance=18508&loan=5165&score=580 HTTP/1.1\" 200 -\n",
      "127.0.0.1 - - [13/Apr/2024 16:59:24] \"POST /get_pre/?age=21&balance=18508&loan=5165&score=580 HTTP/1.1\" 200 -\n",
      "127.0.0.1 - - [13/Apr/2024 16:59:24] \"POST /get_pre/?age=21&balance=18508&loan=5165&score=580 HTTP/1.1\" 200 -\n",
      "127.0.0.1 - - [13/Apr/2024 16:59:24] \"POST /get_pre/?age=21&balance=18508&loan=5165&score=580 HTTP/1.1\" 200 -\n",
      "127.0.0.1 - - [13/Apr/2024 16:59:24] \"POST /get_pre/?age=21&balance=18508&loan=5165&score=580 HTTP/1.1\" 200 -\n"
     ]
    },
    {
     "name": "stdout",
     "output_type": "stream",
     "text": [
      "[104474.45187385]\n",
      "[104474.45187385]\n",
      "[104474.45187385]\n",
      "[104474.45187385]\n",
      "[104474.45187385]\n",
      "[104474.45187385]\n",
      "[104474.45187385]\n",
      "[104474.45187385]\n",
      "[104474.45187385]\n",
      "[104474.45187385]\n"
     ]
    },
    {
     "name": "stderr",
     "output_type": "stream",
     "text": [
      "127.0.0.1 - - [13/Apr/2024 16:59:24] \"POST /get_pre/?age=21&balance=18508&loan=5165&score=580 HTTP/1.1\" 200 -\n",
      "127.0.0.1 - - [13/Apr/2024 16:59:24] \"POST /get_pre/?age=21&balance=18508&loan=5165&score=580 HTTP/1.1\" 200 -\n",
      "127.0.0.1 - - [13/Apr/2024 16:59:24] \"POST /get_pre/?age=21&balance=18508&loan=5165&score=580 HTTP/1.1\" 200 -\n",
      "127.0.0.1 - - [13/Apr/2024 16:59:24] \"POST /get_pre/?age=21&balance=18508&loan=5165&score=580 HTTP/1.1\" 200 -\n",
      "127.0.0.1 - - [13/Apr/2024 16:59:24] \"POST /get_pre/?age=21&balance=18508&loan=5165&score=580 HTTP/1.1\" 200 -\n",
      "127.0.0.1 - - [13/Apr/2024 16:59:24] \"POST /get_pre/?age=21&balance=18508&loan=5165&score=580 HTTP/1.1\" 200 -\n",
      "127.0.0.1 - - [13/Apr/2024 16:59:24] \"POST /get_pre/?age=21&balance=18508&loan=5165&score=580 HTTP/1.1\" 200 -\n",
      "127.0.0.1 - - [13/Apr/2024 16:59:24] \"POST /get_pre/?age=21&balance=18508&loan=5165&score=580 HTTP/1.1\" 200 -\n",
      "127.0.0.1 - - [13/Apr/2024 16:59:24] \"POST /get_pre/?age=21&balance=18508&loan=5165&score=580 HTTP/1.1\" 200 -\n",
      "127.0.0.1 - - [13/Apr/2024 16:59:24] \"POST /get_pre/?age=21&balance=18508&loan=5165&score=580 HTTP/1.1\" 200 -\n"
     ]
    },
    {
     "name": "stdout",
     "output_type": "stream",
     "text": [
      "[104474.45187385]\n",
      "[104474.45187385]\n",
      "[104474.45187385]\n",
      "[104474.45187385]\n",
      "[104474.45187385]\n",
      "[104474.45187385]\n",
      "[104474.45187385]\n",
      "[104474.45187385]\n",
      "[104474.45187385]\n",
      "[104474.45187385]\n"
     ]
    },
    {
     "name": "stderr",
     "output_type": "stream",
     "text": [
      "127.0.0.1 - - [13/Apr/2024 16:59:24] \"POST /get_pre/?age=21&balance=18508&loan=5165&score=580 HTTP/1.1\" 200 -\n",
      "127.0.0.1 - - [13/Apr/2024 16:59:24] \"POST /get_pre/?age=21&balance=18508&loan=5165&score=580 HTTP/1.1\" 200 -\n",
      "127.0.0.1 - - [13/Apr/2024 16:59:24] \"POST /get_pre/?age=21&balance=18508&loan=5165&score=580 HTTP/1.1\" 200 -\n",
      "127.0.0.1 - - [13/Apr/2024 16:59:24] \"POST /get_pre/?age=21&balance=18508&loan=5165&score=580 HTTP/1.1\" 200 -\n",
      "127.0.0.1 - - [13/Apr/2024 16:59:24] \"POST /get_pre/?age=21&balance=18508&loan=5165&score=580 HTTP/1.1\" 200 -\n",
      "127.0.0.1 - - [13/Apr/2024 16:59:24] \"POST /get_pre/?age=21&balance=18508&loan=5165&score=580 HTTP/1.1\" 200 -\n",
      "127.0.0.1 - - [13/Apr/2024 16:59:24] \"POST /get_pre/?age=21&balance=18508&loan=5165&score=580 HTTP/1.1\" 200 -\n",
      "127.0.0.1 - - [13/Apr/2024 16:59:24] \"POST /get_pre/?age=21&balance=18508&loan=5165&score=580 HTTP/1.1\" 200 -\n",
      "127.0.0.1 - - [13/Apr/2024 16:59:24] \"POST /get_pre/?age=21&balance=18508&loan=5165&score=580 HTTP/1.1\" 200 -\n",
      "127.0.0.1 - - [13/Apr/2024 16:59:24] \"POST /get_pre/?age=21&balance=18508&loan=5165&score=580 HTTP/1.1\" 200 -\n"
     ]
    },
    {
     "name": "stdout",
     "output_type": "stream",
     "text": [
      "[104474.45187385]\n",
      "[104474.45187385]\n",
      "[104474.45187385]\n",
      "[104474.45187385]\n",
      "[104474.45187385]\n",
      "[104474.45187385]\n",
      "[104474.45187385]\n",
      "[104474.45187385]\n",
      "[104474.45187385]\n",
      "[104474.45187385]\n"
     ]
    },
    {
     "name": "stderr",
     "output_type": "stream",
     "text": [
      "127.0.0.1 - - [13/Apr/2024 16:59:24] \"POST /get_pre/?age=21&balance=18508&loan=5165&score=580 HTTP/1.1\" 200 -\n",
      "127.0.0.1 - - [13/Apr/2024 16:59:24] \"POST /get_pre/?age=21&balance=18508&loan=5165&score=580 HTTP/1.1\" 200 -\n",
      "127.0.0.1 - - [13/Apr/2024 16:59:24] \"POST /get_pre/?age=21&balance=18508&loan=5165&score=580 HTTP/1.1\" 200 -\n",
      "127.0.0.1 - - [13/Apr/2024 16:59:24] \"POST /get_pre/?age=21&balance=18508&loan=5165&score=580 HTTP/1.1\" 200 -\n",
      "127.0.0.1 - - [13/Apr/2024 16:59:24] \"POST /get_pre/?age=21&balance=18508&loan=5165&score=580 HTTP/1.1\" 200 -\n",
      "127.0.0.1 - - [13/Apr/2024 16:59:24] \"POST /get_pre/?age=21&balance=18508&loan=5165&score=580 HTTP/1.1\" 200 -\n",
      "127.0.0.1 - - [13/Apr/2024 16:59:24] \"POST /get_pre/?age=21&balance=18508&loan=5165&score=580 HTTP/1.1\" 200 -\n",
      "127.0.0.1 - - [13/Apr/2024 16:59:24] \"POST /get_pre/?age=21&balance=18508&loan=5165&score=580 HTTP/1.1\" 200 -\n",
      "127.0.0.1 - - [13/Apr/2024 16:59:24] \"POST /get_pre/?age=21&balance=18508&loan=5165&score=580 HTTP/1.1\" 200 -\n",
      "127.0.0.1 - - [13/Apr/2024 16:59:24] \"POST /get_pre/?age=21&balance=18508&loan=5165&score=580 HTTP/1.1\" 200 -\n"
     ]
    },
    {
     "name": "stdout",
     "output_type": "stream",
     "text": [
      "[104474.45187385]\n",
      "[104474.45187385]\n",
      "[104474.45187385]\n",
      "[104474.45187385]\n",
      "[104474.45187385]\n",
      "[104474.45187385]\n",
      "[104474.45187385]\n",
      "[104474.45187385]\n",
      "[104474.45187385]\n",
      "[104474.45187385]\n"
     ]
    },
    {
     "name": "stderr",
     "output_type": "stream",
     "text": [
      "127.0.0.1 - - [13/Apr/2024 16:59:24] \"POST /get_pre/?age=21&balance=18508&loan=5165&score=580 HTTP/1.1\" 200 -\n",
      "127.0.0.1 - - [13/Apr/2024 16:59:24] \"POST /get_pre/?age=21&balance=18508&loan=5165&score=580 HTTP/1.1\" 200 -\n",
      "127.0.0.1 - - [13/Apr/2024 16:59:24] \"POST /get_pre/?age=21&balance=18508&loan=5165&score=580 HTTP/1.1\" 200 -\n",
      "127.0.0.1 - - [13/Apr/2024 16:59:24] \"POST /get_pre/?age=21&balance=18508&loan=5165&score=580 HTTP/1.1\" 200 -\n",
      "127.0.0.1 - - [13/Apr/2024 16:59:24] \"POST /get_pre/?age=21&balance=18508&loan=5165&score=580 HTTP/1.1\" 200 -\n",
      "127.0.0.1 - - [13/Apr/2024 16:59:24] \"POST /get_pre/?age=21&balance=18508&loan=5165&score=580 HTTP/1.1\" 200 -\n",
      "127.0.0.1 - - [13/Apr/2024 16:59:24] \"POST /get_pre/?age=21&balance=18508&loan=5165&score=580 HTTP/1.1\" 200 -\n",
      "127.0.0.1 - - [13/Apr/2024 16:59:24] \"POST /get_pre/?age=21&balance=18508&loan=5165&score=580 HTTP/1.1\" 200 -\n",
      "127.0.0.1 - - [13/Apr/2024 16:59:25] \"POST /get_pre/?age=21&balance=18508&loan=5165&score=580 HTTP/1.1\" 200 -\n",
      "127.0.0.1 - - [13/Apr/2024 16:59:25] \"POST /get_pre/?age=21&balance=18508&loan=5165&score=580 HTTP/1.1\" 200 -\n"
     ]
    },
    {
     "name": "stdout",
     "output_type": "stream",
     "text": [
      "[104474.45187385]\n",
      "[104474.45187385]\n",
      "[104474.45187385]\n",
      "[104474.45187385]\n",
      "[104474.45187385]\n",
      "[104474.45187385]\n",
      "[104474.45187385]\n",
      "[104474.45187385]\n",
      "[104474.45187385]\n",
      "[104474.45187385]\n"
     ]
    },
    {
     "name": "stderr",
     "output_type": "stream",
     "text": [
      "127.0.0.1 - - [13/Apr/2024 16:59:25] \"POST /get_pre/?age=21&balance=18508&loan=5165&score=580 HTTP/1.1\" 200 -\n",
      "127.0.0.1 - - [13/Apr/2024 16:59:25] \"POST /get_pre/?age=21&balance=18508&loan=5165&score=580 HTTP/1.1\" 200 -\n",
      "127.0.0.1 - - [13/Apr/2024 16:59:25] \"POST /get_pre/?age=21&balance=18508&loan=5165&score=580 HTTP/1.1\" 200 -\n",
      "127.0.0.1 - - [13/Apr/2024 16:59:25] \"POST /get_pre/?age=21&balance=18508&loan=5165&score=580 HTTP/1.1\" 200 -\n",
      "127.0.0.1 - - [13/Apr/2024 16:59:25] \"POST /get_pre/?age=21&balance=18508&loan=5165&score=580 HTTP/1.1\" 200 -\n",
      "127.0.0.1 - - [13/Apr/2024 16:59:25] \"POST /get_pre/?age=21&balance=18508&loan=5165&score=580 HTTP/1.1\" 200 -\n",
      "127.0.0.1 - - [13/Apr/2024 16:59:25] \"POST /get_pre/?age=21&balance=18508&loan=5165&score=580 HTTP/1.1\" 200 -\n",
      "127.0.0.1 - - [13/Apr/2024 16:59:25] \"POST /get_pre/?age=21&balance=18508&loan=5165&score=580 HTTP/1.1\" 200 -\n",
      "127.0.0.1 - - [13/Apr/2024 16:59:25] \"POST /get_pre/?age=21&balance=18508&loan=5165&score=580 HTTP/1.1\" 200 -\n",
      "127.0.0.1 - - [13/Apr/2024 16:59:25] \"POST /get_pre/?age=21&balance=18508&loan=5165&score=580 HTTP/1.1\" 200 -\n"
     ]
    },
    {
     "name": "stdout",
     "output_type": "stream",
     "text": [
      "[104474.45187385]\n",
      "[104474.45187385]\n",
      "[104474.45187385]\n",
      "[104474.45187385]\n",
      "[104474.45187385]\n",
      "[104474.45187385]\n",
      "[104474.45187385]\n",
      "[104474.45187385]\n",
      "[104474.45187385]\n",
      "[104474.45187385]\n"
     ]
    },
    {
     "name": "stderr",
     "output_type": "stream",
     "text": [
      "127.0.0.1 - - [13/Apr/2024 16:59:25] \"POST /get_pre/?age=21&balance=18508&loan=5165&score=580 HTTP/1.1\" 200 -\n",
      "127.0.0.1 - - [13/Apr/2024 16:59:25] \"POST /get_pre/?age=21&balance=18508&loan=5165&score=580 HTTP/1.1\" 200 -\n",
      "127.0.0.1 - - [13/Apr/2024 16:59:25] \"POST /get_pre/?age=21&balance=18508&loan=5165&score=580 HTTP/1.1\" 200 -\n",
      "127.0.0.1 - - [13/Apr/2024 16:59:25] \"POST /get_pre/?age=21&balance=18508&loan=5165&score=580 HTTP/1.1\" 200 -\n",
      "127.0.0.1 - - [13/Apr/2024 16:59:25] \"POST /get_pre/?age=21&balance=18508&loan=5165&score=580 HTTP/1.1\" 200 -\n",
      "127.0.0.1 - - [13/Apr/2024 16:59:25] \"POST /get_pre/?age=21&balance=18508&loan=5165&score=580 HTTP/1.1\" 200 -\n",
      "127.0.0.1 - - [13/Apr/2024 16:59:25] \"POST /get_pre/?age=21&balance=18508&loan=5165&score=580 HTTP/1.1\" 200 -\n",
      "127.0.0.1 - - [13/Apr/2024 16:59:25] \"POST /get_pre/?age=21&balance=18508&loan=5165&score=580 HTTP/1.1\" 200 -\n",
      "127.0.0.1 - - [13/Apr/2024 16:59:25] \"POST /get_pre/?age=21&balance=18508&loan=5165&score=580 HTTP/1.1\" 200 -\n",
      "127.0.0.1 - - [13/Apr/2024 16:59:25] \"POST /get_pre/?age=21&balance=18508&loan=5165&score=580 HTTP/1.1\" 200 -\n"
     ]
    },
    {
     "name": "stdout",
     "output_type": "stream",
     "text": [
      "[104474.45187385]\n",
      "[104474.45187385]\n",
      "[104474.45187385]\n",
      "[104474.45187385]\n",
      "[104474.45187385]\n",
      "[104474.45187385]\n",
      "[104474.45187385]\n",
      "[104474.45187385]\n",
      "[104474.45187385]\n",
      "[104474.45187385]\n"
     ]
    },
    {
     "name": "stderr",
     "output_type": "stream",
     "text": [
      "127.0.0.1 - - [13/Apr/2024 16:59:25] \"POST /get_pre/?age=21&balance=18508&loan=5165&score=580 HTTP/1.1\" 200 -\n",
      "127.0.0.1 - - [13/Apr/2024 16:59:25] \"POST /get_pre/?age=21&balance=18508&loan=5165&score=580 HTTP/1.1\" 200 -\n",
      "127.0.0.1 - - [13/Apr/2024 16:59:25] \"POST /get_pre/?age=21&balance=18508&loan=5165&score=580 HTTP/1.1\" 200 -\n",
      "127.0.0.1 - - [13/Apr/2024 16:59:25] \"POST /get_pre/?age=21&balance=18508&loan=5165&score=580 HTTP/1.1\" 200 -\n",
      "127.0.0.1 - - [13/Apr/2024 16:59:25] \"POST /get_pre/?age=21&balance=18508&loan=5165&score=580 HTTP/1.1\" 200 -\n",
      "127.0.0.1 - - [13/Apr/2024 16:59:25] \"POST /get_pre/?age=21&balance=18508&loan=5165&score=580 HTTP/1.1\" 200 -\n",
      "127.0.0.1 - - [13/Apr/2024 16:59:25] \"POST /get_pre/?age=21&balance=18508&loan=5165&score=580 HTTP/1.1\" 200 -\n",
      "127.0.0.1 - - [13/Apr/2024 16:59:25] \"POST /get_pre/?age=21&balance=18508&loan=5165&score=580 HTTP/1.1\" 200 -\n",
      "127.0.0.1 - - [13/Apr/2024 16:59:25] \"POST /get_pre/?age=21&balance=18508&loan=5165&score=580 HTTP/1.1\" 200 -\n",
      "127.0.0.1 - - [13/Apr/2024 16:59:25] \"POST /get_pre/?age=21&balance=18508&loan=5165&score=580 HTTP/1.1\" 200 -\n",
      "127.0.0.1 - - [13/Apr/2024 16:59:25] \"POST /get_pre/?age=21&balance=18508&loan=5165&score=580 HTTP/1.1\" 200 -\n"
     ]
    },
    {
     "name": "stdout",
     "output_type": "stream",
     "text": [
      "[104474.45187385]\n",
      "[104474.45187385]\n",
      "[104474.45187385]\n",
      "[104474.45187385]\n",
      "[104474.45187385]\n",
      "[104474.45187385]\n",
      "[104474.45187385]\n",
      "[104474.45187385]\n",
      "[104474.45187385]\n",
      "[104474.45187385]\n",
      "[104474.45187385]\n"
     ]
    },
    {
     "name": "stderr",
     "output_type": "stream",
     "text": [
      "127.0.0.1 - - [13/Apr/2024 16:59:25] \"POST /get_pre/?age=21&balance=18508&loan=5165&score=580 HTTP/1.1\" 200 -\n",
      "127.0.0.1 - - [13/Apr/2024 16:59:25] \"POST /get_pre/?age=21&balance=18508&loan=5165&score=580 HTTP/1.1\" 200 -\n",
      "127.0.0.1 - - [13/Apr/2024 16:59:25] \"POST /get_pre/?age=21&balance=18508&loan=5165&score=580 HTTP/1.1\" 200 -\n",
      "127.0.0.1 - - [13/Apr/2024 16:59:25] \"POST /get_pre/?age=21&balance=18508&loan=5165&score=580 HTTP/1.1\" 200 -\n",
      "127.0.0.1 - - [13/Apr/2024 16:59:25] \"POST /get_pre/?age=21&balance=18508&loan=5165&score=580 HTTP/1.1\" 200 -\n",
      "127.0.0.1 - - [13/Apr/2024 16:59:25] \"POST /get_pre/?age=21&balance=18508&loan=5165&score=580 HTTP/1.1\" 200 -\n",
      "127.0.0.1 - - [13/Apr/2024 16:59:25] \"POST /get_pre/?age=21&balance=18508&loan=5165&score=580 HTTP/1.1\" 200 -\n",
      "127.0.0.1 - - [13/Apr/2024 16:59:25] \"POST /get_pre/?age=21&balance=18508&loan=5165&score=580 HTTP/1.1\" 200 -\n",
      "127.0.0.1 - - [13/Apr/2024 16:59:25] \"POST /get_pre/?age=21&balance=18508&loan=5165&score=580 HTTP/1.1\" 200 -\n",
      "127.0.0.1 - - [13/Apr/2024 16:59:25] \"POST /get_pre/?age=21&balance=18508&loan=5165&score=580 HTTP/1.1\" 200 -\n"
     ]
    },
    {
     "name": "stdout",
     "output_type": "stream",
     "text": [
      "[104474.45187385]\n",
      "[104474.45187385]\n",
      "[104474.45187385]\n",
      "[104474.45187385]\n",
      "[104474.45187385]\n",
      "[104474.45187385]\n",
      "[104474.45187385]\n",
      "[104474.45187385]\n",
      "[104474.45187385]\n",
      "[104474.45187385]\n"
     ]
    },
    {
     "name": "stderr",
     "output_type": "stream",
     "text": [
      "127.0.0.1 - - [13/Apr/2024 16:59:25] \"POST /get_pre/?age=21&balance=18508&loan=5165&score=580 HTTP/1.1\" 200 -\n",
      "127.0.0.1 - - [13/Apr/2024 16:59:25] \"POST /get_pre/?age=21&balance=18508&loan=5165&score=580 HTTP/1.1\" 200 -\n",
      "127.0.0.1 - - [13/Apr/2024 16:59:25] \"POST /get_pre/?age=21&balance=18508&loan=5165&score=580 HTTP/1.1\" 200 -\n",
      "127.0.0.1 - - [13/Apr/2024 16:59:25] \"POST /get_pre/?age=21&balance=18508&loan=5165&score=580 HTTP/1.1\" 200 -\n",
      "127.0.0.1 - - [13/Apr/2024 16:59:25] \"POST /get_pre/?age=21&balance=18508&loan=5165&score=580 HTTP/1.1\" 200 -\n",
      "127.0.0.1 - - [13/Apr/2024 16:59:26] \"POST /get_pre/?age=21&balance=18508&loan=5165&score=580 HTTP/1.1\" 200 -\n",
      "127.0.0.1 - - [13/Apr/2024 16:59:26] \"POST /get_pre/?age=21&balance=18508&loan=5165&score=580 HTTP/1.1\" 200 -\n",
      "127.0.0.1 - - [13/Apr/2024 16:59:26] \"POST /get_pre/?age=21&balance=18508&loan=5165&score=580 HTTP/1.1\" 200 -\n",
      "127.0.0.1 - - [13/Apr/2024 16:59:26] \"POST /get_pre/?age=21&balance=18508&loan=5165&score=580 HTTP/1.1\" 200 -\n",
      "127.0.0.1 - - [13/Apr/2024 16:59:26] \"POST /get_pre/?age=21&balance=18508&loan=5165&score=580 HTTP/1.1\" 200 -\n"
     ]
    },
    {
     "name": "stdout",
     "output_type": "stream",
     "text": [
      "[104474.45187385]\n",
      "[104474.45187385]\n",
      "[104474.45187385]\n",
      "[104474.45187385]\n",
      "[104474.45187385]\n",
      "[104474.45187385]\n",
      "[104474.45187385]\n",
      "[104474.45187385]\n",
      "[104474.45187385]\n",
      "[104474.45187385]\n"
     ]
    },
    {
     "name": "stderr",
     "output_type": "stream",
     "text": [
      "127.0.0.1 - - [13/Apr/2024 16:59:26] \"POST /get_pre/?age=21&balance=18508&loan=5165&score=580 HTTP/1.1\" 200 -\n",
      "127.0.0.1 - - [13/Apr/2024 16:59:26] \"POST /get_pre/?age=21&balance=18508&loan=5165&score=580 HTTP/1.1\" 200 -\n",
      "127.0.0.1 - - [13/Apr/2024 16:59:26] \"POST /get_pre/?age=21&balance=18508&loan=5165&score=580 HTTP/1.1\" 200 -\n",
      "127.0.0.1 - - [13/Apr/2024 16:59:26] \"POST /get_pre/?age=21&balance=18508&loan=5165&score=580 HTTP/1.1\" 200 -\n",
      "127.0.0.1 - - [13/Apr/2024 16:59:26] \"POST /get_pre/?age=21&balance=18508&loan=5165&score=580 HTTP/1.1\" 200 -\n",
      "127.0.0.1 - - [13/Apr/2024 16:59:26] \"POST /get_pre/?age=21&balance=18508&loan=5165&score=580 HTTP/1.1\" 200 -\n",
      "127.0.0.1 - - [13/Apr/2024 16:59:26] \"POST /get_pre/?age=21&balance=18508&loan=5165&score=580 HTTP/1.1\" 200 -\n",
      "127.0.0.1 - - [13/Apr/2024 16:59:26] \"POST /get_pre/?age=21&balance=18508&loan=5165&score=580 HTTP/1.1\" 200 -\n",
      "127.0.0.1 - - [13/Apr/2024 16:59:26] \"POST /get_pre/?age=21&balance=18508&loan=5165&score=580 HTTP/1.1\" 200 -\n"
     ]
    },
    {
     "name": "stdout",
     "output_type": "stream",
     "text": [
      "[104474.45187385]\n",
      "[104474.45187385]\n",
      "[104474.45187385]\n",
      "[104474.45187385]\n",
      "[104474.45187385]\n",
      "[104474.45187385]\n",
      "[104474.45187385]\n",
      "[104474.45187385]\n",
      "[104474.45187385]\n"
     ]
    },
    {
     "name": "stderr",
     "output_type": "stream",
     "text": [
      "127.0.0.1 - - [13/Apr/2024 16:59:26] \"POST /get_pre/?age=21&balance=18508&loan=5165&score=580 HTTP/1.1\" 200 -\n",
      "127.0.0.1 - - [13/Apr/2024 16:59:26] \"POST /get_pre/?age=21&balance=18508&loan=5165&score=580 HTTP/1.1\" 200 -\n",
      "127.0.0.1 - - [13/Apr/2024 16:59:26] \"POST /get_pre/?age=21&balance=18508&loan=5165&score=580 HTTP/1.1\" 200 -\n",
      "127.0.0.1 - - [13/Apr/2024 16:59:26] \"POST /get_pre/?age=21&balance=18508&loan=5165&score=580 HTTP/1.1\" 200 -\n",
      "127.0.0.1 - - [13/Apr/2024 16:59:26] \"POST /get_pre/?age=21&balance=18508&loan=5165&score=580 HTTP/1.1\" 200 -\n",
      "127.0.0.1 - - [13/Apr/2024 16:59:26] \"POST /get_pre/?age=21&balance=18508&loan=5165&score=580 HTTP/1.1\" 200 -\n",
      "127.0.0.1 - - [13/Apr/2024 16:59:26] \"POST /get_pre/?age=21&balance=18508&loan=5165&score=580 HTTP/1.1\" 200 -\n",
      "127.0.0.1 - - [13/Apr/2024 16:59:26] \"POST /get_pre/?age=21&balance=18508&loan=5165&score=580 HTTP/1.1\" 200 -\n",
      "127.0.0.1 - - [13/Apr/2024 16:59:26] \"POST /get_pre/?age=21&balance=18508&loan=5165&score=580 HTTP/1.1\" 200 -\n"
     ]
    },
    {
     "name": "stdout",
     "output_type": "stream",
     "text": [
      "[104474.45187385]\n",
      "[104474.45187385]\n",
      "[104474.45187385]\n",
      "[104474.45187385]\n",
      "[104474.45187385]\n",
      "[104474.45187385]\n",
      "[104474.45187385]\n",
      "[104474.45187385]\n",
      "[104474.45187385]\n"
     ]
    },
    {
     "name": "stderr",
     "output_type": "stream",
     "text": [
      "127.0.0.1 - - [13/Apr/2024 16:59:26] \"POST /get_pre/?age=21&balance=18508&loan=5165&score=580 HTTP/1.1\" 200 -\n",
      "127.0.0.1 - - [13/Apr/2024 16:59:26] \"POST /get_pre/?age=21&balance=18508&loan=5165&score=580 HTTP/1.1\" 200 -\n",
      "127.0.0.1 - - [13/Apr/2024 16:59:26] \"POST /get_pre/?age=21&balance=18508&loan=5165&score=580 HTTP/1.1\" 200 -\n",
      "127.0.0.1 - - [13/Apr/2024 16:59:26] \"POST /get_pre/?age=21&balance=18508&loan=5165&score=580 HTTP/1.1\" 200 -\n",
      "127.0.0.1 - - [13/Apr/2024 16:59:26] \"POST /get_pre/?age=21&balance=18508&loan=5165&score=580 HTTP/1.1\" 200 -\n",
      "127.0.0.1 - - [13/Apr/2024 16:59:26] \"POST /get_pre/?age=21&balance=18508&loan=5165&score=580 HTTP/1.1\" 200 -\n",
      "127.0.0.1 - - [13/Apr/2024 16:59:26] \"POST /get_pre/?age=21&balance=18508&loan=5165&score=580 HTTP/1.1\" 200 -\n",
      "127.0.0.1 - - [13/Apr/2024 16:59:26] \"POST /get_pre/?age=21&balance=18508&loan=5165&score=580 HTTP/1.1\" 200 -\n",
      "127.0.0.1 - - [13/Apr/2024 16:59:26] \"POST /get_pre/?age=21&balance=18508&loan=5165&score=580 HTTP/1.1\" 200 -\n",
      "127.0.0.1 - - [13/Apr/2024 16:59:26] \"POST /get_pre/?age=21&balance=18508&loan=5165&score=580 HTTP/1.1\" 200 -\n"
     ]
    },
    {
     "name": "stdout",
     "output_type": "stream",
     "text": [
      "[104474.45187385]\n",
      "[104474.45187385]\n",
      "[104474.45187385]\n",
      "[104474.45187385]\n",
      "[104474.45187385]\n",
      "[104474.45187385]\n",
      "[104474.45187385]\n",
      "[104474.45187385]\n",
      "[104474.45187385]\n",
      "[104474.45187385]\n"
     ]
    },
    {
     "name": "stderr",
     "output_type": "stream",
     "text": [
      "127.0.0.1 - - [13/Apr/2024 16:59:26] \"POST /get_pre/?age=21&balance=18508&loan=5165&score=580 HTTP/1.1\" 200 -\n",
      "127.0.0.1 - - [13/Apr/2024 16:59:26] \"POST /get_pre/?age=21&balance=18508&loan=5165&score=580 HTTP/1.1\" 200 -\n",
      "127.0.0.1 - - [13/Apr/2024 16:59:26] \"POST /get_pre/?age=21&balance=18508&loan=5165&score=580 HTTP/1.1\" 200 -\n",
      "127.0.0.1 - - [13/Apr/2024 16:59:26] \"POST /get_pre/?age=21&balance=18508&loan=5165&score=580 HTTP/1.1\" 200 -\n",
      "127.0.0.1 - - [13/Apr/2024 16:59:26] \"POST /get_pre/?age=21&balance=18508&loan=5165&score=580 HTTP/1.1\" 200 -\n",
      "127.0.0.1 - - [13/Apr/2024 16:59:26] \"POST /get_pre/?age=21&balance=18508&loan=5165&score=580 HTTP/1.1\" 200 -\n",
      "127.0.0.1 - - [13/Apr/2024 16:59:26] \"POST /get_pre/?age=21&balance=18508&loan=5165&score=580 HTTP/1.1\" 200 -\n",
      "127.0.0.1 - - [13/Apr/2024 16:59:26] \"POST /get_pre/?age=21&balance=18508&loan=5165&score=580 HTTP/1.1\" 200 -\n",
      "127.0.0.1 - - [13/Apr/2024 16:59:26] \"POST /get_pre/?age=21&balance=18508&loan=5165&score=580 HTTP/1.1\" 200 -\n"
     ]
    },
    {
     "name": "stdout",
     "output_type": "stream",
     "text": [
      "[104474.45187385]\n",
      "[104474.45187385]\n",
      "[104474.45187385]\n",
      "[104474.45187385]\n",
      "[104474.45187385]\n",
      "[104474.45187385]\n",
      "[104474.45187385]\n",
      "[104474.45187385]\n",
      "[104474.45187385]\n"
     ]
    },
    {
     "name": "stderr",
     "output_type": "stream",
     "text": [
      "127.0.0.1 - - [13/Apr/2024 16:59:26] \"POST /get_pre/?age=21&balance=18508&loan=5165&score=580 HTTP/1.1\" 200 -\n",
      "127.0.0.1 - - [13/Apr/2024 16:59:27] \"POST /get_pre/?age=21&balance=18508&loan=5165&score=580 HTTP/1.1\" 200 -\n",
      "127.0.0.1 - - [13/Apr/2024 16:59:27] \"POST /get_pre/?age=21&balance=18508&loan=5165&score=580 HTTP/1.1\" 200 -\n",
      "127.0.0.1 - - [13/Apr/2024 16:59:27] \"POST /get_pre/?age=21&balance=18508&loan=5165&score=580 HTTP/1.1\" 200 -\n",
      "127.0.0.1 - - [13/Apr/2024 16:59:27] \"POST /get_pre/?age=21&balance=18508&loan=5165&score=580 HTTP/1.1\" 200 -\n",
      "127.0.0.1 - - [13/Apr/2024 16:59:27] \"POST /get_pre/?age=21&balance=18508&loan=5165&score=580 HTTP/1.1\" 200 -\n",
      "127.0.0.1 - - [13/Apr/2024 16:59:27] \"POST /get_pre/?age=21&balance=18508&loan=5165&score=580 HTTP/1.1\" 200 -\n",
      "127.0.0.1 - - [13/Apr/2024 16:59:27] \"POST /get_pre/?age=21&balance=18508&loan=5165&score=580 HTTP/1.1\" 200 -\n",
      "127.0.0.1 - - [13/Apr/2024 16:59:27] \"POST /get_pre/?age=21&balance=18508&loan=5165&score=580 HTTP/1.1\" 200 -\n"
     ]
    },
    {
     "name": "stdout",
     "output_type": "stream",
     "text": [
      "[104474.45187385]\n",
      "[104474.45187385]\n",
      "[104474.45187385]\n",
      "[104474.45187385]\n",
      "[104474.45187385]\n",
      "[104474.45187385]\n",
      "[104474.45187385]\n",
      "[104474.45187385]\n",
      "[104474.45187385]\n"
     ]
    },
    {
     "name": "stderr",
     "output_type": "stream",
     "text": [
      "127.0.0.1 - - [13/Apr/2024 16:59:27] \"POST /get_pre/?age=21&balance=18508&loan=5165&score=580 HTTP/1.1\" 200 -\n",
      "127.0.0.1 - - [13/Apr/2024 16:59:27] \"POST /get_pre/?age=21&balance=18508&loan=5165&score=580 HTTP/1.1\" 200 -\n",
      "127.0.0.1 - - [13/Apr/2024 16:59:27] \"POST /get_pre/?age=21&balance=18508&loan=5165&score=580 HTTP/1.1\" 200 -\n",
      "127.0.0.1 - - [13/Apr/2024 16:59:27] \"POST /get_pre/?age=21&balance=18508&loan=5165&score=580 HTTP/1.1\" 200 -\n",
      "127.0.0.1 - - [13/Apr/2024 16:59:27] \"POST /get_pre/?age=21&balance=18508&loan=5165&score=580 HTTP/1.1\" 200 -\n",
      "127.0.0.1 - - [13/Apr/2024 16:59:27] \"POST /get_pre/?age=21&balance=18508&loan=5165&score=580 HTTP/1.1\" 200 -\n",
      "127.0.0.1 - - [13/Apr/2024 16:59:27] \"POST /get_pre/?age=21&balance=18508&loan=5165&score=580 HTTP/1.1\" 200 -\n",
      "127.0.0.1 - - [13/Apr/2024 16:59:27] \"POST /get_pre/?age=21&balance=18508&loan=5165&score=580 HTTP/1.1\" 200 -\n",
      "127.0.0.1 - - [13/Apr/2024 16:59:27] \"POST /get_pre/?age=21&balance=18508&loan=5165&score=580 HTTP/1.1\" 200 -\n"
     ]
    },
    {
     "name": "stdout",
     "output_type": "stream",
     "text": [
      "[104474.45187385]\n",
      "[104474.45187385]\n",
      "[104474.45187385]\n",
      "[104474.45187385]\n",
      "[104474.45187385]\n",
      "[104474.45187385]\n",
      "[104474.45187385]\n",
      "[104474.45187385]\n",
      "[104474.45187385]\n"
     ]
    },
    {
     "name": "stderr",
     "output_type": "stream",
     "text": [
      "127.0.0.1 - - [13/Apr/2024 16:59:27] \"POST /get_pre/?age=21&balance=18508&loan=5165&score=580 HTTP/1.1\" 200 -\n",
      "127.0.0.1 - - [13/Apr/2024 16:59:27] \"POST /get_pre/?age=21&balance=18508&loan=5165&score=580 HTTP/1.1\" 200 -\n",
      "127.0.0.1 - - [13/Apr/2024 16:59:27] \"POST /get_pre/?age=21&balance=18508&loan=5165&score=580 HTTP/1.1\" 200 -\n",
      "127.0.0.1 - - [13/Apr/2024 16:59:27] \"POST /get_pre/?age=21&balance=18508&loan=5165&score=580 HTTP/1.1\" 200 -\n",
      "127.0.0.1 - - [13/Apr/2024 16:59:27] \"POST /get_pre/?age=21&balance=18508&loan=5165&score=580 HTTP/1.1\" 200 -\n",
      "127.0.0.1 - - [13/Apr/2024 16:59:27] \"POST /get_pre/?age=21&balance=18508&loan=5165&score=580 HTTP/1.1\" 200 -\n",
      "127.0.0.1 - - [13/Apr/2024 16:59:27] \"POST /get_pre/?age=21&balance=18508&loan=5165&score=580 HTTP/1.1\" 200 -\n",
      "127.0.0.1 - - [13/Apr/2024 16:59:27] \"POST /get_pre/?age=21&balance=18508&loan=5165&score=580 HTTP/1.1\" 200 -\n",
      "127.0.0.1 - - [13/Apr/2024 16:59:27] \"POST /get_pre/?age=21&balance=18508&loan=5165&score=580 HTTP/1.1\" 200 -\n"
     ]
    },
    {
     "name": "stdout",
     "output_type": "stream",
     "text": [
      "[104474.45187385]\n",
      "[104474.45187385]\n",
      "[104474.45187385]\n",
      "[104474.45187385]\n",
      "[104474.45187385]\n",
      "[104474.45187385]\n",
      "[104474.45187385]\n",
      "[104474.45187385]\n",
      "[104474.45187385]\n"
     ]
    },
    {
     "name": "stderr",
     "output_type": "stream",
     "text": [
      "127.0.0.1 - - [13/Apr/2024 16:59:27] \"POST /get_pre/?age=21&balance=18508&loan=5165&score=580 HTTP/1.1\" 200 -\n",
      "127.0.0.1 - - [13/Apr/2024 16:59:27] \"POST /get_pre/?age=21&balance=18508&loan=5165&score=580 HTTP/1.1\" 200 -\n",
      "127.0.0.1 - - [13/Apr/2024 16:59:27] \"POST /get_pre/?age=21&balance=18508&loan=5165&score=580 HTTP/1.1\" 200 -\n",
      "127.0.0.1 - - [13/Apr/2024 16:59:27] \"POST /get_pre/?age=21&balance=18508&loan=5165&score=580 HTTP/1.1\" 200 -\n",
      "127.0.0.1 - - [13/Apr/2024 16:59:27] \"POST /get_pre/?age=21&balance=18508&loan=5165&score=580 HTTP/1.1\" 200 -\n",
      "127.0.0.1 - - [13/Apr/2024 16:59:27] \"POST /get_pre/?age=21&balance=18508&loan=5165&score=580 HTTP/1.1\" 200 -\n",
      "127.0.0.1 - - [13/Apr/2024 16:59:27] \"POST /get_pre/?age=21&balance=18508&loan=5165&score=580 HTTP/1.1\" 200 -\n",
      "127.0.0.1 - - [13/Apr/2024 16:59:27] \"POST /get_pre/?age=21&balance=18508&loan=5165&score=580 HTTP/1.1\" 200 -\n",
      "127.0.0.1 - - [13/Apr/2024 16:59:27] \"POST /get_pre/?age=21&balance=18508&loan=5165&score=580 HTTP/1.1\" 200 -\n",
      "127.0.0.1 - - [13/Apr/2024 16:59:27] \"POST /get_pre/?age=21&balance=18508&loan=5165&score=580 HTTP/1.1\" 200 -\n"
     ]
    },
    {
     "name": "stdout",
     "output_type": "stream",
     "text": [
      "[104474.45187385]\n",
      "[104474.45187385]\n",
      "[104474.45187385]\n",
      "[104474.45187385]\n",
      "[104474.45187385]\n",
      "[104474.45187385]\n",
      "[104474.45187385]\n",
      "[104474.45187385]\n",
      "[104474.45187385]\n",
      "[104474.45187385]\n"
     ]
    },
    {
     "name": "stderr",
     "output_type": "stream",
     "text": [
      "127.0.0.1 - - [13/Apr/2024 16:59:27] \"POST /get_pre/?age=21&balance=18508&loan=5165&score=580 HTTP/1.1\" 200 -\n",
      "127.0.0.1 - - [13/Apr/2024 16:59:27] \"POST /get_pre/?age=21&balance=18508&loan=5165&score=580 HTTP/1.1\" 200 -\n",
      "127.0.0.1 - - [13/Apr/2024 16:59:27] \"POST /get_pre/?age=21&balance=18508&loan=5165&score=580 HTTP/1.1\" 200 -\n",
      "127.0.0.1 - - [13/Apr/2024 16:59:27] \"POST /get_pre/?age=21&balance=18508&loan=5165&score=580 HTTP/1.1\" 200 -\n",
      "127.0.0.1 - - [13/Apr/2024 16:59:27] \"POST /get_pre/?age=21&balance=18508&loan=5165&score=580 HTTP/1.1\" 200 -\n",
      "127.0.0.1 - - [13/Apr/2024 16:59:27] \"POST /get_pre/?age=21&balance=18508&loan=5165&score=580 HTTP/1.1\" 200 -\n",
      "127.0.0.1 - - [13/Apr/2024 16:59:28] \"POST /get_pre/?age=21&balance=18508&loan=5165&score=580 HTTP/1.1\" 200 -\n",
      "127.0.0.1 - - [13/Apr/2024 16:59:28] \"POST /get_pre/?age=21&balance=18508&loan=5165&score=580 HTTP/1.1\" 200 -\n",
      "127.0.0.1 - - [13/Apr/2024 16:59:28] \"POST /get_pre/?age=21&balance=18508&loan=5165&score=580 HTTP/1.1\" 200 -\n"
     ]
    },
    {
     "name": "stdout",
     "output_type": "stream",
     "text": [
      "[104474.45187385]\n",
      "[104474.45187385]\n",
      "[104474.45187385]\n",
      "[104474.45187385]\n",
      "[104474.45187385]\n",
      "[104474.45187385]\n",
      "[104474.45187385]\n",
      "[104474.45187385]\n",
      "[104474.45187385]\n"
     ]
    },
    {
     "name": "stderr",
     "output_type": "stream",
     "text": [
      "127.0.0.1 - - [13/Apr/2024 16:59:28] \"POST /get_pre/?age=21&balance=18508&loan=5165&score=580 HTTP/1.1\" 200 -\n",
      "127.0.0.1 - - [13/Apr/2024 16:59:28] \"POST /get_pre/?age=21&balance=18508&loan=5165&score=580 HTTP/1.1\" 200 -\n",
      "127.0.0.1 - - [13/Apr/2024 16:59:28] \"POST /get_pre/?age=21&balance=18508&loan=5165&score=580 HTTP/1.1\" 200 -\n",
      "127.0.0.1 - - [13/Apr/2024 16:59:28] \"POST /get_pre/?age=21&balance=18508&loan=5165&score=580 HTTP/1.1\" 200 -\n",
      "127.0.0.1 - - [13/Apr/2024 16:59:28] \"POST /get_pre/?age=21&balance=18508&loan=5165&score=580 HTTP/1.1\" 200 -\n",
      "127.0.0.1 - - [13/Apr/2024 16:59:28] \"POST /get_pre/?age=21&balance=18508&loan=5165&score=580 HTTP/1.1\" 200 -\n",
      "127.0.0.1 - - [13/Apr/2024 16:59:28] \"POST /get_pre/?age=21&balance=18508&loan=5165&score=580 HTTP/1.1\" 200 -\n",
      "127.0.0.1 - - [13/Apr/2024 16:59:28] \"POST /get_pre/?age=21&balance=18508&loan=5165&score=580 HTTP/1.1\" 200 -\n",
      "127.0.0.1 - - [13/Apr/2024 16:59:28] \"POST /get_pre/?age=21&balance=18508&loan=5165&score=580 HTTP/1.1\" 200 -\n",
      "127.0.0.1 - - [13/Apr/2024 16:59:28] \"POST /get_pre/?age=21&balance=18508&loan=5165&score=580 HTTP/1.1\" 200 -\n"
     ]
    },
    {
     "name": "stdout",
     "output_type": "stream",
     "text": [
      "[104474.45187385]\n",
      "[104474.45187385]\n",
      "[104474.45187385]\n",
      "[104474.45187385]\n",
      "[104474.45187385]\n",
      "[104474.45187385]\n",
      "[104474.45187385]\n",
      "[104474.45187385]\n",
      "[104474.45187385]\n",
      "[104474.45187385]\n"
     ]
    },
    {
     "name": "stderr",
     "output_type": "stream",
     "text": [
      "127.0.0.1 - - [13/Apr/2024 16:59:28] \"POST /get_pre/?age=21&balance=18508&loan=5165&score=580 HTTP/1.1\" 200 -\n",
      "127.0.0.1 - - [13/Apr/2024 16:59:28] \"POST /get_pre/?age=21&balance=18508&loan=5165&score=580 HTTP/1.1\" 200 -\n",
      "127.0.0.1 - - [13/Apr/2024 16:59:28] \"POST /get_pre/?age=21&balance=18508&loan=5165&score=580 HTTP/1.1\" 200 -\n",
      "127.0.0.1 - - [13/Apr/2024 16:59:28] \"POST /get_pre/?age=21&balance=18508&loan=5165&score=580 HTTP/1.1\" 200 -\n",
      "127.0.0.1 - - [13/Apr/2024 16:59:28] \"POST /get_pre/?age=21&balance=18508&loan=5165&score=580 HTTP/1.1\" 200 -\n",
      "127.0.0.1 - - [13/Apr/2024 16:59:28] \"POST /get_pre/?age=21&balance=18508&loan=5165&score=580 HTTP/1.1\" 200 -\n",
      "127.0.0.1 - - [13/Apr/2024 16:59:28] \"POST /get_pre/?age=21&balance=18508&loan=5165&score=580 HTTP/1.1\" 200 -\n",
      "127.0.0.1 - - [13/Apr/2024 16:59:28] \"POST /get_pre/?age=21&balance=18508&loan=5165&score=580 HTTP/1.1\" 200 -\n",
      "127.0.0.1 - - [13/Apr/2024 16:59:28] \"POST /get_pre/?age=21&balance=18508&loan=5165&score=580 HTTP/1.1\" 200 -\n",
      "127.0.0.1 - - [13/Apr/2024 16:59:28] \"POST /get_pre/?age=21&balance=18508&loan=5165&score=580 HTTP/1.1\" 200 -\n"
     ]
    },
    {
     "name": "stdout",
     "output_type": "stream",
     "text": [
      "[104474.45187385]\n",
      "[104474.45187385]\n",
      "[104474.45187385]\n",
      "[104474.45187385]\n",
      "[104474.45187385]\n",
      "[104474.45187385]\n",
      "[104474.45187385]\n",
      "[104474.45187385]\n",
      "[104474.45187385]\n",
      "[104474.45187385]\n"
     ]
    },
    {
     "name": "stderr",
     "output_type": "stream",
     "text": [
      "127.0.0.1 - - [13/Apr/2024 16:59:28] \"POST /get_pre/?age=21&balance=18508&loan=5165&score=580 HTTP/1.1\" 200 -\n",
      "127.0.0.1 - - [13/Apr/2024 16:59:28] \"POST /get_pre/?age=21&balance=18508&loan=5165&score=580 HTTP/1.1\" 200 -\n",
      "127.0.0.1 - - [13/Apr/2024 16:59:28] \"POST /get_pre/?age=21&balance=18508&loan=5165&score=580 HTTP/1.1\" 200 -\n",
      "127.0.0.1 - - [13/Apr/2024 16:59:28] \"POST /get_pre/?age=21&balance=18508&loan=5165&score=580 HTTP/1.1\" 200 -\n",
      "127.0.0.1 - - [13/Apr/2024 16:59:28] \"POST /get_pre/?age=21&balance=18508&loan=5165&score=580 HTTP/1.1\" 200 -\n",
      "127.0.0.1 - - [13/Apr/2024 16:59:28] \"POST /get_pre/?age=21&balance=18508&loan=5165&score=580 HTTP/1.1\" 200 -\n",
      "127.0.0.1 - - [13/Apr/2024 16:59:28] \"POST /get_pre/?age=21&balance=18508&loan=5165&score=580 HTTP/1.1\" 200 -\n",
      "127.0.0.1 - - [13/Apr/2024 16:59:28] \"POST /get_pre/?age=21&balance=18508&loan=5165&score=580 HTTP/1.1\" 200 -\n",
      "127.0.0.1 - - [13/Apr/2024 16:59:28] \"POST /get_pre/?age=21&balance=18508&loan=5165&score=580 HTTP/1.1\" 200 -\n",
      "127.0.0.1 - - [13/Apr/2024 16:59:28] \"POST /get_pre/?age=21&balance=18508&loan=5165&score=580 HTTP/1.1\" 200 -\n"
     ]
    },
    {
     "name": "stdout",
     "output_type": "stream",
     "text": [
      "[104474.45187385]\n",
      "[104474.45187385]\n",
      "[104474.45187385]\n",
      "[104474.45187385]\n",
      "[104474.45187385]\n",
      "[104474.45187385]\n",
      "[104474.45187385]\n",
      "[104474.45187385]\n",
      "[104474.45187385]\n",
      "[104474.45187385]\n"
     ]
    },
    {
     "name": "stderr",
     "output_type": "stream",
     "text": [
      "127.0.0.1 - - [13/Apr/2024 16:59:28] \"POST /get_pre/?age=21&balance=18508&loan=5165&score=580 HTTP/1.1\" 200 -\n",
      "127.0.0.1 - - [13/Apr/2024 16:59:28] \"POST /get_pre/?age=21&balance=18508&loan=5165&score=580 HTTP/1.1\" 200 -\n",
      "127.0.0.1 - - [13/Apr/2024 16:59:28] \"POST /get_pre/?age=21&balance=18508&loan=5165&score=580 HTTP/1.1\" 200 -\n",
      "127.0.0.1 - - [13/Apr/2024 16:59:28] \"POST /get_pre/?age=21&balance=18508&loan=5165&score=580 HTTP/1.1\" 200 -\n",
      "127.0.0.1 - - [13/Apr/2024 16:59:28] \"POST /get_pre/?age=21&balance=18508&loan=5165&score=580 HTTP/1.1\" 200 -\n",
      "127.0.0.1 - - [13/Apr/2024 16:59:28] \"POST /get_pre/?age=21&balance=18508&loan=5165&score=580 HTTP/1.1\" 200 -\n",
      "127.0.0.1 - - [13/Apr/2024 16:59:28] \"POST /get_pre/?age=21&balance=18508&loan=5165&score=580 HTTP/1.1\" 200 -\n",
      "127.0.0.1 - - [13/Apr/2024 16:59:28] \"POST /get_pre/?age=21&balance=18508&loan=5165&score=580 HTTP/1.1\" 200 -\n",
      "127.0.0.1 - - [13/Apr/2024 16:59:28] \"POST /get_pre/?age=21&balance=18508&loan=5165&score=580 HTTP/1.1\" 200 -\n",
      "127.0.0.1 - - [13/Apr/2024 16:59:28] \"POST /get_pre/?age=21&balance=18508&loan=5165&score=580 HTTP/1.1\" 200 -\n",
      "127.0.0.1 - - [13/Apr/2024 16:59:28] \"POST /get_pre/?age=21&balance=18508&loan=5165&score=580 HTTP/1.1\" 200 -\n"
     ]
    },
    {
     "name": "stdout",
     "output_type": "stream",
     "text": [
      "[104474.45187385]\n",
      "[104474.45187385]\n",
      "[104474.45187385]\n",
      "[104474.45187385]\n",
      "[104474.45187385]\n",
      "[104474.45187385]\n",
      "[104474.45187385]\n",
      "[104474.45187385]\n",
      "[104474.45187385]\n",
      "[104474.45187385]\n",
      "[104474.45187385]\n"
     ]
    },
    {
     "name": "stderr",
     "output_type": "stream",
     "text": [
      "127.0.0.1 - - [13/Apr/2024 16:59:28] \"POST /get_pre/?age=21&balance=18508&loan=5165&score=580 HTTP/1.1\" 200 -\n",
      "127.0.0.1 - - [13/Apr/2024 16:59:28] \"POST /get_pre/?age=21&balance=18508&loan=5165&score=580 HTTP/1.1\" 200 -\n",
      "127.0.0.1 - - [13/Apr/2024 16:59:28] \"POST /get_pre/?age=21&balance=18508&loan=5165&score=580 HTTP/1.1\" 200 -\n",
      "127.0.0.1 - - [13/Apr/2024 16:59:28] \"POST /get_pre/?age=21&balance=18508&loan=5165&score=580 HTTP/1.1\" 200 -\n",
      "127.0.0.1 - - [13/Apr/2024 16:59:28] \"POST /get_pre/?age=21&balance=18508&loan=5165&score=580 HTTP/1.1\" 200 -\n",
      "127.0.0.1 - - [13/Apr/2024 16:59:29] \"POST /get_pre/?age=21&balance=18508&loan=5165&score=580 HTTP/1.1\" 200 -\n",
      "127.0.0.1 - - [13/Apr/2024 16:59:29] \"POST /get_pre/?age=21&balance=18508&loan=5165&score=580 HTTP/1.1\" 200 -\n",
      "127.0.0.1 - - [13/Apr/2024 16:59:29] \"POST /get_pre/?age=21&balance=18508&loan=5165&score=580 HTTP/1.1\" 200 -\n",
      "127.0.0.1 - - [13/Apr/2024 16:59:29] \"POST /get_pre/?age=21&balance=18508&loan=5165&score=580 HTTP/1.1\" 200 -\n",
      "127.0.0.1 - - [13/Apr/2024 16:59:29] \"POST /get_pre/?age=21&balance=18508&loan=5165&score=580 HTTP/1.1\" 200 -\n",
      "127.0.0.1 - - [13/Apr/2024 16:59:29] \"POST /get_pre/?age=21&balance=18508&loan=5165&score=580 HTTP/1.1\" 200 -\n"
     ]
    },
    {
     "name": "stdout",
     "output_type": "stream",
     "text": [
      "[104474.45187385]\n",
      "[104474.45187385]\n",
      "[104474.45187385]\n",
      "[104474.45187385]\n",
      "[104474.45187385]\n",
      "[104474.45187385]\n",
      "[104474.45187385]\n",
      "[104474.45187385]\n",
      "[104474.45187385]\n",
      "[104474.45187385]\n",
      "[104474.45187385]\n"
     ]
    },
    {
     "name": "stderr",
     "output_type": "stream",
     "text": [
      "127.0.0.1 - - [13/Apr/2024 16:59:29] \"POST /get_pre/?age=21&balance=18508&loan=5165&score=580 HTTP/1.1\" 200 -\n",
      "127.0.0.1 - - [13/Apr/2024 16:59:29] \"POST /get_pre/?age=21&balance=18508&loan=5165&score=580 HTTP/1.1\" 200 -\n",
      "127.0.0.1 - - [13/Apr/2024 16:59:29] \"POST /get_pre/?age=21&balance=18508&loan=5165&score=580 HTTP/1.1\" 200 -\n",
      "127.0.0.1 - - [13/Apr/2024 16:59:29] \"POST /get_pre/?age=21&balance=18508&loan=5165&score=580 HTTP/1.1\" 200 -\n",
      "127.0.0.1 - - [13/Apr/2024 16:59:29] \"POST /get_pre/?age=21&balance=18508&loan=5165&score=580 HTTP/1.1\" 200 -\n",
      "127.0.0.1 - - [13/Apr/2024 16:59:29] \"POST /get_pre/?age=21&balance=18508&loan=5165&score=580 HTTP/1.1\" 200 -\n",
      "127.0.0.1 - - [13/Apr/2024 16:59:29] \"POST /get_pre/?age=21&balance=18508&loan=5165&score=580 HTTP/1.1\" 200 -\n",
      "127.0.0.1 - - [13/Apr/2024 16:59:29] \"POST /get_pre/?age=21&balance=18508&loan=5165&score=580 HTTP/1.1\" 200 -\n",
      "127.0.0.1 - - [13/Apr/2024 16:59:29] \"POST /get_pre/?age=21&balance=18508&loan=5165&score=580 HTTP/1.1\" 200 -\n",
      "127.0.0.1 - - [13/Apr/2024 16:59:29] \"POST /get_pre/?age=21&balance=18508&loan=5165&score=580 HTTP/1.1\" 200 -\n",
      "127.0.0.1 - - [13/Apr/2024 16:59:29] \"POST /get_pre/?age=21&balance=18508&loan=5165&score=580 HTTP/1.1\" 200 -\n"
     ]
    },
    {
     "name": "stdout",
     "output_type": "stream",
     "text": [
      "[104474.45187385]\n",
      "[104474.45187385]\n",
      "[104474.45187385]\n",
      "[104474.45187385]\n",
      "[104474.45187385]\n",
      "[104474.45187385]\n",
      "[104474.45187385]\n",
      "[104474.45187385]\n",
      "[104474.45187385]\n",
      "[104474.45187385]\n",
      "[104474.45187385]\n"
     ]
    },
    {
     "name": "stderr",
     "output_type": "stream",
     "text": [
      "127.0.0.1 - - [13/Apr/2024 16:59:29] \"POST /get_pre/?age=21&balance=18508&loan=5165&score=580 HTTP/1.1\" 200 -\n",
      "127.0.0.1 - - [13/Apr/2024 16:59:29] \"POST /get_pre/?age=21&balance=18508&loan=5165&score=580 HTTP/1.1\" 200 -\n",
      "127.0.0.1 - - [13/Apr/2024 16:59:29] \"POST /get_pre/?age=21&balance=18508&loan=5165&score=580 HTTP/1.1\" 200 -\n",
      "127.0.0.1 - - [13/Apr/2024 16:59:29] \"POST /get_pre/?age=21&balance=18508&loan=5165&score=580 HTTP/1.1\" 200 -\n",
      "127.0.0.1 - - [13/Apr/2024 16:59:29] \"POST /get_pre/?age=21&balance=18508&loan=5165&score=580 HTTP/1.1\" 200 -\n",
      "127.0.0.1 - - [13/Apr/2024 16:59:29] \"POST /get_pre/?age=21&balance=18508&loan=5165&score=580 HTTP/1.1\" 200 -\n",
      "127.0.0.1 - - [13/Apr/2024 16:59:29] \"POST /get_pre/?age=21&balance=18508&loan=5165&score=580 HTTP/1.1\" 200 -\n",
      "127.0.0.1 - - [13/Apr/2024 16:59:29] \"POST /get_pre/?age=21&balance=18508&loan=5165&score=580 HTTP/1.1\" 200 -\n",
      "127.0.0.1 - - [13/Apr/2024 16:59:29] \"POST /get_pre/?age=21&balance=18508&loan=5165&score=580 HTTP/1.1\" 200 -\n",
      "127.0.0.1 - - [13/Apr/2024 16:59:29] \"POST /get_pre/?age=21&balance=18508&loan=5165&score=580 HTTP/1.1\" 200 -\n",
      "127.0.0.1 - - [13/Apr/2024 16:59:29] \"POST /get_pre/?age=21&balance=18508&loan=5165&score=580 HTTP/1.1\" 200 -\n"
     ]
    },
    {
     "name": "stdout",
     "output_type": "stream",
     "text": [
      "[104474.45187385]\n",
      "[104474.45187385]\n",
      "[104474.45187385]\n",
      "[104474.45187385]\n",
      "[104474.45187385]\n",
      "[104474.45187385]\n",
      "[104474.45187385]\n",
      "[104474.45187385]\n",
      "[104474.45187385]\n",
      "[104474.45187385]\n",
      "[104474.45187385]\n"
     ]
    },
    {
     "name": "stderr",
     "output_type": "stream",
     "text": [
      "127.0.0.1 - - [13/Apr/2024 16:59:29] \"POST /get_pre/?age=21&balance=18508&loan=5165&score=580 HTTP/1.1\" 200 -\n",
      "127.0.0.1 - - [13/Apr/2024 16:59:29] \"POST /get_pre/?age=21&balance=18508&loan=5165&score=580 HTTP/1.1\" 200 -\n",
      "127.0.0.1 - - [13/Apr/2024 16:59:29] \"POST /get_pre/?age=21&balance=18508&loan=5165&score=580 HTTP/1.1\" 200 -\n",
      "127.0.0.1 - - [13/Apr/2024 16:59:29] \"POST /get_pre/?age=21&balance=18508&loan=5165&score=580 HTTP/1.1\" 200 -\n",
      "127.0.0.1 - - [13/Apr/2024 16:59:29] \"POST /get_pre/?age=21&balance=18508&loan=5165&score=580 HTTP/1.1\" 200 -\n",
      "127.0.0.1 - - [13/Apr/2024 16:59:29] \"POST /get_pre/?age=21&balance=18508&loan=5165&score=580 HTTP/1.1\" 200 -\n",
      "127.0.0.1 - - [13/Apr/2024 16:59:29] \"POST /get_pre/?age=21&balance=18508&loan=5165&score=580 HTTP/1.1\" 200 -\n",
      "127.0.0.1 - - [13/Apr/2024 16:59:29] \"POST /get_pre/?age=21&balance=18508&loan=5165&score=580 HTTP/1.1\" 200 -\n",
      "127.0.0.1 - - [13/Apr/2024 16:59:29] \"POST /get_pre/?age=21&balance=18508&loan=5165&score=580 HTTP/1.1\" 200 -\n",
      "127.0.0.1 - - [13/Apr/2024 16:59:29] \"POST /get_pre/?age=21&balance=18508&loan=5165&score=580 HTTP/1.1\" 200 -\n"
     ]
    },
    {
     "name": "stdout",
     "output_type": "stream",
     "text": [
      "[104474.45187385]\n",
      "[104474.45187385]\n",
      "[104474.45187385]\n",
      "[104474.45187385]\n",
      "[104474.45187385]\n",
      "[104474.45187385]\n",
      "[104474.45187385]\n",
      "[104474.45187385]\n",
      "[104474.45187385]\n",
      "[104474.45187385]\n"
     ]
    },
    {
     "name": "stderr",
     "output_type": "stream",
     "text": [
      "127.0.0.1 - - [13/Apr/2024 16:59:29] \"POST /get_pre/?age=21&balance=18508&loan=5165&score=580 HTTP/1.1\" 200 -\n",
      "127.0.0.1 - - [13/Apr/2024 16:59:29] \"POST /get_pre/?age=21&balance=18508&loan=5165&score=580 HTTP/1.1\" 200 -\n",
      "127.0.0.1 - - [13/Apr/2024 16:59:29] \"POST /get_pre/?age=21&balance=18508&loan=5165&score=580 HTTP/1.1\" 200 -\n",
      "127.0.0.1 - - [13/Apr/2024 16:59:29] \"POST /get_pre/?age=21&balance=18508&loan=5165&score=580 HTTP/1.1\" 200 -\n",
      "127.0.0.1 - - [13/Apr/2024 16:59:29] \"POST /get_pre/?age=21&balance=18508&loan=5165&score=580 HTTP/1.1\" 200 -\n",
      "127.0.0.1 - - [13/Apr/2024 16:59:29] \"POST /get_pre/?age=21&balance=18508&loan=5165&score=580 HTTP/1.1\" 200 -\n",
      "127.0.0.1 - - [13/Apr/2024 16:59:29] \"POST /get_pre/?age=21&balance=18508&loan=5165&score=580 HTTP/1.1\" 200 -\n",
      "127.0.0.1 - - [13/Apr/2024 16:59:29] \"POST /get_pre/?age=21&balance=18508&loan=5165&score=580 HTTP/1.1\" 200 -\n",
      "127.0.0.1 - - [13/Apr/2024 16:59:29] \"POST /get_pre/?age=21&balance=18508&loan=5165&score=580 HTTP/1.1\" 200 -\n",
      "127.0.0.1 - - [13/Apr/2024 16:59:29] \"POST /get_pre/?age=21&balance=18508&loan=5165&score=580 HTTP/1.1\" 200 -\n"
     ]
    },
    {
     "name": "stdout",
     "output_type": "stream",
     "text": [
      "[104474.45187385]\n",
      "[104474.45187385]\n",
      "[104474.45187385]\n",
      "[104474.45187385]\n",
      "[104474.45187385]\n",
      "[104474.45187385]\n",
      "[104474.45187385]\n",
      "[104474.45187385]\n",
      "[104474.45187385]\n",
      "[104474.45187385]\n"
     ]
    },
    {
     "name": "stderr",
     "output_type": "stream",
     "text": [
      "127.0.0.1 - - [13/Apr/2024 16:59:30] \"POST /get_pre/?age=21&balance=18508&loan=5165&score=580 HTTP/1.1\" 200 -\n",
      "127.0.0.1 - - [13/Apr/2024 16:59:30] \"POST /get_pre/?age=21&balance=18508&loan=5165&score=580 HTTP/1.1\" 200 -\n",
      "127.0.0.1 - - [13/Apr/2024 16:59:30] \"POST /get_pre/?age=21&balance=18508&loan=5165&score=580 HTTP/1.1\" 200 -\n",
      "127.0.0.1 - - [13/Apr/2024 16:59:30] \"POST /get_pre/?age=21&balance=18508&loan=5165&score=580 HTTP/1.1\" 200 -\n",
      "127.0.0.1 - - [13/Apr/2024 16:59:30] \"POST /get_pre/?age=21&balance=18508&loan=5165&score=580 HTTP/1.1\" 200 -\n",
      "127.0.0.1 - - [13/Apr/2024 16:59:30] \"POST /get_pre/?age=21&balance=18508&loan=5165&score=580 HTTP/1.1\" 200 -\n",
      "127.0.0.1 - - [13/Apr/2024 16:59:30] \"POST /get_pre/?age=21&balance=18508&loan=5165&score=580 HTTP/1.1\" 200 -\n",
      "127.0.0.1 - - [13/Apr/2024 16:59:30] \"POST /get_pre/?age=21&balance=18508&loan=5165&score=580 HTTP/1.1\" 200 -\n",
      "127.0.0.1 - - [13/Apr/2024 16:59:30] \"POST /get_pre/?age=21&balance=18508&loan=5165&score=580 HTTP/1.1\" 200 -\n",
      "127.0.0.1 - - [13/Apr/2024 16:59:30] \"POST /get_pre/?age=21&balance=18508&loan=5165&score=580 HTTP/1.1\" 200 -\n"
     ]
    },
    {
     "name": "stdout",
     "output_type": "stream",
     "text": [
      "[104474.45187385]\n",
      "[104474.45187385]\n",
      "[104474.45187385]\n",
      "[104474.45187385]\n",
      "[104474.45187385]\n",
      "[104474.45187385]\n",
      "[104474.45187385]\n",
      "[104474.45187385]\n",
      "[104474.45187385]\n",
      "[104474.45187385]\n"
     ]
    },
    {
     "name": "stderr",
     "output_type": "stream",
     "text": [
      "127.0.0.1 - - [13/Apr/2024 16:59:30] \"POST /get_pre/?age=21&balance=18508&loan=5165&score=580 HTTP/1.1\" 200 -\n",
      "127.0.0.1 - - [13/Apr/2024 16:59:30] \"POST /get_pre/?age=21&balance=18508&loan=5165&score=580 HTTP/1.1\" 200 -\n",
      "127.0.0.1 - - [13/Apr/2024 16:59:30] \"POST /get_pre/?age=21&balance=18508&loan=5165&score=580 HTTP/1.1\" 200 -\n",
      "127.0.0.1 - - [13/Apr/2024 16:59:30] \"POST /get_pre/?age=21&balance=18508&loan=5165&score=580 HTTP/1.1\" 200 -\n",
      "127.0.0.1 - - [13/Apr/2024 16:59:30] \"POST /get_pre/?age=21&balance=18508&loan=5165&score=580 HTTP/1.1\" 200 -\n",
      "127.0.0.1 - - [13/Apr/2024 16:59:30] \"POST /get_pre/?age=21&balance=18508&loan=5165&score=580 HTTP/1.1\" 200 -\n",
      "127.0.0.1 - - [13/Apr/2024 16:59:30] \"POST /get_pre/?age=21&balance=18508&loan=5165&score=580 HTTP/1.1\" 200 -\n",
      "127.0.0.1 - - [13/Apr/2024 16:59:30] \"POST /get_pre/?age=21&balance=18508&loan=5165&score=580 HTTP/1.1\" 200 -\n",
      "127.0.0.1 - - [13/Apr/2024 16:59:30] \"POST /get_pre/?age=21&balance=18508&loan=5165&score=580 HTTP/1.1\" 200 -\n",
      "127.0.0.1 - - [13/Apr/2024 16:59:30] \"POST /get_pre/?age=21&balance=18508&loan=5165&score=580 HTTP/1.1\" 200 -\n",
      "127.0.0.1 - - [13/Apr/2024 16:59:30] \"POST /get_pre/?age=21&balance=18508&loan=5165&score=580 HTTP/1.1\" 200 -\n"
     ]
    },
    {
     "name": "stdout",
     "output_type": "stream",
     "text": [
      "[104474.45187385]\n",
      "[104474.45187385]\n",
      "[104474.45187385]\n",
      "[104474.45187385]\n",
      "[104474.45187385]\n",
      "[104474.45187385]\n",
      "[104474.45187385]\n",
      "[104474.45187385]\n",
      "[104474.45187385]\n",
      "[104474.45187385]\n",
      "[104474.45187385]\n"
     ]
    },
    {
     "name": "stderr",
     "output_type": "stream",
     "text": [
      "127.0.0.1 - - [13/Apr/2024 16:59:30] \"POST /get_pre/?age=21&balance=18508&loan=5165&score=580 HTTP/1.1\" 200 -\n",
      "127.0.0.1 - - [13/Apr/2024 16:59:30] \"POST /get_pre/?age=21&balance=18508&loan=5165&score=580 HTTP/1.1\" 200 -\n",
      "127.0.0.1 - - [13/Apr/2024 16:59:30] \"POST /get_pre/?age=21&balance=18508&loan=5165&score=580 HTTP/1.1\" 200 -\n",
      "127.0.0.1 - - [13/Apr/2024 16:59:30] \"POST /get_pre/?age=21&balance=18508&loan=5165&score=580 HTTP/1.1\" 200 -\n",
      "127.0.0.1 - - [13/Apr/2024 16:59:30] \"POST /get_pre/?age=21&balance=18508&loan=5165&score=580 HTTP/1.1\" 200 -\n",
      "127.0.0.1 - - [13/Apr/2024 16:59:30] \"POST /get_pre/?age=21&balance=18508&loan=5165&score=580 HTTP/1.1\" 200 -\n",
      "127.0.0.1 - - [13/Apr/2024 16:59:30] \"POST /get_pre/?age=21&balance=18508&loan=5165&score=580 HTTP/1.1\" 200 -\n",
      "127.0.0.1 - - [13/Apr/2024 16:59:30] \"POST /get_pre/?age=21&balance=18508&loan=5165&score=580 HTTP/1.1\" 200 -\n",
      "127.0.0.1 - - [13/Apr/2024 16:59:30] \"POST /get_pre/?age=21&balance=18508&loan=5165&score=580 HTTP/1.1\" 200 -\n",
      "127.0.0.1 - - [13/Apr/2024 16:59:30] \"POST /get_pre/?age=21&balance=18508&loan=5165&score=580 HTTP/1.1\" 200 -\n"
     ]
    },
    {
     "name": "stdout",
     "output_type": "stream",
     "text": [
      "[104474.45187385]\n",
      "[104474.45187385]\n",
      "[104474.45187385]\n",
      "[104474.45187385]\n",
      "[104474.45187385]\n",
      "[104474.45187385]\n",
      "[104474.45187385]\n",
      "[104474.45187385]\n",
      "[104474.45187385]\n",
      "[104474.45187385]\n",
      "[104474.45187385]\n"
     ]
    },
    {
     "name": "stderr",
     "output_type": "stream",
     "text": [
      "127.0.0.1 - - [13/Apr/2024 16:59:30] \"POST /get_pre/?age=21&balance=18508&loan=5165&score=580 HTTP/1.1\" 200 -\n",
      "127.0.0.1 - - [13/Apr/2024 16:59:30] \"POST /get_pre/?age=21&balance=18508&loan=5165&score=580 HTTP/1.1\" 200 -\n",
      "127.0.0.1 - - [13/Apr/2024 16:59:30] \"POST /get_pre/?age=21&balance=18508&loan=5165&score=580 HTTP/1.1\" 200 -\n",
      "127.0.0.1 - - [13/Apr/2024 16:59:30] \"POST /get_pre/?age=21&balance=18508&loan=5165&score=580 HTTP/1.1\" 200 -\n",
      "127.0.0.1 - - [13/Apr/2024 16:59:30] \"POST /get_pre/?age=21&balance=18508&loan=5165&score=580 HTTP/1.1\" 200 -\n",
      "127.0.0.1 - - [13/Apr/2024 16:59:30] \"POST /get_pre/?age=21&balance=18508&loan=5165&score=580 HTTP/1.1\" 200 -\n",
      "127.0.0.1 - - [13/Apr/2024 16:59:30] \"POST /get_pre/?age=21&balance=18508&loan=5165&score=580 HTTP/1.1\" 200 -\n",
      "127.0.0.1 - - [13/Apr/2024 16:59:30] \"POST /get_pre/?age=21&balance=18508&loan=5165&score=580 HTTP/1.1\" 200 -\n",
      "127.0.0.1 - - [13/Apr/2024 16:59:30] \"POST /get_pre/?age=21&balance=18508&loan=5165&score=580 HTTP/1.1\" 200 -\n",
      "127.0.0.1 - - [13/Apr/2024 16:59:30] \"POST /get_pre/?age=21&balance=18508&loan=5165&score=580 HTTP/1.1\" 200 -\n",
      "127.0.0.1 - - [13/Apr/2024 16:59:30] \"POST /get_pre/?age=21&balance=18508&loan=5165&score=580 HTTP/1.1\" 200 -\n"
     ]
    },
    {
     "name": "stdout",
     "output_type": "stream",
     "text": [
      "[104474.45187385]\n",
      "[104474.45187385]\n",
      "[104474.45187385]\n",
      "[104474.45187385]\n",
      "[104474.45187385]\n",
      "[104474.45187385]\n",
      "[104474.45187385]\n",
      "[104474.45187385]\n",
      "[104474.45187385]\n",
      "[104474.45187385]\n"
     ]
    },
    {
     "name": "stderr",
     "output_type": "stream",
     "text": [
      "127.0.0.1 - - [13/Apr/2024 16:59:30] \"POST /get_pre/?age=21&balance=18508&loan=5165&score=580 HTTP/1.1\" 200 -\n",
      "127.0.0.1 - - [13/Apr/2024 16:59:30] \"POST /get_pre/?age=21&balance=18508&loan=5165&score=580 HTTP/1.1\" 200 -\n",
      "127.0.0.1 - - [13/Apr/2024 16:59:30] \"POST /get_pre/?age=21&balance=18508&loan=5165&score=580 HTTP/1.1\" 200 -\n",
      "127.0.0.1 - - [13/Apr/2024 16:59:30] \"POST /get_pre/?age=21&balance=18508&loan=5165&score=580 HTTP/1.1\" 200 -\n",
      "127.0.0.1 - - [13/Apr/2024 16:59:30] \"POST /get_pre/?age=21&balance=18508&loan=5165&score=580 HTTP/1.1\" 200 -\n",
      "127.0.0.1 - - [13/Apr/2024 16:59:30] \"POST /get_pre/?age=21&balance=18508&loan=5165&score=580 HTTP/1.1\" 200 -\n",
      "127.0.0.1 - - [13/Apr/2024 16:59:30] \"POST /get_pre/?age=21&balance=18508&loan=5165&score=580 HTTP/1.1\" 200 -\n",
      "127.0.0.1 - - [13/Apr/2024 16:59:30] \"POST /get_pre/?age=21&balance=18508&loan=5165&score=580 HTTP/1.1\" 200 -\n",
      "127.0.0.1 - - [13/Apr/2024 16:59:31] \"POST /get_pre/?age=21&balance=18508&loan=5165&score=580 HTTP/1.1\" 200 -\n",
      "127.0.0.1 - - [13/Apr/2024 16:59:31] \"POST /get_pre/?age=21&balance=18508&loan=5165&score=580 HTTP/1.1\" 200 -\n"
     ]
    },
    {
     "name": "stdout",
     "output_type": "stream",
     "text": [
      "[104474.45187385]\n",
      "[104474.45187385]\n",
      "[104474.45187385]\n",
      "[104474.45187385]\n",
      "[104474.45187385]\n",
      "[104474.45187385]\n",
      "[104474.45187385]\n",
      "[104474.45187385]\n",
      "[104474.45187385]\n",
      "[104474.45187385]\n"
     ]
    },
    {
     "name": "stderr",
     "output_type": "stream",
     "text": [
      "127.0.0.1 - - [13/Apr/2024 16:59:31] \"POST /get_pre/?age=21&balance=18508&loan=5165&score=580 HTTP/1.1\" 200 -\n",
      "127.0.0.1 - - [13/Apr/2024 16:59:31] \"POST /get_pre/?age=21&balance=18508&loan=5165&score=580 HTTP/1.1\" 200 -\n",
      "127.0.0.1 - - [13/Apr/2024 16:59:31] \"POST /get_pre/?age=21&balance=18508&loan=5165&score=580 HTTP/1.1\" 200 -\n",
      "127.0.0.1 - - [13/Apr/2024 16:59:31] \"POST /get_pre/?age=21&balance=18508&loan=5165&score=580 HTTP/1.1\" 200 -\n",
      "127.0.0.1 - - [13/Apr/2024 16:59:31] \"POST /get_pre/?age=21&balance=18508&loan=5165&score=580 HTTP/1.1\" 200 -\n",
      "127.0.0.1 - - [13/Apr/2024 16:59:31] \"POST /get_pre/?age=21&balance=18508&loan=5165&score=580 HTTP/1.1\" 200 -\n",
      "127.0.0.1 - - [13/Apr/2024 16:59:31] \"POST /get_pre/?age=21&balance=18508&loan=5165&score=580 HTTP/1.1\" 200 -\n",
      "127.0.0.1 - - [13/Apr/2024 16:59:31] \"POST /get_pre/?age=21&balance=18508&loan=5165&score=580 HTTP/1.1\" 200 -\n",
      "127.0.0.1 - - [13/Apr/2024 16:59:31] \"POST /get_pre/?age=21&balance=18508&loan=5165&score=580 HTTP/1.1\" 200 -\n",
      "127.0.0.1 - - [13/Apr/2024 16:59:31] \"POST /get_pre/?age=21&balance=18508&loan=5165&score=580 HTTP/1.1\" 200 -\n"
     ]
    },
    {
     "name": "stdout",
     "output_type": "stream",
     "text": [
      "[104474.45187385]\n",
      "[104474.45187385]\n",
      "[104474.45187385]\n",
      "[104474.45187385]\n",
      "[104474.45187385]\n",
      "[104474.45187385]\n",
      "[104474.45187385]\n",
      "[104474.45187385]\n",
      "[104474.45187385]\n",
      "[104474.45187385]\n"
     ]
    },
    {
     "name": "stderr",
     "output_type": "stream",
     "text": [
      "127.0.0.1 - - [13/Apr/2024 16:59:31] \"POST /get_pre/?age=21&balance=18508&loan=5165&score=580 HTTP/1.1\" 200 -\n",
      "127.0.0.1 - - [13/Apr/2024 16:59:31] \"POST /get_pre/?age=21&balance=18508&loan=5165&score=580 HTTP/1.1\" 200 -\n",
      "127.0.0.1 - - [13/Apr/2024 16:59:31] \"POST /get_pre/?age=21&balance=18508&loan=5165&score=580 HTTP/1.1\" 200 -\n",
      "127.0.0.1 - - [13/Apr/2024 16:59:31] \"POST /get_pre/?age=21&balance=18508&loan=5165&score=580 HTTP/1.1\" 200 -\n",
      "127.0.0.1 - - [13/Apr/2024 16:59:31] \"POST /get_pre/?age=21&balance=18508&loan=5165&score=580 HTTP/1.1\" 200 -\n",
      "127.0.0.1 - - [13/Apr/2024 16:59:31] \"POST /get_pre/?age=21&balance=18508&loan=5165&score=580 HTTP/1.1\" 200 -\n",
      "127.0.0.1 - - [13/Apr/2024 16:59:31] \"POST /get_pre/?age=21&balance=18508&loan=5165&score=580 HTTP/1.1\" 200 -\n",
      "127.0.0.1 - - [13/Apr/2024 16:59:31] \"POST /get_pre/?age=21&balance=18508&loan=5165&score=580 HTTP/1.1\" 200 -\n",
      "127.0.0.1 - - [13/Apr/2024 16:59:31] \"POST /get_pre/?age=21&balance=18508&loan=5165&score=580 HTTP/1.1\" 200 -\n",
      "127.0.0.1 - - [13/Apr/2024 16:59:31] \"POST /get_pre/?age=21&balance=18508&loan=5165&score=580 HTTP/1.1\" 200 -\n"
     ]
    },
    {
     "name": "stdout",
     "output_type": "stream",
     "text": [
      "[104474.45187385]\n",
      "[104474.45187385]\n",
      "[104474.45187385]\n",
      "[104474.45187385]\n",
      "[104474.45187385]\n",
      "[104474.45187385]\n",
      "[104474.45187385]\n",
      "[104474.45187385]\n",
      "[104474.45187385]\n",
      "[104474.45187385]\n"
     ]
    },
    {
     "name": "stderr",
     "output_type": "stream",
     "text": [
      "127.0.0.1 - - [13/Apr/2024 16:59:31] \"POST /get_pre/?age=21&balance=18508&loan=5165&score=580 HTTP/1.1\" 200 -\n",
      "127.0.0.1 - - [13/Apr/2024 16:59:31] \"POST /get_pre/?age=21&balance=18508&loan=5165&score=580 HTTP/1.1\" 200 -\n",
      "127.0.0.1 - - [13/Apr/2024 16:59:31] \"POST /get_pre/?age=21&balance=18508&loan=5165&score=580 HTTP/1.1\" 200 -\n",
      "127.0.0.1 - - [13/Apr/2024 16:59:31] \"POST /get_pre/?age=21&balance=18508&loan=5165&score=580 HTTP/1.1\" 200 -\n",
      "127.0.0.1 - - [13/Apr/2024 16:59:31] \"POST /get_pre/?age=21&balance=18508&loan=5165&score=580 HTTP/1.1\" 200 -\n",
      "127.0.0.1 - - [13/Apr/2024 16:59:31] \"POST /get_pre/?age=21&balance=18508&loan=5165&score=580 HTTP/1.1\" 200 -\n",
      "127.0.0.1 - - [13/Apr/2024 16:59:31] \"POST /get_pre/?age=21&balance=18508&loan=5165&score=580 HTTP/1.1\" 200 -\n",
      "127.0.0.1 - - [13/Apr/2024 16:59:31] \"POST /get_pre/?age=21&balance=18508&loan=5165&score=580 HTTP/1.1\" 200 -\n",
      "127.0.0.1 - - [13/Apr/2024 16:59:31] \"POST /get_pre/?age=21&balance=18508&loan=5165&score=580 HTTP/1.1\" 200 -\n",
      "127.0.0.1 - - [13/Apr/2024 16:59:31] \"POST /get_pre/?age=21&balance=18508&loan=5165&score=580 HTTP/1.1\" 200 -\n"
     ]
    },
    {
     "name": "stdout",
     "output_type": "stream",
     "text": [
      "[104474.45187385]\n",
      "[104474.45187385]\n",
      "[104474.45187385]\n",
      "[104474.45187385]\n",
      "[104474.45187385]\n",
      "[104474.45187385]\n",
      "[104474.45187385]\n",
      "[104474.45187385]\n",
      "[104474.45187385]\n",
      "[104474.45187385]\n"
     ]
    },
    {
     "name": "stderr",
     "output_type": "stream",
     "text": [
      "127.0.0.1 - - [13/Apr/2024 16:59:31] \"POST /get_pre/?age=21&balance=18508&loan=5165&score=580 HTTP/1.1\" 200 -\n",
      "127.0.0.1 - - [13/Apr/2024 16:59:31] \"POST /get_pre/?age=21&balance=18508&loan=5165&score=580 HTTP/1.1\" 200 -\n",
      "127.0.0.1 - - [13/Apr/2024 16:59:31] \"POST /get_pre/?age=21&balance=18508&loan=5165&score=580 HTTP/1.1\" 200 -\n",
      "127.0.0.1 - - [13/Apr/2024 16:59:31] \"POST /get_pre/?age=21&balance=18508&loan=5165&score=580 HTTP/1.1\" 200 -\n",
      "127.0.0.1 - - [13/Apr/2024 16:59:31] \"POST /get_pre/?age=21&balance=18508&loan=5165&score=580 HTTP/1.1\" 200 -\n",
      "127.0.0.1 - - [13/Apr/2024 16:59:31] \"POST /get_pre/?age=21&balance=18508&loan=5165&score=580 HTTP/1.1\" 200 -\n",
      "127.0.0.1 - - [13/Apr/2024 16:59:31] \"POST /get_pre/?age=21&balance=18508&loan=5165&score=580 HTTP/1.1\" 200 -\n",
      "127.0.0.1 - - [13/Apr/2024 16:59:31] \"POST /get_pre/?age=21&balance=18508&loan=5165&score=580 HTTP/1.1\" 200 -\n",
      "127.0.0.1 - - [13/Apr/2024 16:59:31] \"POST /get_pre/?age=21&balance=18508&loan=5165&score=580 HTTP/1.1\" 200 -\n",
      "127.0.0.1 - - [13/Apr/2024 16:59:31] \"POST /get_pre/?age=21&balance=18508&loan=5165&score=580 HTTP/1.1\" 200 -\n",
      "127.0.0.1 - - [13/Apr/2024 16:59:31] \"POST /get_pre/?age=21&balance=18508&loan=5165&score=580 HTTP/1.1\" 200 -\n"
     ]
    },
    {
     "name": "stdout",
     "output_type": "stream",
     "text": [
      "[104474.45187385]\n",
      "[104474.45187385]\n",
      "[104474.45187385]\n",
      "[104474.45187385]\n",
      "[104474.45187385]\n",
      "[104474.45187385]\n",
      "[104474.45187385]\n",
      "[104474.45187385]\n",
      "[104474.45187385]\n",
      "[104474.45187385]\n",
      "[104474.45187385]\n"
     ]
    },
    {
     "name": "stderr",
     "output_type": "stream",
     "text": [
      "127.0.0.1 - - [13/Apr/2024 16:59:31] \"POST /get_pre/?age=21&balance=18508&loan=5165&score=580 HTTP/1.1\" 200 -\n",
      "127.0.0.1 - - [13/Apr/2024 16:59:31] \"POST /get_pre/?age=21&balance=18508&loan=5165&score=580 HTTP/1.1\" 200 -\n",
      "127.0.0.1 - - [13/Apr/2024 16:59:31] \"POST /get_pre/?age=21&balance=18508&loan=5165&score=580 HTTP/1.1\" 200 -\n",
      "127.0.0.1 - - [13/Apr/2024 16:59:31] \"POST /get_pre/?age=21&balance=18508&loan=5165&score=580 HTTP/1.1\" 200 -\n",
      "127.0.0.1 - - [13/Apr/2024 16:59:31] \"POST /get_pre/?age=21&balance=18508&loan=5165&score=580 HTTP/1.1\" 200 -\n",
      "127.0.0.1 - - [13/Apr/2024 16:59:31] \"POST /get_pre/?age=21&balance=18508&loan=5165&score=580 HTTP/1.1\" 200 -\n",
      "127.0.0.1 - - [13/Apr/2024 16:59:31] \"POST /get_pre/?age=21&balance=18508&loan=5165&score=580 HTTP/1.1\" 200 -\n",
      "127.0.0.1 - - [13/Apr/2024 16:59:32] \"POST /get_pre/?age=21&balance=18508&loan=5165&score=580 HTTP/1.1\" 200 -\n",
      "127.0.0.1 - - [13/Apr/2024 16:59:32] \"POST /get_pre/?age=21&balance=18508&loan=5165&score=580 HTTP/1.1\" 200 -\n",
      "127.0.0.1 - - [13/Apr/2024 16:59:32] \"POST /get_pre/?age=21&balance=18508&loan=5165&score=580 HTTP/1.1\" 200 -\n"
     ]
    },
    {
     "name": "stdout",
     "output_type": "stream",
     "text": [
      "[104474.45187385]\n",
      "[104474.45187385]\n",
      "[104474.45187385]\n",
      "[104474.45187385]\n",
      "[104474.45187385]\n",
      "[104474.45187385]\n",
      "[104474.45187385]\n",
      "[104474.45187385]\n",
      "[104474.45187385]\n",
      "[104474.45187385]\n"
     ]
    },
    {
     "name": "stderr",
     "output_type": "stream",
     "text": [
      "127.0.0.1 - - [13/Apr/2024 16:59:32] \"POST /get_pre/?age=21&balance=18508&loan=5165&score=580 HTTP/1.1\" 200 -\n",
      "127.0.0.1 - - [13/Apr/2024 16:59:32] \"POST /get_pre/?age=21&balance=18508&loan=5165&score=580 HTTP/1.1\" 200 -\n",
      "127.0.0.1 - - [13/Apr/2024 16:59:32] \"POST /get_pre/?age=21&balance=18508&loan=5165&score=580 HTTP/1.1\" 200 -\n",
      "127.0.0.1 - - [13/Apr/2024 16:59:32] \"POST /get_pre/?age=21&balance=18508&loan=5165&score=580 HTTP/1.1\" 200 -\n",
      "127.0.0.1 - - [13/Apr/2024 16:59:32] \"POST /get_pre/?age=21&balance=18508&loan=5165&score=580 HTTP/1.1\" 200 -\n",
      "127.0.0.1 - - [13/Apr/2024 16:59:32] \"POST /get_pre/?age=21&balance=18508&loan=5165&score=580 HTTP/1.1\" 200 -\n",
      "127.0.0.1 - - [13/Apr/2024 16:59:32] \"POST /get_pre/?age=21&balance=18508&loan=5165&score=580 HTTP/1.1\" 200 -\n",
      "127.0.0.1 - - [13/Apr/2024 16:59:32] \"POST /get_pre/?age=21&balance=18508&loan=5165&score=580 HTTP/1.1\" 200 -\n",
      "127.0.0.1 - - [13/Apr/2024 16:59:32] \"POST /get_pre/?age=21&balance=18508&loan=5165&score=580 HTTP/1.1\" 200 -\n",
      "127.0.0.1 - - [13/Apr/2024 16:59:32] \"POST /get_pre/?age=21&balance=18508&loan=5165&score=580 HTTP/1.1\" 200 -\n"
     ]
    },
    {
     "name": "stdout",
     "output_type": "stream",
     "text": [
      "[104474.45187385]\n",
      "[104474.45187385]\n",
      "[104474.45187385]\n",
      "[104474.45187385]\n",
      "[104474.45187385]\n",
      "[104474.45187385]\n",
      "[104474.45187385]\n",
      "[104474.45187385]\n",
      "[104474.45187385]\n",
      "[104474.45187385]\n"
     ]
    },
    {
     "name": "stderr",
     "output_type": "stream",
     "text": [
      "127.0.0.1 - - [13/Apr/2024 16:59:32] \"POST /get_pre/?age=21&balance=18508&loan=5165&score=580 HTTP/1.1\" 200 -\n",
      "127.0.0.1 - - [13/Apr/2024 16:59:32] \"POST /get_pre/?age=21&balance=18508&loan=5165&score=580 HTTP/1.1\" 200 -\n",
      "127.0.0.1 - - [13/Apr/2024 16:59:32] \"POST /get_pre/?age=21&balance=18508&loan=5165&score=580 HTTP/1.1\" 200 -\n",
      "127.0.0.1 - - [13/Apr/2024 16:59:32] \"POST /get_pre/?age=21&balance=18508&loan=5165&score=580 HTTP/1.1\" 200 -\n",
      "127.0.0.1 - - [13/Apr/2024 16:59:32] \"POST /get_pre/?age=21&balance=18508&loan=5165&score=580 HTTP/1.1\" 200 -\n",
      "127.0.0.1 - - [13/Apr/2024 16:59:32] \"POST /get_pre/?age=21&balance=18508&loan=5165&score=580 HTTP/1.1\" 200 -\n",
      "127.0.0.1 - - [13/Apr/2024 16:59:32] \"POST /get_pre/?age=21&balance=18508&loan=5165&score=580 HTTP/1.1\" 200 -\n",
      "127.0.0.1 - - [13/Apr/2024 16:59:32] \"POST /get_pre/?age=21&balance=18508&loan=5165&score=580 HTTP/1.1\" 200 -\n",
      "127.0.0.1 - - [13/Apr/2024 16:59:32] \"POST /get_pre/?age=21&balance=18508&loan=5165&score=580 HTTP/1.1\" 200 -\n",
      "127.0.0.1 - - [13/Apr/2024 16:59:32] \"POST /get_pre/?age=21&balance=18508&loan=5165&score=580 HTTP/1.1\" 200 -\n"
     ]
    },
    {
     "name": "stdout",
     "output_type": "stream",
     "text": [
      "[104474.45187385]\n",
      "[104474.45187385]\n",
      "[104474.45187385]\n",
      "[104474.45187385]\n",
      "[104474.45187385]\n",
      "[104474.45187385]\n",
      "[104474.45187385]\n",
      "[104474.45187385]\n",
      "[104474.45187385]\n",
      "[104474.45187385]\n"
     ]
    },
    {
     "name": "stderr",
     "output_type": "stream",
     "text": [
      "127.0.0.1 - - [13/Apr/2024 16:59:32] \"POST /get_pre/?age=21&balance=18508&loan=5165&score=580 HTTP/1.1\" 200 -\n",
      "127.0.0.1 - - [13/Apr/2024 16:59:32] \"POST /get_pre/?age=21&balance=18508&loan=5165&score=580 HTTP/1.1\" 200 -\n",
      "127.0.0.1 - - [13/Apr/2024 16:59:32] \"POST /get_pre/?age=21&balance=18508&loan=5165&score=580 HTTP/1.1\" 200 -\n",
      "127.0.0.1 - - [13/Apr/2024 16:59:32] \"POST /get_pre/?age=21&balance=18508&loan=5165&score=580 HTTP/1.1\" 200 -\n",
      "127.0.0.1 - - [13/Apr/2024 16:59:32] \"POST /get_pre/?age=21&balance=18508&loan=5165&score=580 HTTP/1.1\" 200 -\n",
      "127.0.0.1 - - [13/Apr/2024 16:59:32] \"POST /get_pre/?age=21&balance=18508&loan=5165&score=580 HTTP/1.1\" 200 -\n",
      "127.0.0.1 - - [13/Apr/2024 16:59:32] \"POST /get_pre/?age=21&balance=18508&loan=5165&score=580 HTTP/1.1\" 200 -\n",
      "127.0.0.1 - - [13/Apr/2024 16:59:32] \"POST /get_pre/?age=21&balance=18508&loan=5165&score=580 HTTP/1.1\" 200 -\n",
      "127.0.0.1 - - [13/Apr/2024 16:59:32] \"POST /get_pre/?age=21&balance=18508&loan=5165&score=580 HTTP/1.1\" 200 -\n",
      "127.0.0.1 - - [13/Apr/2024 16:59:32] \"POST /get_pre/?age=21&balance=18508&loan=5165&score=580 HTTP/1.1\" 200 -\n"
     ]
    },
    {
     "name": "stdout",
     "output_type": "stream",
     "text": [
      "[104474.45187385]\n",
      "[104474.45187385]\n",
      "[104474.45187385]\n",
      "[104474.45187385]\n",
      "[104474.45187385]\n",
      "[104474.45187385]\n",
      "[104474.45187385]\n",
      "[104474.45187385]\n",
      "[104474.45187385]\n",
      "[104474.45187385]\n"
     ]
    },
    {
     "name": "stderr",
     "output_type": "stream",
     "text": [
      "127.0.0.1 - - [13/Apr/2024 16:59:32] \"POST /get_pre/?age=21&balance=18508&loan=5165&score=580 HTTP/1.1\" 200 -\n",
      "127.0.0.1 - - [13/Apr/2024 16:59:32] \"POST /get_pre/?age=21&balance=18508&loan=5165&score=580 HTTP/1.1\" 200 -\n",
      "127.0.0.1 - - [13/Apr/2024 16:59:32] \"POST /get_pre/?age=21&balance=18508&loan=5165&score=580 HTTP/1.1\" 200 -\n",
      "127.0.0.1 - - [13/Apr/2024 16:59:32] \"POST /get_pre/?age=21&balance=18508&loan=5165&score=580 HTTP/1.1\" 200 -\n",
      "127.0.0.1 - - [13/Apr/2024 16:59:32] \"POST /get_pre/?age=21&balance=18508&loan=5165&score=580 HTTP/1.1\" 200 -\n",
      "127.0.0.1 - - [13/Apr/2024 16:59:32] \"POST /get_pre/?age=21&balance=18508&loan=5165&score=580 HTTP/1.1\" 200 -\n",
      "127.0.0.1 - - [13/Apr/2024 16:59:32] \"POST /get_pre/?age=21&balance=18508&loan=5165&score=580 HTTP/1.1\" 200 -\n",
      "127.0.0.1 - - [13/Apr/2024 16:59:32] \"POST /get_pre/?age=21&balance=18508&loan=5165&score=580 HTTP/1.1\" 200 -\n",
      "127.0.0.1 - - [13/Apr/2024 16:59:32] \"POST /get_pre/?age=21&balance=18508&loan=5165&score=580 HTTP/1.1\" 200 -\n",
      "127.0.0.1 - - [13/Apr/2024 16:59:32] \"POST /get_pre/?age=21&balance=18508&loan=5165&score=580 HTTP/1.1\" 200 -\n"
     ]
    },
    {
     "name": "stdout",
     "output_type": "stream",
     "text": [
      "[104474.45187385]\n",
      "[104474.45187385]\n",
      "[104474.45187385]\n",
      "[104474.45187385]\n",
      "[104474.45187385]\n",
      "[104474.45187385]\n",
      "[104474.45187385]\n",
      "[104474.45187385]\n",
      "[104474.45187385]\n",
      "[104474.45187385]\n"
     ]
    },
    {
     "name": "stderr",
     "output_type": "stream",
     "text": [
      "127.0.0.1 - - [13/Apr/2024 16:59:32] \"POST /get_pre/?age=21&balance=18508&loan=5165&score=580 HTTP/1.1\" 200 -\n",
      "127.0.0.1 - - [13/Apr/2024 16:59:32] \"POST /get_pre/?age=21&balance=18508&loan=5165&score=580 HTTP/1.1\" 200 -\n",
      "127.0.0.1 - - [13/Apr/2024 16:59:32] \"POST /get_pre/?age=21&balance=18508&loan=5165&score=580 HTTP/1.1\" 200 -\n",
      "127.0.0.1 - - [13/Apr/2024 16:59:32] \"POST /get_pre/?age=21&balance=18508&loan=5165&score=580 HTTP/1.1\" 200 -\n",
      "127.0.0.1 - - [13/Apr/2024 16:59:33] \"POST /get_pre/?age=21&balance=18508&loan=5165&score=580 HTTP/1.1\" 200 -\n",
      "127.0.0.1 - - [13/Apr/2024 16:59:33] \"POST /get_pre/?age=21&balance=18508&loan=5165&score=580 HTTP/1.1\" 200 -\n",
      "127.0.0.1 - - [13/Apr/2024 16:59:33] \"POST /get_pre/?age=21&balance=18508&loan=5165&score=580 HTTP/1.1\" 200 -\n",
      "127.0.0.1 - - [13/Apr/2024 16:59:33] \"POST /get_pre/?age=21&balance=18508&loan=5165&score=580 HTTP/1.1\" 200 -\n",
      "127.0.0.1 - - [13/Apr/2024 16:59:33] \"POST /get_pre/?age=21&balance=18508&loan=5165&score=580 HTTP/1.1\" 200 -\n",
      "127.0.0.1 - - [13/Apr/2024 16:59:33] \"POST /get_pre/?age=21&balance=18508&loan=5165&score=580 HTTP/1.1\" 200 -\n",
      "127.0.0.1 - - [13/Apr/2024 16:59:33] \"POST /get_pre/?age=21&balance=18508&loan=5165&score=580 HTTP/1.1\" 200 -\n"
     ]
    },
    {
     "name": "stdout",
     "output_type": "stream",
     "text": [
      "[104474.45187385]\n",
      "[104474.45187385]\n",
      "[104474.45187385]\n",
      "[104474.45187385]\n",
      "[104474.45187385]\n",
      "[104474.45187385]\n",
      "[104474.45187385]\n",
      "[104474.45187385]\n",
      "[104474.45187385]\n",
      "[104474.45187385]\n",
      "[104474.45187385]\n"
     ]
    },
    {
     "name": "stderr",
     "output_type": "stream",
     "text": [
      "127.0.0.1 - - [13/Apr/2024 16:59:33] \"POST /get_pre/?age=21&balance=18508&loan=5165&score=580 HTTP/1.1\" 200 -\n",
      "127.0.0.1 - - [13/Apr/2024 16:59:33] \"POST /get_pre/?age=21&balance=18508&loan=5165&score=580 HTTP/1.1\" 200 -\n",
      "127.0.0.1 - - [13/Apr/2024 16:59:33] \"POST /get_pre/?age=21&balance=18508&loan=5165&score=580 HTTP/1.1\" 200 -\n",
      "127.0.0.1 - - [13/Apr/2024 16:59:33] \"POST /get_pre/?age=21&balance=18508&loan=5165&score=580 HTTP/1.1\" 200 -\n",
      "127.0.0.1 - - [13/Apr/2024 16:59:33] \"POST /get_pre/?age=21&balance=18508&loan=5165&score=580 HTTP/1.1\" 200 -\n",
      "127.0.0.1 - - [13/Apr/2024 16:59:33] \"POST /get_pre/?age=21&balance=18508&loan=5165&score=580 HTTP/1.1\" 200 -\n",
      "127.0.0.1 - - [13/Apr/2024 16:59:33] \"POST /get_pre/?age=21&balance=18508&loan=5165&score=580 HTTP/1.1\" 200 -\n",
      "127.0.0.1 - - [13/Apr/2024 16:59:33] \"POST /get_pre/?age=21&balance=18508&loan=5165&score=580 HTTP/1.1\" 200 -\n",
      "127.0.0.1 - - [13/Apr/2024 16:59:33] \"POST /get_pre/?age=21&balance=18508&loan=5165&score=580 HTTP/1.1\" 200 -\n",
      "127.0.0.1 - - [13/Apr/2024 16:59:33] \"POST /get_pre/?age=21&balance=18508&loan=5165&score=580 HTTP/1.1\" 200 -\n"
     ]
    },
    {
     "name": "stdout",
     "output_type": "stream",
     "text": [
      "[104474.45187385]\n",
      "[104474.45187385]\n",
      "[104474.45187385]\n",
      "[104474.45187385]\n",
      "[104474.45187385]\n",
      "[104474.45187385]\n",
      "[104474.45187385]\n",
      "[104474.45187385]\n",
      "[104474.45187385]\n",
      "[104474.45187385]\n"
     ]
    },
    {
     "name": "stderr",
     "output_type": "stream",
     "text": [
      "127.0.0.1 - - [13/Apr/2024 16:59:33] \"POST /get_pre/?age=21&balance=18508&loan=5165&score=580 HTTP/1.1\" 200 -\n",
      "127.0.0.1 - - [13/Apr/2024 16:59:33] \"POST /get_pre/?age=21&balance=18508&loan=5165&score=580 HTTP/1.1\" 200 -\n",
      "127.0.0.1 - - [13/Apr/2024 16:59:33] \"POST /get_pre/?age=21&balance=18508&loan=5165&score=580 HTTP/1.1\" 200 -\n",
      "127.0.0.1 - - [13/Apr/2024 16:59:33] \"POST /get_pre/?age=21&balance=18508&loan=5165&score=580 HTTP/1.1\" 200 -\n",
      "127.0.0.1 - - [13/Apr/2024 16:59:33] \"POST /get_pre/?age=21&balance=18508&loan=5165&score=580 HTTP/1.1\" 200 -\n",
      "127.0.0.1 - - [13/Apr/2024 16:59:33] \"POST /get_pre/?age=21&balance=18508&loan=5165&score=580 HTTP/1.1\" 200 -\n",
      "127.0.0.1 - - [13/Apr/2024 16:59:33] \"POST /get_pre/?age=21&balance=18508&loan=5165&score=580 HTTP/1.1\" 200 -\n",
      "127.0.0.1 - - [13/Apr/2024 16:59:33] \"POST /get_pre/?age=21&balance=18508&loan=5165&score=580 HTTP/1.1\" 200 -\n",
      "127.0.0.1 - - [13/Apr/2024 16:59:33] \"POST /get_pre/?age=21&balance=18508&loan=5165&score=580 HTTP/1.1\" 200 -\n",
      "127.0.0.1 - - [13/Apr/2024 16:59:33] \"POST /get_pre/?age=21&balance=18508&loan=5165&score=580 HTTP/1.1\" 200 -\n"
     ]
    },
    {
     "name": "stdout",
     "output_type": "stream",
     "text": [
      "[104474.45187385]\n",
      "[104474.45187385]\n",
      "[104474.45187385]\n",
      "[104474.45187385]\n",
      "[104474.45187385]\n",
      "[104474.45187385]\n",
      "[104474.45187385]\n",
      "[104474.45187385]\n",
      "[104474.45187385]\n",
      "[104474.45187385]\n"
     ]
    },
    {
     "name": "stderr",
     "output_type": "stream",
     "text": [
      "127.0.0.1 - - [13/Apr/2024 16:59:33] \"POST /get_pre/?age=21&balance=18508&loan=5165&score=580 HTTP/1.1\" 200 -\n",
      "127.0.0.1 - - [13/Apr/2024 16:59:33] \"POST /get_pre/?age=21&balance=18508&loan=5165&score=580 HTTP/1.1\" 200 -\n",
      "127.0.0.1 - - [13/Apr/2024 16:59:33] \"POST /get_pre/?age=21&balance=18508&loan=5165&score=580 HTTP/1.1\" 200 -\n",
      "127.0.0.1 - - [13/Apr/2024 16:59:33] \"POST /get_pre/?age=21&balance=18508&loan=5165&score=580 HTTP/1.1\" 200 -\n",
      "127.0.0.1 - - [13/Apr/2024 16:59:33] \"POST /get_pre/?age=21&balance=18508&loan=5165&score=580 HTTP/1.1\" 200 -\n",
      "127.0.0.1 - - [13/Apr/2024 16:59:33] \"POST /get_pre/?age=21&balance=18508&loan=5165&score=580 HTTP/1.1\" 200 -\n",
      "127.0.0.1 - - [13/Apr/2024 16:59:33] \"POST /get_pre/?age=21&balance=18508&loan=5165&score=580 HTTP/1.1\" 200 -\n",
      "127.0.0.1 - - [13/Apr/2024 16:59:33] \"POST /get_pre/?age=21&balance=18508&loan=5165&score=580 HTTP/1.1\" 200 -\n",
      "127.0.0.1 - - [13/Apr/2024 16:59:33] \"POST /get_pre/?age=21&balance=18508&loan=5165&score=580 HTTP/1.1\" 200 -\n",
      "127.0.0.1 - - [13/Apr/2024 16:59:33] \"POST /get_pre/?age=21&balance=18508&loan=5165&score=580 HTTP/1.1\" 200 -\n",
      "127.0.0.1 - - [13/Apr/2024 16:59:33] \"POST /get_pre/?age=21&balance=18508&loan=5165&score=580 HTTP/1.1\" 200 -\n"
     ]
    },
    {
     "name": "stdout",
     "output_type": "stream",
     "text": [
      "[104474.45187385]\n",
      "[104474.45187385]\n",
      "[104474.45187385]\n",
      "[104474.45187385]\n",
      "[104474.45187385]\n",
      "[104474.45187385]\n",
      "[104474.45187385]\n",
      "[104474.45187385]\n",
      "[104474.45187385]\n",
      "[104474.45187385]\n",
      "[104474.45187385]\n"
     ]
    },
    {
     "name": "stderr",
     "output_type": "stream",
     "text": [
      "127.0.0.1 - - [13/Apr/2024 16:59:33] \"POST /get_pre/?age=21&balance=18508&loan=5165&score=580 HTTP/1.1\" 200 -\n",
      "127.0.0.1 - - [13/Apr/2024 16:59:33] \"POST /get_pre/?age=21&balance=18508&loan=5165&score=580 HTTP/1.1\" 200 -\n",
      "127.0.0.1 - - [13/Apr/2024 16:59:33] \"POST /get_pre/?age=21&balance=18508&loan=5165&score=580 HTTP/1.1\" 200 -\n",
      "127.0.0.1 - - [13/Apr/2024 16:59:33] \"POST /get_pre/?age=21&balance=18508&loan=5165&score=580 HTTP/1.1\" 200 -\n",
      "127.0.0.1 - - [13/Apr/2024 16:59:33] \"POST /get_pre/?age=21&balance=18508&loan=5165&score=580 HTTP/1.1\" 200 -\n",
      "127.0.0.1 - - [13/Apr/2024 16:59:33] \"POST /get_pre/?age=21&balance=18508&loan=5165&score=580 HTTP/1.1\" 200 -\n",
      "127.0.0.1 - - [13/Apr/2024 16:59:33] \"POST /get_pre/?age=21&balance=18508&loan=5165&score=580 HTTP/1.1\" 200 -\n",
      "127.0.0.1 - - [13/Apr/2024 16:59:33] \"POST /get_pre/?age=21&balance=18508&loan=5165&score=580 HTTP/1.1\" 200 -\n",
      "127.0.0.1 - - [13/Apr/2024 16:59:33] \"POST /get_pre/?age=21&balance=18508&loan=5165&score=580 HTTP/1.1\" 200 -\n",
      "127.0.0.1 - - [13/Apr/2024 16:59:33] \"POST /get_pre/?age=21&balance=18508&loan=5165&score=580 HTTP/1.1\" 200 -\n",
      "127.0.0.1 - - [13/Apr/2024 16:59:33] \"POST /get_pre/?age=21&balance=18508&loan=5165&score=580 HTTP/1.1\" 200 -\n"
     ]
    },
    {
     "name": "stdout",
     "output_type": "stream",
     "text": [
      "[104474.45187385]\n",
      "[104474.45187385]\n",
      "[104474.45187385]\n",
      "[104474.45187385]\n",
      "[104474.45187385]\n",
      "[104474.45187385]\n",
      "[104474.45187385]\n",
      "[104474.45187385]\n",
      "[104474.45187385]\n",
      "[104474.45187385]\n",
      "[104474.45187385]\n"
     ]
    },
    {
     "name": "stderr",
     "output_type": "stream",
     "text": [
      "127.0.0.1 - - [13/Apr/2024 16:59:34] \"POST /get_pre/?age=21&balance=18508&loan=5165&score=580 HTTP/1.1\" 200 -\n",
      "127.0.0.1 - - [13/Apr/2024 16:59:34] \"POST /get_pre/?age=21&balance=18508&loan=5165&score=580 HTTP/1.1\" 200 -\n",
      "127.0.0.1 - - [13/Apr/2024 16:59:34] \"POST /get_pre/?age=21&balance=18508&loan=5165&score=580 HTTP/1.1\" 200 -\n",
      "127.0.0.1 - - [13/Apr/2024 16:59:34] \"POST /get_pre/?age=21&balance=18508&loan=5165&score=580 HTTP/1.1\" 200 -\n",
      "127.0.0.1 - - [13/Apr/2024 16:59:34] \"POST /get_pre/?age=21&balance=18508&loan=5165&score=580 HTTP/1.1\" 200 -\n",
      "127.0.0.1 - - [13/Apr/2024 16:59:34] \"POST /get_pre/?age=21&balance=18508&loan=5165&score=580 HTTP/1.1\" 200 -\n",
      "127.0.0.1 - - [13/Apr/2024 16:59:34] \"POST /get_pre/?age=21&balance=18508&loan=5165&score=580 HTTP/1.1\" 200 -\n",
      "127.0.0.1 - - [13/Apr/2024 16:59:34] \"POST /get_pre/?age=21&balance=18508&loan=5165&score=580 HTTP/1.1\" 200 -\n",
      "127.0.0.1 - - [13/Apr/2024 16:59:34] \"POST /get_pre/?age=21&balance=18508&loan=5165&score=580 HTTP/1.1\" 200 -\n",
      "127.0.0.1 - - [13/Apr/2024 16:59:34] \"POST /get_pre/?age=21&balance=18508&loan=5165&score=580 HTTP/1.1\" 200 -\n",
      "127.0.0.1 - - [13/Apr/2024 16:59:34] \"POST /get_pre/?age=21&balance=18508&loan=5165&score=580 HTTP/1.1\" 200 -\n"
     ]
    },
    {
     "name": "stdout",
     "output_type": "stream",
     "text": [
      "[104474.45187385]\n",
      "[104474.45187385]\n",
      "[104474.45187385]\n",
      "[104474.45187385]\n",
      "[104474.45187385]\n",
      "[104474.45187385]\n",
      "[104474.45187385]\n",
      "[104474.45187385]\n",
      "[104474.45187385]\n",
      "[104474.45187385]\n",
      "[104474.45187385]\n"
     ]
    },
    {
     "name": "stderr",
     "output_type": "stream",
     "text": [
      "127.0.0.1 - - [13/Apr/2024 16:59:34] \"POST /get_pre/?age=21&balance=18508&loan=5165&score=580 HTTP/1.1\" 200 -\n",
      "127.0.0.1 - - [13/Apr/2024 16:59:34] \"POST /get_pre/?age=21&balance=18508&loan=5165&score=580 HTTP/1.1\" 200 -\n",
      "127.0.0.1 - - [13/Apr/2024 16:59:34] \"POST /get_pre/?age=21&balance=18508&loan=5165&score=580 HTTP/1.1\" 200 -\n",
      "127.0.0.1 - - [13/Apr/2024 16:59:34] \"POST /get_pre/?age=21&balance=18508&loan=5165&score=580 HTTP/1.1\" 200 -\n",
      "127.0.0.1 - - [13/Apr/2024 16:59:34] \"POST /get_pre/?age=21&balance=18508&loan=5165&score=580 HTTP/1.1\" 200 -\n",
      "127.0.0.1 - - [13/Apr/2024 16:59:34] \"POST /get_pre/?age=21&balance=18508&loan=5165&score=580 HTTP/1.1\" 200 -\n",
      "127.0.0.1 - - [13/Apr/2024 16:59:34] \"POST /get_pre/?age=21&balance=18508&loan=5165&score=580 HTTP/1.1\" 200 -\n",
      "127.0.0.1 - - [13/Apr/2024 16:59:34] \"POST /get_pre/?age=21&balance=18508&loan=5165&score=580 HTTP/1.1\" 200 -\n",
      "127.0.0.1 - - [13/Apr/2024 16:59:34] \"POST /get_pre/?age=21&balance=18508&loan=5165&score=580 HTTP/1.1\" 200 -\n",
      "127.0.0.1 - - [13/Apr/2024 16:59:34] \"POST /get_pre/?age=21&balance=18508&loan=5165&score=580 HTTP/1.1\" 200 -\n"
     ]
    },
    {
     "name": "stdout",
     "output_type": "stream",
     "text": [
      "[104474.45187385]\n",
      "[104474.45187385]\n",
      "[104474.45187385]\n",
      "[104474.45187385]\n",
      "[104474.45187385]\n",
      "[104474.45187385]\n",
      "[104474.45187385]\n",
      "[104474.45187385]\n",
      "[104474.45187385]\n",
      "[104474.45187385]\n"
     ]
    },
    {
     "name": "stderr",
     "output_type": "stream",
     "text": [
      "127.0.0.1 - - [13/Apr/2024 16:59:34] \"POST /get_pre/?age=21&balance=18508&loan=5165&score=580 HTTP/1.1\" 200 -\n",
      "127.0.0.1 - - [13/Apr/2024 16:59:34] \"POST /get_pre/?age=21&balance=18508&loan=5165&score=580 HTTP/1.1\" 200 -\n",
      "127.0.0.1 - - [13/Apr/2024 16:59:34] \"POST /get_pre/?age=21&balance=18508&loan=5165&score=580 HTTP/1.1\" 200 -\n",
      "127.0.0.1 - - [13/Apr/2024 16:59:34] \"POST /get_pre/?age=21&balance=18508&loan=5165&score=580 HTTP/1.1\" 200 -\n",
      "127.0.0.1 - - [13/Apr/2024 16:59:34] \"POST /get_pre/?age=21&balance=18508&loan=5165&score=580 HTTP/1.1\" 200 -\n",
      "127.0.0.1 - - [13/Apr/2024 16:59:34] \"POST /get_pre/?age=21&balance=18508&loan=5165&score=580 HTTP/1.1\" 200 -\n",
      "127.0.0.1 - - [13/Apr/2024 16:59:34] \"POST /get_pre/?age=21&balance=18508&loan=5165&score=580 HTTP/1.1\" 200 -\n",
      "127.0.0.1 - - [13/Apr/2024 16:59:34] \"POST /get_pre/?age=21&balance=18508&loan=5165&score=580 HTTP/1.1\" 200 -\n",
      "127.0.0.1 - - [13/Apr/2024 16:59:34] \"POST /get_pre/?age=21&balance=18508&loan=5165&score=580 HTTP/1.1\" 200 -\n",
      "127.0.0.1 - - [13/Apr/2024 16:59:34] \"POST /get_pre/?age=21&balance=18508&loan=5165&score=580 HTTP/1.1\" 200 -\n"
     ]
    },
    {
     "name": "stdout",
     "output_type": "stream",
     "text": [
      "[104474.45187385]\n",
      "[104474.45187385]\n",
      "[104474.45187385]\n",
      "[104474.45187385]\n",
      "[104474.45187385]\n",
      "[104474.45187385]\n",
      "[104474.45187385]\n",
      "[104474.45187385]\n",
      "[104474.45187385]\n",
      "[104474.45187385]\n"
     ]
    },
    {
     "name": "stderr",
     "output_type": "stream",
     "text": [
      "127.0.0.1 - - [13/Apr/2024 16:59:34] \"POST /get_pre/?age=21&balance=18508&loan=5165&score=580 HTTP/1.1\" 200 -\n",
      "127.0.0.1 - - [13/Apr/2024 16:59:34] \"POST /get_pre/?age=21&balance=18508&loan=5165&score=580 HTTP/1.1\" 200 -\n",
      "127.0.0.1 - - [13/Apr/2024 16:59:34] \"POST /get_pre/?age=21&balance=18508&loan=5165&score=580 HTTP/1.1\" 200 -\n",
      "127.0.0.1 - - [13/Apr/2024 16:59:34] \"POST /get_pre/?age=21&balance=18508&loan=5165&score=580 HTTP/1.1\" 200 -\n",
      "127.0.0.1 - - [13/Apr/2024 16:59:34] \"POST /get_pre/?age=21&balance=18508&loan=5165&score=580 HTTP/1.1\" 200 -\n",
      "127.0.0.1 - - [13/Apr/2024 16:59:34] \"POST /get_pre/?age=21&balance=18508&loan=5165&score=580 HTTP/1.1\" 200 -\n",
      "127.0.0.1 - - [13/Apr/2024 16:59:34] \"POST /get_pre/?age=21&balance=18508&loan=5165&score=580 HTTP/1.1\" 200 -\n",
      "127.0.0.1 - - [13/Apr/2024 16:59:34] \"POST /get_pre/?age=21&balance=18508&loan=5165&score=580 HTTP/1.1\" 200 -\n",
      "127.0.0.1 - - [13/Apr/2024 16:59:34] \"POST /get_pre/?age=21&balance=18508&loan=5165&score=580 HTTP/1.1\" 200 -\n",
      "127.0.0.1 - - [13/Apr/2024 16:59:34] \"POST /get_pre/?age=21&balance=18508&loan=5165&score=580 HTTP/1.1\" 200 -\n"
     ]
    },
    {
     "name": "stdout",
     "output_type": "stream",
     "text": [
      "[104474.45187385]\n",
      "[104474.45187385]\n",
      "[104474.45187385]\n",
      "[104474.45187385]\n",
      "[104474.45187385]\n",
      "[104474.45187385]\n",
      "[104474.45187385]\n",
      "[104474.45187385]\n",
      "[104474.45187385]\n",
      "[104474.45187385]\n"
     ]
    },
    {
     "name": "stderr",
     "output_type": "stream",
     "text": [
      "127.0.0.1 - - [13/Apr/2024 16:59:34] \"POST /get_pre/?age=21&balance=18508&loan=5165&score=580 HTTP/1.1\" 200 -\n",
      "127.0.0.1 - - [13/Apr/2024 16:59:34] \"POST /get_pre/?age=21&balance=18508&loan=5165&score=580 HTTP/1.1\" 200 -\n",
      "127.0.0.1 - - [13/Apr/2024 16:59:34] \"POST /get_pre/?age=21&balance=18508&loan=5165&score=580 HTTP/1.1\" 200 -\n",
      "127.0.0.1 - - [13/Apr/2024 16:59:34] \"POST /get_pre/?age=21&balance=18508&loan=5165&score=580 HTTP/1.1\" 200 -\n",
      "127.0.0.1 - - [13/Apr/2024 16:59:34] \"POST /get_pre/?age=21&balance=18508&loan=5165&score=580 HTTP/1.1\" 200 -\n",
      "127.0.0.1 - - [13/Apr/2024 16:59:34] \"POST /get_pre/?age=21&balance=18508&loan=5165&score=580 HTTP/1.1\" 200 -\n",
      "127.0.0.1 - - [13/Apr/2024 16:59:34] \"POST /get_pre/?age=21&balance=18508&loan=5165&score=580 HTTP/1.1\" 200 -\n",
      "127.0.0.1 - - [13/Apr/2024 16:59:34] \"POST /get_pre/?age=21&balance=18508&loan=5165&score=580 HTTP/1.1\" 200 -\n",
      "127.0.0.1 - - [13/Apr/2024 16:59:35] \"POST /get_pre/?age=21&balance=18508&loan=5165&score=580 HTTP/1.1\" 200 -\n",
      "127.0.0.1 - - [13/Apr/2024 16:59:35] \"POST /get_pre/?age=21&balance=18508&loan=5165&score=580 HTTP/1.1\" 200 -\n"
     ]
    },
    {
     "name": "stdout",
     "output_type": "stream",
     "text": [
      "[104474.45187385]\n",
      "[104474.45187385]\n",
      "[104474.45187385]\n",
      "[104474.45187385]\n",
      "[104474.45187385]\n",
      "[104474.45187385]\n",
      "[104474.45187385]\n",
      "[104474.45187385]\n",
      "[104474.45187385]\n",
      "[104474.45187385]\n"
     ]
    },
    {
     "name": "stderr",
     "output_type": "stream",
     "text": [
      "127.0.0.1 - - [13/Apr/2024 16:59:35] \"POST /get_pre/?age=21&balance=18508&loan=5165&score=580 HTTP/1.1\" 200 -\n",
      "127.0.0.1 - - [13/Apr/2024 16:59:35] \"POST /get_pre/?age=21&balance=18508&loan=5165&score=580 HTTP/1.1\" 200 -\n",
      "127.0.0.1 - - [13/Apr/2024 16:59:35] \"POST /get_pre/?age=21&balance=18508&loan=5165&score=580 HTTP/1.1\" 200 -\n",
      "127.0.0.1 - - [13/Apr/2024 16:59:35] \"POST /get_pre/?age=21&balance=18508&loan=5165&score=580 HTTP/1.1\" 200 -\n",
      "127.0.0.1 - - [13/Apr/2024 16:59:35] \"POST /get_pre/?age=21&balance=18508&loan=5165&score=580 HTTP/1.1\" 200 -\n",
      "127.0.0.1 - - [13/Apr/2024 16:59:35] \"POST /get_pre/?age=21&balance=18508&loan=5165&score=580 HTTP/1.1\" 200 -\n",
      "127.0.0.1 - - [13/Apr/2024 16:59:35] \"POST /get_pre/?age=21&balance=18508&loan=5165&score=580 HTTP/1.1\" 200 -\n",
      "127.0.0.1 - - [13/Apr/2024 16:59:35] \"POST /get_pre/?age=21&balance=18508&loan=5165&score=580 HTTP/1.1\" 200 -\n",
      "127.0.0.1 - - [13/Apr/2024 16:59:35] \"POST /get_pre/?age=21&balance=18508&loan=5165&score=580 HTTP/1.1\" 200 -\n",
      "127.0.0.1 - - [13/Apr/2024 16:59:35] \"POST /get_pre/?age=21&balance=18508&loan=5165&score=580 HTTP/1.1\" 200 -\n"
     ]
    },
    {
     "name": "stdout",
     "output_type": "stream",
     "text": [
      "[104474.45187385]\n",
      "[104474.45187385]\n",
      "[104474.45187385]\n",
      "[104474.45187385]\n",
      "[104474.45187385]\n",
      "[104474.45187385]\n",
      "[104474.45187385]\n",
      "[104474.45187385]\n",
      "[104474.45187385]\n",
      "[104474.45187385]\n"
     ]
    },
    {
     "name": "stderr",
     "output_type": "stream",
     "text": [
      "127.0.0.1 - - [13/Apr/2024 16:59:35] \"POST /get_pre/?age=21&balance=18508&loan=5165&score=580 HTTP/1.1\" 200 -\n",
      "127.0.0.1 - - [13/Apr/2024 16:59:35] \"POST /get_pre/?age=21&balance=18508&loan=5165&score=580 HTTP/1.1\" 200 -\n",
      "127.0.0.1 - - [13/Apr/2024 16:59:35] \"POST /get_pre/?age=21&balance=18508&loan=5165&score=580 HTTP/1.1\" 200 -\n",
      "127.0.0.1 - - [13/Apr/2024 16:59:35] \"POST /get_pre/?age=21&balance=18508&loan=5165&score=580 HTTP/1.1\" 200 -\n",
      "127.0.0.1 - - [13/Apr/2024 16:59:35] \"POST /get_pre/?age=21&balance=18508&loan=5165&score=580 HTTP/1.1\" 200 -\n",
      "127.0.0.1 - - [13/Apr/2024 16:59:35] \"POST /get_pre/?age=21&balance=18508&loan=5165&score=580 HTTP/1.1\" 200 -\n",
      "127.0.0.1 - - [13/Apr/2024 16:59:35] \"POST /get_pre/?age=21&balance=18508&loan=5165&score=580 HTTP/1.1\" 200 -\n",
      "127.0.0.1 - - [13/Apr/2024 16:59:35] \"POST /get_pre/?age=21&balance=18508&loan=5165&score=580 HTTP/1.1\" 200 -\n",
      "127.0.0.1 - - [13/Apr/2024 16:59:35] \"POST /get_pre/?age=21&balance=18508&loan=5165&score=580 HTTP/1.1\" 200 -\n",
      "127.0.0.1 - - [13/Apr/2024 16:59:35] \"POST /get_pre/?age=21&balance=18508&loan=5165&score=580 HTTP/1.1\" 200 -\n"
     ]
    },
    {
     "name": "stdout",
     "output_type": "stream",
     "text": [
      "[104474.45187385]\n",
      "[104474.45187385]\n",
      "[104474.45187385]\n",
      "[104474.45187385]\n",
      "[104474.45187385]\n",
      "[104474.45187385]\n",
      "[104474.45187385]\n",
      "[104474.45187385]\n",
      "[104474.45187385]\n",
      "[104474.45187385]\n"
     ]
    },
    {
     "name": "stderr",
     "output_type": "stream",
     "text": [
      "127.0.0.1 - - [13/Apr/2024 16:59:35] \"POST /get_pre/?age=21&balance=18508&loan=5165&score=580 HTTP/1.1\" 200 -\n",
      "127.0.0.1 - - [13/Apr/2024 16:59:35] \"POST /get_pre/?age=21&balance=18508&loan=5165&score=580 HTTP/1.1\" 200 -\n",
      "127.0.0.1 - - [13/Apr/2024 16:59:35] \"POST /get_pre/?age=21&balance=18508&loan=5165&score=580 HTTP/1.1\" 200 -\n",
      "127.0.0.1 - - [13/Apr/2024 16:59:35] \"POST /get_pre/?age=21&balance=18508&loan=5165&score=580 HTTP/1.1\" 200 -\n",
      "127.0.0.1 - - [13/Apr/2024 16:59:35] \"POST /get_pre/?age=21&balance=18508&loan=5165&score=580 HTTP/1.1\" 200 -\n",
      "127.0.0.1 - - [13/Apr/2024 16:59:35] \"POST /get_pre/?age=21&balance=18508&loan=5165&score=580 HTTP/1.1\" 200 -\n",
      "127.0.0.1 - - [13/Apr/2024 16:59:35] \"POST /get_pre/?age=21&balance=18508&loan=5165&score=580 HTTP/1.1\" 200 -\n",
      "127.0.0.1 - - [13/Apr/2024 16:59:35] \"POST /get_pre/?age=21&balance=18508&loan=5165&score=580 HTTP/1.1\" 200 -\n",
      "127.0.0.1 - - [13/Apr/2024 16:59:35] \"POST /get_pre/?age=21&balance=18508&loan=5165&score=580 HTTP/1.1\" 200 -\n",
      "127.0.0.1 - - [13/Apr/2024 16:59:35] \"POST /get_pre/?age=21&balance=18508&loan=5165&score=580 HTTP/1.1\" 200 -\n",
      "127.0.0.1 - - [13/Apr/2024 16:59:35] \"POST /get_pre/?age=21&balance=18508&loan=5165&score=580 HTTP/1.1\" 200 -\n"
     ]
    },
    {
     "name": "stdout",
     "output_type": "stream",
     "text": [
      "[104474.45187385]\n",
      "[104474.45187385]\n",
      "[104474.45187385]\n",
      "[104474.45187385]\n",
      "[104474.45187385]\n",
      "[104474.45187385]\n",
      "[104474.45187385]\n",
      "[104474.45187385]\n",
      "[104474.45187385]\n",
      "[104474.45187385]\n",
      "[104474.45187385]\n"
     ]
    },
    {
     "name": "stderr",
     "output_type": "stream",
     "text": [
      "127.0.0.1 - - [13/Apr/2024 16:59:35] \"POST /get_pre/?age=21&balance=18508&loan=5165&score=580 HTTP/1.1\" 200 -\n",
      "127.0.0.1 - - [13/Apr/2024 16:59:35] \"POST /get_pre/?age=21&balance=18508&loan=5165&score=580 HTTP/1.1\" 200 -\n",
      "127.0.0.1 - - [13/Apr/2024 16:59:35] \"POST /get_pre/?age=21&balance=18508&loan=5165&score=580 HTTP/1.1\" 200 -\n",
      "127.0.0.1 - - [13/Apr/2024 16:59:35] \"POST /get_pre/?age=21&balance=18508&loan=5165&score=580 HTTP/1.1\" 200 -\n",
      "127.0.0.1 - - [13/Apr/2024 16:59:35] \"POST /get_pre/?age=21&balance=18508&loan=5165&score=580 HTTP/1.1\" 200 -\n",
      "127.0.0.1 - - [13/Apr/2024 16:59:35] \"POST /get_pre/?age=21&balance=18508&loan=5165&score=580 HTTP/1.1\" 200 -\n",
      "127.0.0.1 - - [13/Apr/2024 16:59:35] \"POST /get_pre/?age=21&balance=18508&loan=5165&score=580 HTTP/1.1\" 200 -\n",
      "127.0.0.1 - - [13/Apr/2024 16:59:35] \"POST /get_pre/?age=21&balance=18508&loan=5165&score=580 HTTP/1.1\" 200 -\n",
      "127.0.0.1 - - [13/Apr/2024 16:59:35] \"POST /get_pre/?age=21&balance=18508&loan=5165&score=580 HTTP/1.1\" 200 -\n"
     ]
    },
    {
     "name": "stdout",
     "output_type": "stream",
     "text": [
      "[104474.45187385]\n",
      "[104474.45187385]\n",
      "[104474.45187385]\n",
      "[104474.45187385]\n",
      "[104474.45187385]\n",
      "[104474.45187385]\n",
      "[104474.45187385]\n",
      "[104474.45187385]\n",
      "[104474.45187385]\n"
     ]
    },
    {
     "name": "stderr",
     "output_type": "stream",
     "text": [
      "127.0.0.1 - - [13/Apr/2024 16:59:35] \"POST /get_pre/?age=21&balance=18508&loan=5165&score=580 HTTP/1.1\" 200 -\n",
      "127.0.0.1 - - [13/Apr/2024 16:59:35] \"POST /get_pre/?age=21&balance=18508&loan=5165&score=580 HTTP/1.1\" 200 -\n",
      "127.0.0.1 - - [13/Apr/2024 16:59:36] \"POST /get_pre/?age=21&balance=18508&loan=5165&score=580 HTTP/1.1\" 200 -\n"
     ]
    },
    {
     "name": "stdout",
     "output_type": "stream",
     "text": [
      "[104474.45187385]\n",
      "[104474.45187385]\n",
      "[104474.45187385]\n"
     ]
    },
    {
     "name": "stderr",
     "output_type": "stream",
     "text": [
      "127.0.0.1 - - [13/Apr/2024 16:59:36] \"POST /get_pre/?age=21&balance=18508&loan=5165&score=580 HTTP/1.1\" 200 -\n",
      "127.0.0.1 - - [13/Apr/2024 16:59:36] \"POST /get_pre/?age=21&balance=18508&loan=5165&score=580 HTTP/1.1\" 200 -\n",
      "127.0.0.1 - - [13/Apr/2024 16:59:36] \"POST /get_pre/?age=21&balance=18508&loan=5165&score=580 HTTP/1.1\" 200 -\n",
      "127.0.0.1 - - [13/Apr/2024 16:59:36] \"POST /get_pre/?age=21&balance=18508&loan=5165&score=580 HTTP/1.1\" 200 -\n",
      "127.0.0.1 - - [13/Apr/2024 16:59:36] \"POST /get_pre/?age=21&balance=18508&loan=5165&score=580 HTTP/1.1\" 200 -\n",
      "127.0.0.1 - - [13/Apr/2024 16:59:36] \"POST /get_pre/?age=21&balance=18508&loan=5165&score=580 HTTP/1.1\" 200 -\n",
      "127.0.0.1 - - [13/Apr/2024 16:59:36] \"POST /get_pre/?age=21&balance=18508&loan=5165&score=580 HTTP/1.1\" 200 -\n",
      "127.0.0.1 - - [13/Apr/2024 16:59:36] \"POST /get_pre/?age=21&balance=18508&loan=5165&score=580 HTTP/1.1\" 200 -\n",
      "127.0.0.1 - - [13/Apr/2024 16:59:36] \"POST /get_pre/?age=21&balance=18508&loan=5165&score=580 HTTP/1.1\" 200 -\n",
      "127.0.0.1 - - [13/Apr/2024 16:59:36] \"POST /get_pre/?age=21&balance=18508&loan=5165&score=580 HTTP/1.1\" 200 -\n",
      "127.0.0.1 - - [13/Apr/2024 16:59:36] \"POST /get_pre/?age=21&balance=18508&loan=5165&score=580 HTTP/1.1\" 200 -\n"
     ]
    },
    {
     "name": "stdout",
     "output_type": "stream",
     "text": [
      "[104474.45187385]\n",
      "[104474.45187385]\n",
      "[104474.45187385]\n",
      "[104474.45187385]\n",
      "[104474.45187385]\n",
      "[104474.45187385]\n",
      "[104474.45187385]\n",
      "[104474.45187385]\n",
      "[104474.45187385]\n",
      "[104474.45187385]\n",
      "[104474.45187385]\n"
     ]
    },
    {
     "name": "stderr",
     "output_type": "stream",
     "text": [
      "127.0.0.1 - - [13/Apr/2024 16:59:36] \"POST /get_pre/?age=21&balance=18508&loan=5165&score=580 HTTP/1.1\" 200 -\n",
      "127.0.0.1 - - [13/Apr/2024 16:59:36] \"POST /get_pre/?age=21&balance=18508&loan=5165&score=580 HTTP/1.1\" 200 -\n",
      "127.0.0.1 - - [13/Apr/2024 16:59:36] \"POST /get_pre/?age=21&balance=18508&loan=5165&score=580 HTTP/1.1\" 200 -\n",
      "127.0.0.1 - - [13/Apr/2024 16:59:36] \"POST /get_pre/?age=21&balance=18508&loan=5165&score=580 HTTP/1.1\" 200 -\n",
      "127.0.0.1 - - [13/Apr/2024 16:59:36] \"POST /get_pre/?age=21&balance=18508&loan=5165&score=580 HTTP/1.1\" 200 -\n",
      "127.0.0.1 - - [13/Apr/2024 16:59:36] \"POST /get_pre/?age=21&balance=18508&loan=5165&score=580 HTTP/1.1\" 200 -\n",
      "127.0.0.1 - - [13/Apr/2024 16:59:36] \"POST /get_pre/?age=21&balance=18508&loan=5165&score=580 HTTP/1.1\" 200 -\n",
      "127.0.0.1 - - [13/Apr/2024 16:59:36] \"POST /get_pre/?age=21&balance=18508&loan=5165&score=580 HTTP/1.1\" 200 -\n",
      "127.0.0.1 - - [13/Apr/2024 16:59:36] \"POST /get_pre/?age=21&balance=18508&loan=5165&score=580 HTTP/1.1\" 200 -\n",
      "127.0.0.1 - - [13/Apr/2024 16:59:36] \"POST /get_pre/?age=21&balance=18508&loan=5165&score=580 HTTP/1.1\" 200 -\n"
     ]
    },
    {
     "name": "stdout",
     "output_type": "stream",
     "text": [
      "[104474.45187385]\n",
      "[104474.45187385]\n",
      "[104474.45187385]\n",
      "[104474.45187385]\n",
      "[104474.45187385]\n",
      "[104474.45187385]\n",
      "[104474.45187385]\n",
      "[104474.45187385]\n",
      "[104474.45187385]\n",
      "[104474.45187385]\n"
     ]
    },
    {
     "name": "stderr",
     "output_type": "stream",
     "text": [
      "127.0.0.1 - - [13/Apr/2024 16:59:36] \"POST /get_pre/?age=21&balance=18508&loan=5165&score=580 HTTP/1.1\" 200 -\n",
      "127.0.0.1 - - [13/Apr/2024 16:59:36] \"POST /get_pre/?age=21&balance=18508&loan=5165&score=580 HTTP/1.1\" 200 -\n",
      "127.0.0.1 - - [13/Apr/2024 16:59:36] \"POST /get_pre/?age=21&balance=18508&loan=5165&score=580 HTTP/1.1\" 200 -\n",
      "127.0.0.1 - - [13/Apr/2024 16:59:36] \"POST /get_pre/?age=21&balance=18508&loan=5165&score=580 HTTP/1.1\" 200 -\n",
      "127.0.0.1 - - [13/Apr/2024 16:59:36] \"POST /get_pre/?age=21&balance=18508&loan=5165&score=580 HTTP/1.1\" 200 -\n",
      "127.0.0.1 - - [13/Apr/2024 16:59:36] \"POST /get_pre/?age=21&balance=18508&loan=5165&score=580 HTTP/1.1\" 200 -\n",
      "127.0.0.1 - - [13/Apr/2024 16:59:36] \"POST /get_pre/?age=21&balance=18508&loan=5165&score=580 HTTP/1.1\" 200 -\n",
      "127.0.0.1 - - [13/Apr/2024 16:59:36] \"POST /get_pre/?age=21&balance=18508&loan=5165&score=580 HTTP/1.1\" 200 -\n",
      "127.0.0.1 - - [13/Apr/2024 16:59:36] \"POST /get_pre/?age=21&balance=18508&loan=5165&score=580 HTTP/1.1\" 200 -\n",
      "127.0.0.1 - - [13/Apr/2024 16:59:36] \"POST /get_pre/?age=21&balance=18508&loan=5165&score=580 HTTP/1.1\" 200 -\n"
     ]
    },
    {
     "name": "stdout",
     "output_type": "stream",
     "text": [
      "[104474.45187385]\n",
      "[104474.45187385]\n",
      "[104474.45187385]\n",
      "[104474.45187385]\n",
      "[104474.45187385]\n",
      "[104474.45187385]\n",
      "[104474.45187385]\n",
      "[104474.45187385]\n",
      "[104474.45187385]\n",
      "[104474.45187385]\n"
     ]
    },
    {
     "name": "stderr",
     "output_type": "stream",
     "text": [
      "127.0.0.1 - - [13/Apr/2024 16:59:36] \"POST /get_pre/?age=21&balance=18508&loan=5165&score=580 HTTP/1.1\" 200 -\n",
      "127.0.0.1 - - [13/Apr/2024 16:59:36] \"POST /get_pre/?age=21&balance=18508&loan=5165&score=580 HTTP/1.1\" 200 -\n",
      "127.0.0.1 - - [13/Apr/2024 16:59:36] \"POST /get_pre/?age=21&balance=18508&loan=5165&score=580 HTTP/1.1\" 200 -\n",
      "127.0.0.1 - - [13/Apr/2024 16:59:36] \"POST /get_pre/?age=21&balance=18508&loan=5165&score=580 HTTP/1.1\" 200 -\n",
      "127.0.0.1 - - [13/Apr/2024 16:59:36] \"POST /get_pre/?age=21&balance=18508&loan=5165&score=580 HTTP/1.1\" 200 -\n",
      "127.0.0.1 - - [13/Apr/2024 16:59:36] \"POST /get_pre/?age=21&balance=18508&loan=5165&score=580 HTTP/1.1\" 200 -\n",
      "127.0.0.1 - - [13/Apr/2024 16:59:36] \"POST /get_pre/?age=21&balance=18508&loan=5165&score=580 HTTP/1.1\" 200 -\n",
      "127.0.0.1 - - [13/Apr/2024 16:59:36] \"POST /get_pre/?age=21&balance=18508&loan=5165&score=580 HTTP/1.1\" 200 -\n",
      "127.0.0.1 - - [13/Apr/2024 16:59:36] \"POST /get_pre/?age=21&balance=18508&loan=5165&score=580 HTTP/1.1\" 200 -\n",
      "127.0.0.1 - - [13/Apr/2024 16:59:37] \"POST /get_pre/?age=21&balance=18508&loan=5165&score=580 HTTP/1.1\" 200 -\n"
     ]
    },
    {
     "name": "stdout",
     "output_type": "stream",
     "text": [
      "[104474.45187385]\n",
      "[104474.45187385]\n",
      "[104474.45187385]\n",
      "[104474.45187385]\n",
      "[104474.45187385]\n",
      "[104474.45187385]\n",
      "[104474.45187385]\n",
      "[104474.45187385]\n",
      "[104474.45187385]\n",
      "[104474.45187385]\n"
     ]
    },
    {
     "name": "stderr",
     "output_type": "stream",
     "text": [
      "127.0.0.1 - - [13/Apr/2024 16:59:37] \"POST /get_pre/?age=21&balance=18508&loan=5165&score=580 HTTP/1.1\" 200 -\n",
      "127.0.0.1 - - [13/Apr/2024 16:59:37] \"POST /get_pre/?age=21&balance=18508&loan=5165&score=580 HTTP/1.1\" 200 -\n",
      "127.0.0.1 - - [13/Apr/2024 16:59:37] \"POST /get_pre/?age=21&balance=18508&loan=5165&score=580 HTTP/1.1\" 200 -\n",
      "127.0.0.1 - - [13/Apr/2024 16:59:37] \"POST /get_pre/?age=21&balance=18508&loan=5165&score=580 HTTP/1.1\" 200 -\n",
      "127.0.0.1 - - [13/Apr/2024 16:59:37] \"POST /get_pre/?age=21&balance=18508&loan=5165&score=580 HTTP/1.1\" 200 -\n",
      "127.0.0.1 - - [13/Apr/2024 16:59:37] \"POST /get_pre/?age=21&balance=18508&loan=5165&score=580 HTTP/1.1\" 200 -\n",
      "127.0.0.1 - - [13/Apr/2024 16:59:37] \"POST /get_pre/?age=21&balance=18508&loan=5165&score=580 HTTP/1.1\" 200 -\n",
      "127.0.0.1 - - [13/Apr/2024 16:59:37] \"POST /get_pre/?age=21&balance=18508&loan=5165&score=580 HTTP/1.1\" 200 -\n",
      "127.0.0.1 - - [13/Apr/2024 16:59:37] \"POST /get_pre/?age=21&balance=18508&loan=5165&score=580 HTTP/1.1\" 200 -\n",
      "127.0.0.1 - - [13/Apr/2024 16:59:37] \"POST /get_pre/?age=21&balance=18508&loan=5165&score=580 HTTP/1.1\" 200 -\n"
     ]
    },
    {
     "name": "stdout",
     "output_type": "stream",
     "text": [
      "[104474.45187385]\n",
      "[104474.45187385]\n",
      "[104474.45187385]\n",
      "[104474.45187385]\n",
      "[104474.45187385]\n",
      "[104474.45187385]\n",
      "[104474.45187385]\n",
      "[104474.45187385]\n",
      "[104474.45187385]\n",
      "[104474.45187385]\n"
     ]
    },
    {
     "name": "stderr",
     "output_type": "stream",
     "text": [
      "127.0.0.1 - - [13/Apr/2024 16:59:37] \"POST /get_pre/?age=21&balance=18508&loan=5165&score=580 HTTP/1.1\" 200 -\n",
      "127.0.0.1 - - [13/Apr/2024 16:59:37] \"POST /get_pre/?age=21&balance=18508&loan=5165&score=580 HTTP/1.1\" 200 -\n",
      "127.0.0.1 - - [13/Apr/2024 16:59:37] \"POST /get_pre/?age=21&balance=18508&loan=5165&score=580 HTTP/1.1\" 200 -\n",
      "127.0.0.1 - - [13/Apr/2024 16:59:37] \"POST /get_pre/?age=21&balance=18508&loan=5165&score=580 HTTP/1.1\" 200 -\n",
      "127.0.0.1 - - [13/Apr/2024 16:59:37] \"POST /get_pre/?age=21&balance=18508&loan=5165&score=580 HTTP/1.1\" 200 -\n",
      "127.0.0.1 - - [13/Apr/2024 16:59:37] \"POST /get_pre/?age=21&balance=18508&loan=5165&score=580 HTTP/1.1\" 200 -\n",
      "127.0.0.1 - - [13/Apr/2024 16:59:37] \"POST /get_pre/?age=21&balance=18508&loan=5165&score=580 HTTP/1.1\" 200 -\n",
      "127.0.0.1 - - [13/Apr/2024 16:59:37] \"POST /get_pre/?age=21&balance=18508&loan=5165&score=580 HTTP/1.1\" 200 -\n",
      "127.0.0.1 - - [13/Apr/2024 16:59:37] \"POST /get_pre/?age=21&balance=18508&loan=5165&score=580 HTTP/1.1\" 200 -\n",
      "127.0.0.1 - - [13/Apr/2024 16:59:37] \"POST /get_pre/?age=21&balance=18508&loan=5165&score=580 HTTP/1.1\" 200 -\n"
     ]
    },
    {
     "name": "stdout",
     "output_type": "stream",
     "text": [
      "[104474.45187385]\n",
      "[104474.45187385]\n",
      "[104474.45187385]\n",
      "[104474.45187385]\n",
      "[104474.45187385]\n",
      "[104474.45187385]\n",
      "[104474.45187385]\n",
      "[104474.45187385]\n",
      "[104474.45187385]\n",
      "[104474.45187385]\n"
     ]
    },
    {
     "name": "stderr",
     "output_type": "stream",
     "text": [
      "127.0.0.1 - - [13/Apr/2024 16:59:37] \"POST /get_pre/?age=21&balance=18508&loan=5165&score=580 HTTP/1.1\" 200 -\n",
      "127.0.0.1 - - [13/Apr/2024 16:59:37] \"POST /get_pre/?age=21&balance=18508&loan=5165&score=580 HTTP/1.1\" 200 -\n",
      "127.0.0.1 - - [13/Apr/2024 16:59:37] \"POST /get_pre/?age=21&balance=18508&loan=5165&score=580 HTTP/1.1\" 200 -\n",
      "127.0.0.1 - - [13/Apr/2024 16:59:37] \"POST /get_pre/?age=21&balance=18508&loan=5165&score=580 HTTP/1.1\" 200 -\n",
      "127.0.0.1 - - [13/Apr/2024 16:59:37] \"POST /get_pre/?age=21&balance=18508&loan=5165&score=580 HTTP/1.1\" 200 -\n",
      "127.0.0.1 - - [13/Apr/2024 16:59:37] \"POST /get_pre/?age=21&balance=18508&loan=5165&score=580 HTTP/1.1\" 200 -\n",
      "127.0.0.1 - - [13/Apr/2024 16:59:37] \"POST /get_pre/?age=21&balance=18508&loan=5165&score=580 HTTP/1.1\" 200 -\n",
      "127.0.0.1 - - [13/Apr/2024 16:59:37] \"POST /get_pre/?age=21&balance=18508&loan=5165&score=580 HTTP/1.1\" 200 -\n",
      "127.0.0.1 - - [13/Apr/2024 16:59:37] \"POST /get_pre/?age=21&balance=18508&loan=5165&score=580 HTTP/1.1\" 200 -\n",
      "127.0.0.1 - - [13/Apr/2024 16:59:37] \"POST /get_pre/?age=21&balance=18508&loan=5165&score=580 HTTP/1.1\" 200 -\n",
      "127.0.0.1 - - [13/Apr/2024 16:59:37] \"POST /get_pre/?age=21&balance=18508&loan=5165&score=580 HTTP/1.1\" 200 -\n"
     ]
    },
    {
     "name": "stdout",
     "output_type": "stream",
     "text": [
      "[104474.45187385]\n",
      "[104474.45187385]\n",
      "[104474.45187385]\n",
      "[104474.45187385]\n",
      "[104474.45187385]\n",
      "[104474.45187385]\n",
      "[104474.45187385]\n",
      "[104474.45187385]\n",
      "[104474.45187385]\n",
      "[104474.45187385]\n",
      "[104474.45187385]\n"
     ]
    },
    {
     "name": "stderr",
     "output_type": "stream",
     "text": [
      "127.0.0.1 - - [13/Apr/2024 16:59:37] \"POST /get_pre/?age=21&balance=18508&loan=5165&score=580 HTTP/1.1\" 200 -\n",
      "127.0.0.1 - - [13/Apr/2024 16:59:37] \"POST /get_pre/?age=21&balance=18508&loan=5165&score=580 HTTP/1.1\" 200 -\n",
      "127.0.0.1 - - [13/Apr/2024 16:59:37] \"POST /get_pre/?age=21&balance=18508&loan=5165&score=580 HTTP/1.1\" 200 -\n",
      "127.0.0.1 - - [13/Apr/2024 16:59:37] \"POST /get_pre/?age=21&balance=18508&loan=5165&score=580 HTTP/1.1\" 200 -\n",
      "127.0.0.1 - - [13/Apr/2024 16:59:37] \"POST /get_pre/?age=21&balance=18508&loan=5165&score=580 HTTP/1.1\" 200 -\n",
      "127.0.0.1 - - [13/Apr/2024 16:59:37] \"POST /get_pre/?age=21&balance=18508&loan=5165&score=580 HTTP/1.1\" 200 -\n",
      "127.0.0.1 - - [13/Apr/2024 16:59:37] \"POST /get_pre/?age=21&balance=18508&loan=5165&score=580 HTTP/1.1\" 200 -\n",
      "127.0.0.1 - - [13/Apr/2024 16:59:37] \"POST /get_pre/?age=21&balance=18508&loan=5165&score=580 HTTP/1.1\" 200 -\n",
      "127.0.0.1 - - [13/Apr/2024 16:59:37] \"POST /get_pre/?age=21&balance=18508&loan=5165&score=580 HTTP/1.1\" 200 -\n",
      "127.0.0.1 - - [13/Apr/2024 16:59:37] \"POST /get_pre/?age=21&balance=18508&loan=5165&score=580 HTTP/1.1\" 200 -\n"
     ]
    },
    {
     "name": "stdout",
     "output_type": "stream",
     "text": [
      "[104474.45187385]\n",
      "[104474.45187385]\n",
      "[104474.45187385]\n",
      "[104474.45187385]\n",
      "[104474.45187385]\n",
      "[104474.45187385]\n",
      "[104474.45187385]\n",
      "[104474.45187385]\n",
      "[104474.45187385]\n",
      "[104474.45187385]\n"
     ]
    },
    {
     "name": "stderr",
     "output_type": "stream",
     "text": [
      "127.0.0.1 - - [13/Apr/2024 16:59:37] \"POST /get_pre/?age=21&balance=18508&loan=5165&score=580 HTTP/1.1\" 200 -\n",
      "127.0.0.1 - - [13/Apr/2024 16:59:37] \"POST /get_pre/?age=21&balance=18508&loan=5165&score=580 HTTP/1.1\" 200 -\n",
      "127.0.0.1 - - [13/Apr/2024 16:59:37] \"POST /get_pre/?age=21&balance=18508&loan=5165&score=580 HTTP/1.1\" 200 -\n",
      "127.0.0.1 - - [13/Apr/2024 16:59:37] \"POST /get_pre/?age=21&balance=18508&loan=5165&score=580 HTTP/1.1\" 200 -\n",
      "127.0.0.1 - - [13/Apr/2024 16:59:37] \"POST /get_pre/?age=21&balance=18508&loan=5165&score=580 HTTP/1.1\" 200 -\n",
      "127.0.0.1 - - [13/Apr/2024 16:59:37] \"POST /get_pre/?age=21&balance=18508&loan=5165&score=580 HTTP/1.1\" 200 -\n",
      "127.0.0.1 - - [13/Apr/2024 16:59:37] \"POST /get_pre/?age=21&balance=18508&loan=5165&score=580 HTTP/1.1\" 200 -\n",
      "127.0.0.1 - - [13/Apr/2024 16:59:38] \"POST /get_pre/?age=21&balance=18508&loan=5165&score=580 HTTP/1.1\" 200 -\n",
      "127.0.0.1 - - [13/Apr/2024 16:59:38] \"POST /get_pre/?age=21&balance=18508&loan=5165&score=580 HTTP/1.1\" 200 -\n",
      "127.0.0.1 - - [13/Apr/2024 16:59:38] \"POST /get_pre/?age=21&balance=18508&loan=5165&score=580 HTTP/1.1\" 200 -\n"
     ]
    },
    {
     "name": "stdout",
     "output_type": "stream",
     "text": [
      "[104474.45187385]\n",
      "[104474.45187385]\n",
      "[104474.45187385]\n",
      "[104474.45187385]\n",
      "[104474.45187385]\n",
      "[104474.45187385]\n",
      "[104474.45187385]\n",
      "[104474.45187385]\n",
      "[104474.45187385]\n",
      "[104474.45187385]\n"
     ]
    },
    {
     "name": "stderr",
     "output_type": "stream",
     "text": [
      "127.0.0.1 - - [13/Apr/2024 16:59:38] \"POST /get_pre/?age=21&balance=18508&loan=5165&score=580 HTTP/1.1\" 200 -\n",
      "127.0.0.1 - - [13/Apr/2024 16:59:38] \"POST /get_pre/?age=21&balance=18508&loan=5165&score=580 HTTP/1.1\" 200 -\n",
      "127.0.0.1 - - [13/Apr/2024 16:59:38] \"POST /get_pre/?age=21&balance=18508&loan=5165&score=580 HTTP/1.1\" 200 -\n",
      "127.0.0.1 - - [13/Apr/2024 16:59:38] \"POST /get_pre/?age=21&balance=18508&loan=5165&score=580 HTTP/1.1\" 200 -\n",
      "127.0.0.1 - - [13/Apr/2024 16:59:38] \"POST /get_pre/?age=21&balance=18508&loan=5165&score=580 HTTP/1.1\" 200 -\n",
      "127.0.0.1 - - [13/Apr/2024 16:59:38] \"POST /get_pre/?age=21&balance=18508&loan=5165&score=580 HTTP/1.1\" 200 -\n",
      "127.0.0.1 - - [13/Apr/2024 16:59:38] \"POST /get_pre/?age=21&balance=18508&loan=5165&score=580 HTTP/1.1\" 200 -\n",
      "127.0.0.1 - - [13/Apr/2024 16:59:38] \"POST /get_pre/?age=21&balance=18508&loan=5165&score=580 HTTP/1.1\" 200 -\n",
      "127.0.0.1 - - [13/Apr/2024 16:59:38] \"POST /get_pre/?age=21&balance=18508&loan=5165&score=580 HTTP/1.1\" 200 -\n",
      "127.0.0.1 - - [13/Apr/2024 16:59:38] \"POST /get_pre/?age=21&balance=18508&loan=5165&score=580 HTTP/1.1\" 200 -\n"
     ]
    },
    {
     "name": "stdout",
     "output_type": "stream",
     "text": [
      "[104474.45187385]\n",
      "[104474.45187385]\n",
      "[104474.45187385]\n",
      "[104474.45187385]\n",
      "[104474.45187385]\n",
      "[104474.45187385]\n",
      "[104474.45187385]\n",
      "[104474.45187385]\n",
      "[104474.45187385]\n",
      "[104474.45187385]\n"
     ]
    },
    {
     "name": "stderr",
     "output_type": "stream",
     "text": [
      "127.0.0.1 - - [13/Apr/2024 16:59:38] \"POST /get_pre/?age=21&balance=18508&loan=5165&score=580 HTTP/1.1\" 200 -\n",
      "127.0.0.1 - - [13/Apr/2024 16:59:38] \"POST /get_pre/?age=21&balance=18508&loan=5165&score=580 HTTP/1.1\" 200 -\n",
      "127.0.0.1 - - [13/Apr/2024 16:59:38] \"POST /get_pre/?age=21&balance=18508&loan=5165&score=580 HTTP/1.1\" 200 -\n",
      "127.0.0.1 - - [13/Apr/2024 16:59:38] \"POST /get_pre/?age=21&balance=18508&loan=5165&score=580 HTTP/1.1\" 200 -\n",
      "127.0.0.1 - - [13/Apr/2024 16:59:38] \"POST /get_pre/?age=21&balance=18508&loan=5165&score=580 HTTP/1.1\" 200 -\n"
     ]
    },
    {
     "name": "stdout",
     "output_type": "stream",
     "text": [
      "[104474.45187385]\n",
      "[104474.45187385]\n",
      "[104474.45187385]\n",
      "[104474.45187385]\n",
      "[104474.45187385]\n"
     ]
    },
    {
     "name": "stderr",
     "output_type": "stream",
     "text": [
      "127.0.0.1 - - [13/Apr/2024 16:59:38] \"POST /get_pre/?age=21&balance=18508&loan=5165&score=580 HTTP/1.1\" 200 -\n",
      "127.0.0.1 - - [13/Apr/2024 16:59:38] \"POST /get_pre/?age=21&balance=18508&loan=5165&score=580 HTTP/1.1\" 200 -\n",
      "127.0.0.1 - - [13/Apr/2024 16:59:38] \"POST /get_pre/?age=21&balance=18508&loan=5165&score=580 HTTP/1.1\" 200 -\n",
      "127.0.0.1 - - [13/Apr/2024 16:59:38] \"POST /get_pre/?age=21&balance=18508&loan=5165&score=580 HTTP/1.1\" 200 -\n",
      "127.0.0.1 - - [13/Apr/2024 16:59:38] \"POST /get_pre/?age=21&balance=18508&loan=5165&score=580 HTTP/1.1\" 200 -\n",
      "127.0.0.1 - - [13/Apr/2024 16:59:38] \"POST /get_pre/?age=21&balance=18508&loan=5165&score=580 HTTP/1.1\" 200 -\n",
      "127.0.0.1 - - [13/Apr/2024 16:59:38] \"POST /get_pre/?age=21&balance=18508&loan=5165&score=580 HTTP/1.1\" 200 -\n",
      "127.0.0.1 - - [13/Apr/2024 16:59:38] \"POST /get_pre/?age=21&balance=18508&loan=5165&score=580 HTTP/1.1\" 200 -\n",
      "127.0.0.1 - - [13/Apr/2024 16:59:38] \"POST /get_pre/?age=21&balance=18508&loan=5165&score=580 HTTP/1.1\" 200 -\n",
      "127.0.0.1 - - [13/Apr/2024 16:59:38] \"POST /get_pre/?age=21&balance=18508&loan=5165&score=580 HTTP/1.1\" 200 -\n",
      "127.0.0.1 - - [13/Apr/2024 16:59:38] \"POST /get_pre/?age=21&balance=18508&loan=5165&score=580 HTTP/1.1\" 200 -\n"
     ]
    },
    {
     "name": "stdout",
     "output_type": "stream",
     "text": [
      "[104474.45187385]\n",
      "[104474.45187385]\n",
      "[104474.45187385]\n",
      "[104474.45187385]\n",
      "[104474.45187385]\n",
      "[104474.45187385]\n",
      "[104474.45187385]\n",
      "[104474.45187385]\n",
      "[104474.45187385]\n",
      "[104474.45187385]\n",
      "[104474.45187385]\n"
     ]
    },
    {
     "name": "stderr",
     "output_type": "stream",
     "text": [
      "127.0.0.1 - - [13/Apr/2024 16:59:38] \"POST /get_pre/?age=21&balance=18508&loan=5165&score=580 HTTP/1.1\" 200 -\n",
      "127.0.0.1 - - [13/Apr/2024 16:59:38] \"POST /get_pre/?age=21&balance=18508&loan=5165&score=580 HTTP/1.1\" 200 -\n",
      "127.0.0.1 - - [13/Apr/2024 16:59:38] \"POST /get_pre/?age=21&balance=18508&loan=5165&score=580 HTTP/1.1\" 200 -\n",
      "127.0.0.1 - - [13/Apr/2024 16:59:38] \"POST /get_pre/?age=21&balance=18508&loan=5165&score=580 HTTP/1.1\" 200 -\n",
      "127.0.0.1 - - [13/Apr/2024 16:59:38] \"POST /get_pre/?age=21&balance=18508&loan=5165&score=580 HTTP/1.1\" 200 -\n",
      "127.0.0.1 - - [13/Apr/2024 16:59:38] \"POST /get_pre/?age=21&balance=18508&loan=5165&score=580 HTTP/1.1\" 200 -\n",
      "127.0.0.1 - - [13/Apr/2024 16:59:38] \"POST /get_pre/?age=21&balance=18508&loan=5165&score=580 HTTP/1.1\" 200 -\n",
      "127.0.0.1 - - [13/Apr/2024 16:59:38] \"POST /get_pre/?age=21&balance=18508&loan=5165&score=580 HTTP/1.1\" 200 -\n",
      "127.0.0.1 - - [13/Apr/2024 16:59:38] \"POST /get_pre/?age=21&balance=18508&loan=5165&score=580 HTTP/1.1\" 200 -\n",
      "127.0.0.1 - - [13/Apr/2024 16:59:38] \"POST /get_pre/?age=21&balance=18508&loan=5165&score=580 HTTP/1.1\" 200 -\n"
     ]
    },
    {
     "name": "stdout",
     "output_type": "stream",
     "text": [
      "[104474.45187385]\n",
      "[104474.45187385]\n",
      "[104474.45187385]\n",
      "[104474.45187385]\n",
      "[104474.45187385]\n",
      "[104474.45187385]\n",
      "[104474.45187385]\n",
      "[104474.45187385]\n",
      "[104474.45187385]\n",
      "[104474.45187385]\n"
     ]
    },
    {
     "name": "stderr",
     "output_type": "stream",
     "text": [
      "127.0.0.1 - - [13/Apr/2024 16:59:38] \"POST /get_pre/?age=21&balance=18508&loan=5165&score=580 HTTP/1.1\" 200 -\n",
      "127.0.0.1 - - [13/Apr/2024 16:59:38] \"POST /get_pre/?age=21&balance=18508&loan=5165&score=580 HTTP/1.1\" 200 -\n",
      "127.0.0.1 - - [13/Apr/2024 16:59:38] \"POST /get_pre/?age=21&balance=18508&loan=5165&score=580 HTTP/1.1\" 200 -\n",
      "127.0.0.1 - - [13/Apr/2024 16:59:38] \"POST /get_pre/?age=21&balance=18508&loan=5165&score=580 HTTP/1.1\" 200 -\n",
      "127.0.0.1 - - [13/Apr/2024 16:59:38] \"POST /get_pre/?age=21&balance=18508&loan=5165&score=580 HTTP/1.1\" 200 -\n",
      "127.0.0.1 - - [13/Apr/2024 16:59:38] \"POST /get_pre/?age=21&balance=18508&loan=5165&score=580 HTTP/1.1\" 200 -\n",
      "127.0.0.1 - - [13/Apr/2024 16:59:39] \"POST /get_pre/?age=21&balance=18508&loan=5165&score=580 HTTP/1.1\" 200 -\n",
      "127.0.0.1 - - [13/Apr/2024 16:59:39] \"POST /get_pre/?age=21&balance=18508&loan=5165&score=580 HTTP/1.1\" 200 -\n",
      "127.0.0.1 - - [13/Apr/2024 16:59:39] \"POST /get_pre/?age=21&balance=18508&loan=5165&score=580 HTTP/1.1\" 200 -\n",
      "127.0.0.1 - - [13/Apr/2024 16:59:39] \"POST /get_pre/?age=21&balance=18508&loan=5165&score=580 HTTP/1.1\" 200 -\n",
      "127.0.0.1 - - [13/Apr/2024 16:59:39] \"POST /get_pre/?age=21&balance=18508&loan=5165&score=580 HTTP/1.1\" 200 -\n"
     ]
    },
    {
     "name": "stdout",
     "output_type": "stream",
     "text": [
      "[104474.45187385]\n",
      "[104474.45187385]\n",
      "[104474.45187385]\n",
      "[104474.45187385]\n",
      "[104474.45187385]\n",
      "[104474.45187385]\n",
      "[104474.45187385]\n",
      "[104474.45187385]\n",
      "[104474.45187385]\n",
      "[104474.45187385]\n",
      "[104474.45187385]\n"
     ]
    },
    {
     "name": "stderr",
     "output_type": "stream",
     "text": [
      "127.0.0.1 - - [13/Apr/2024 16:59:39] \"POST /get_pre/?age=21&balance=18508&loan=5165&score=580 HTTP/1.1\" 200 -\n",
      "127.0.0.1 - - [13/Apr/2024 16:59:39] \"POST /get_pre/?age=21&balance=18508&loan=5165&score=580 HTTP/1.1\" 200 -\n",
      "127.0.0.1 - - [13/Apr/2024 16:59:39] \"POST /get_pre/?age=21&balance=18508&loan=5165&score=580 HTTP/1.1\" 200 -\n",
      "127.0.0.1 - - [13/Apr/2024 16:59:39] \"POST /get_pre/?age=21&balance=18508&loan=5165&score=580 HTTP/1.1\" 200 -\n",
      "127.0.0.1 - - [13/Apr/2024 16:59:39] \"POST /get_pre/?age=21&balance=18508&loan=5165&score=580 HTTP/1.1\" 200 -\n",
      "127.0.0.1 - - [13/Apr/2024 16:59:39] \"POST /get_pre/?age=21&balance=18508&loan=5165&score=580 HTTP/1.1\" 200 -\n",
      "127.0.0.1 - - [13/Apr/2024 16:59:39] \"POST /get_pre/?age=21&balance=18508&loan=5165&score=580 HTTP/1.1\" 200 -\n",
      "127.0.0.1 - - [13/Apr/2024 16:59:39] \"POST /get_pre/?age=21&balance=18508&loan=5165&score=580 HTTP/1.1\" 200 -\n",
      "127.0.0.1 - - [13/Apr/2024 16:59:39] \"POST /get_pre/?age=21&balance=18508&loan=5165&score=580 HTTP/1.1\" 200 -\n"
     ]
    },
    {
     "name": "stdout",
     "output_type": "stream",
     "text": [
      "[104474.45187385]\n",
      "[104474.45187385]\n",
      "[104474.45187385]\n",
      "[104474.45187385]\n",
      "[104474.45187385]\n",
      "[104474.45187385]\n",
      "[104474.45187385]\n",
      "[104474.45187385]\n",
      "[104474.45187385]\n"
     ]
    },
    {
     "name": "stderr",
     "output_type": "stream",
     "text": [
      "127.0.0.1 - - [13/Apr/2024 16:59:39] \"POST /get_pre/?age=21&balance=18508&loan=5165&score=580 HTTP/1.1\" 200 -\n",
      "127.0.0.1 - - [13/Apr/2024 16:59:39] \"POST /get_pre/?age=21&balance=18508&loan=5165&score=580 HTTP/1.1\" 200 -\n",
      "127.0.0.1 - - [13/Apr/2024 16:59:39] \"POST /get_pre/?age=21&balance=18508&loan=5165&score=580 HTTP/1.1\" 200 -\n",
      "127.0.0.1 - - [13/Apr/2024 16:59:39] \"POST /get_pre/?age=21&balance=18508&loan=5165&score=580 HTTP/1.1\" 200 -\n",
      "127.0.0.1 - - [13/Apr/2024 16:59:39] \"POST /get_pre/?age=21&balance=18508&loan=5165&score=580 HTTP/1.1\" 200 -\n",
      "127.0.0.1 - - [13/Apr/2024 16:59:39] \"POST /get_pre/?age=21&balance=18508&loan=5165&score=580 HTTP/1.1\" 200 -\n",
      "127.0.0.1 - - [13/Apr/2024 16:59:39] \"POST /get_pre/?age=21&balance=18508&loan=5165&score=580 HTTP/1.1\" 200 -\n",
      "127.0.0.1 - - [13/Apr/2024 16:59:39] \"POST /get_pre/?age=21&balance=18508&loan=5165&score=580 HTTP/1.1\" 200 -\n",
      "127.0.0.1 - - [13/Apr/2024 16:59:39] \"POST /get_pre/?age=21&balance=18508&loan=5165&score=580 HTTP/1.1\" 200 -\n"
     ]
    },
    {
     "name": "stdout",
     "output_type": "stream",
     "text": [
      "[104474.45187385]\n",
      "[104474.45187385]\n",
      "[104474.45187385]\n",
      "[104474.45187385]\n",
      "[104474.45187385]\n",
      "[104474.45187385]\n",
      "[104474.45187385]\n",
      "[104474.45187385]\n",
      "[104474.45187385]\n"
     ]
    },
    {
     "name": "stderr",
     "output_type": "stream",
     "text": [
      "127.0.0.1 - - [13/Apr/2024 16:59:39] \"POST /get_pre/?age=21&balance=18508&loan=5165&score=580 HTTP/1.1\" 200 -\n",
      "127.0.0.1 - - [13/Apr/2024 16:59:39] \"POST /get_pre/?age=21&balance=18508&loan=5165&score=580 HTTP/1.1\" 200 -\n",
      "127.0.0.1 - - [13/Apr/2024 16:59:39] \"POST /get_pre/?age=21&balance=18508&loan=5165&score=580 HTTP/1.1\" 200 -\n",
      "127.0.0.1 - - [13/Apr/2024 16:59:39] \"POST /get_pre/?age=21&balance=18508&loan=5165&score=580 HTTP/1.1\" 200 -\n",
      "127.0.0.1 - - [13/Apr/2024 16:59:39] \"POST /get_pre/?age=21&balance=18508&loan=5165&score=580 HTTP/1.1\" 200 -\n",
      "127.0.0.1 - - [13/Apr/2024 16:59:39] \"POST /get_pre/?age=21&balance=18508&loan=5165&score=580 HTTP/1.1\" 200 -\n",
      "127.0.0.1 - - [13/Apr/2024 16:59:39] \"POST /get_pre/?age=21&balance=18508&loan=5165&score=580 HTTP/1.1\" 200 -\n",
      "127.0.0.1 - - [13/Apr/2024 16:59:39] \"POST /get_pre/?age=21&balance=18508&loan=5165&score=580 HTTP/1.1\" 200 -\n",
      "127.0.0.1 - - [13/Apr/2024 16:59:39] \"POST /get_pre/?age=21&balance=18508&loan=5165&score=580 HTTP/1.1\" 200 -\n",
      "127.0.0.1 - - [13/Apr/2024 16:59:39] \"POST /get_pre/?age=21&balance=18508&loan=5165&score=580 HTTP/1.1\" 200 -\n",
      "127.0.0.1 - - [13/Apr/2024 16:59:39] \"POST /get_pre/?age=21&balance=18508&loan=5165&score=580 HTTP/1.1\" 200 -\n"
     ]
    },
    {
     "name": "stdout",
     "output_type": "stream",
     "text": [
      "[104474.45187385]\n",
      "[104474.45187385]\n",
      "[104474.45187385]\n",
      "[104474.45187385]\n",
      "[104474.45187385]\n",
      "[104474.45187385]\n",
      "[104474.45187385]\n",
      "[104474.45187385]\n",
      "[104474.45187385]\n",
      "[104474.45187385]\n",
      "[104474.45187385]\n"
     ]
    },
    {
     "name": "stderr",
     "output_type": "stream",
     "text": [
      "127.0.0.1 - - [13/Apr/2024 16:59:39] \"POST /get_pre/?age=21&balance=18508&loan=5165&score=580 HTTP/1.1\" 200 -\n",
      "127.0.0.1 - - [13/Apr/2024 16:59:39] \"POST /get_pre/?age=21&balance=18508&loan=5165&score=580 HTTP/1.1\" 200 -\n",
      "127.0.0.1 - - [13/Apr/2024 16:59:39] \"POST /get_pre/?age=21&balance=18508&loan=5165&score=580 HTTP/1.1\" 200 -\n",
      "127.0.0.1 - - [13/Apr/2024 16:59:39] \"POST /get_pre/?age=21&balance=18508&loan=5165&score=580 HTTP/1.1\" 200 -\n",
      "127.0.0.1 - - [13/Apr/2024 16:59:39] \"POST /get_pre/?age=21&balance=18508&loan=5165&score=580 HTTP/1.1\" 200 -\n",
      "127.0.0.1 - - [13/Apr/2024 16:59:39] \"POST /get_pre/?age=21&balance=18508&loan=5165&score=580 HTTP/1.1\" 200 -\n",
      "127.0.0.1 - - [13/Apr/2024 16:59:39] \"POST /get_pre/?age=21&balance=18508&loan=5165&score=580 HTTP/1.1\" 200 -\n",
      "127.0.0.1 - - [13/Apr/2024 16:59:39] \"POST /get_pre/?age=21&balance=18508&loan=5165&score=580 HTTP/1.1\" 200 -\n",
      "127.0.0.1 - - [13/Apr/2024 16:59:39] \"POST /get_pre/?age=21&balance=18508&loan=5165&score=580 HTTP/1.1\" 200 -\n",
      "127.0.0.1 - - [13/Apr/2024 16:59:39] \"POST /get_pre/?age=21&balance=18508&loan=5165&score=580 HTTP/1.1\" 200 -\n"
     ]
    },
    {
     "name": "stdout",
     "output_type": "stream",
     "text": [
      "[104474.45187385]\n",
      "[104474.45187385]\n",
      "[104474.45187385]\n",
      "[104474.45187385]\n",
      "[104474.45187385]\n",
      "[104474.45187385]\n",
      "[104474.45187385]\n",
      "[104474.45187385]\n",
      "[104474.45187385]\n",
      "[104474.45187385]\n"
     ]
    },
    {
     "name": "stderr",
     "output_type": "stream",
     "text": [
      "127.0.0.1 - - [13/Apr/2024 16:59:39] \"POST /get_pre/?age=21&balance=18508&loan=5165&score=580 HTTP/1.1\" 200 -\n",
      "127.0.0.1 - - [13/Apr/2024 16:59:39] \"POST /get_pre/?age=21&balance=18508&loan=5165&score=580 HTTP/1.1\" 200 -\n",
      "127.0.0.1 - - [13/Apr/2024 16:59:39] \"POST /get_pre/?age=21&balance=18508&loan=5165&score=580 HTTP/1.1\" 200 -\n",
      "127.0.0.1 - - [13/Apr/2024 16:59:40] \"POST /get_pre/?age=21&balance=18508&loan=5165&score=580 HTTP/1.1\" 200 -\n",
      "127.0.0.1 - - [13/Apr/2024 16:59:40] \"POST /get_pre/?age=21&balance=18508&loan=5165&score=580 HTTP/1.1\" 200 -\n",
      "127.0.0.1 - - [13/Apr/2024 16:59:40] \"POST /get_pre/?age=21&balance=18508&loan=5165&score=580 HTTP/1.1\" 200 -\n",
      "127.0.0.1 - - [13/Apr/2024 16:59:40] \"POST /get_pre/?age=21&balance=18508&loan=5165&score=580 HTTP/1.1\" 200 -\n",
      "127.0.0.1 - - [13/Apr/2024 16:59:40] \"POST /get_pre/?age=21&balance=18508&loan=5165&score=580 HTTP/1.1\" 200 -\n",
      "127.0.0.1 - - [13/Apr/2024 16:59:40] \"POST /get_pre/?age=21&balance=18508&loan=5165&score=580 HTTP/1.1\" 200 -\n",
      "127.0.0.1 - - [13/Apr/2024 16:59:40] \"POST /get_pre/?age=21&balance=18508&loan=5165&score=580 HTTP/1.1\" 200 -\n"
     ]
    },
    {
     "name": "stdout",
     "output_type": "stream",
     "text": [
      "[104474.45187385]\n",
      "[104474.45187385]\n",
      "[104474.45187385]\n",
      "[104474.45187385]\n",
      "[104474.45187385]\n",
      "[104474.45187385]\n",
      "[104474.45187385]\n",
      "[104474.45187385]\n",
      "[104474.45187385]\n",
      "[104474.45187385]\n"
     ]
    },
    {
     "name": "stderr",
     "output_type": "stream",
     "text": [
      "127.0.0.1 - - [13/Apr/2024 16:59:40] \"POST /get_pre/?age=21&balance=18508&loan=5165&score=580 HTTP/1.1\" 200 -\n",
      "127.0.0.1 - - [13/Apr/2024 16:59:40] \"POST /get_pre/?age=21&balance=18508&loan=5165&score=580 HTTP/1.1\" 200 -\n",
      "127.0.0.1 - - [13/Apr/2024 16:59:40] \"POST /get_pre/?age=21&balance=18508&loan=5165&score=580 HTTP/1.1\" 200 -\n",
      "127.0.0.1 - - [13/Apr/2024 16:59:40] \"POST /get_pre/?age=21&balance=18508&loan=5165&score=580 HTTP/1.1\" 200 -\n",
      "127.0.0.1 - - [13/Apr/2024 16:59:40] \"POST /get_pre/?age=21&balance=18508&loan=5165&score=580 HTTP/1.1\" 200 -\n",
      "127.0.0.1 - - [13/Apr/2024 16:59:40] \"POST /get_pre/?age=21&balance=18508&loan=5165&score=580 HTTP/1.1\" 200 -\n",
      "127.0.0.1 - - [13/Apr/2024 16:59:40] \"POST /get_pre/?age=21&balance=18508&loan=5165&score=580 HTTP/1.1\" 200 -\n",
      "127.0.0.1 - - [13/Apr/2024 16:59:40] \"POST /get_pre/?age=21&balance=18508&loan=5165&score=580 HTTP/1.1\" 200 -\n",
      "127.0.0.1 - - [13/Apr/2024 16:59:40] \"POST /get_pre/?age=21&balance=18508&loan=5165&score=580 HTTP/1.1\" 200 -\n",
      "127.0.0.1 - - [13/Apr/2024 16:59:40] \"POST /get_pre/?age=21&balance=18508&loan=5165&score=580 HTTP/1.1\" 200 -\n"
     ]
    },
    {
     "name": "stdout",
     "output_type": "stream",
     "text": [
      "[104474.45187385]\n",
      "[104474.45187385]\n",
      "[104474.45187385]\n",
      "[104474.45187385]\n",
      "[104474.45187385]\n",
      "[104474.45187385]\n",
      "[104474.45187385]\n",
      "[104474.45187385]\n",
      "[104474.45187385]\n",
      "[104474.45187385]\n"
     ]
    },
    {
     "name": "stderr",
     "output_type": "stream",
     "text": [
      "127.0.0.1 - - [13/Apr/2024 16:59:40] \"POST /get_pre/?age=21&balance=18508&loan=5165&score=580 HTTP/1.1\" 200 -\n",
      "127.0.0.1 - - [13/Apr/2024 16:59:40] \"POST /get_pre/?age=21&balance=18508&loan=5165&score=580 HTTP/1.1\" 200 -\n",
      "127.0.0.1 - - [13/Apr/2024 16:59:40] \"POST /get_pre/?age=21&balance=18508&loan=5165&score=580 HTTP/1.1\" 200 -\n",
      "127.0.0.1 - - [13/Apr/2024 16:59:40] \"POST /get_pre/?age=21&balance=18508&loan=5165&score=580 HTTP/1.1\" 200 -\n",
      "127.0.0.1 - - [13/Apr/2024 16:59:40] \"POST /get_pre/?age=21&balance=18508&loan=5165&score=580 HTTP/1.1\" 200 -\n",
      "127.0.0.1 - - [13/Apr/2024 16:59:40] \"POST /get_pre/?age=21&balance=18508&loan=5165&score=580 HTTP/1.1\" 200 -\n",
      "127.0.0.1 - - [13/Apr/2024 16:59:40] \"POST /get_pre/?age=21&balance=18508&loan=5165&score=580 HTTP/1.1\" 200 -\n",
      "127.0.0.1 - - [13/Apr/2024 16:59:40] \"POST /get_pre/?age=21&balance=18508&loan=5165&score=580 HTTP/1.1\" 200 -\n",
      "127.0.0.1 - - [13/Apr/2024 16:59:40] \"POST /get_pre/?age=21&balance=18508&loan=5165&score=580 HTTP/1.1\" 200 -\n",
      "127.0.0.1 - - [13/Apr/2024 16:59:40] \"POST /get_pre/?age=21&balance=18508&loan=5165&score=580 HTTP/1.1\" 200 -\n"
     ]
    },
    {
     "name": "stdout",
     "output_type": "stream",
     "text": [
      "[104474.45187385]\n",
      "[104474.45187385]\n",
      "[104474.45187385]\n",
      "[104474.45187385]\n",
      "[104474.45187385]\n",
      "[104474.45187385]\n",
      "[104474.45187385]\n",
      "[104474.45187385]\n",
      "[104474.45187385]\n",
      "[104474.45187385]\n"
     ]
    },
    {
     "name": "stderr",
     "output_type": "stream",
     "text": [
      "127.0.0.1 - - [13/Apr/2024 16:59:40] \"POST /get_pre/?age=21&balance=18508&loan=5165&score=580 HTTP/1.1\" 200 -\n",
      "127.0.0.1 - - [13/Apr/2024 16:59:40] \"POST /get_pre/?age=21&balance=18508&loan=5165&score=580 HTTP/1.1\" 200 -\n",
      "127.0.0.1 - - [13/Apr/2024 16:59:40] \"POST /get_pre/?age=21&balance=18508&loan=5165&score=580 HTTP/1.1\" 200 -\n",
      "127.0.0.1 - - [13/Apr/2024 16:59:40] \"POST /get_pre/?age=21&balance=18508&loan=5165&score=580 HTTP/1.1\" 200 -\n",
      "127.0.0.1 - - [13/Apr/2024 16:59:40] \"POST /get_pre/?age=21&balance=18508&loan=5165&score=580 HTTP/1.1\" 200 -\n",
      "127.0.0.1 - - [13/Apr/2024 16:59:40] \"POST /get_pre/?age=21&balance=18508&loan=5165&score=580 HTTP/1.1\" 200 -\n",
      "127.0.0.1 - - [13/Apr/2024 16:59:40] \"POST /get_pre/?age=21&balance=18508&loan=5165&score=580 HTTP/1.1\" 200 -\n",
      "127.0.0.1 - - [13/Apr/2024 16:59:40] \"POST /get_pre/?age=21&balance=18508&loan=5165&score=580 HTTP/1.1\" 200 -\n",
      "127.0.0.1 - - [13/Apr/2024 16:59:40] \"POST /get_pre/?age=21&balance=18508&loan=5165&score=580 HTTP/1.1\" 200 -\n",
      "127.0.0.1 - - [13/Apr/2024 16:59:40] \"POST /get_pre/?age=21&balance=18508&loan=5165&score=580 HTTP/1.1\" 200 -\n"
     ]
    },
    {
     "name": "stdout",
     "output_type": "stream",
     "text": [
      "[104474.45187385]\n",
      "[104474.45187385]\n",
      "[104474.45187385]\n",
      "[104474.45187385]\n",
      "[104474.45187385]\n",
      "[104474.45187385]\n",
      "[104474.45187385]\n",
      "[104474.45187385]\n",
      "[104474.45187385]\n",
      "[104474.45187385]\n"
     ]
    },
    {
     "name": "stderr",
     "output_type": "stream",
     "text": [
      "127.0.0.1 - - [13/Apr/2024 16:59:40] \"POST /get_pre/?age=21&balance=18508&loan=5165&score=580 HTTP/1.1\" 200 -\n",
      "127.0.0.1 - - [13/Apr/2024 16:59:40] \"POST /get_pre/?age=21&balance=18508&loan=5165&score=580 HTTP/1.1\" 200 -\n",
      "127.0.0.1 - - [13/Apr/2024 16:59:40] \"POST /get_pre/?age=21&balance=18508&loan=5165&score=580 HTTP/1.1\" 200 -\n",
      "127.0.0.1 - - [13/Apr/2024 16:59:40] \"POST /get_pre/?age=21&balance=18508&loan=5165&score=580 HTTP/1.1\" 200 -\n",
      "127.0.0.1 - - [13/Apr/2024 16:59:40] \"POST /get_pre/?age=21&balance=18508&loan=5165&score=580 HTTP/1.1\" 200 -\n",
      "127.0.0.1 - - [13/Apr/2024 16:59:40] \"POST /get_pre/?age=21&balance=18508&loan=5165&score=580 HTTP/1.1\" 200 -\n",
      "127.0.0.1 - - [13/Apr/2024 16:59:40] \"POST /get_pre/?age=21&balance=18508&loan=5165&score=580 HTTP/1.1\" 200 -\n",
      "127.0.0.1 - - [13/Apr/2024 16:59:40] \"POST /get_pre/?age=21&balance=18508&loan=5165&score=580 HTTP/1.1\" 200 -\n",
      "127.0.0.1 - - [13/Apr/2024 16:59:40] \"POST /get_pre/?age=21&balance=18508&loan=5165&score=580 HTTP/1.1\" 200 -\n",
      "127.0.0.1 - - [13/Apr/2024 16:59:40] \"POST /get_pre/?age=21&balance=18508&loan=5165&score=580 HTTP/1.1\" 200 -\n"
     ]
    },
    {
     "name": "stdout",
     "output_type": "stream",
     "text": [
      "[104474.45187385]\n",
      "[104474.45187385]\n",
      "[104474.45187385]\n",
      "[104474.45187385]\n",
      "[104474.45187385]\n",
      "[104474.45187385]\n",
      "[104474.45187385]\n",
      "[104474.45187385]\n",
      "[104474.45187385]\n",
      "[104474.45187385]\n"
     ]
    },
    {
     "name": "stderr",
     "output_type": "stream",
     "text": [
      "127.0.0.1 - - [13/Apr/2024 16:59:40] \"POST /get_pre/?age=21&balance=18508&loan=5165&score=580 HTTP/1.1\" 200 -\n",
      "127.0.0.1 - - [13/Apr/2024 16:59:41] \"POST /get_pre/?age=21&balance=18508&loan=5165&score=580 HTTP/1.1\" 200 -\n",
      "127.0.0.1 - - [13/Apr/2024 16:59:41] \"POST /get_pre/?age=21&balance=18508&loan=5165&score=580 HTTP/1.1\" 200 -\n",
      "127.0.0.1 - - [13/Apr/2024 16:59:41] \"POST /get_pre/?age=21&balance=18508&loan=5165&score=580 HTTP/1.1\" 200 -\n",
      "127.0.0.1 - - [13/Apr/2024 16:59:41] \"POST /get_pre/?age=21&balance=18508&loan=5165&score=580 HTTP/1.1\" 200 -\n",
      "127.0.0.1 - - [13/Apr/2024 16:59:41] \"POST /get_pre/?age=21&balance=18508&loan=5165&score=580 HTTP/1.1\" 200 -\n",
      "127.0.0.1 - - [13/Apr/2024 16:59:41] \"POST /get_pre/?age=21&balance=18508&loan=5165&score=580 HTTP/1.1\" 200 -\n",
      "127.0.0.1 - - [13/Apr/2024 16:59:41] \"POST /get_pre/?age=21&balance=18508&loan=5165&score=580 HTTP/1.1\" 200 -\n",
      "127.0.0.1 - - [13/Apr/2024 16:59:41] \"POST /get_pre/?age=21&balance=18508&loan=5165&score=580 HTTP/1.1\" 200 -\n",
      "127.0.0.1 - - [13/Apr/2024 16:59:41] \"POST /get_pre/?age=21&balance=18508&loan=5165&score=580 HTTP/1.1\" 200 -\n"
     ]
    },
    {
     "name": "stdout",
     "output_type": "stream",
     "text": [
      "[104474.45187385]\n",
      "[104474.45187385]\n",
      "[104474.45187385]\n",
      "[104474.45187385]\n",
      "[104474.45187385]\n",
      "[104474.45187385]\n",
      "[104474.45187385]\n",
      "[104474.45187385]\n",
      "[104474.45187385]\n",
      "[104474.45187385]\n"
     ]
    },
    {
     "name": "stderr",
     "output_type": "stream",
     "text": [
      "127.0.0.1 - - [13/Apr/2024 16:59:41] \"POST /get_pre/?age=21&balance=18508&loan=5165&score=580 HTTP/1.1\" 200 -\n",
      "127.0.0.1 - - [13/Apr/2024 16:59:41] \"POST /get_pre/?age=21&balance=18508&loan=5165&score=580 HTTP/1.1\" 200 -\n",
      "127.0.0.1 - - [13/Apr/2024 16:59:41] \"POST /get_pre/?age=21&balance=18508&loan=5165&score=580 HTTP/1.1\" 200 -\n",
      "127.0.0.1 - - [13/Apr/2024 16:59:41] \"POST /get_pre/?age=21&balance=18508&loan=5165&score=580 HTTP/1.1\" 200 -\n",
      "127.0.0.1 - - [13/Apr/2024 16:59:41] \"POST /get_pre/?age=21&balance=18508&loan=5165&score=580 HTTP/1.1\" 200 -\n",
      "127.0.0.1 - - [13/Apr/2024 16:59:41] \"POST /get_pre/?age=21&balance=18508&loan=5165&score=580 HTTP/1.1\" 200 -\n",
      "127.0.0.1 - - [13/Apr/2024 16:59:41] \"POST /get_pre/?age=21&balance=18508&loan=5165&score=580 HTTP/1.1\" 200 -\n",
      "127.0.0.1 - - [13/Apr/2024 16:59:41] \"POST /get_pre/?age=21&balance=18508&loan=5165&score=580 HTTP/1.1\" 200 -\n",
      "127.0.0.1 - - [13/Apr/2024 16:59:41] \"POST /get_pre/?age=21&balance=18508&loan=5165&score=580 HTTP/1.1\" 200 -\n"
     ]
    },
    {
     "name": "stdout",
     "output_type": "stream",
     "text": [
      "[104474.45187385]\n",
      "[104474.45187385]\n",
      "[104474.45187385]\n",
      "[104474.45187385]\n",
      "[104474.45187385]\n",
      "[104474.45187385]\n",
      "[104474.45187385]\n",
      "[104474.45187385]\n",
      "[104474.45187385]\n"
     ]
    },
    {
     "name": "stderr",
     "output_type": "stream",
     "text": [
      "127.0.0.1 - - [13/Apr/2024 16:59:41] \"POST /get_pre/?age=21&balance=18508&loan=5165&score=580 HTTP/1.1\" 200 -\n",
      "127.0.0.1 - - [13/Apr/2024 16:59:41] \"POST /get_pre/?age=21&balance=18508&loan=5165&score=580 HTTP/1.1\" 200 -\n",
      "127.0.0.1 - - [13/Apr/2024 16:59:41] \"POST /get_pre/?age=21&balance=18508&loan=5165&score=580 HTTP/1.1\" 200 -\n",
      "127.0.0.1 - - [13/Apr/2024 16:59:41] \"POST /get_pre/?age=21&balance=18508&loan=5165&score=580 HTTP/1.1\" 200 -\n",
      "127.0.0.1 - - [13/Apr/2024 16:59:41] \"POST /get_pre/?age=21&balance=18508&loan=5165&score=580 HTTP/1.1\" 200 -\n",
      "127.0.0.1 - - [13/Apr/2024 16:59:41] \"POST /get_pre/?age=21&balance=18508&loan=5165&score=580 HTTP/1.1\" 200 -\n",
      "127.0.0.1 - - [13/Apr/2024 16:59:41] \"POST /get_pre/?age=21&balance=18508&loan=5165&score=580 HTTP/1.1\" 200 -\n",
      "127.0.0.1 - - [13/Apr/2024 16:59:41] \"POST /get_pre/?age=21&balance=18508&loan=5165&score=580 HTTP/1.1\" 200 -\n",
      "127.0.0.1 - - [13/Apr/2024 16:59:41] \"POST /get_pre/?age=21&balance=18508&loan=5165&score=580 HTTP/1.1\" 200 -\n",
      "127.0.0.1 - - [13/Apr/2024 16:59:41] \"POST /get_pre/?age=21&balance=18508&loan=5165&score=580 HTTP/1.1\" 200 -\n"
     ]
    },
    {
     "name": "stdout",
     "output_type": "stream",
     "text": [
      "[104474.45187385]\n",
      "[104474.45187385]\n",
      "[104474.45187385]\n",
      "[104474.45187385]\n",
      "[104474.45187385]\n",
      "[104474.45187385]\n",
      "[104474.45187385]\n",
      "[104474.45187385]\n",
      "[104474.45187385]\n",
      "[104474.45187385]\n"
     ]
    },
    {
     "name": "stderr",
     "output_type": "stream",
     "text": [
      "127.0.0.1 - - [13/Apr/2024 16:59:41] \"POST /get_pre/?age=21&balance=18508&loan=5165&score=580 HTTP/1.1\" 200 -\n",
      "127.0.0.1 - - [13/Apr/2024 16:59:41] \"POST /get_pre/?age=21&balance=18508&loan=5165&score=580 HTTP/1.1\" 200 -\n",
      "127.0.0.1 - - [13/Apr/2024 16:59:41] \"POST /get_pre/?age=21&balance=18508&loan=5165&score=580 HTTP/1.1\" 200 -\n",
      "127.0.0.1 - - [13/Apr/2024 16:59:41] \"POST /get_pre/?age=21&balance=18508&loan=5165&score=580 HTTP/1.1\" 200 -\n",
      "127.0.0.1 - - [13/Apr/2024 16:59:41] \"POST /get_pre/?age=21&balance=18508&loan=5165&score=580 HTTP/1.1\" 200 -\n",
      "127.0.0.1 - - [13/Apr/2024 16:59:41] \"POST /get_pre/?age=21&balance=18508&loan=5165&score=580 HTTP/1.1\" 200 -\n",
      "127.0.0.1 - - [13/Apr/2024 16:59:41] \"POST /get_pre/?age=21&balance=18508&loan=5165&score=580 HTTP/1.1\" 200 -\n",
      "127.0.0.1 - - [13/Apr/2024 16:59:41] \"POST /get_pre/?age=21&balance=18508&loan=5165&score=580 HTTP/1.1\" 200 -\n",
      "127.0.0.1 - - [13/Apr/2024 16:59:41] \"POST /get_pre/?age=21&balance=18508&loan=5165&score=580 HTTP/1.1\" 200 -\n",
      "127.0.0.1 - - [13/Apr/2024 16:59:41] \"POST /get_pre/?age=21&balance=18508&loan=5165&score=580 HTTP/1.1\" 200 -\n"
     ]
    },
    {
     "name": "stdout",
     "output_type": "stream",
     "text": [
      "[104474.45187385]\n",
      "[104474.45187385]\n",
      "[104474.45187385]\n",
      "[104474.45187385]\n",
      "[104474.45187385]\n",
      "[104474.45187385]\n",
      "[104474.45187385]\n",
      "[104474.45187385]\n",
      "[104474.45187385]\n",
      "[104474.45187385]\n"
     ]
    },
    {
     "name": "stderr",
     "output_type": "stream",
     "text": [
      "127.0.0.1 - - [13/Apr/2024 16:59:41] \"POST /get_pre/?age=21&balance=18508&loan=5165&score=580 HTTP/1.1\" 200 -\n",
      "127.0.0.1 - - [13/Apr/2024 16:59:41] \"POST /get_pre/?age=21&balance=18508&loan=5165&score=580 HTTP/1.1\" 200 -\n",
      "127.0.0.1 - - [13/Apr/2024 16:59:41] \"POST /get_pre/?age=21&balance=18508&loan=5165&score=580 HTTP/1.1\" 200 -\n",
      "127.0.0.1 - - [13/Apr/2024 16:59:41] \"POST /get_pre/?age=21&balance=18508&loan=5165&score=580 HTTP/1.1\" 200 -\n",
      "127.0.0.1 - - [13/Apr/2024 16:59:42] \"POST /get_pre/?age=21&balance=18508&loan=5165&score=580 HTTP/1.1\" 200 -\n",
      "127.0.0.1 - - [13/Apr/2024 16:59:42] \"POST /get_pre/?age=21&balance=18508&loan=5165&score=580 HTTP/1.1\" 200 -\n",
      "127.0.0.1 - - [13/Apr/2024 16:59:42] \"POST /get_pre/?age=21&balance=18508&loan=5165&score=580 HTTP/1.1\" 200 -\n",
      "127.0.0.1 - - [13/Apr/2024 16:59:42] \"POST /get_pre/?age=21&balance=18508&loan=5165&score=580 HTTP/1.1\" 200 -\n",
      "127.0.0.1 - - [13/Apr/2024 16:59:42] \"POST /get_pre/?age=21&balance=18508&loan=5165&score=580 HTTP/1.1\" 200 -\n",
      "127.0.0.1 - - [13/Apr/2024 16:59:42] \"POST /get_pre/?age=21&balance=18508&loan=5165&score=580 HTTP/1.1\" 200 -\n"
     ]
    },
    {
     "name": "stdout",
     "output_type": "stream",
     "text": [
      "[104474.45187385]\n",
      "[104474.45187385]\n",
      "[104474.45187385]\n",
      "[104474.45187385]\n",
      "[104474.45187385]\n",
      "[104474.45187385]\n",
      "[104474.45187385]\n",
      "[104474.45187385]\n",
      "[104474.45187385]\n",
      "[104474.45187385]\n"
     ]
    },
    {
     "name": "stderr",
     "output_type": "stream",
     "text": [
      "127.0.0.1 - - [13/Apr/2024 16:59:42] \"POST /get_pre/?age=21&balance=18508&loan=5165&score=580 HTTP/1.1\" 200 -\n",
      "127.0.0.1 - - [13/Apr/2024 16:59:42] \"POST /get_pre/?age=21&balance=18508&loan=5165&score=580 HTTP/1.1\" 200 -\n",
      "127.0.0.1 - - [13/Apr/2024 16:59:42] \"POST /get_pre/?age=21&balance=18508&loan=5165&score=580 HTTP/1.1\" 200 -\n",
      "127.0.0.1 - - [13/Apr/2024 16:59:42] \"POST /get_pre/?age=21&balance=18508&loan=5165&score=580 HTTP/1.1\" 200 -\n",
      "127.0.0.1 - - [13/Apr/2024 16:59:42] \"POST /get_pre/?age=21&balance=18508&loan=5165&score=580 HTTP/1.1\" 200 -\n",
      "127.0.0.1 - - [13/Apr/2024 16:59:42] \"POST /get_pre/?age=21&balance=18508&loan=5165&score=580 HTTP/1.1\" 200 -\n",
      "127.0.0.1 - - [13/Apr/2024 16:59:42] \"POST /get_pre/?age=21&balance=18508&loan=5165&score=580 HTTP/1.1\" 200 -\n",
      "127.0.0.1 - - [13/Apr/2024 16:59:42] \"POST /get_pre/?age=21&balance=18508&loan=5165&score=580 HTTP/1.1\" 200 -\n",
      "127.0.0.1 - - [13/Apr/2024 16:59:42] \"POST /get_pre/?age=21&balance=18508&loan=5165&score=580 HTTP/1.1\" 200 -\n"
     ]
    },
    {
     "name": "stdout",
     "output_type": "stream",
     "text": [
      "[104474.45187385]\n",
      "[104474.45187385]\n",
      "[104474.45187385]\n",
      "[104474.45187385]\n",
      "[104474.45187385]\n",
      "[104474.45187385]\n",
      "[104474.45187385]\n",
      "[104474.45187385]\n",
      "[104474.45187385]\n"
     ]
    },
    {
     "name": "stderr",
     "output_type": "stream",
     "text": [
      "127.0.0.1 - - [13/Apr/2024 16:59:42] \"POST /get_pre/?age=21&balance=18508&loan=5165&score=580 HTTP/1.1\" 200 -\n",
      "127.0.0.1 - - [13/Apr/2024 16:59:42] \"POST /get_pre/?age=21&balance=18508&loan=5165&score=580 HTTP/1.1\" 200 -\n",
      "127.0.0.1 - - [13/Apr/2024 16:59:42] \"POST /get_pre/?age=21&balance=18508&loan=5165&score=580 HTTP/1.1\" 200 -\n",
      "127.0.0.1 - - [13/Apr/2024 16:59:42] \"POST /get_pre/?age=21&balance=18508&loan=5165&score=580 HTTP/1.1\" 200 -\n",
      "127.0.0.1 - - [13/Apr/2024 16:59:42] \"POST /get_pre/?age=21&balance=18508&loan=5165&score=580 HTTP/1.1\" 200 -\n",
      "127.0.0.1 - - [13/Apr/2024 16:59:42] \"POST /get_pre/?age=21&balance=18508&loan=5165&score=580 HTTP/1.1\" 200 -\n",
      "127.0.0.1 - - [13/Apr/2024 16:59:42] \"POST /get_pre/?age=21&balance=18508&loan=5165&score=580 HTTP/1.1\" 200 -\n",
      "127.0.0.1 - - [13/Apr/2024 16:59:42] \"POST /get_pre/?age=21&balance=18508&loan=5165&score=580 HTTP/1.1\" 200 -\n",
      "127.0.0.1 - - [13/Apr/2024 16:59:42] \"POST /get_pre/?age=21&balance=18508&loan=5165&score=580 HTTP/1.1\" 200 -\n"
     ]
    },
    {
     "name": "stdout",
     "output_type": "stream",
     "text": [
      "[104474.45187385]\n",
      "[104474.45187385]\n",
      "[104474.45187385]\n",
      "[104474.45187385]\n",
      "[104474.45187385]\n",
      "[104474.45187385]\n",
      "[104474.45187385]\n",
      "[104474.45187385]\n",
      "[104474.45187385]\n"
     ]
    },
    {
     "name": "stderr",
     "output_type": "stream",
     "text": [
      "127.0.0.1 - - [13/Apr/2024 16:59:42] \"POST /get_pre/?age=21&balance=18508&loan=5165&score=580 HTTP/1.1\" 200 -\n",
      "127.0.0.1 - - [13/Apr/2024 16:59:42] \"POST /get_pre/?age=21&balance=18508&loan=5165&score=580 HTTP/1.1\" 200 -\n",
      "127.0.0.1 - - [13/Apr/2024 16:59:42] \"POST /get_pre/?age=21&balance=18508&loan=5165&score=580 HTTP/1.1\" 200 -\n",
      "127.0.0.1 - - [13/Apr/2024 16:59:42] \"POST /get_pre/?age=21&balance=18508&loan=5165&score=580 HTTP/1.1\" 200 -\n",
      "127.0.0.1 - - [13/Apr/2024 16:59:42] \"POST /get_pre/?age=21&balance=18508&loan=5165&score=580 HTTP/1.1\" 200 -\n",
      "127.0.0.1 - - [13/Apr/2024 16:59:42] \"POST /get_pre/?age=21&balance=18508&loan=5165&score=580 HTTP/1.1\" 200 -\n"
     ]
    },
    {
     "name": "stdout",
     "output_type": "stream",
     "text": [
      "[104474.45187385]\n",
      "[104474.45187385]\n",
      "[104474.45187385]\n",
      "[104474.45187385]\n",
      "[104474.45187385]\n",
      "[104474.45187385]\n"
     ]
    },
    {
     "name": "stderr",
     "output_type": "stream",
     "text": [
      "127.0.0.1 - - [13/Apr/2024 16:59:42] \"POST /get_pre/?age=21&balance=18508&loan=5165&score=580 HTTP/1.1\" 200 -\n",
      "127.0.0.1 - - [13/Apr/2024 16:59:42] \"POST /get_pre/?age=21&balance=18508&loan=5165&score=580 HTTP/1.1\" 200 -\n",
      "127.0.0.1 - - [13/Apr/2024 16:59:42] \"POST /get_pre/?age=21&balance=18508&loan=5165&score=580 HTTP/1.1\" 200 -\n",
      "127.0.0.1 - - [13/Apr/2024 16:59:42] \"POST /get_pre/?age=21&balance=18508&loan=5165&score=580 HTTP/1.1\" 200 -\n",
      "127.0.0.1 - - [13/Apr/2024 16:59:42] \"POST /get_pre/?age=21&balance=18508&loan=5165&score=580 HTTP/1.1\" 200 -\n",
      "127.0.0.1 - - [13/Apr/2024 16:59:42] \"POST /get_pre/?age=21&balance=18508&loan=5165&score=580 HTTP/1.1\" 200 -\n",
      "127.0.0.1 - - [13/Apr/2024 16:59:42] \"POST /get_pre/?age=21&balance=18508&loan=5165&score=580 HTTP/1.1\" 200 -\n",
      "127.0.0.1 - - [13/Apr/2024 16:59:42] \"POST /get_pre/?age=21&balance=18508&loan=5165&score=580 HTTP/1.1\" 200 -\n"
     ]
    },
    {
     "name": "stdout",
     "output_type": "stream",
     "text": [
      "[104474.45187385]\n",
      "[104474.45187385]\n",
      "[104474.45187385]\n",
      "[104474.45187385]\n",
      "[104474.45187385]\n",
      "[104474.45187385]\n",
      "[104474.45187385]\n",
      "[104474.45187385]\n"
     ]
    },
    {
     "name": "stderr",
     "output_type": "stream",
     "text": [
      "127.0.0.1 - - [13/Apr/2024 16:59:43] \"POST /get_pre/?age=21&balance=18508&loan=5165&score=580 HTTP/1.1\" 200 -\n",
      "127.0.0.1 - - [13/Apr/2024 16:59:43] \"POST /get_pre/?age=21&balance=18508&loan=5165&score=580 HTTP/1.1\" 200 -\n",
      "127.0.0.1 - - [13/Apr/2024 16:59:43] \"POST /get_pre/?age=21&balance=18508&loan=5165&score=580 HTTP/1.1\" 200 -\n",
      "127.0.0.1 - - [13/Apr/2024 16:59:43] \"POST /get_pre/?age=21&balance=18508&loan=5165&score=580 HTTP/1.1\" 200 -\n",
      "127.0.0.1 - - [13/Apr/2024 16:59:43] \"POST /get_pre/?age=21&balance=18508&loan=5165&score=580 HTTP/1.1\" 200 -\n",
      "127.0.0.1 - - [13/Apr/2024 16:59:43] \"POST /get_pre/?age=21&balance=18508&loan=5165&score=580 HTTP/1.1\" 200 -\n",
      "127.0.0.1 - - [13/Apr/2024 16:59:43] \"POST /get_pre/?age=21&balance=18508&loan=5165&score=580 HTTP/1.1\" 200 -\n",
      "127.0.0.1 - - [13/Apr/2024 16:59:43] \"POST /get_pre/?age=21&balance=18508&loan=5165&score=580 HTTP/1.1\" 200 -\n",
      "127.0.0.1 - - [13/Apr/2024 16:59:43] \"POST /get_pre/?age=21&balance=18508&loan=5165&score=580 HTTP/1.1\" 200 -\n",
      "127.0.0.1 - - [13/Apr/2024 16:59:43] \"POST /get_pre/?age=21&balance=18508&loan=5165&score=580 HTTP/1.1\" 200 -\n"
     ]
    },
    {
     "name": "stdout",
     "output_type": "stream",
     "text": [
      "[104474.45187385]\n",
      "[104474.45187385]\n",
      "[104474.45187385]\n",
      "[104474.45187385]\n",
      "[104474.45187385]\n",
      "[104474.45187385]\n",
      "[104474.45187385]\n",
      "[104474.45187385]\n",
      "[104474.45187385]\n",
      "[104474.45187385]\n"
     ]
    },
    {
     "name": "stderr",
     "output_type": "stream",
     "text": [
      "127.0.0.1 - - [13/Apr/2024 16:59:43] \"POST /get_pre/?age=21&balance=18508&loan=5165&score=580 HTTP/1.1\" 200 -\n",
      "127.0.0.1 - - [13/Apr/2024 16:59:43] \"POST /get_pre/?age=21&balance=18508&loan=5165&score=580 HTTP/1.1\" 200 -\n",
      "127.0.0.1 - - [13/Apr/2024 16:59:43] \"POST /get_pre/?age=21&balance=18508&loan=5165&score=580 HTTP/1.1\" 200 -\n",
      "127.0.0.1 - - [13/Apr/2024 16:59:43] \"POST /get_pre/?age=21&balance=18508&loan=5165&score=580 HTTP/1.1\" 200 -\n",
      "127.0.0.1 - - [13/Apr/2024 16:59:43] \"POST /get_pre/?age=21&balance=18508&loan=5165&score=580 HTTP/1.1\" 200 -\n",
      "127.0.0.1 - - [13/Apr/2024 16:59:43] \"POST /get_pre/?age=21&balance=18508&loan=5165&score=580 HTTP/1.1\" 200 -\n",
      "127.0.0.1 - - [13/Apr/2024 16:59:43] \"POST /get_pre/?age=21&balance=18508&loan=5165&score=580 HTTP/1.1\" 200 -\n",
      "127.0.0.1 - - [13/Apr/2024 16:59:43] \"POST /get_pre/?age=21&balance=18508&loan=5165&score=580 HTTP/1.1\" 200 -\n",
      "127.0.0.1 - - [13/Apr/2024 16:59:43] \"POST /get_pre/?age=21&balance=18508&loan=5165&score=580 HTTP/1.1\" 200 -\n"
     ]
    },
    {
     "name": "stdout",
     "output_type": "stream",
     "text": [
      "[104474.45187385]\n",
      "[104474.45187385]\n",
      "[104474.45187385]\n",
      "[104474.45187385]\n",
      "[104474.45187385]\n",
      "[104474.45187385]\n",
      "[104474.45187385]\n",
      "[104474.45187385]\n",
      "[104474.45187385]\n"
     ]
    },
    {
     "name": "stderr",
     "output_type": "stream",
     "text": [
      "127.0.0.1 - - [13/Apr/2024 16:59:43] \"POST /get_pre/?age=21&balance=18508&loan=5165&score=580 HTTP/1.1\" 200 -\n",
      "127.0.0.1 - - [13/Apr/2024 16:59:43] \"POST /get_pre/?age=21&balance=18508&loan=5165&score=580 HTTP/1.1\" 200 -\n",
      "127.0.0.1 - - [13/Apr/2024 16:59:43] \"POST /get_pre/?age=21&balance=18508&loan=5165&score=580 HTTP/1.1\" 200 -\n",
      "127.0.0.1 - - [13/Apr/2024 16:59:43] \"POST /get_pre/?age=21&balance=18508&loan=5165&score=580 HTTP/1.1\" 200 -\n",
      "127.0.0.1 - - [13/Apr/2024 16:59:43] \"POST /get_pre/?age=21&balance=18508&loan=5165&score=580 HTTP/1.1\" 200 -\n",
      "127.0.0.1 - - [13/Apr/2024 16:59:43] \"POST /get_pre/?age=21&balance=18508&loan=5165&score=580 HTTP/1.1\" 200 -\n",
      "127.0.0.1 - - [13/Apr/2024 16:59:43] \"POST /get_pre/?age=21&balance=18508&loan=5165&score=580 HTTP/1.1\" 200 -\n",
      "127.0.0.1 - - [13/Apr/2024 16:59:43] \"POST /get_pre/?age=21&balance=18508&loan=5165&score=580 HTTP/1.1\" 200 -\n",
      "127.0.0.1 - - [13/Apr/2024 16:59:43] \"POST /get_pre/?age=21&balance=18508&loan=5165&score=580 HTTP/1.1\" 200 -\n",
      "127.0.0.1 - - [13/Apr/2024 16:59:43] \"POST /get_pre/?age=21&balance=18508&loan=5165&score=580 HTTP/1.1\" 200 -\n"
     ]
    },
    {
     "name": "stdout",
     "output_type": "stream",
     "text": [
      "[104474.45187385]\n",
      "[104474.45187385]\n",
      "[104474.45187385]\n",
      "[104474.45187385]\n",
      "[104474.45187385]\n",
      "[104474.45187385]\n",
      "[104474.45187385]\n",
      "[104474.45187385]\n",
      "[104474.45187385]\n",
      "[104474.45187385]\n"
     ]
    },
    {
     "name": "stderr",
     "output_type": "stream",
     "text": [
      "127.0.0.1 - - [13/Apr/2024 16:59:43] \"POST /get_pre/?age=21&balance=18508&loan=5165&score=580 HTTP/1.1\" 200 -\n",
      "127.0.0.1 - - [13/Apr/2024 16:59:43] \"POST /get_pre/?age=21&balance=18508&loan=5165&score=580 HTTP/1.1\" 200 -\n",
      "127.0.0.1 - - [13/Apr/2024 16:59:43] \"POST /get_pre/?age=21&balance=18508&loan=5165&score=580 HTTP/1.1\" 200 -\n",
      "127.0.0.1 - - [13/Apr/2024 16:59:43] \"POST /get_pre/?age=21&balance=18508&loan=5165&score=580 HTTP/1.1\" 200 -\n",
      "127.0.0.1 - - [13/Apr/2024 16:59:43] \"POST /get_pre/?age=21&balance=18508&loan=5165&score=580 HTTP/1.1\" 200 -\n",
      "127.0.0.1 - - [13/Apr/2024 16:59:43] \"POST /get_pre/?age=21&balance=18508&loan=5165&score=580 HTTP/1.1\" 200 -\n",
      "127.0.0.1 - - [13/Apr/2024 16:59:43] \"POST /get_pre/?age=21&balance=18508&loan=5165&score=580 HTTP/1.1\" 200 -\n",
      "127.0.0.1 - - [13/Apr/2024 16:59:43] \"POST /get_pre/?age=21&balance=18508&loan=5165&score=580 HTTP/1.1\" 200 -\n",
      "127.0.0.1 - - [13/Apr/2024 16:59:43] \"POST /get_pre/?age=21&balance=18508&loan=5165&score=580 HTTP/1.1\" 200 -\n"
     ]
    },
    {
     "name": "stdout",
     "output_type": "stream",
     "text": [
      "[104474.45187385]\n",
      "[104474.45187385]\n",
      "[104474.45187385]\n",
      "[104474.45187385]\n",
      "[104474.45187385]\n",
      "[104474.45187385]\n",
      "[104474.45187385]\n",
      "[104474.45187385]\n",
      "[104474.45187385]\n"
     ]
    },
    {
     "name": "stderr",
     "output_type": "stream",
     "text": [
      "127.0.0.1 - - [13/Apr/2024 16:59:43] \"POST /get_pre/?age=21&balance=18508&loan=5165&score=580 HTTP/1.1\" 200 -\n",
      "127.0.0.1 - - [13/Apr/2024 16:59:43] \"POST /get_pre/?age=21&balance=18508&loan=5165&score=580 HTTP/1.1\" 200 -\n",
      "127.0.0.1 - - [13/Apr/2024 16:59:43] \"POST /get_pre/?age=21&balance=18508&loan=5165&score=580 HTTP/1.1\" 200 -\n",
      "127.0.0.1 - - [13/Apr/2024 16:59:43] \"POST /get_pre/?age=21&balance=18508&loan=5165&score=580 HTTP/1.1\" 200 -\n",
      "127.0.0.1 - - [13/Apr/2024 16:59:43] \"POST /get_pre/?age=21&balance=18508&loan=5165&score=580 HTTP/1.1\" 200 -\n",
      "127.0.0.1 - - [13/Apr/2024 16:59:44] \"POST /get_pre/?age=21&balance=18508&loan=5165&score=580 HTTP/1.1\" 200 -\n",
      "127.0.0.1 - - [13/Apr/2024 16:59:44] \"POST /get_pre/?age=21&balance=18508&loan=5165&score=580 HTTP/1.1\" 200 -\n",
      "127.0.0.1 - - [13/Apr/2024 16:59:44] \"POST /get_pre/?age=21&balance=18508&loan=5165&score=580 HTTP/1.1\" 200 -\n"
     ]
    },
    {
     "name": "stdout",
     "output_type": "stream",
     "text": [
      "[104474.45187385]\n",
      "[104474.45187385]\n",
      "[104474.45187385]\n",
      "[104474.45187385]\n",
      "[104474.45187385]\n",
      "[104474.45187385]\n",
      "[104474.45187385]\n",
      "[104474.45187385]\n"
     ]
    },
    {
     "name": "stderr",
     "output_type": "stream",
     "text": [
      "127.0.0.1 - - [13/Apr/2024 16:59:44] \"POST /get_pre/?age=21&balance=18508&loan=5165&score=580 HTTP/1.1\" 200 -\n",
      "127.0.0.1 - - [13/Apr/2024 16:59:44] \"POST /get_pre/?age=21&balance=18508&loan=5165&score=580 HTTP/1.1\" 200 -\n",
      "127.0.0.1 - - [13/Apr/2024 16:59:44] \"POST /get_pre/?age=21&balance=18508&loan=5165&score=580 HTTP/1.1\" 200 -\n",
      "127.0.0.1 - - [13/Apr/2024 16:59:44] \"POST /get_pre/?age=21&balance=18508&loan=5165&score=580 HTTP/1.1\" 200 -\n",
      "127.0.0.1 - - [13/Apr/2024 16:59:44] \"POST /get_pre/?age=21&balance=18508&loan=5165&score=580 HTTP/1.1\" 200 -\n",
      "127.0.0.1 - - [13/Apr/2024 16:59:44] \"POST /get_pre/?age=21&balance=18508&loan=5165&score=580 HTTP/1.1\" 200 -\n",
      "127.0.0.1 - - [13/Apr/2024 16:59:44] \"POST /get_pre/?age=21&balance=18508&loan=5165&score=580 HTTP/1.1\" 200 -\n",
      "127.0.0.1 - - [13/Apr/2024 16:59:44] \"POST /get_pre/?age=21&balance=18508&loan=5165&score=580 HTTP/1.1\" 200 -\n",
      "127.0.0.1 - - [13/Apr/2024 16:59:44] \"POST /get_pre/?age=21&balance=18508&loan=5165&score=580 HTTP/1.1\" 200 -\n",
      "127.0.0.1 - - [13/Apr/2024 16:59:44] \"POST /get_pre/?age=21&balance=18508&loan=5165&score=580 HTTP/1.1\" 200 -\n"
     ]
    },
    {
     "name": "stdout",
     "output_type": "stream",
     "text": [
      "[104474.45187385]\n",
      "[104474.45187385]\n",
      "[104474.45187385]\n",
      "[104474.45187385]\n",
      "[104474.45187385]\n",
      "[104474.45187385]\n",
      "[104474.45187385]\n",
      "[104474.45187385]\n",
      "[104474.45187385]\n",
      "[104474.45187385]\n"
     ]
    },
    {
     "name": "stderr",
     "output_type": "stream",
     "text": [
      "127.0.0.1 - - [13/Apr/2024 16:59:44] \"POST /get_pre/?age=21&balance=18508&loan=5165&score=580 HTTP/1.1\" 200 -\n",
      "127.0.0.1 - - [13/Apr/2024 16:59:44] \"POST /get_pre/?age=21&balance=18508&loan=5165&score=580 HTTP/1.1\" 200 -\n",
      "127.0.0.1 - - [13/Apr/2024 16:59:44] \"POST /get_pre/?age=21&balance=18508&loan=5165&score=580 HTTP/1.1\" 200 -\n",
      "127.0.0.1 - - [13/Apr/2024 16:59:44] \"POST /get_pre/?age=21&balance=18508&loan=5165&score=580 HTTP/1.1\" 200 -\n",
      "127.0.0.1 - - [13/Apr/2024 16:59:44] \"POST /get_pre/?age=21&balance=18508&loan=5165&score=580 HTTP/1.1\" 200 -\n",
      "127.0.0.1 - - [13/Apr/2024 16:59:44] \"POST /get_pre/?age=21&balance=18508&loan=5165&score=580 HTTP/1.1\" 200 -\n",
      "127.0.0.1 - - [13/Apr/2024 16:59:44] \"POST /get_pre/?age=21&balance=18508&loan=5165&score=580 HTTP/1.1\" 200 -\n",
      "127.0.0.1 - - [13/Apr/2024 16:59:44] \"POST /get_pre/?age=21&balance=18508&loan=5165&score=580 HTTP/1.1\" 200 -\n",
      "127.0.0.1 - - [13/Apr/2024 16:59:44] \"POST /get_pre/?age=21&balance=18508&loan=5165&score=580 HTTP/1.1\" 200 -\n",
      "127.0.0.1 - - [13/Apr/2024 16:59:44] \"POST /get_pre/?age=21&balance=18508&loan=5165&score=580 HTTP/1.1\" 200 -\n"
     ]
    },
    {
     "name": "stdout",
     "output_type": "stream",
     "text": [
      "[104474.45187385]\n",
      "[104474.45187385]\n",
      "[104474.45187385]\n",
      "[104474.45187385]\n",
      "[104474.45187385]\n",
      "[104474.45187385]\n",
      "[104474.45187385]\n",
      "[104474.45187385]\n",
      "[104474.45187385]\n",
      "[104474.45187385]\n"
     ]
    },
    {
     "name": "stderr",
     "output_type": "stream",
     "text": [
      "127.0.0.1 - - [13/Apr/2024 16:59:44] \"POST /get_pre/?age=21&balance=18508&loan=5165&score=580 HTTP/1.1\" 200 -\n",
      "127.0.0.1 - - [13/Apr/2024 16:59:44] \"POST /get_pre/?age=21&balance=18508&loan=5165&score=580 HTTP/1.1\" 200 -\n",
      "127.0.0.1 - - [13/Apr/2024 16:59:44] \"POST /get_pre/?age=21&balance=18508&loan=5165&score=580 HTTP/1.1\" 200 -\n",
      "127.0.0.1 - - [13/Apr/2024 16:59:44] \"POST /get_pre/?age=21&balance=18508&loan=5165&score=580 HTTP/1.1\" 200 -\n",
      "127.0.0.1 - - [13/Apr/2024 16:59:44] \"POST /get_pre/?age=21&balance=18508&loan=5165&score=580 HTTP/1.1\" 200 -\n",
      "127.0.0.1 - - [13/Apr/2024 16:59:44] \"POST /get_pre/?age=21&balance=18508&loan=5165&score=580 HTTP/1.1\" 200 -\n",
      "127.0.0.1 - - [13/Apr/2024 16:59:44] \"POST /get_pre/?age=21&balance=18508&loan=5165&score=580 HTTP/1.1\" 200 -\n",
      "127.0.0.1 - - [13/Apr/2024 16:59:44] \"POST /get_pre/?age=21&balance=18508&loan=5165&score=580 HTTP/1.1\" 200 -\n",
      "127.0.0.1 - - [13/Apr/2024 16:59:44] \"POST /get_pre/?age=21&balance=18508&loan=5165&score=580 HTTP/1.1\" 200 -\n",
      "127.0.0.1 - - [13/Apr/2024 16:59:44] \"POST /get_pre/?age=21&balance=18508&loan=5165&score=580 HTTP/1.1\" 200 -\n"
     ]
    },
    {
     "name": "stdout",
     "output_type": "stream",
     "text": [
      "[104474.45187385]\n",
      "[104474.45187385]\n",
      "[104474.45187385]\n",
      "[104474.45187385]\n",
      "[104474.45187385]\n",
      "[104474.45187385]\n",
      "[104474.45187385]\n",
      "[104474.45187385]\n",
      "[104474.45187385]\n",
      "[104474.45187385]\n"
     ]
    },
    {
     "name": "stderr",
     "output_type": "stream",
     "text": [
      "127.0.0.1 - - [13/Apr/2024 16:59:44] \"POST /get_pre/?age=21&balance=18508&loan=5165&score=580 HTTP/1.1\" 200 -\n",
      "127.0.0.1 - - [13/Apr/2024 16:59:44] \"POST /get_pre/?age=21&balance=18508&loan=5165&score=580 HTTP/1.1\" 200 -\n",
      "127.0.0.1 - - [13/Apr/2024 16:59:44] \"POST /get_pre/?age=21&balance=18508&loan=5165&score=580 HTTP/1.1\" 200 -\n",
      "127.0.0.1 - - [13/Apr/2024 16:59:44] \"POST /get_pre/?age=21&balance=18508&loan=5165&score=580 HTTP/1.1\" 200 -\n",
      "127.0.0.1 - - [13/Apr/2024 16:59:44] \"POST /get_pre/?age=21&balance=18508&loan=5165&score=580 HTTP/1.1\" 200 -\n",
      "127.0.0.1 - - [13/Apr/2024 16:59:44] \"POST /get_pre/?age=21&balance=18508&loan=5165&score=580 HTTP/1.1\" 200 -\n",
      "127.0.0.1 - - [13/Apr/2024 16:59:44] \"POST /get_pre/?age=21&balance=18508&loan=5165&score=580 HTTP/1.1\" 200 -\n",
      "127.0.0.1 - - [13/Apr/2024 16:59:44] \"POST /get_pre/?age=21&balance=18508&loan=5165&score=580 HTTP/1.1\" 200 -\n",
      "127.0.0.1 - - [13/Apr/2024 16:59:44] \"POST /get_pre/?age=21&balance=18508&loan=5165&score=580 HTTP/1.1\" 200 -\n"
     ]
    },
    {
     "name": "stdout",
     "output_type": "stream",
     "text": [
      "[104474.45187385]\n",
      "[104474.45187385]\n",
      "[104474.45187385]\n",
      "[104474.45187385]\n",
      "[104474.45187385]\n",
      "[104474.45187385]\n",
      "[104474.45187385]\n",
      "[104474.45187385]\n",
      "[104474.45187385]\n"
     ]
    },
    {
     "name": "stderr",
     "output_type": "stream",
     "text": [
      "127.0.0.1 - - [13/Apr/2024 16:59:44] \"POST /get_pre/?age=21&balance=18508&loan=5165&score=580 HTTP/1.1\" 200 -\n",
      "127.0.0.1 - - [13/Apr/2024 16:59:44] \"POST /get_pre/?age=21&balance=18508&loan=5165&score=580 HTTP/1.1\" 200 -\n",
      "127.0.0.1 - - [13/Apr/2024 16:59:44] \"POST /get_pre/?age=21&balance=18508&loan=5165&score=580 HTTP/1.1\" 200 -\n",
      "127.0.0.1 - - [13/Apr/2024 16:59:44] \"POST /get_pre/?age=21&balance=18508&loan=5165&score=580 HTTP/1.1\" 200 -\n",
      "127.0.0.1 - - [13/Apr/2024 16:59:45] \"POST /get_pre/?age=21&balance=18508&loan=5165&score=580 HTTP/1.1\" 200 -\n",
      "127.0.0.1 - - [13/Apr/2024 16:59:45] \"POST /get_pre/?age=21&balance=18508&loan=5165&score=580 HTTP/1.1\" 200 -\n",
      "127.0.0.1 - - [13/Apr/2024 16:59:45] \"POST /get_pre/?age=21&balance=18508&loan=5165&score=580 HTTP/1.1\" 200 -\n",
      "127.0.0.1 - - [13/Apr/2024 16:59:45] \"POST /get_pre/?age=21&balance=18508&loan=5165&score=580 HTTP/1.1\" 200 -\n",
      "127.0.0.1 - - [13/Apr/2024 16:59:45] \"POST /get_pre/?age=21&balance=18508&loan=5165&score=580 HTTP/1.1\" 200 -\n",
      "127.0.0.1 - - [13/Apr/2024 16:59:45] \"POST /get_pre/?age=21&balance=18508&loan=5165&score=580 HTTP/1.1\" 200 -\n"
     ]
    },
    {
     "name": "stdout",
     "output_type": "stream",
     "text": [
      "[104474.45187385]\n",
      "[104474.45187385]\n",
      "[104474.45187385]\n",
      "[104474.45187385]\n",
      "[104474.45187385]\n",
      "[104474.45187385]\n",
      "[104474.45187385]\n",
      "[104474.45187385]\n",
      "[104474.45187385]\n",
      "[104474.45187385]\n"
     ]
    },
    {
     "name": "stderr",
     "output_type": "stream",
     "text": [
      "127.0.0.1 - - [13/Apr/2024 16:59:45] \"POST /get_pre/?age=21&balance=18508&loan=5165&score=580 HTTP/1.1\" 200 -\n",
      "127.0.0.1 - - [13/Apr/2024 16:59:45] \"POST /get_pre/?age=21&balance=18508&loan=5165&score=580 HTTP/1.1\" 200 -\n",
      "127.0.0.1 - - [13/Apr/2024 16:59:45] \"POST /get_pre/?age=21&balance=18508&loan=5165&score=580 HTTP/1.1\" 200 -\n",
      "127.0.0.1 - - [13/Apr/2024 16:59:45] \"POST /get_pre/?age=21&balance=18508&loan=5165&score=580 HTTP/1.1\" 200 -\n",
      "127.0.0.1 - - [13/Apr/2024 16:59:45] \"POST /get_pre/?age=21&balance=18508&loan=5165&score=580 HTTP/1.1\" 200 -\n",
      "127.0.0.1 - - [13/Apr/2024 16:59:45] \"POST /get_pre/?age=21&balance=18508&loan=5165&score=580 HTTP/1.1\" 200 -\n",
      "127.0.0.1 - - [13/Apr/2024 16:59:45] \"POST /get_pre/?age=21&balance=18508&loan=5165&score=580 HTTP/1.1\" 200 -\n",
      "127.0.0.1 - - [13/Apr/2024 16:59:45] \"POST /get_pre/?age=21&balance=18508&loan=5165&score=580 HTTP/1.1\" 200 -\n",
      "127.0.0.1 - - [13/Apr/2024 16:59:45] \"POST /get_pre/?age=21&balance=18508&loan=5165&score=580 HTTP/1.1\" 200 -\n",
      "127.0.0.1 - - [13/Apr/2024 16:59:45] \"POST /get_pre/?age=21&balance=18508&loan=5165&score=580 HTTP/1.1\" 200 -\n"
     ]
    },
    {
     "name": "stdout",
     "output_type": "stream",
     "text": [
      "[104474.45187385]\n",
      "[104474.45187385]\n",
      "[104474.45187385]\n",
      "[104474.45187385]\n",
      "[104474.45187385]\n",
      "[104474.45187385]\n",
      "[104474.45187385]\n",
      "[104474.45187385]\n",
      "[104474.45187385]\n",
      "[104474.45187385]\n"
     ]
    },
    {
     "name": "stderr",
     "output_type": "stream",
     "text": [
      "127.0.0.1 - - [13/Apr/2024 16:59:45] \"POST /get_pre/?age=21&balance=18508&loan=5165&score=580 HTTP/1.1\" 200 -\n",
      "127.0.0.1 - - [13/Apr/2024 16:59:45] \"POST /get_pre/?age=21&balance=18508&loan=5165&score=580 HTTP/1.1\" 200 -\n",
      "127.0.0.1 - - [13/Apr/2024 16:59:45] \"POST /get_pre/?age=21&balance=18508&loan=5165&score=580 HTTP/1.1\" 200 -\n",
      "127.0.0.1 - - [13/Apr/2024 16:59:45] \"POST /get_pre/?age=21&balance=18508&loan=5165&score=580 HTTP/1.1\" 200 -\n",
      "127.0.0.1 - - [13/Apr/2024 16:59:45] \"POST /get_pre/?age=21&balance=18508&loan=5165&score=580 HTTP/1.1\" 200 -\n",
      "127.0.0.1 - - [13/Apr/2024 16:59:45] \"POST /get_pre/?age=21&balance=18508&loan=5165&score=580 HTTP/1.1\" 200 -\n",
      "127.0.0.1 - - [13/Apr/2024 16:59:45] \"POST /get_pre/?age=21&balance=18508&loan=5165&score=580 HTTP/1.1\" 200 -\n",
      "127.0.0.1 - - [13/Apr/2024 16:59:45] \"POST /get_pre/?age=21&balance=18508&loan=5165&score=580 HTTP/1.1\" 200 -\n",
      "127.0.0.1 - - [13/Apr/2024 16:59:45] \"POST /get_pre/?age=21&balance=18508&loan=5165&score=580 HTTP/1.1\" 200 -\n",
      "127.0.0.1 - - [13/Apr/2024 16:59:45] \"POST /get_pre/?age=21&balance=18508&loan=5165&score=580 HTTP/1.1\" 200 -\n"
     ]
    },
    {
     "name": "stdout",
     "output_type": "stream",
     "text": [
      "[104474.45187385]\n",
      "[104474.45187385]\n",
      "[104474.45187385]\n",
      "[104474.45187385]\n",
      "[104474.45187385]\n",
      "[104474.45187385]\n",
      "[104474.45187385]\n",
      "[104474.45187385]\n",
      "[104474.45187385]\n",
      "[104474.45187385]\n"
     ]
    },
    {
     "name": "stderr",
     "output_type": "stream",
     "text": [
      "127.0.0.1 - - [13/Apr/2024 16:59:45] \"POST /get_pre/?age=21&balance=18508&loan=5165&score=580 HTTP/1.1\" 200 -\n",
      "127.0.0.1 - - [13/Apr/2024 16:59:45] \"POST /get_pre/?age=21&balance=18508&loan=5165&score=580 HTTP/1.1\" 200 -\n",
      "127.0.0.1 - - [13/Apr/2024 16:59:45] \"POST /get_pre/?age=21&balance=18508&loan=5165&score=580 HTTP/1.1\" 200 -\n",
      "127.0.0.1 - - [13/Apr/2024 16:59:45] \"POST /get_pre/?age=21&balance=18508&loan=5165&score=580 HTTP/1.1\" 200 -\n",
      "127.0.0.1 - - [13/Apr/2024 16:59:45] \"POST /get_pre/?age=21&balance=18508&loan=5165&score=580 HTTP/1.1\" 200 -\n",
      "127.0.0.1 - - [13/Apr/2024 16:59:45] \"POST /get_pre/?age=21&balance=18508&loan=5165&score=580 HTTP/1.1\" 200 -\n",
      "127.0.0.1 - - [13/Apr/2024 16:59:45] \"POST /get_pre/?age=21&balance=18508&loan=5165&score=580 HTTP/1.1\" 200 -\n",
      "127.0.0.1 - - [13/Apr/2024 16:59:45] \"POST /get_pre/?age=21&balance=18508&loan=5165&score=580 HTTP/1.1\" 200 -\n",
      "127.0.0.1 - - [13/Apr/2024 16:59:45] \"POST /get_pre/?age=21&balance=18508&loan=5165&score=580 HTTP/1.1\" 200 -\n"
     ]
    },
    {
     "name": "stdout",
     "output_type": "stream",
     "text": [
      "[104474.45187385]\n",
      "[104474.45187385]\n",
      "[104474.45187385]\n",
      "[104474.45187385]\n",
      "[104474.45187385]\n",
      "[104474.45187385]\n",
      "[104474.45187385]\n",
      "[104474.45187385]\n",
      "[104474.45187385]\n",
      "[104474.45187385]\n"
     ]
    },
    {
     "name": "stderr",
     "output_type": "stream",
     "text": [
      "127.0.0.1 - - [13/Apr/2024 16:59:45] \"POST /get_pre/?age=21&balance=18508&loan=5165&score=580 HTTP/1.1\" 200 -\n",
      "127.0.0.1 - - [13/Apr/2024 16:59:45] \"POST /get_pre/?age=21&balance=18508&loan=5165&score=580 HTTP/1.1\" 200 -\n",
      "127.0.0.1 - - [13/Apr/2024 16:59:45] \"POST /get_pre/?age=21&balance=18508&loan=5165&score=580 HTTP/1.1\" 200 -\n",
      "127.0.0.1 - - [13/Apr/2024 16:59:45] \"POST /get_pre/?age=21&balance=18508&loan=5165&score=580 HTTP/1.1\" 200 -\n",
      "127.0.0.1 - - [13/Apr/2024 16:59:45] \"POST /get_pre/?age=21&balance=18508&loan=5165&score=580 HTTP/1.1\" 200 -\n",
      "127.0.0.1 - - [13/Apr/2024 16:59:45] \"POST /get_pre/?age=21&balance=18508&loan=5165&score=580 HTTP/1.1\" 200 -\n",
      "127.0.0.1 - - [13/Apr/2024 16:59:46] \"POST /get_pre/?age=21&balance=18508&loan=5165&score=580 HTTP/1.1\" 200 -\n"
     ]
    },
    {
     "name": "stdout",
     "output_type": "stream",
     "text": [
      "[104474.45187385]\n",
      "[104474.45187385]\n",
      "[104474.45187385]\n",
      "[104474.45187385]\n",
      "[104474.45187385]\n",
      "[104474.45187385]\n"
     ]
    },
    {
     "name": "stderr",
     "output_type": "stream",
     "text": [
      "127.0.0.1 - - [13/Apr/2024 16:59:46] \"POST /get_pre/?age=21&balance=18508&loan=5165&score=580 HTTP/1.1\" 200 -\n",
      "127.0.0.1 - - [13/Apr/2024 16:59:46] \"POST /get_pre/?age=21&balance=18508&loan=5165&score=580 HTTP/1.1\" 200 -\n",
      "127.0.0.1 - - [13/Apr/2024 16:59:46] \"POST /get_pre/?age=21&balance=18508&loan=5165&score=580 HTTP/1.1\" 200 -\n",
      "127.0.0.1 - - [13/Apr/2024 16:59:46] \"POST /get_pre/?age=21&balance=18508&loan=5165&score=580 HTTP/1.1\" 200 -\n",
      "127.0.0.1 - - [13/Apr/2024 16:59:46] \"POST /get_pre/?age=21&balance=18508&loan=5165&score=580 HTTP/1.1\" 200 -\n",
      "127.0.0.1 - - [13/Apr/2024 16:59:46] \"POST /get_pre/?age=21&balance=18508&loan=5165&score=580 HTTP/1.1\" 200 -\n",
      "127.0.0.1 - - [13/Apr/2024 16:59:46] \"POST /get_pre/?age=21&balance=18508&loan=5165&score=580 HTTP/1.1\" 200 -\n",
      "127.0.0.1 - - [13/Apr/2024 16:59:46] \"POST /get_pre/?age=21&balance=18508&loan=5165&score=580 HTTP/1.1\" 200 -\n",
      "127.0.0.1 - - [13/Apr/2024 16:59:46] \"POST /get_pre/?age=21&balance=18508&loan=5165&score=580 HTTP/1.1\" 200 -\n",
      "127.0.0.1 - - [13/Apr/2024 16:59:46] \"POST /get_pre/?age=21&balance=18508&loan=5165&score=580 HTTP/1.1\" 200 -\n"
     ]
    },
    {
     "name": "stdout",
     "output_type": "stream",
     "text": [
      "[104474.45187385]\n",
      "[104474.45187385]\n",
      "[104474.45187385]\n",
      "[104474.45187385]\n",
      "[104474.45187385]\n",
      "[104474.45187385]\n",
      "[104474.45187385]\n",
      "[104474.45187385]\n",
      "[104474.45187385]\n",
      "[104474.45187385]\n"
     ]
    },
    {
     "name": "stderr",
     "output_type": "stream",
     "text": [
      "127.0.0.1 - - [13/Apr/2024 16:59:46] \"POST /get_pre/?age=21&balance=18508&loan=5165&score=580 HTTP/1.1\" 200 -\n",
      "127.0.0.1 - - [13/Apr/2024 16:59:46] \"POST /get_pre/?age=21&balance=18508&loan=5165&score=580 HTTP/1.1\" 200 -\n",
      "127.0.0.1 - - [13/Apr/2024 16:59:46] \"POST /get_pre/?age=21&balance=18508&loan=5165&score=580 HTTP/1.1\" 200 -\n",
      "127.0.0.1 - - [13/Apr/2024 16:59:46] \"POST /get_pre/?age=21&balance=18508&loan=5165&score=580 HTTP/1.1\" 200 -\n",
      "127.0.0.1 - - [13/Apr/2024 16:59:46] \"POST /get_pre/?age=21&balance=18508&loan=5165&score=580 HTTP/1.1\" 200 -\n",
      "127.0.0.1 - - [13/Apr/2024 16:59:46] \"POST /get_pre/?age=21&balance=18508&loan=5165&score=580 HTTP/1.1\" 200 -\n",
      "127.0.0.1 - - [13/Apr/2024 16:59:46] \"POST /get_pre/?age=21&balance=18508&loan=5165&score=580 HTTP/1.1\" 200 -\n",
      "127.0.0.1 - - [13/Apr/2024 16:59:46] \"POST /get_pre/?age=21&balance=18508&loan=5165&score=580 HTTP/1.1\" 200 -\n"
     ]
    },
    {
     "name": "stdout",
     "output_type": "stream",
     "text": [
      "[104474.45187385]\n",
      "[104474.45187385]\n",
      "[104474.45187385]\n",
      "[104474.45187385]\n",
      "[104474.45187385]\n",
      "[104474.45187385]\n",
      "[104474.45187385]\n",
      "[104474.45187385]\n"
     ]
    },
    {
     "name": "stderr",
     "output_type": "stream",
     "text": [
      "127.0.0.1 - - [13/Apr/2024 16:59:46] \"POST /get_pre/?age=21&balance=18508&loan=5165&score=580 HTTP/1.1\" 200 -\n",
      "127.0.0.1 - - [13/Apr/2024 16:59:46] \"POST /get_pre/?age=21&balance=18508&loan=5165&score=580 HTTP/1.1\" 200 -\n",
      "127.0.0.1 - - [13/Apr/2024 16:59:46] \"POST /get_pre/?age=21&balance=18508&loan=5165&score=580 HTTP/1.1\" 200 -\n",
      "127.0.0.1 - - [13/Apr/2024 16:59:46] \"POST /get_pre/?age=21&balance=18508&loan=5165&score=580 HTTP/1.1\" 200 -\n",
      "127.0.0.1 - - [13/Apr/2024 16:59:46] \"POST /get_pre/?age=21&balance=18508&loan=5165&score=580 HTTP/1.1\" 200 -\n",
      "127.0.0.1 - - [13/Apr/2024 16:59:46] \"POST /get_pre/?age=21&balance=18508&loan=5165&score=580 HTTP/1.1\" 200 -\n",
      "127.0.0.1 - - [13/Apr/2024 16:59:46] \"POST /get_pre/?age=21&balance=18508&loan=5165&score=580 HTTP/1.1\" 200 -\n",
      "127.0.0.1 - - [13/Apr/2024 16:59:46] \"POST /get_pre/?age=21&balance=18508&loan=5165&score=580 HTTP/1.1\" 200 -\n",
      "127.0.0.1 - - [13/Apr/2024 16:59:46] \"POST /get_pre/?age=21&balance=18508&loan=5165&score=580 HTTP/1.1\" 200 -\n"
     ]
    },
    {
     "name": "stdout",
     "output_type": "stream",
     "text": [
      "[104474.45187385]\n",
      "[104474.45187385]\n",
      "[104474.45187385]\n",
      "[104474.45187385]\n",
      "[104474.45187385]\n",
      "[104474.45187385]\n",
      "[104474.45187385]\n",
      "[104474.45187385]\n",
      "[104474.45187385]\n"
     ]
    },
    {
     "name": "stderr",
     "output_type": "stream",
     "text": [
      "127.0.0.1 - - [13/Apr/2024 16:59:46] \"POST /get_pre/?age=21&balance=18508&loan=5165&score=580 HTTP/1.1\" 200 -\n",
      "127.0.0.1 - - [13/Apr/2024 16:59:46] \"POST /get_pre/?age=21&balance=18508&loan=5165&score=580 HTTP/1.1\" 200 -\n",
      "127.0.0.1 - - [13/Apr/2024 16:59:46] \"POST /get_pre/?age=21&balance=18508&loan=5165&score=580 HTTP/1.1\" 200 -\n",
      "127.0.0.1 - - [13/Apr/2024 16:59:46] \"POST /get_pre/?age=21&balance=18508&loan=5165&score=580 HTTP/1.1\" 200 -\n",
      "127.0.0.1 - - [13/Apr/2024 16:59:46] \"POST /get_pre/?age=21&balance=18508&loan=5165&score=580 HTTP/1.1\" 200 -\n",
      "127.0.0.1 - - [13/Apr/2024 16:59:46] \"POST /get_pre/?age=21&balance=18508&loan=5165&score=580 HTTP/1.1\" 200 -\n",
      "127.0.0.1 - - [13/Apr/2024 16:59:46] \"POST /get_pre/?age=21&balance=18508&loan=5165&score=580 HTTP/1.1\" 200 -\n",
      "127.0.0.1 - - [13/Apr/2024 16:59:46] \"POST /get_pre/?age=21&balance=18508&loan=5165&score=580 HTTP/1.1\" 200 -\n",
      "127.0.0.1 - - [13/Apr/2024 16:59:46] \"POST /get_pre/?age=21&balance=18508&loan=5165&score=580 HTTP/1.1\" 200 -\n",
      "127.0.0.1 - - [13/Apr/2024 16:59:46] \"POST /get_pre/?age=21&balance=18508&loan=5165&score=580 HTTP/1.1\" 200 -\n"
     ]
    },
    {
     "name": "stdout",
     "output_type": "stream",
     "text": [
      "[104474.45187385]\n",
      "[104474.45187385]\n",
      "[104474.45187385]\n",
      "[104474.45187385]\n",
      "[104474.45187385]\n",
      "[104474.45187385]\n",
      "[104474.45187385]\n",
      "[104474.45187385]\n",
      "[104474.45187385]\n",
      "[104474.45187385]\n"
     ]
    },
    {
     "name": "stderr",
     "output_type": "stream",
     "text": [
      "127.0.0.1 - - [13/Apr/2024 16:59:46] \"POST /get_pre/?age=21&balance=18508&loan=5165&score=580 HTTP/1.1\" 200 -\n",
      "127.0.0.1 - - [13/Apr/2024 16:59:46] \"POST /get_pre/?age=21&balance=18508&loan=5165&score=580 HTTP/1.1\" 200 -\n",
      "127.0.0.1 - - [13/Apr/2024 16:59:46] \"POST /get_pre/?age=21&balance=18508&loan=5165&score=580 HTTP/1.1\" 200 -\n",
      "127.0.0.1 - - [13/Apr/2024 16:59:46] \"POST /get_pre/?age=21&balance=18508&loan=5165&score=580 HTTP/1.1\" 200 -\n",
      "127.0.0.1 - - [13/Apr/2024 16:59:46] \"POST /get_pre/?age=21&balance=18508&loan=5165&score=580 HTTP/1.1\" 200 -\n",
      "127.0.0.1 - - [13/Apr/2024 16:59:47] \"POST /get_pre/?age=21&balance=18508&loan=5165&score=580 HTTP/1.1\" 200 -\n",
      "127.0.0.1 - - [13/Apr/2024 16:59:47] \"POST /get_pre/?age=21&balance=18508&loan=5165&score=580 HTTP/1.1\" 200 -\n",
      "127.0.0.1 - - [13/Apr/2024 16:59:47] \"POST /get_pre/?age=21&balance=18508&loan=5165&score=580 HTTP/1.1\" 200 -\n",
      "127.0.0.1 - - [13/Apr/2024 16:59:47] \"POST /get_pre/?age=21&balance=18508&loan=5165&score=580 HTTP/1.1\" 200 -\n",
      "127.0.0.1 - - [13/Apr/2024 16:59:47] \"POST /get_pre/?age=21&balance=18508&loan=5165&score=580 HTTP/1.1\" 200 -\n"
     ]
    },
    {
     "name": "stdout",
     "output_type": "stream",
     "text": [
      "[104474.45187385]\n",
      "[104474.45187385]\n",
      "[104474.45187385]\n",
      "[104474.45187385]\n",
      "[104474.45187385]\n",
      "[104474.45187385]\n",
      "[104474.45187385]\n",
      "[104474.45187385]\n",
      "[104474.45187385]\n",
      "[104474.45187385]\n"
     ]
    },
    {
     "name": "stderr",
     "output_type": "stream",
     "text": [
      "127.0.0.1 - - [13/Apr/2024 16:59:47] \"POST /get_pre/?age=21&balance=18508&loan=5165&score=580 HTTP/1.1\" 200 -\n",
      "127.0.0.1 - - [13/Apr/2024 16:59:47] \"POST /get_pre/?age=21&balance=18508&loan=5165&score=580 HTTP/1.1\" 200 -\n",
      "127.0.0.1 - - [13/Apr/2024 16:59:47] \"POST /get_pre/?age=21&balance=18508&loan=5165&score=580 HTTP/1.1\" 200 -\n",
      "127.0.0.1 - - [13/Apr/2024 16:59:47] \"POST /get_pre/?age=21&balance=18508&loan=5165&score=580 HTTP/1.1\" 200 -\n",
      "127.0.0.1 - - [13/Apr/2024 16:59:47] \"POST /get_pre/?age=21&balance=18508&loan=5165&score=580 HTTP/1.1\" 200 -\n",
      "127.0.0.1 - - [13/Apr/2024 16:59:47] \"POST /get_pre/?age=21&balance=18508&loan=5165&score=580 HTTP/1.1\" 200 -\n",
      "127.0.0.1 - - [13/Apr/2024 16:59:47] \"POST /get_pre/?age=21&balance=18508&loan=5165&score=580 HTTP/1.1\" 200 -\n",
      "127.0.0.1 - - [13/Apr/2024 16:59:47] \"POST /get_pre/?age=21&balance=18508&loan=5165&score=580 HTTP/1.1\" 200 -\n",
      "127.0.0.1 - - [13/Apr/2024 16:59:47] \"POST /get_pre/?age=21&balance=18508&loan=5165&score=580 HTTP/1.1\" 200 -\n",
      "127.0.0.1 - - [13/Apr/2024 16:59:47] \"POST /get_pre/?age=21&balance=18508&loan=5165&score=580 HTTP/1.1\" 200 -\n"
     ]
    },
    {
     "name": "stdout",
     "output_type": "stream",
     "text": [
      "[104474.45187385]\n",
      "[104474.45187385]\n",
      "[104474.45187385]\n",
      "[104474.45187385]\n",
      "[104474.45187385]\n",
      "[104474.45187385]\n",
      "[104474.45187385]\n",
      "[104474.45187385]\n",
      "[104474.45187385]\n",
      "[104474.45187385]\n"
     ]
    },
    {
     "name": "stderr",
     "output_type": "stream",
     "text": [
      "127.0.0.1 - - [13/Apr/2024 16:59:47] \"POST /get_pre/?age=21&balance=18508&loan=5165&score=580 HTTP/1.1\" 200 -\n",
      "127.0.0.1 - - [13/Apr/2024 16:59:47] \"POST /get_pre/?age=21&balance=18508&loan=5165&score=580 HTTP/1.1\" 200 -\n",
      "127.0.0.1 - - [13/Apr/2024 16:59:47] \"POST /get_pre/?age=21&balance=18508&loan=5165&score=580 HTTP/1.1\" 200 -\n",
      "127.0.0.1 - - [13/Apr/2024 16:59:47] \"POST /get_pre/?age=21&balance=18508&loan=5165&score=580 HTTP/1.1\" 200 -\n",
      "127.0.0.1 - - [13/Apr/2024 16:59:47] \"POST /get_pre/?age=21&balance=18508&loan=5165&score=580 HTTP/1.1\" 200 -\n",
      "127.0.0.1 - - [13/Apr/2024 16:59:47] \"POST /get_pre/?age=21&balance=18508&loan=5165&score=580 HTTP/1.1\" 200 -\n",
      "127.0.0.1 - - [13/Apr/2024 16:59:47] \"POST /get_pre/?age=21&balance=18508&loan=5165&score=580 HTTP/1.1\" 200 -\n",
      "127.0.0.1 - - [13/Apr/2024 16:59:47] \"POST /get_pre/?age=21&balance=18508&loan=5165&score=580 HTTP/1.1\" 200 -\n",
      "127.0.0.1 - - [13/Apr/2024 16:59:47] \"POST /get_pre/?age=21&balance=18508&loan=5165&score=580 HTTP/1.1\" 200 -\n"
     ]
    },
    {
     "name": "stdout",
     "output_type": "stream",
     "text": [
      "[104474.45187385]\n",
      "[104474.45187385]\n",
      "[104474.45187385]\n",
      "[104474.45187385]\n",
      "[104474.45187385]\n",
      "[104474.45187385]\n",
      "[104474.45187385]\n",
      "[104474.45187385]\n",
      "[104474.45187385]\n"
     ]
    },
    {
     "name": "stderr",
     "output_type": "stream",
     "text": [
      "127.0.0.1 - - [13/Apr/2024 16:59:47] \"POST /get_pre/?age=21&balance=18508&loan=5165&score=580 HTTP/1.1\" 200 -\n",
      "127.0.0.1 - - [13/Apr/2024 16:59:47] \"POST /get_pre/?age=21&balance=18508&loan=5165&score=580 HTTP/1.1\" 200 -\n",
      "127.0.0.1 - - [13/Apr/2024 16:59:47] \"POST /get_pre/?age=21&balance=18508&loan=5165&score=580 HTTP/1.1\" 200 -\n",
      "127.0.0.1 - - [13/Apr/2024 16:59:47] \"POST /get_pre/?age=21&balance=18508&loan=5165&score=580 HTTP/1.1\" 200 -\n",
      "127.0.0.1 - - [13/Apr/2024 16:59:47] \"POST /get_pre/?age=21&balance=18508&loan=5165&score=580 HTTP/1.1\" 200 -\n",
      "127.0.0.1 - - [13/Apr/2024 16:59:47] \"POST /get_pre/?age=21&balance=18508&loan=5165&score=580 HTTP/1.1\" 200 -\n",
      "127.0.0.1 - - [13/Apr/2024 16:59:47] \"POST /get_pre/?age=21&balance=18508&loan=5165&score=580 HTTP/1.1\" 200 -\n",
      "127.0.0.1 - - [13/Apr/2024 16:59:47] \"POST /get_pre/?age=21&balance=18508&loan=5165&score=580 HTTP/1.1\" 200 -\n",
      "127.0.0.1 - - [13/Apr/2024 16:59:47] \"POST /get_pre/?age=21&balance=18508&loan=5165&score=580 HTTP/1.1\" 200 -\n",
      "127.0.0.1 - - [13/Apr/2024 16:59:47] \"POST /get_pre/?age=21&balance=18508&loan=5165&score=580 HTTP/1.1\" 200 -\n"
     ]
    },
    {
     "name": "stdout",
     "output_type": "stream",
     "text": [
      "[104474.45187385]\n",
      "[104474.45187385]\n",
      "[104474.45187385]\n",
      "[104474.45187385]\n",
      "[104474.45187385]\n",
      "[104474.45187385]\n",
      "[104474.45187385]\n",
      "[104474.45187385]\n",
      "[104474.45187385]\n",
      "[104474.45187385]\n"
     ]
    },
    {
     "name": "stderr",
     "output_type": "stream",
     "text": [
      "127.0.0.1 - - [13/Apr/2024 16:59:47] \"POST /get_pre/?age=21&balance=18508&loan=5165&score=580 HTTP/1.1\" 200 -\n",
      "127.0.0.1 - - [13/Apr/2024 16:59:47] \"POST /get_pre/?age=21&balance=18508&loan=5165&score=580 HTTP/1.1\" 200 -\n",
      "127.0.0.1 - - [13/Apr/2024 16:59:47] \"POST /get_pre/?age=21&balance=18508&loan=5165&score=580 HTTP/1.1\" 200 -\n",
      "127.0.0.1 - - [13/Apr/2024 16:59:47] \"POST /get_pre/?age=21&balance=18508&loan=5165&score=580 HTTP/1.1\" 200 -\n",
      "127.0.0.1 - - [13/Apr/2024 16:59:47] \"POST /get_pre/?age=21&balance=18508&loan=5165&score=580 HTTP/1.1\" 200 -\n",
      "127.0.0.1 - - [13/Apr/2024 16:59:47] \"POST /get_pre/?age=21&balance=18508&loan=5165&score=580 HTTP/1.1\" 200 -\n",
      "127.0.0.1 - - [13/Apr/2024 16:59:47] \"POST /get_pre/?age=21&balance=18508&loan=5165&score=580 HTTP/1.1\" 200 -\n",
      "127.0.0.1 - - [13/Apr/2024 16:59:47] \"POST /get_pre/?age=21&balance=18508&loan=5165&score=580 HTTP/1.1\" 200 -\n",
      "127.0.0.1 - - [13/Apr/2024 16:59:47] \"POST /get_pre/?age=21&balance=18508&loan=5165&score=580 HTTP/1.1\" 200 -\n",
      "127.0.0.1 - - [13/Apr/2024 16:59:47] \"POST /get_pre/?age=21&balance=18508&loan=5165&score=580 HTTP/1.1\" 200 -\n"
     ]
    },
    {
     "name": "stdout",
     "output_type": "stream",
     "text": [
      "[104474.45187385]\n",
      "[104474.45187385]\n",
      "[104474.45187385]\n",
      "[104474.45187385]\n",
      "[104474.45187385]\n",
      "[104474.45187385]\n",
      "[104474.45187385]\n",
      "[104474.45187385]\n",
      "[104474.45187385]\n",
      "[104474.45187385]\n"
     ]
    },
    {
     "name": "stderr",
     "output_type": "stream",
     "text": [
      "127.0.0.1 - - [13/Apr/2024 16:59:47] \"POST /get_pre/?age=21&balance=18508&loan=5165&score=580 HTTP/1.1\" 200 -\n",
      "127.0.0.1 - - [13/Apr/2024 16:59:47] \"POST /get_pre/?age=21&balance=18508&loan=5165&score=580 HTTP/1.1\" 200 -\n",
      "127.0.0.1 - - [13/Apr/2024 16:59:47] \"POST /get_pre/?age=21&balance=18508&loan=5165&score=580 HTTP/1.1\" 200 -\n",
      "127.0.0.1 - - [13/Apr/2024 16:59:48] \"POST /get_pre/?age=21&balance=18508&loan=5165&score=580 HTTP/1.1\" 200 -\n",
      "127.0.0.1 - - [13/Apr/2024 16:59:48] \"POST /get_pre/?age=21&balance=18508&loan=5165&score=580 HTTP/1.1\" 200 -\n",
      "127.0.0.1 - - [13/Apr/2024 16:59:48] \"POST /get_pre/?age=21&balance=18508&loan=5165&score=580 HTTP/1.1\" 200 -\n",
      "127.0.0.1 - - [13/Apr/2024 16:59:48] \"POST /get_pre/?age=21&balance=18508&loan=5165&score=580 HTTP/1.1\" 200 -\n",
      "127.0.0.1 - - [13/Apr/2024 16:59:48] \"POST /get_pre/?age=21&balance=18508&loan=5165&score=580 HTTP/1.1\" 200 -\n",
      "127.0.0.1 - - [13/Apr/2024 16:59:48] \"POST /get_pre/?age=21&balance=18508&loan=5165&score=580 HTTP/1.1\" 200 -\n",
      "127.0.0.1 - - [13/Apr/2024 16:59:48] \"POST /get_pre/?age=21&balance=18508&loan=5165&score=580 HTTP/1.1\" 200 -\n"
     ]
    },
    {
     "name": "stdout",
     "output_type": "stream",
     "text": [
      "[104474.45187385]\n",
      "[104474.45187385]\n",
      "[104474.45187385]\n",
      "[104474.45187385]\n",
      "[104474.45187385]\n",
      "[104474.45187385]\n",
      "[104474.45187385]\n",
      "[104474.45187385]\n",
      "[104474.45187385]\n",
      "[104474.45187385]\n"
     ]
    },
    {
     "name": "stderr",
     "output_type": "stream",
     "text": [
      "127.0.0.1 - - [13/Apr/2024 16:59:48] \"POST /get_pre/?age=21&balance=18508&loan=5165&score=580 HTTP/1.1\" 200 -\n",
      "127.0.0.1 - - [13/Apr/2024 16:59:48] \"POST /get_pre/?age=21&balance=18508&loan=5165&score=580 HTTP/1.1\" 200 -\n",
      "127.0.0.1 - - [13/Apr/2024 16:59:48] \"POST /get_pre/?age=21&balance=18508&loan=5165&score=580 HTTP/1.1\" 200 -\n",
      "127.0.0.1 - - [13/Apr/2024 16:59:48] \"POST /get_pre/?age=21&balance=18508&loan=5165&score=580 HTTP/1.1\" 200 -\n",
      "127.0.0.1 - - [13/Apr/2024 16:59:48] \"POST /get_pre/?age=21&balance=18508&loan=5165&score=580 HTTP/1.1\" 200 -\n",
      "127.0.0.1 - - [13/Apr/2024 16:59:48] \"POST /get_pre/?age=21&balance=18508&loan=5165&score=580 HTTP/1.1\" 200 -\n",
      "127.0.0.1 - - [13/Apr/2024 16:59:48] \"POST /get_pre/?age=21&balance=18508&loan=5165&score=580 HTTP/1.1\" 200 -\n",
      "127.0.0.1 - - [13/Apr/2024 16:59:48] \"POST /get_pre/?age=21&balance=18508&loan=5165&score=580 HTTP/1.1\" 200 -\n",
      "127.0.0.1 - - [13/Apr/2024 16:59:48] \"POST /get_pre/?age=21&balance=18508&loan=5165&score=580 HTTP/1.1\" 200 -\n",
      "127.0.0.1 - - [13/Apr/2024 16:59:48] \"POST /get_pre/?age=21&balance=18508&loan=5165&score=580 HTTP/1.1\" 200 -\n",
      "127.0.0.1 - - [13/Apr/2024 16:59:48] \"POST /get_pre/?age=21&balance=18508&loan=5165&score=580 HTTP/1.1\" 200 -\n"
     ]
    },
    {
     "name": "stdout",
     "output_type": "stream",
     "text": [
      "[104474.45187385]\n",
      "[104474.45187385]\n",
      "[104474.45187385]\n",
      "[104474.45187385]\n",
      "[104474.45187385]\n",
      "[104474.45187385]\n",
      "[104474.45187385]\n",
      "[104474.45187385]\n",
      "[104474.45187385]\n",
      "[104474.45187385]\n",
      "[104474.45187385]\n"
     ]
    },
    {
     "name": "stderr",
     "output_type": "stream",
     "text": [
      "127.0.0.1 - - [13/Apr/2024 16:59:48] \"POST /get_pre/?age=21&balance=18508&loan=5165&score=580 HTTP/1.1\" 200 -\n",
      "127.0.0.1 - - [13/Apr/2024 16:59:48] \"POST /get_pre/?age=21&balance=18508&loan=5165&score=580 HTTP/1.1\" 200 -\n",
      "127.0.0.1 - - [13/Apr/2024 16:59:48] \"POST /get_pre/?age=21&balance=18508&loan=5165&score=580 HTTP/1.1\" 200 -\n",
      "127.0.0.1 - - [13/Apr/2024 16:59:48] \"POST /get_pre/?age=21&balance=18508&loan=5165&score=580 HTTP/1.1\" 200 -\n",
      "127.0.0.1 - - [13/Apr/2024 16:59:48] \"POST /get_pre/?age=21&balance=18508&loan=5165&score=580 HTTP/1.1\" 200 -\n",
      "127.0.0.1 - - [13/Apr/2024 16:59:48] \"POST /get_pre/?age=21&balance=18508&loan=5165&score=580 HTTP/1.1\" 200 -\n",
      "127.0.0.1 - - [13/Apr/2024 16:59:48] \"POST /get_pre/?age=21&balance=18508&loan=5165&score=580 HTTP/1.1\" 200 -\n",
      "127.0.0.1 - - [13/Apr/2024 16:59:48] \"POST /get_pre/?age=21&balance=18508&loan=5165&score=580 HTTP/1.1\" 200 -\n",
      "127.0.0.1 - - [13/Apr/2024 16:59:48] \"POST /get_pre/?age=21&balance=18508&loan=5165&score=580 HTTP/1.1\" 200 -\n",
      "127.0.0.1 - - [13/Apr/2024 16:59:48] \"POST /get_pre/?age=21&balance=18508&loan=5165&score=580 HTTP/1.1\" 200 -\n"
     ]
    },
    {
     "name": "stdout",
     "output_type": "stream",
     "text": [
      "[104474.45187385]\n",
      "[104474.45187385]\n",
      "[104474.45187385]\n",
      "[104474.45187385]\n",
      "[104474.45187385]\n",
      "[104474.45187385]\n",
      "[104474.45187385]\n",
      "[104474.45187385]\n",
      "[104474.45187385]\n",
      "[104474.45187385]\n"
     ]
    },
    {
     "name": "stderr",
     "output_type": "stream",
     "text": [
      "127.0.0.1 - - [13/Apr/2024 16:59:48] \"POST /get_pre/?age=21&balance=18508&loan=5165&score=580 HTTP/1.1\" 200 -\n",
      "127.0.0.1 - - [13/Apr/2024 16:59:48] \"POST /get_pre/?age=21&balance=18508&loan=5165&score=580 HTTP/1.1\" 200 -\n",
      "127.0.0.1 - - [13/Apr/2024 16:59:48] \"POST /get_pre/?age=21&balance=18508&loan=5165&score=580 HTTP/1.1\" 200 -\n",
      "127.0.0.1 - - [13/Apr/2024 16:59:48] \"POST /get_pre/?age=21&balance=18508&loan=5165&score=580 HTTP/1.1\" 200 -\n",
      "127.0.0.1 - - [13/Apr/2024 16:59:48] \"POST /get_pre/?age=21&balance=18508&loan=5165&score=580 HTTP/1.1\" 200 -\n",
      "127.0.0.1 - - [13/Apr/2024 16:59:48] \"POST /get_pre/?age=21&balance=18508&loan=5165&score=580 HTTP/1.1\" 200 -\n",
      "127.0.0.1 - - [13/Apr/2024 16:59:48] \"POST /get_pre/?age=21&balance=18508&loan=5165&score=580 HTTP/1.1\" 200 -\n",
      "127.0.0.1 - - [13/Apr/2024 16:59:48] \"POST /get_pre/?age=21&balance=18508&loan=5165&score=580 HTTP/1.1\" 200 -\n",
      "127.0.0.1 - - [13/Apr/2024 16:59:48] \"POST /get_pre/?age=21&balance=18508&loan=5165&score=580 HTTP/1.1\" 200 -\n",
      "127.0.0.1 - - [13/Apr/2024 16:59:48] \"POST /get_pre/?age=21&balance=18508&loan=5165&score=580 HTTP/1.1\" 200 -\n"
     ]
    },
    {
     "name": "stdout",
     "output_type": "stream",
     "text": [
      "[104474.45187385]\n",
      "[104474.45187385]\n",
      "[104474.45187385]\n",
      "[104474.45187385]\n",
      "[104474.45187385]\n",
      "[104474.45187385]\n",
      "[104474.45187385]\n",
      "[104474.45187385]\n",
      "[104474.45187385]\n",
      "[104474.45187385]\n"
     ]
    },
    {
     "name": "stderr",
     "output_type": "stream",
     "text": [
      "127.0.0.1 - - [13/Apr/2024 16:59:48] \"POST /get_pre/?age=21&balance=18508&loan=5165&score=580 HTTP/1.1\" 200 -\n",
      "127.0.0.1 - - [13/Apr/2024 16:59:48] \"POST /get_pre/?age=21&balance=18508&loan=5165&score=580 HTTP/1.1\" 200 -\n",
      "127.0.0.1 - - [13/Apr/2024 16:59:48] \"POST /get_pre/?age=21&balance=18508&loan=5165&score=580 HTTP/1.1\" 200 -\n",
      "127.0.0.1 - - [13/Apr/2024 16:59:48] \"POST /get_pre/?age=21&balance=18508&loan=5165&score=580 HTTP/1.1\" 200 -\n",
      "127.0.0.1 - - [13/Apr/2024 16:59:48] \"POST /get_pre/?age=21&balance=18508&loan=5165&score=580 HTTP/1.1\" 200 -\n",
      "127.0.0.1 - - [13/Apr/2024 16:59:48] \"POST /get_pre/?age=21&balance=18508&loan=5165&score=580 HTTP/1.1\" 200 -\n",
      "127.0.0.1 - - [13/Apr/2024 16:59:48] \"POST /get_pre/?age=21&balance=18508&loan=5165&score=580 HTTP/1.1\" 200 -\n",
      "127.0.0.1 - - [13/Apr/2024 16:59:48] \"POST /get_pre/?age=21&balance=18508&loan=5165&score=580 HTTP/1.1\" 200 -\n",
      "127.0.0.1 - - [13/Apr/2024 16:59:48] \"POST /get_pre/?age=21&balance=18508&loan=5165&score=580 HTTP/1.1\" 200 -\n"
     ]
    },
    {
     "name": "stdout",
     "output_type": "stream",
     "text": [
      "[104474.45187385]\n",
      "[104474.45187385]\n",
      "[104474.45187385]\n",
      "[104474.45187385]\n",
      "[104474.45187385]\n",
      "[104474.45187385]\n",
      "[104474.45187385]\n",
      "[104474.45187385]\n",
      "[104474.45187385]\n"
     ]
    },
    {
     "name": "stderr",
     "output_type": "stream",
     "text": [
      "127.0.0.1 - - [13/Apr/2024 16:59:49] \"POST /get_pre/?age=21&balance=18508&loan=5165&score=580 HTTP/1.1\" 200 -\n",
      "127.0.0.1 - - [13/Apr/2024 16:59:49] \"POST /get_pre/?age=21&balance=18508&loan=5165&score=580 HTTP/1.1\" 200 -\n",
      "127.0.0.1 - - [13/Apr/2024 16:59:49] \"POST /get_pre/?age=21&balance=18508&loan=5165&score=580 HTTP/1.1\" 200 -\n",
      "127.0.0.1 - - [13/Apr/2024 16:59:49] \"POST /get_pre/?age=21&balance=18508&loan=5165&score=580 HTTP/1.1\" 200 -\n",
      "127.0.0.1 - - [13/Apr/2024 16:59:49] \"POST /get_pre/?age=21&balance=18508&loan=5165&score=580 HTTP/1.1\" 200 -\n",
      "127.0.0.1 - - [13/Apr/2024 16:59:49] \"POST /get_pre/?age=21&balance=18508&loan=5165&score=580 HTTP/1.1\" 200 -\n",
      "127.0.0.1 - - [13/Apr/2024 16:59:49] \"POST /get_pre/?age=21&balance=18508&loan=5165&score=580 HTTP/1.1\" 200 -\n",
      "127.0.0.1 - - [13/Apr/2024 16:59:49] \"POST /get_pre/?age=21&balance=18508&loan=5165&score=580 HTTP/1.1\" 200 -\n",
      "127.0.0.1 - - [13/Apr/2024 16:59:49] \"POST /get_pre/?age=21&balance=18508&loan=5165&score=580 HTTP/1.1\" 200 -\n"
     ]
    },
    {
     "name": "stdout",
     "output_type": "stream",
     "text": [
      "[104474.45187385]\n",
      "[104474.45187385]\n",
      "[104474.45187385]\n",
      "[104474.45187385]\n",
      "[104474.45187385]\n",
      "[104474.45187385]\n",
      "[104474.45187385]\n",
      "[104474.45187385]\n",
      "[104474.45187385]\n"
     ]
    },
    {
     "name": "stderr",
     "output_type": "stream",
     "text": [
      "127.0.0.1 - - [13/Apr/2024 16:59:49] \"POST /get_pre/?age=21&balance=18508&loan=5165&score=580 HTTP/1.1\" 200 -\n",
      "127.0.0.1 - - [13/Apr/2024 16:59:49] \"POST /get_pre/?age=21&balance=18508&loan=5165&score=580 HTTP/1.1\" 200 -\n",
      "127.0.0.1 - - [13/Apr/2024 16:59:49] \"POST /get_pre/?age=21&balance=18508&loan=5165&score=580 HTTP/1.1\" 200 -\n",
      "127.0.0.1 - - [13/Apr/2024 16:59:49] \"POST /get_pre/?age=21&balance=18508&loan=5165&score=580 HTTP/1.1\" 200 -\n",
      "127.0.0.1 - - [13/Apr/2024 16:59:49] \"POST /get_pre/?age=21&balance=18508&loan=5165&score=580 HTTP/1.1\" 200 -\n",
      "127.0.0.1 - - [13/Apr/2024 16:59:49] \"POST /get_pre/?age=21&balance=18508&loan=5165&score=580 HTTP/1.1\" 200 -\n",
      "127.0.0.1 - - [13/Apr/2024 16:59:49] \"POST /get_pre/?age=21&balance=18508&loan=5165&score=580 HTTP/1.1\" 200 -\n",
      "127.0.0.1 - - [13/Apr/2024 16:59:49] \"POST /get_pre/?age=21&balance=18508&loan=5165&score=580 HTTP/1.1\" 200 -\n",
      "127.0.0.1 - - [13/Apr/2024 16:59:49] \"POST /get_pre/?age=21&balance=18508&loan=5165&score=580 HTTP/1.1\" 200 -\n",
      "127.0.0.1 - - [13/Apr/2024 16:59:49] \"POST /get_pre/?age=21&balance=18508&loan=5165&score=580 HTTP/1.1\" 200 -\n"
     ]
    },
    {
     "name": "stdout",
     "output_type": "stream",
     "text": [
      "[104474.45187385]\n",
      "[104474.45187385]\n",
      "[104474.45187385]\n",
      "[104474.45187385]\n",
      "[104474.45187385]\n",
      "[104474.45187385]\n",
      "[104474.45187385]\n",
      "[104474.45187385]\n",
      "[104474.45187385]\n",
      "[104474.45187385]\n"
     ]
    },
    {
     "name": "stderr",
     "output_type": "stream",
     "text": [
      "127.0.0.1 - - [13/Apr/2024 16:59:49] \"POST /get_pre/?age=21&balance=18508&loan=5165&score=580 HTTP/1.1\" 200 -\n",
      "127.0.0.1 - - [13/Apr/2024 16:59:49] \"POST /get_pre/?age=21&balance=18508&loan=5165&score=580 HTTP/1.1\" 200 -\n",
      "127.0.0.1 - - [13/Apr/2024 16:59:49] \"POST /get_pre/?age=21&balance=18508&loan=5165&score=580 HTTP/1.1\" 200 -\n",
      "127.0.0.1 - - [13/Apr/2024 16:59:49] \"POST /get_pre/?age=21&balance=18508&loan=5165&score=580 HTTP/1.1\" 200 -\n"
     ]
    },
    {
     "name": "stdout",
     "output_type": "stream",
     "text": [
      "[104474.45187385]\n",
      "[104474.45187385]\n",
      "[104474.45187385]\n",
      "[104474.45187385]\n"
     ]
    },
    {
     "name": "stderr",
     "output_type": "stream",
     "text": [
      "127.0.0.1 - - [13/Apr/2024 17:00:18] \"POST /get_pre/?age=21&balance=18508&loan=5165&score=580 HTTP/1.1\" 200 -\n",
      "127.0.0.1 - - [13/Apr/2024 17:00:18] \"POST /get_pre/?age=21&balance=18508&loan=5165&score=580 HTTP/1.1\" 200 -\n",
      "127.0.0.1 - - [13/Apr/2024 17:00:18] \"POST /get_pre/?age=21&balance=18508&loan=5165&score=580 HTTP/1.1\" 200 -\n",
      "127.0.0.1 - - [13/Apr/2024 17:00:18] \"POST /get_pre/?age=21&balance=18508&loan=5165&score=580 HTTP/1.1\" 200 -\n",
      "127.0.0.1 - - [13/Apr/2024 17:00:18] \"POST /get_pre/?age=21&balance=18508&loan=5165&score=580 HTTP/1.1\" 200 -\n",
      "127.0.0.1 - - [13/Apr/2024 17:00:18] \"POST /get_pre/?age=21&balance=18508&loan=5165&score=580 HTTP/1.1\" 200 -\n",
      "127.0.0.1 - - [13/Apr/2024 17:00:18] \"POST /get_pre/?age=21&balance=18508&loan=5165&score=580 HTTP/1.1\" 200 -\n",
      "127.0.0.1 - - [13/Apr/2024 17:00:18] \"POST /get_pre/?age=21&balance=18508&loan=5165&score=580 HTTP/1.1\" 200 -\n"
     ]
    },
    {
     "name": "stdout",
     "output_type": "stream",
     "text": [
      "[104474.45187385]\n",
      "[104474.45187385]\n",
      "[104474.45187385]\n",
      "[104474.45187385]\n",
      "[104474.45187385]\n",
      "[104474.45187385]\n",
      "[104474.45187385]\n",
      "[104474.45187385]\n"
     ]
    },
    {
     "name": "stderr",
     "output_type": "stream",
     "text": [
      "127.0.0.1 - - [13/Apr/2024 17:00:18] \"POST /get_pre/?age=21&balance=18508&loan=5165&score=580 HTTP/1.1\" 200 -\n",
      "127.0.0.1 - - [13/Apr/2024 17:00:18] \"POST /get_pre/?age=21&balance=18508&loan=5165&score=580 HTTP/1.1\" 200 -\n",
      "127.0.0.1 - - [13/Apr/2024 17:00:18] \"POST /get_pre/?age=21&balance=18508&loan=5165&score=580 HTTP/1.1\" 200 -\n",
      "127.0.0.1 - - [13/Apr/2024 17:00:18] \"POST /get_pre/?age=21&balance=18508&loan=5165&score=580 HTTP/1.1\" 200 -\n",
      "127.0.0.1 - - [13/Apr/2024 17:00:18] \"POST /get_pre/?age=21&balance=18508&loan=5165&score=580 HTTP/1.1\" 200 -\n",
      "127.0.0.1 - - [13/Apr/2024 17:00:18] \"POST /get_pre/?age=21&balance=18508&loan=5165&score=580 HTTP/1.1\" 200 -\n",
      "127.0.0.1 - - [13/Apr/2024 17:00:18] \"POST /get_pre/?age=21&balance=18508&loan=5165&score=580 HTTP/1.1\" 200 -\n",
      "127.0.0.1 - - [13/Apr/2024 17:00:18] \"POST /get_pre/?age=21&balance=18508&loan=5165&score=580 HTTP/1.1\" 200 -\n",
      "127.0.0.1 - - [13/Apr/2024 17:00:18] \"POST /get_pre/?age=21&balance=18508&loan=5165&score=580 HTTP/1.1\" 200 -\n",
      "127.0.0.1 - - [13/Apr/2024 17:00:18] \"POST /get_pre/?age=21&balance=18508&loan=5165&score=580 HTTP/1.1\" 200 -\n"
     ]
    },
    {
     "name": "stdout",
     "output_type": "stream",
     "text": [
      "[104474.45187385]\n",
      "[104474.45187385]\n",
      "[104474.45187385]\n",
      "[104474.45187385]\n",
      "[104474.45187385]\n",
      "[104474.45187385]\n",
      "[104474.45187385]\n",
      "[104474.45187385]\n",
      "[104474.45187385]\n",
      "[104474.45187385]\n"
     ]
    },
    {
     "name": "stderr",
     "output_type": "stream",
     "text": [
      "127.0.0.1 - - [13/Apr/2024 17:00:18] \"POST /get_pre/?age=21&balance=18508&loan=5165&score=580 HTTP/1.1\" 200 -\n",
      "127.0.0.1 - - [13/Apr/2024 17:00:18] \"POST /get_pre/?age=21&balance=18508&loan=5165&score=580 HTTP/1.1\" 200 -\n",
      "127.0.0.1 - - [13/Apr/2024 17:00:18] \"POST /get_pre/?age=21&balance=18508&loan=5165&score=580 HTTP/1.1\" 200 -\n",
      "127.0.0.1 - - [13/Apr/2024 17:00:18] \"POST /get_pre/?age=21&balance=18508&loan=5165&score=580 HTTP/1.1\" 200 -\n",
      "127.0.0.1 - - [13/Apr/2024 17:00:18] \"POST /get_pre/?age=21&balance=18508&loan=5165&score=580 HTTP/1.1\" 200 -\n",
      "127.0.0.1 - - [13/Apr/2024 17:00:19] \"POST /get_pre/?age=21&balance=18508&loan=5165&score=580 HTTP/1.1\" 200 -\n",
      "127.0.0.1 - - [13/Apr/2024 17:00:19] \"POST /get_pre/?age=21&balance=18508&loan=5165&score=580 HTTP/1.1\" 200 -\n",
      "127.0.0.1 - - [13/Apr/2024 17:00:19] \"POST /get_pre/?age=21&balance=18508&loan=5165&score=580 HTTP/1.1\" 200 -\n",
      "127.0.0.1 - - [13/Apr/2024 17:00:19] \"POST /get_pre/?age=21&balance=18508&loan=5165&score=580 HTTP/1.1\" 200 -\n",
      "127.0.0.1 - - [13/Apr/2024 17:00:19] \"POST /get_pre/?age=21&balance=18508&loan=5165&score=580 HTTP/1.1\" 200 -\n"
     ]
    },
    {
     "name": "stdout",
     "output_type": "stream",
     "text": [
      "[104474.45187385]\n",
      "[104474.45187385]\n",
      "[104474.45187385]\n",
      "[104474.45187385]\n",
      "[104474.45187385]\n",
      "[104474.45187385]\n",
      "[104474.45187385]\n",
      "[104474.45187385]\n",
      "[104474.45187385]\n",
      "[104474.45187385]\n"
     ]
    },
    {
     "name": "stderr",
     "output_type": "stream",
     "text": [
      "127.0.0.1 - - [13/Apr/2024 17:00:19] \"POST /get_pre/?age=21&balance=18508&loan=5165&score=580 HTTP/1.1\" 200 -\n",
      "127.0.0.1 - - [13/Apr/2024 17:00:19] \"POST /get_pre/?age=21&balance=18508&loan=5165&score=580 HTTP/1.1\" 200 -\n",
      "127.0.0.1 - - [13/Apr/2024 17:00:19] \"POST /get_pre/?age=21&balance=18508&loan=5165&score=580 HTTP/1.1\" 200 -\n",
      "127.0.0.1 - - [13/Apr/2024 17:00:19] \"POST /get_pre/?age=21&balance=18508&loan=5165&score=580 HTTP/1.1\" 200 -\n",
      "127.0.0.1 - - [13/Apr/2024 17:00:19] \"POST /get_pre/?age=21&balance=18508&loan=5165&score=580 HTTP/1.1\" 200 -\n",
      "127.0.0.1 - - [13/Apr/2024 17:00:19] \"POST /get_pre/?age=21&balance=18508&loan=5165&score=580 HTTP/1.1\" 200 -\n",
      "127.0.0.1 - - [13/Apr/2024 17:00:19] \"POST /get_pre/?age=21&balance=18508&loan=5165&score=580 HTTP/1.1\" 200 -\n",
      "127.0.0.1 - - [13/Apr/2024 17:00:19] \"POST /get_pre/?age=21&balance=18508&loan=5165&score=580 HTTP/1.1\" 200 -\n",
      "127.0.0.1 - - [13/Apr/2024 17:00:19] \"POST /get_pre/?age=21&balance=18508&loan=5165&score=580 HTTP/1.1\" 200 -\n",
      "127.0.0.1 - - [13/Apr/2024 17:00:19] \"POST /get_pre/?age=21&balance=18508&loan=5165&score=580 HTTP/1.1\" 200 -\n"
     ]
    },
    {
     "name": "stdout",
     "output_type": "stream",
     "text": [
      "[104474.45187385]\n",
      "[104474.45187385]\n",
      "[104474.45187385]\n",
      "[104474.45187385]\n",
      "[104474.45187385]\n",
      "[104474.45187385]\n",
      "[104474.45187385]\n",
      "[104474.45187385]\n",
      "[104474.45187385]\n",
      "[104474.45187385]\n"
     ]
    },
    {
     "name": "stderr",
     "output_type": "stream",
     "text": [
      "127.0.0.1 - - [13/Apr/2024 17:00:19] \"POST /get_pre/?age=21&balance=18508&loan=5165&score=580 HTTP/1.1\" 200 -\n",
      "127.0.0.1 - - [13/Apr/2024 17:00:19] \"POST /get_pre/?age=21&balance=18508&loan=5165&score=580 HTTP/1.1\" 200 -\n",
      "127.0.0.1 - - [13/Apr/2024 17:00:19] \"POST /get_pre/?age=21&balance=18508&loan=5165&score=580 HTTP/1.1\" 200 -\n",
      "127.0.0.1 - - [13/Apr/2024 17:00:19] \"POST /get_pre/?age=21&balance=18508&loan=5165&score=580 HTTP/1.1\" 200 -\n",
      "127.0.0.1 - - [13/Apr/2024 17:00:19] \"POST /get_pre/?age=21&balance=18508&loan=5165&score=580 HTTP/1.1\" 200 -\n",
      "127.0.0.1 - - [13/Apr/2024 17:00:19] \"POST /get_pre/?age=21&balance=18508&loan=5165&score=580 HTTP/1.1\" 200 -\n",
      "127.0.0.1 - - [13/Apr/2024 17:00:19] \"POST /get_pre/?age=21&balance=18508&loan=5165&score=580 HTTP/1.1\" 200 -\n",
      "127.0.0.1 - - [13/Apr/2024 17:00:19] \"POST /get_pre/?age=21&balance=18508&loan=5165&score=580 HTTP/1.1\" 200 -\n",
      "127.0.0.1 - - [13/Apr/2024 17:00:19] \"POST /get_pre/?age=21&balance=18508&loan=5165&score=580 HTTP/1.1\" 200 -\n",
      "127.0.0.1 - - [13/Apr/2024 17:00:19] \"POST /get_pre/?age=21&balance=18508&loan=5165&score=580 HTTP/1.1\" 200 -\n"
     ]
    },
    {
     "name": "stdout",
     "output_type": "stream",
     "text": [
      "[104474.45187385]\n",
      "[104474.45187385]\n",
      "[104474.45187385]\n",
      "[104474.45187385]\n",
      "[104474.45187385]\n",
      "[104474.45187385]\n",
      "[104474.45187385]\n",
      "[104474.45187385]\n",
      "[104474.45187385]\n",
      "[104474.45187385]\n"
     ]
    },
    {
     "name": "stderr",
     "output_type": "stream",
     "text": [
      "127.0.0.1 - - [13/Apr/2024 17:00:19] \"POST /get_pre/?age=21&balance=18508&loan=5165&score=580 HTTP/1.1\" 200 -\n",
      "127.0.0.1 - - [13/Apr/2024 17:00:19] \"POST /get_pre/?age=21&balance=18508&loan=5165&score=580 HTTP/1.1\" 200 -\n",
      "127.0.0.1 - - [13/Apr/2024 17:00:19] \"POST /get_pre/?age=21&balance=18508&loan=5165&score=580 HTTP/1.1\" 200 -\n",
      "127.0.0.1 - - [13/Apr/2024 17:00:19] \"POST /get_pre/?age=21&balance=18508&loan=5165&score=580 HTTP/1.1\" 200 -\n",
      "127.0.0.1 - - [13/Apr/2024 17:00:19] \"POST /get_pre/?age=21&balance=18508&loan=5165&score=580 HTTP/1.1\" 200 -\n",
      "127.0.0.1 - - [13/Apr/2024 17:00:19] \"POST /get_pre/?age=21&balance=18508&loan=5165&score=580 HTTP/1.1\" 200 -\n",
      "127.0.0.1 - - [13/Apr/2024 17:00:19] \"POST /get_pre/?age=21&balance=18508&loan=5165&score=580 HTTP/1.1\" 200 -\n",
      "127.0.0.1 - - [13/Apr/2024 17:00:19] \"POST /get_pre/?age=21&balance=18508&loan=5165&score=580 HTTP/1.1\" 200 -\n",
      "127.0.0.1 - - [13/Apr/2024 17:00:19] \"POST /get_pre/?age=21&balance=18508&loan=5165&score=580 HTTP/1.1\" 200 -\n",
      "127.0.0.1 - - [13/Apr/2024 17:00:19] \"POST /get_pre/?age=21&balance=18508&loan=5165&score=580 HTTP/1.1\" 200 -\n"
     ]
    },
    {
     "name": "stdout",
     "output_type": "stream",
     "text": [
      "[104474.45187385]\n",
      "[104474.45187385]\n",
      "[104474.45187385]\n",
      "[104474.45187385]\n",
      "[104474.45187385]\n",
      "[104474.45187385]\n",
      "[104474.45187385]\n",
      "[104474.45187385]\n",
      "[104474.45187385]\n",
      "[104474.45187385]\n"
     ]
    },
    {
     "name": "stderr",
     "output_type": "stream",
     "text": [
      "127.0.0.1 - - [13/Apr/2024 17:00:19] \"POST /get_pre/?age=21&balance=18508&loan=5165&score=580 HTTP/1.1\" 200 -\n",
      "127.0.0.1 - - [13/Apr/2024 17:00:19] \"POST /get_pre/?age=21&balance=18508&loan=5165&score=580 HTTP/1.1\" 200 -\n",
      "127.0.0.1 - - [13/Apr/2024 17:00:19] \"POST /get_pre/?age=21&balance=18508&loan=5165&score=580 HTTP/1.1\" 200 -\n",
      "127.0.0.1 - - [13/Apr/2024 17:00:19] \"POST /get_pre/?age=21&balance=18508&loan=5165&score=580 HTTP/1.1\" 200 -\n",
      "127.0.0.1 - - [13/Apr/2024 17:00:19] \"POST /get_pre/?age=21&balance=18508&loan=5165&score=580 HTTP/1.1\" 200 -\n",
      "127.0.0.1 - - [13/Apr/2024 17:00:19] \"POST /get_pre/?age=21&balance=18508&loan=5165&score=580 HTTP/1.1\" 200 -\n",
      "127.0.0.1 - - [13/Apr/2024 17:00:19] \"POST /get_pre/?age=21&balance=18508&loan=5165&score=580 HTTP/1.1\" 200 -\n",
      "127.0.0.1 - - [13/Apr/2024 17:00:19] \"POST /get_pre/?age=21&balance=18508&loan=5165&score=580 HTTP/1.1\" 200 -\n",
      "127.0.0.1 - - [13/Apr/2024 17:00:19] \"POST /get_pre/?age=21&balance=18508&loan=5165&score=580 HTTP/1.1\" 200 -\n"
     ]
    },
    {
     "name": "stdout",
     "output_type": "stream",
     "text": [
      "[104474.45187385]\n",
      "[104474.45187385]\n",
      "[104474.45187385]\n",
      "[104474.45187385]\n",
      "[104474.45187385]\n",
      "[104474.45187385]\n",
      "[104474.45187385]\n",
      "[104474.45187385]\n",
      "[104474.45187385]\n"
     ]
    },
    {
     "name": "stderr",
     "output_type": "stream",
     "text": [
      "127.0.0.1 - - [13/Apr/2024 17:00:19] \"POST /get_pre/?age=21&balance=18508&loan=5165&score=580 HTTP/1.1\" 200 -\n",
      "127.0.0.1 - - [13/Apr/2024 17:00:19] \"POST /get_pre/?age=21&balance=18508&loan=5165&score=580 HTTP/1.1\" 200 -\n",
      "127.0.0.1 - - [13/Apr/2024 17:00:19] \"POST /get_pre/?age=21&balance=18508&loan=5165&score=580 HTTP/1.1\" 200 -\n",
      "127.0.0.1 - - [13/Apr/2024 17:00:20] \"POST /get_pre/?age=21&balance=18508&loan=5165&score=580 HTTP/1.1\" 200 -\n",
      "127.0.0.1 - - [13/Apr/2024 17:00:20] \"POST /get_pre/?age=21&balance=18508&loan=5165&score=580 HTTP/1.1\" 200 -\n",
      "127.0.0.1 - - [13/Apr/2024 17:00:20] \"POST /get_pre/?age=21&balance=18508&loan=5165&score=580 HTTP/1.1\" 200 -\n",
      "127.0.0.1 - - [13/Apr/2024 17:00:20] \"POST /get_pre/?age=21&balance=18508&loan=5165&score=580 HTTP/1.1\" 200 -\n",
      "127.0.0.1 - - [13/Apr/2024 17:00:20] \"POST /get_pre/?age=21&balance=18508&loan=5165&score=580 HTTP/1.1\" 200 -\n",
      "127.0.0.1 - - [13/Apr/2024 17:00:20] \"POST /get_pre/?age=21&balance=18508&loan=5165&score=580 HTTP/1.1\" 200 -\n",
      "127.0.0.1 - - [13/Apr/2024 17:00:20] \"POST /get_pre/?age=21&balance=18508&loan=5165&score=580 HTTP/1.1\" 200 -\n"
     ]
    },
    {
     "name": "stdout",
     "output_type": "stream",
     "text": [
      "[104474.45187385]\n",
      "[104474.45187385]\n",
      "[104474.45187385]\n",
      "[104474.45187385]\n",
      "[104474.45187385]\n",
      "[104474.45187385]\n",
      "[104474.45187385]\n",
      "[104474.45187385]\n",
      "[104474.45187385]\n",
      "[104474.45187385]\n"
     ]
    },
    {
     "name": "stderr",
     "output_type": "stream",
     "text": [
      "127.0.0.1 - - [13/Apr/2024 17:00:20] \"POST /get_pre/?age=21&balance=18508&loan=5165&score=580 HTTP/1.1\" 200 -\n",
      "127.0.0.1 - - [13/Apr/2024 17:00:20] \"POST /get_pre/?age=21&balance=18508&loan=5165&score=580 HTTP/1.1\" 200 -\n",
      "127.0.0.1 - - [13/Apr/2024 17:00:20] \"POST /get_pre/?age=21&balance=18508&loan=5165&score=580 HTTP/1.1\" 200 -\n",
      "127.0.0.1 - - [13/Apr/2024 17:00:20] \"POST /get_pre/?age=21&balance=18508&loan=5165&score=580 HTTP/1.1\" 200 -\n",
      "127.0.0.1 - - [13/Apr/2024 17:00:20] \"POST /get_pre/?age=21&balance=18508&loan=5165&score=580 HTTP/1.1\" 200 -\n",
      "127.0.0.1 - - [13/Apr/2024 17:00:20] \"POST /get_pre/?age=21&balance=18508&loan=5165&score=580 HTTP/1.1\" 200 -\n",
      "127.0.0.1 - - [13/Apr/2024 17:00:20] \"POST /get_pre/?age=21&balance=18508&loan=5165&score=580 HTTP/1.1\" 200 -\n",
      "127.0.0.1 - - [13/Apr/2024 17:00:20] \"POST /get_pre/?age=21&balance=18508&loan=5165&score=580 HTTP/1.1\" 200 -\n",
      "127.0.0.1 - - [13/Apr/2024 17:00:20] \"POST /get_pre/?age=21&balance=18508&loan=5165&score=580 HTTP/1.1\" 200 -\n",
      "127.0.0.1 - - [13/Apr/2024 17:00:20] \"POST /get_pre/?age=21&balance=18508&loan=5165&score=580 HTTP/1.1\" 200 -\n"
     ]
    },
    {
     "name": "stdout",
     "output_type": "stream",
     "text": [
      "[104474.45187385]\n",
      "[104474.45187385]\n",
      "[104474.45187385]\n",
      "[104474.45187385]\n",
      "[104474.45187385]\n",
      "[104474.45187385]\n",
      "[104474.45187385]\n",
      "[104474.45187385]\n",
      "[104474.45187385]\n",
      "[104474.45187385]\n"
     ]
    },
    {
     "name": "stderr",
     "output_type": "stream",
     "text": [
      "127.0.0.1 - - [13/Apr/2024 17:00:20] \"POST /get_pre/?age=21&balance=18508&loan=5165&score=580 HTTP/1.1\" 200 -\n",
      "127.0.0.1 - - [13/Apr/2024 17:00:20] \"POST /get_pre/?age=21&balance=18508&loan=5165&score=580 HTTP/1.1\" 200 -\n",
      "127.0.0.1 - - [13/Apr/2024 17:00:20] \"POST /get_pre/?age=21&balance=18508&loan=5165&score=580 HTTP/1.1\" 200 -\n",
      "127.0.0.1 - - [13/Apr/2024 17:00:20] \"POST /get_pre/?age=21&balance=18508&loan=5165&score=580 HTTP/1.1\" 200 -\n",
      "127.0.0.1 - - [13/Apr/2024 17:00:20] \"POST /get_pre/?age=21&balance=18508&loan=5165&score=580 HTTP/1.1\" 200 -\n",
      "127.0.0.1 - - [13/Apr/2024 17:00:20] \"POST /get_pre/?age=21&balance=18508&loan=5165&score=580 HTTP/1.1\" 200 -\n",
      "127.0.0.1 - - [13/Apr/2024 17:00:20] \"POST /get_pre/?age=21&balance=18508&loan=5165&score=580 HTTP/1.1\" 200 -\n",
      "127.0.0.1 - - [13/Apr/2024 17:00:20] \"POST /get_pre/?age=21&balance=18508&loan=5165&score=580 HTTP/1.1\" 200 -\n",
      "127.0.0.1 - - [13/Apr/2024 17:00:20] \"POST /get_pre/?age=21&balance=18508&loan=5165&score=580 HTTP/1.1\" 200 -\n",
      "127.0.0.1 - - [13/Apr/2024 17:00:20] \"POST /get_pre/?age=21&balance=18508&loan=5165&score=580 HTTP/1.1\" 200 -\n"
     ]
    },
    {
     "name": "stdout",
     "output_type": "stream",
     "text": [
      "[104474.45187385]\n",
      "[104474.45187385]\n",
      "[104474.45187385]\n",
      "[104474.45187385]\n",
      "[104474.45187385]\n",
      "[104474.45187385]\n",
      "[104474.45187385]\n",
      "[104474.45187385]\n",
      "[104474.45187385]\n",
      "[104474.45187385]\n"
     ]
    },
    {
     "name": "stderr",
     "output_type": "stream",
     "text": [
      "127.0.0.1 - - [13/Apr/2024 17:00:20] \"POST /get_pre/?age=21&balance=18508&loan=5165&score=580 HTTP/1.1\" 200 -\n",
      "127.0.0.1 - - [13/Apr/2024 17:00:20] \"POST /get_pre/?age=21&balance=18508&loan=5165&score=580 HTTP/1.1\" 200 -\n",
      "127.0.0.1 - - [13/Apr/2024 17:00:20] \"POST /get_pre/?age=21&balance=18508&loan=5165&score=580 HTTP/1.1\" 200 -\n",
      "127.0.0.1 - - [13/Apr/2024 17:00:20] \"POST /get_pre/?age=21&balance=18508&loan=5165&score=580 HTTP/1.1\" 200 -\n",
      "127.0.0.1 - - [13/Apr/2024 17:00:20] \"POST /get_pre/?age=21&balance=18508&loan=5165&score=580 HTTP/1.1\" 200 -\n",
      "127.0.0.1 - - [13/Apr/2024 17:00:20] \"POST /get_pre/?age=21&balance=18508&loan=5165&score=580 HTTP/1.1\" 200 -\n",
      "127.0.0.1 - - [13/Apr/2024 17:00:20] \"POST /get_pre/?age=21&balance=18508&loan=5165&score=580 HTTP/1.1\" 200 -\n",
      "127.0.0.1 - - [13/Apr/2024 17:00:20] \"POST /get_pre/?age=21&balance=18508&loan=5165&score=580 HTTP/1.1\" 200 -\n",
      "127.0.0.1 - - [13/Apr/2024 17:00:20] \"POST /get_pre/?age=21&balance=18508&loan=5165&score=580 HTTP/1.1\" 200 -\n",
      "127.0.0.1 - - [13/Apr/2024 17:00:20] \"POST /get_pre/?age=21&balance=18508&loan=5165&score=580 HTTP/1.1\" 200 -\n",
      "127.0.0.1 - - [13/Apr/2024 17:00:20] \"POST /get_pre/?age=21&balance=18508&loan=5165&score=580 HTTP/1.1\" 200 -\n"
     ]
    },
    {
     "name": "stdout",
     "output_type": "stream",
     "text": [
      "[104474.45187385]\n",
      "[104474.45187385]\n",
      "[104474.45187385]\n",
      "[104474.45187385]\n",
      "[104474.45187385]\n",
      "[104474.45187385]\n",
      "[104474.45187385]\n",
      "[104474.45187385]\n",
      "[104474.45187385]\n",
      "[104474.45187385]\n",
      "[104474.45187385]\n"
     ]
    },
    {
     "name": "stderr",
     "output_type": "stream",
     "text": [
      "127.0.0.1 - - [13/Apr/2024 17:00:20] \"POST /get_pre/?age=21&balance=18508&loan=5165&score=580 HTTP/1.1\" 200 -\n",
      "127.0.0.1 - - [13/Apr/2024 17:00:20] \"POST /get_pre/?age=21&balance=18508&loan=5165&score=580 HTTP/1.1\" 200 -\n",
      "127.0.0.1 - - [13/Apr/2024 17:00:20] \"POST /get_pre/?age=21&balance=18508&loan=5165&score=580 HTTP/1.1\" 200 -\n",
      "127.0.0.1 - - [13/Apr/2024 17:00:20] \"POST /get_pre/?age=21&balance=18508&loan=5165&score=580 HTTP/1.1\" 200 -\n",
      "127.0.0.1 - - [13/Apr/2024 17:00:20] \"POST /get_pre/?age=21&balance=18508&loan=5165&score=580 HTTP/1.1\" 200 -\n",
      "127.0.0.1 - - [13/Apr/2024 17:00:20] \"POST /get_pre/?age=21&balance=18508&loan=5165&score=580 HTTP/1.1\" 200 -\n",
      "127.0.0.1 - - [13/Apr/2024 17:00:20] \"POST /get_pre/?age=21&balance=18508&loan=5165&score=580 HTTP/1.1\" 200 -\n",
      "127.0.0.1 - - [13/Apr/2024 17:00:20] \"POST /get_pre/?age=21&balance=18508&loan=5165&score=580 HTTP/1.1\" 200 -\n",
      "127.0.0.1 - - [13/Apr/2024 17:00:20] \"POST /get_pre/?age=21&balance=18508&loan=5165&score=580 HTTP/1.1\" 200 -\n",
      "127.0.0.1 - - [13/Apr/2024 17:00:20] \"POST /get_pre/?age=21&balance=18508&loan=5165&score=580 HTTP/1.1\" 200 -\n",
      "127.0.0.1 - - [13/Apr/2024 17:00:20] \"POST /get_pre/?age=21&balance=18508&loan=5165&score=580 HTTP/1.1\" 200 -\n"
     ]
    },
    {
     "name": "stdout",
     "output_type": "stream",
     "text": [
      "[104474.45187385]\n",
      "[104474.45187385]\n",
      "[104474.45187385]\n",
      "[104474.45187385]\n",
      "[104474.45187385]\n",
      "[104474.45187385]\n",
      "[104474.45187385]\n",
      "[104474.45187385]\n",
      "[104474.45187385]\n",
      "[104474.45187385]\n",
      "[104474.45187385]\n"
     ]
    },
    {
     "name": "stderr",
     "output_type": "stream",
     "text": [
      "127.0.0.1 - - [13/Apr/2024 17:00:21] \"POST /get_pre/?age=21&balance=18508&loan=5165&score=580 HTTP/1.1\" 200 -\n",
      "127.0.0.1 - - [13/Apr/2024 17:00:21] \"POST /get_pre/?age=21&balance=18508&loan=5165&score=580 HTTP/1.1\" 200 -\n",
      "127.0.0.1 - - [13/Apr/2024 17:00:21] \"POST /get_pre/?age=21&balance=18508&loan=5165&score=580 HTTP/1.1\" 200 -\n",
      "127.0.0.1 - - [13/Apr/2024 17:00:21] \"POST /get_pre/?age=21&balance=18508&loan=5165&score=580 HTTP/1.1\" 200 -\n",
      "127.0.0.1 - - [13/Apr/2024 17:00:21] \"POST /get_pre/?age=21&balance=18508&loan=5165&score=580 HTTP/1.1\" 200 -\n",
      "127.0.0.1 - - [13/Apr/2024 17:00:21] \"POST /get_pre/?age=21&balance=18508&loan=5165&score=580 HTTP/1.1\" 200 -\n",
      "127.0.0.1 - - [13/Apr/2024 17:00:21] \"POST /get_pre/?age=21&balance=18508&loan=5165&score=580 HTTP/1.1\" 200 -\n",
      "127.0.0.1 - - [13/Apr/2024 17:00:21] \"POST /get_pre/?age=21&balance=18508&loan=5165&score=580 HTTP/1.1\" 200 -\n",
      "127.0.0.1 - - [13/Apr/2024 17:00:21] \"POST /get_pre/?age=21&balance=18508&loan=5165&score=580 HTTP/1.1\" 200 -\n",
      "127.0.0.1 - - [13/Apr/2024 17:00:21] \"POST /get_pre/?age=21&balance=18508&loan=5165&score=580 HTTP/1.1\" 200 -\n"
     ]
    },
    {
     "name": "stdout",
     "output_type": "stream",
     "text": [
      "[104474.45187385]\n",
      "[104474.45187385]\n",
      "[104474.45187385]\n",
      "[104474.45187385]\n",
      "[104474.45187385]\n",
      "[104474.45187385]\n",
      "[104474.45187385]\n",
      "[104474.45187385]\n",
      "[104474.45187385]\n",
      "[104474.45187385]\n"
     ]
    },
    {
     "name": "stderr",
     "output_type": "stream",
     "text": [
      "127.0.0.1 - - [13/Apr/2024 17:00:21] \"POST /get_pre/?age=21&balance=18508&loan=5165&score=580 HTTP/1.1\" 200 -\n",
      "127.0.0.1 - - [13/Apr/2024 17:00:21] \"POST /get_pre/?age=21&balance=18508&loan=5165&score=580 HTTP/1.1\" 200 -\n",
      "127.0.0.1 - - [13/Apr/2024 17:00:21] \"POST /get_pre/?age=21&balance=18508&loan=5165&score=580 HTTP/1.1\" 200 -\n",
      "127.0.0.1 - - [13/Apr/2024 17:00:21] \"POST /get_pre/?age=21&balance=18508&loan=5165&score=580 HTTP/1.1\" 200 -\n",
      "127.0.0.1 - - [13/Apr/2024 17:00:21] \"POST /get_pre/?age=21&balance=18508&loan=5165&score=580 HTTP/1.1\" 200 -\n",
      "127.0.0.1 - - [13/Apr/2024 17:00:21] \"POST /get_pre/?age=21&balance=18508&loan=5165&score=580 HTTP/1.1\" 200 -\n",
      "127.0.0.1 - - [13/Apr/2024 17:00:21] \"POST /get_pre/?age=21&balance=18508&loan=5165&score=580 HTTP/1.1\" 200 -\n",
      "127.0.0.1 - - [13/Apr/2024 17:00:21] \"POST /get_pre/?age=21&balance=18508&loan=5165&score=580 HTTP/1.1\" 200 -\n",
      "127.0.0.1 - - [13/Apr/2024 17:00:21] \"POST /get_pre/?age=21&balance=18508&loan=5165&score=580 HTTP/1.1\" 200 -\n",
      "127.0.0.1 - - [13/Apr/2024 17:00:21] \"POST /get_pre/?age=21&balance=18508&loan=5165&score=580 HTTP/1.1\" 200 -\n"
     ]
    },
    {
     "name": "stdout",
     "output_type": "stream",
     "text": [
      "[104474.45187385]\n",
      "[104474.45187385]\n",
      "[104474.45187385]\n",
      "[104474.45187385]\n",
      "[104474.45187385]\n",
      "[104474.45187385]\n",
      "[104474.45187385]\n",
      "[104474.45187385]\n",
      "[104474.45187385]\n",
      "[104474.45187385]\n"
     ]
    },
    {
     "name": "stderr",
     "output_type": "stream",
     "text": [
      "127.0.0.1 - - [13/Apr/2024 17:00:21] \"POST /get_pre/?age=21&balance=18508&loan=5165&score=580 HTTP/1.1\" 200 -\n",
      "127.0.0.1 - - [13/Apr/2024 17:00:21] \"POST /get_pre/?age=21&balance=18508&loan=5165&score=580 HTTP/1.1\" 200 -\n",
      "127.0.0.1 - - [13/Apr/2024 17:00:21] \"POST /get_pre/?age=21&balance=18508&loan=5165&score=580 HTTP/1.1\" 200 -\n",
      "127.0.0.1 - - [13/Apr/2024 17:00:21] \"POST /get_pre/?age=21&balance=18508&loan=5165&score=580 HTTP/1.1\" 200 -\n",
      "127.0.0.1 - - [13/Apr/2024 17:00:21] \"POST /get_pre/?age=21&balance=18508&loan=5165&score=580 HTTP/1.1\" 200 -\n",
      "127.0.0.1 - - [13/Apr/2024 17:00:21] \"POST /get_pre/?age=21&balance=18508&loan=5165&score=580 HTTP/1.1\" 200 -\n",
      "127.0.0.1 - - [13/Apr/2024 17:00:21] \"POST /get_pre/?age=21&balance=18508&loan=5165&score=580 HTTP/1.1\" 200 -\n",
      "127.0.0.1 - - [13/Apr/2024 17:00:21] \"POST /get_pre/?age=21&balance=18508&loan=5165&score=580 HTTP/1.1\" 200 -\n",
      "127.0.0.1 - - [13/Apr/2024 17:00:21] \"POST /get_pre/?age=21&balance=18508&loan=5165&score=580 HTTP/1.1\" 200 -\n",
      "127.0.0.1 - - [13/Apr/2024 17:00:21] \"POST /get_pre/?age=21&balance=18508&loan=5165&score=580 HTTP/1.1\" 200 -\n"
     ]
    },
    {
     "name": "stdout",
     "output_type": "stream",
     "text": [
      "[104474.45187385]\n",
      "[104474.45187385]\n",
      "[104474.45187385]\n",
      "[104474.45187385]\n",
      "[104474.45187385]\n",
      "[104474.45187385]\n",
      "[104474.45187385]\n",
      "[104474.45187385]\n",
      "[104474.45187385]\n",
      "[104474.45187385]\n"
     ]
    },
    {
     "name": "stderr",
     "output_type": "stream",
     "text": [
      "127.0.0.1 - - [13/Apr/2024 17:00:21] \"POST /get_pre/?age=21&balance=18508&loan=5165&score=580 HTTP/1.1\" 200 -\n",
      "127.0.0.1 - - [13/Apr/2024 17:00:21] \"POST /get_pre/?age=21&balance=18508&loan=5165&score=580 HTTP/1.1\" 200 -\n",
      "127.0.0.1 - - [13/Apr/2024 17:00:21] \"POST /get_pre/?age=21&balance=18508&loan=5165&score=580 HTTP/1.1\" 200 -\n",
      "127.0.0.1 - - [13/Apr/2024 17:00:21] \"POST /get_pre/?age=21&balance=18508&loan=5165&score=580 HTTP/1.1\" 200 -\n",
      "127.0.0.1 - - [13/Apr/2024 17:00:21] \"POST /get_pre/?age=21&balance=18508&loan=5165&score=580 HTTP/1.1\" 200 -\n",
      "127.0.0.1 - - [13/Apr/2024 17:00:21] \"POST /get_pre/?age=21&balance=18508&loan=5165&score=580 HTTP/1.1\" 200 -\n",
      "127.0.0.1 - - [13/Apr/2024 17:00:21] \"POST /get_pre/?age=21&balance=18508&loan=5165&score=580 HTTP/1.1\" 200 -\n",
      "127.0.0.1 - - [13/Apr/2024 17:00:21] \"POST /get_pre/?age=21&balance=18508&loan=5165&score=580 HTTP/1.1\" 200 -\n",
      "127.0.0.1 - - [13/Apr/2024 17:00:21] \"POST /get_pre/?age=21&balance=18508&loan=5165&score=580 HTTP/1.1\" 200 -\n",
      "127.0.0.1 - - [13/Apr/2024 17:00:21] \"POST /get_pre/?age=21&balance=18508&loan=5165&score=580 HTTP/1.1\" 200 -\n"
     ]
    },
    {
     "name": "stdout",
     "output_type": "stream",
     "text": [
      "[104474.45187385]\n",
      "[104474.45187385]\n",
      "[104474.45187385]\n",
      "[104474.45187385]\n",
      "[104474.45187385]\n",
      "[104474.45187385]\n",
      "[104474.45187385]\n",
      "[104474.45187385]\n",
      "[104474.45187385]\n",
      "[104474.45187385]\n"
     ]
    },
    {
     "name": "stderr",
     "output_type": "stream",
     "text": [
      "127.0.0.1 - - [13/Apr/2024 17:00:21] \"POST /get_pre/?age=21&balance=18508&loan=5165&score=580 HTTP/1.1\" 200 -\n",
      "127.0.0.1 - - [13/Apr/2024 17:00:21] \"POST /get_pre/?age=21&balance=18508&loan=5165&score=580 HTTP/1.1\" 200 -\n",
      "127.0.0.1 - - [13/Apr/2024 17:00:21] \"POST /get_pre/?age=21&balance=18508&loan=5165&score=580 HTTP/1.1\" 200 -\n",
      "127.0.0.1 - - [13/Apr/2024 17:00:21] \"POST /get_pre/?age=21&balance=18508&loan=5165&score=580 HTTP/1.1\" 200 -\n",
      "127.0.0.1 - - [13/Apr/2024 17:00:21] \"POST /get_pre/?age=21&balance=18508&loan=5165&score=580 HTTP/1.1\" 200 -\n",
      "127.0.0.1 - - [13/Apr/2024 17:00:21] \"POST /get_pre/?age=21&balance=18508&loan=5165&score=580 HTTP/1.1\" 200 -\n",
      "127.0.0.1 - - [13/Apr/2024 17:00:21] \"POST /get_pre/?age=21&balance=18508&loan=5165&score=580 HTTP/1.1\" 200 -\n",
      "127.0.0.1 - - [13/Apr/2024 17:00:21] \"POST /get_pre/?age=21&balance=18508&loan=5165&score=580 HTTP/1.1\" 200 -\n",
      "127.0.0.1 - - [13/Apr/2024 17:00:21] \"POST /get_pre/?age=21&balance=18508&loan=5165&score=580 HTTP/1.1\" 200 -\n",
      "127.0.0.1 - - [13/Apr/2024 17:00:22] \"POST /get_pre/?age=21&balance=18508&loan=5165&score=580 HTTP/1.1\" 200 -\n"
     ]
    },
    {
     "name": "stdout",
     "output_type": "stream",
     "text": [
      "[104474.45187385]\n",
      "[104474.45187385]\n",
      "[104474.45187385]\n",
      "[104474.45187385]\n",
      "[104474.45187385]\n",
      "[104474.45187385]\n",
      "[104474.45187385]\n",
      "[104474.45187385]\n",
      "[104474.45187385]\n",
      "[104474.45187385]\n"
     ]
    },
    {
     "name": "stderr",
     "output_type": "stream",
     "text": [
      "127.0.0.1 - - [13/Apr/2024 17:00:22] \"POST /get_pre/?age=21&balance=18508&loan=5165&score=580 HTTP/1.1\" 200 -\n",
      "127.0.0.1 - - [13/Apr/2024 17:00:22] \"POST /get_pre/?age=21&balance=18508&loan=5165&score=580 HTTP/1.1\" 200 -\n",
      "127.0.0.1 - - [13/Apr/2024 17:00:22] \"POST /get_pre/?age=21&balance=18508&loan=5165&score=580 HTTP/1.1\" 200 -\n",
      "127.0.0.1 - - [13/Apr/2024 17:00:22] \"POST /get_pre/?age=21&balance=18508&loan=5165&score=580 HTTP/1.1\" 200 -\n",
      "127.0.0.1 - - [13/Apr/2024 17:00:22] \"POST /get_pre/?age=21&balance=18508&loan=5165&score=580 HTTP/1.1\" 200 -\n",
      "127.0.0.1 - - [13/Apr/2024 17:00:22] \"POST /get_pre/?age=21&balance=18508&loan=5165&score=580 HTTP/1.1\" 200 -\n",
      "127.0.0.1 - - [13/Apr/2024 17:00:22] \"POST /get_pre/?age=21&balance=18508&loan=5165&score=580 HTTP/1.1\" 200 -\n",
      "127.0.0.1 - - [13/Apr/2024 17:00:22] \"POST /get_pre/?age=21&balance=18508&loan=5165&score=580 HTTP/1.1\" 200 -\n",
      "127.0.0.1 - - [13/Apr/2024 17:00:22] \"POST /get_pre/?age=21&balance=18508&loan=5165&score=580 HTTP/1.1\" 200 -\n",
      "127.0.0.1 - - [13/Apr/2024 17:00:22] \"POST /get_pre/?age=21&balance=18508&loan=5165&score=580 HTTP/1.1\" 200 -\n",
      "127.0.0.1 - - [13/Apr/2024 17:00:22] \"POST /get_pre/?age=21&balance=18508&loan=5165&score=580 HTTP/1.1\" 200 -\n"
     ]
    },
    {
     "name": "stdout",
     "output_type": "stream",
     "text": [
      "[104474.45187385]\n",
      "[104474.45187385]\n",
      "[104474.45187385]\n",
      "[104474.45187385]\n",
      "[104474.45187385]\n",
      "[104474.45187385]\n",
      "[104474.45187385]\n",
      "[104474.45187385]\n",
      "[104474.45187385]\n",
      "[104474.45187385]\n",
      "[104474.45187385]\n"
     ]
    },
    {
     "name": "stderr",
     "output_type": "stream",
     "text": [
      "127.0.0.1 - - [13/Apr/2024 17:00:22] \"POST /get_pre/?age=21&balance=18508&loan=5165&score=580 HTTP/1.1\" 200 -\n",
      "127.0.0.1 - - [13/Apr/2024 17:00:22] \"POST /get_pre/?age=21&balance=18508&loan=5165&score=580 HTTP/1.1\" 200 -\n",
      "127.0.0.1 - - [13/Apr/2024 17:00:22] \"POST /get_pre/?age=21&balance=18508&loan=5165&score=580 HTTP/1.1\" 200 -\n",
      "127.0.0.1 - - [13/Apr/2024 17:00:22] \"POST /get_pre/?age=21&balance=18508&loan=5165&score=580 HTTP/1.1\" 200 -\n",
      "127.0.0.1 - - [13/Apr/2024 17:00:22] \"POST /get_pre/?age=21&balance=18508&loan=5165&score=580 HTTP/1.1\" 200 -\n",
      "127.0.0.1 - - [13/Apr/2024 17:00:22] \"POST /get_pre/?age=21&balance=18508&loan=5165&score=580 HTTP/1.1\" 200 -\n",
      "127.0.0.1 - - [13/Apr/2024 17:00:22] \"POST /get_pre/?age=21&balance=18508&loan=5165&score=580 HTTP/1.1\" 200 -\n",
      "127.0.0.1 - - [13/Apr/2024 17:00:22] \"POST /get_pre/?age=21&balance=18508&loan=5165&score=580 HTTP/1.1\" 200 -\n",
      "127.0.0.1 - - [13/Apr/2024 17:00:22] \"POST /get_pre/?age=21&balance=18508&loan=5165&score=580 HTTP/1.1\" 200 -\n",
      "127.0.0.1 - - [13/Apr/2024 17:00:22] \"POST /get_pre/?age=21&balance=18508&loan=5165&score=580 HTTP/1.1\" 200 -\n"
     ]
    },
    {
     "name": "stdout",
     "output_type": "stream",
     "text": [
      "[104474.45187385]\n",
      "[104474.45187385]\n",
      "[104474.45187385]\n",
      "[104474.45187385]\n",
      "[104474.45187385]\n",
      "[104474.45187385]\n",
      "[104474.45187385]\n",
      "[104474.45187385]\n",
      "[104474.45187385]\n",
      "[104474.45187385]\n"
     ]
    },
    {
     "name": "stderr",
     "output_type": "stream",
     "text": [
      "127.0.0.1 - - [13/Apr/2024 17:00:22] \"POST /get_pre/?age=21&balance=18508&loan=5165&score=580 HTTP/1.1\" 200 -\n",
      "127.0.0.1 - - [13/Apr/2024 17:00:22] \"POST /get_pre/?age=21&balance=18508&loan=5165&score=580 HTTP/1.1\" 200 -\n",
      "127.0.0.1 - - [13/Apr/2024 17:00:22] \"POST /get_pre/?age=21&balance=18508&loan=5165&score=580 HTTP/1.1\" 200 -\n",
      "127.0.0.1 - - [13/Apr/2024 17:00:22] \"POST /get_pre/?age=21&balance=18508&loan=5165&score=580 HTTP/1.1\" 200 -\n",
      "127.0.0.1 - - [13/Apr/2024 17:00:22] \"POST /get_pre/?age=21&balance=18508&loan=5165&score=580 HTTP/1.1\" 200 -\n",
      "127.0.0.1 - - [13/Apr/2024 17:00:22] \"POST /get_pre/?age=21&balance=18508&loan=5165&score=580 HTTP/1.1\" 200 -\n",
      "127.0.0.1 - - [13/Apr/2024 17:00:22] \"POST /get_pre/?age=21&balance=18508&loan=5165&score=580 HTTP/1.1\" 200 -\n",
      "127.0.0.1 - - [13/Apr/2024 17:00:22] \"POST /get_pre/?age=21&balance=18508&loan=5165&score=580 HTTP/1.1\" 200 -\n",
      "127.0.0.1 - - [13/Apr/2024 17:00:22] \"POST /get_pre/?age=21&balance=18508&loan=5165&score=580 HTTP/1.1\" 200 -\n"
     ]
    },
    {
     "name": "stdout",
     "output_type": "stream",
     "text": [
      "[104474.45187385]\n",
      "[104474.45187385]\n",
      "[104474.45187385]\n",
      "[104474.45187385]\n",
      "[104474.45187385]\n",
      "[104474.45187385]\n",
      "[104474.45187385]\n",
      "[104474.45187385]\n",
      "[104474.45187385]\n"
     ]
    },
    {
     "name": "stderr",
     "output_type": "stream",
     "text": [
      "127.0.0.1 - - [13/Apr/2024 17:00:22] \"POST /get_pre/?age=21&balance=18508&loan=5165&score=580 HTTP/1.1\" 200 -\n",
      "127.0.0.1 - - [13/Apr/2024 17:00:22] \"POST /get_pre/?age=21&balance=18508&loan=5165&score=580 HTTP/1.1\" 200 -\n",
      "127.0.0.1 - - [13/Apr/2024 17:00:22] \"POST /get_pre/?age=21&balance=18508&loan=5165&score=580 HTTP/1.1\" 200 -\n",
      "127.0.0.1 - - [13/Apr/2024 17:00:22] \"POST /get_pre/?age=21&balance=18508&loan=5165&score=580 HTTP/1.1\" 200 -\n",
      "127.0.0.1 - - [13/Apr/2024 17:00:22] \"POST /get_pre/?age=21&balance=18508&loan=5165&score=580 HTTP/1.1\" 200 -\n",
      "127.0.0.1 - - [13/Apr/2024 17:00:22] \"POST /get_pre/?age=21&balance=18508&loan=5165&score=580 HTTP/1.1\" 200 -\n",
      "127.0.0.1 - - [13/Apr/2024 17:00:22] \"POST /get_pre/?age=21&balance=18508&loan=5165&score=580 HTTP/1.1\" 200 -\n",
      "127.0.0.1 - - [13/Apr/2024 17:00:22] \"POST /get_pre/?age=21&balance=18508&loan=5165&score=580 HTTP/1.1\" 200 -\n"
     ]
    },
    {
     "name": "stdout",
     "output_type": "stream",
     "text": [
      "[104474.45187385]\n",
      "[104474.45187385]\n",
      "[104474.45187385]\n",
      "[104474.45187385]\n",
      "[104474.45187385]\n",
      "[104474.45187385]\n",
      "[104474.45187385]\n",
      "[104474.45187385]\n"
     ]
    },
    {
     "name": "stderr",
     "output_type": "stream",
     "text": [
      "127.0.0.1 - - [13/Apr/2024 17:00:22] \"POST /get_pre/?age=21&balance=18508&loan=5165&score=580 HTTP/1.1\" 200 -\n",
      "127.0.0.1 - - [13/Apr/2024 17:00:22] \"POST /get_pre/?age=21&balance=18508&loan=5165&score=580 HTTP/1.1\" 200 -\n",
      "127.0.0.1 - - [13/Apr/2024 17:00:22] \"POST /get_pre/?age=21&balance=18508&loan=5165&score=580 HTTP/1.1\" 200 -\n",
      "127.0.0.1 - - [13/Apr/2024 17:00:22] \"POST /get_pre/?age=21&balance=18508&loan=5165&score=580 HTTP/1.1\" 200 -\n",
      "127.0.0.1 - - [13/Apr/2024 17:00:22] \"POST /get_pre/?age=21&balance=18508&loan=5165&score=580 HTTP/1.1\" 200 -\n",
      "127.0.0.1 - - [13/Apr/2024 17:00:23] \"POST /get_pre/?age=21&balance=18508&loan=5165&score=580 HTTP/1.1\" 200 -\n",
      "127.0.0.1 - - [13/Apr/2024 17:00:23] \"POST /get_pre/?age=21&balance=18508&loan=5165&score=580 HTTP/1.1\" 200 -\n",
      "127.0.0.1 - - [13/Apr/2024 17:00:23] \"POST /get_pre/?age=21&balance=18508&loan=5165&score=580 HTTP/1.1\" 200 -\n",
      "127.0.0.1 - - [13/Apr/2024 17:00:23] \"POST /get_pre/?age=21&balance=18508&loan=5165&score=580 HTTP/1.1\" 200 -\n"
     ]
    },
    {
     "name": "stdout",
     "output_type": "stream",
     "text": [
      "[104474.45187385]\n",
      "[104474.45187385]\n",
      "[104474.45187385]\n",
      "[104474.45187385]\n",
      "[104474.45187385]\n",
      "[104474.45187385]\n",
      "[104474.45187385]\n",
      "[104474.45187385]\n",
      "[104474.45187385]\n"
     ]
    },
    {
     "name": "stderr",
     "output_type": "stream",
     "text": [
      "127.0.0.1 - - [13/Apr/2024 17:00:23] \"POST /get_pre/?age=21&balance=18508&loan=5165&score=580 HTTP/1.1\" 200 -\n",
      "127.0.0.1 - - [13/Apr/2024 17:00:23] \"POST /get_pre/?age=21&balance=18508&loan=5165&score=580 HTTP/1.1\" 200 -\n",
      "127.0.0.1 - - [13/Apr/2024 17:00:23] \"POST /get_pre/?age=21&balance=18508&loan=5165&score=580 HTTP/1.1\" 200 -\n",
      "127.0.0.1 - - [13/Apr/2024 17:00:23] \"POST /get_pre/?age=21&balance=18508&loan=5165&score=580 HTTP/1.1\" 200 -\n",
      "127.0.0.1 - - [13/Apr/2024 17:00:23] \"POST /get_pre/?age=21&balance=18508&loan=5165&score=580 HTTP/1.1\" 200 -\n",
      "127.0.0.1 - - [13/Apr/2024 17:00:23] \"POST /get_pre/?age=21&balance=18508&loan=5165&score=580 HTTP/1.1\" 200 -\n",
      "127.0.0.1 - - [13/Apr/2024 17:00:23] \"POST /get_pre/?age=21&balance=18508&loan=5165&score=580 HTTP/1.1\" 200 -\n",
      "127.0.0.1 - - [13/Apr/2024 17:00:23] \"POST /get_pre/?age=21&balance=18508&loan=5165&score=580 HTTP/1.1\" 200 -\n",
      "127.0.0.1 - - [13/Apr/2024 17:00:23] \"POST /get_pre/?age=21&balance=18508&loan=5165&score=580 HTTP/1.1\" 200 -\n"
     ]
    },
    {
     "name": "stdout",
     "output_type": "stream",
     "text": [
      "[104474.45187385]\n",
      "[104474.45187385]\n",
      "[104474.45187385]\n",
      "[104474.45187385]\n",
      "[104474.45187385]\n",
      "[104474.45187385]\n",
      "[104474.45187385]\n",
      "[104474.45187385]\n",
      "[104474.45187385]\n"
     ]
    },
    {
     "name": "stderr",
     "output_type": "stream",
     "text": [
      "127.0.0.1 - - [13/Apr/2024 17:00:23] \"POST /get_pre/?age=21&balance=18508&loan=5165&score=580 HTTP/1.1\" 200 -\n",
      "127.0.0.1 - - [13/Apr/2024 17:00:23] \"POST /get_pre/?age=21&balance=18508&loan=5165&score=580 HTTP/1.1\" 200 -\n",
      "127.0.0.1 - - [13/Apr/2024 17:00:23] \"POST /get_pre/?age=21&balance=18508&loan=5165&score=580 HTTP/1.1\" 200 -\n",
      "127.0.0.1 - - [13/Apr/2024 17:00:23] \"POST /get_pre/?age=21&balance=18508&loan=5165&score=580 HTTP/1.1\" 200 -\n",
      "127.0.0.1 - - [13/Apr/2024 17:00:23] \"POST /get_pre/?age=21&balance=18508&loan=5165&score=580 HTTP/1.1\" 200 -\n",
      "127.0.0.1 - - [13/Apr/2024 17:00:23] \"POST /get_pre/?age=21&balance=18508&loan=5165&score=580 HTTP/1.1\" 200 -\n",
      "127.0.0.1 - - [13/Apr/2024 17:00:23] \"POST /get_pre/?age=21&balance=18508&loan=5165&score=580 HTTP/1.1\" 200 -\n",
      "127.0.0.1 - - [13/Apr/2024 17:00:23] \"POST /get_pre/?age=21&balance=18508&loan=5165&score=580 HTTP/1.1\" 200 -\n"
     ]
    },
    {
     "name": "stdout",
     "output_type": "stream",
     "text": [
      "[104474.45187385]\n",
      "[104474.45187385]\n",
      "[104474.45187385]\n",
      "[104474.45187385]\n",
      "[104474.45187385]\n",
      "[104474.45187385]\n",
      "[104474.45187385]\n",
      "[104474.45187385]\n"
     ]
    },
    {
     "name": "stderr",
     "output_type": "stream",
     "text": [
      "127.0.0.1 - - [13/Apr/2024 17:00:23] \"POST /get_pre/?age=21&balance=18508&loan=5165&score=580 HTTP/1.1\" 200 -\n",
      "127.0.0.1 - - [13/Apr/2024 17:00:23] \"POST /get_pre/?age=21&balance=18508&loan=5165&score=580 HTTP/1.1\" 200 -\n",
      "127.0.0.1 - - [13/Apr/2024 17:00:23] \"POST /get_pre/?age=21&balance=18508&loan=5165&score=580 HTTP/1.1\" 200 -\n",
      "127.0.0.1 - - [13/Apr/2024 17:00:23] \"POST /get_pre/?age=21&balance=18508&loan=5165&score=580 HTTP/1.1\" 200 -\n",
      "127.0.0.1 - - [13/Apr/2024 17:00:23] \"POST /get_pre/?age=21&balance=18508&loan=5165&score=580 HTTP/1.1\" 200 -\n",
      "127.0.0.1 - - [13/Apr/2024 17:00:23] \"POST /get_pre/?age=21&balance=18508&loan=5165&score=580 HTTP/1.1\" 200 -\n",
      "127.0.0.1 - - [13/Apr/2024 17:00:23] \"POST /get_pre/?age=21&balance=18508&loan=5165&score=580 HTTP/1.1\" 200 -\n",
      "127.0.0.1 - - [13/Apr/2024 17:00:23] \"POST /get_pre/?age=21&balance=18508&loan=5165&score=580 HTTP/1.1\" 200 -\n",
      "127.0.0.1 - - [13/Apr/2024 17:00:23] \"POST /get_pre/?age=21&balance=18508&loan=5165&score=580 HTTP/1.1\" 200 -\n"
     ]
    },
    {
     "name": "stdout",
     "output_type": "stream",
     "text": [
      "[104474.45187385]\n",
      "[104474.45187385]\n",
      "[104474.45187385]\n",
      "[104474.45187385]\n",
      "[104474.45187385]\n",
      "[104474.45187385]\n",
      "[104474.45187385]\n",
      "[104474.45187385]\n",
      "[104474.45187385]\n"
     ]
    },
    {
     "name": "stderr",
     "output_type": "stream",
     "text": [
      "127.0.0.1 - - [13/Apr/2024 17:00:23] \"POST /get_pre/?age=21&balance=18508&loan=5165&score=580 HTTP/1.1\" 200 -\n",
      "127.0.0.1 - - [13/Apr/2024 17:00:23] \"POST /get_pre/?age=21&balance=18508&loan=5165&score=580 HTTP/1.1\" 200 -\n",
      "127.0.0.1 - - [13/Apr/2024 17:00:23] \"POST /get_pre/?age=21&balance=18508&loan=5165&score=580 HTTP/1.1\" 200 -\n",
      "127.0.0.1 - - [13/Apr/2024 17:00:23] \"POST /get_pre/?age=21&balance=18508&loan=5165&score=580 HTTP/1.1\" 200 -\n",
      "127.0.0.1 - - [13/Apr/2024 17:00:23] \"POST /get_pre/?age=21&balance=18508&loan=5165&score=580 HTTP/1.1\" 200 -\n",
      "127.0.0.1 - - [13/Apr/2024 17:00:23] \"POST /get_pre/?age=21&balance=18508&loan=5165&score=580 HTTP/1.1\" 200 -\n",
      "127.0.0.1 - - [13/Apr/2024 17:00:23] \"POST /get_pre/?age=21&balance=18508&loan=5165&score=580 HTTP/1.1\" 200 -\n",
      "127.0.0.1 - - [13/Apr/2024 17:00:23] \"POST /get_pre/?age=21&balance=18508&loan=5165&score=580 HTTP/1.1\" 200 -\n",
      "127.0.0.1 - - [13/Apr/2024 17:00:23] \"POST /get_pre/?age=21&balance=18508&loan=5165&score=580 HTTP/1.1\" 200 -\n"
     ]
    },
    {
     "name": "stdout",
     "output_type": "stream",
     "text": [
      "[104474.45187385]\n",
      "[104474.45187385]\n",
      "[104474.45187385]\n",
      "[104474.45187385]\n",
      "[104474.45187385]\n",
      "[104474.45187385]\n",
      "[104474.45187385]\n",
      "[104474.45187385]\n",
      "[104474.45187385]\n"
     ]
    },
    {
     "name": "stderr",
     "output_type": "stream",
     "text": [
      "127.0.0.1 - - [13/Apr/2024 17:00:23] \"POST /get_pre/?age=21&balance=18508&loan=5165&score=580 HTTP/1.1\" 200 -\n",
      "127.0.0.1 - - [13/Apr/2024 17:00:23] \"POST /get_pre/?age=21&balance=18508&loan=5165&score=580 HTTP/1.1\" 200 -\n",
      "127.0.0.1 - - [13/Apr/2024 17:00:24] \"POST /get_pre/?age=21&balance=18508&loan=5165&score=580 HTTP/1.1\" 200 -\n",
      "127.0.0.1 - - [13/Apr/2024 17:00:24] \"POST /get_pre/?age=21&balance=18508&loan=5165&score=580 HTTP/1.1\" 200 -\n",
      "127.0.0.1 - - [13/Apr/2024 17:00:24] \"POST /get_pre/?age=21&balance=18508&loan=5165&score=580 HTTP/1.1\" 200 -\n",
      "127.0.0.1 - - [13/Apr/2024 17:00:24] \"POST /get_pre/?age=21&balance=18508&loan=5165&score=580 HTTP/1.1\" 200 -\n",
      "127.0.0.1 - - [13/Apr/2024 17:00:24] \"POST /get_pre/?age=21&balance=18508&loan=5165&score=580 HTTP/1.1\" 200 -\n",
      "127.0.0.1 - - [13/Apr/2024 17:00:24] \"POST /get_pre/?age=21&balance=18508&loan=5165&score=580 HTTP/1.1\" 200 -\n",
      "127.0.0.1 - - [13/Apr/2024 17:00:24] \"POST /get_pre/?age=21&balance=18508&loan=5165&score=580 HTTP/1.1\" 200 -\n",
      "127.0.0.1 - - [13/Apr/2024 17:00:24] \"POST /get_pre/?age=21&balance=18508&loan=5165&score=580 HTTP/1.1\" 200 -\n",
      "127.0.0.1 - - [13/Apr/2024 17:00:24] \"POST /get_pre/?age=21&balance=18508&loan=5165&score=580 HTTP/1.1\" 200 -\n"
     ]
    },
    {
     "name": "stdout",
     "output_type": "stream",
     "text": [
      "[104474.45187385]\n",
      "[104474.45187385]\n",
      "[104474.45187385]\n",
      "[104474.45187385]\n",
      "[104474.45187385]\n",
      "[104474.45187385]\n",
      "[104474.45187385]\n",
      "[104474.45187385]\n",
      "[104474.45187385]\n",
      "[104474.45187385]\n",
      "[104474.45187385]\n"
     ]
    },
    {
     "name": "stderr",
     "output_type": "stream",
     "text": [
      "127.0.0.1 - - [13/Apr/2024 17:00:24] \"POST /get_pre/?age=21&balance=18508&loan=5165&score=580 HTTP/1.1\" 200 -\n",
      "127.0.0.1 - - [13/Apr/2024 17:00:24] \"POST /get_pre/?age=21&balance=18508&loan=5165&score=580 HTTP/1.1\" 200 -\n",
      "127.0.0.1 - - [13/Apr/2024 17:00:24] \"POST /get_pre/?age=21&balance=18508&loan=5165&score=580 HTTP/1.1\" 200 -\n",
      "127.0.0.1 - - [13/Apr/2024 17:00:24] \"POST /get_pre/?age=21&balance=18508&loan=5165&score=580 HTTP/1.1\" 200 -\n",
      "127.0.0.1 - - [13/Apr/2024 17:00:24] \"POST /get_pre/?age=21&balance=18508&loan=5165&score=580 HTTP/1.1\" 200 -\n",
      "127.0.0.1 - - [13/Apr/2024 17:00:24] \"POST /get_pre/?age=21&balance=18508&loan=5165&score=580 HTTP/1.1\" 200 -\n",
      "127.0.0.1 - - [13/Apr/2024 17:00:24] \"POST /get_pre/?age=21&balance=18508&loan=5165&score=580 HTTP/1.1\" 200 -\n",
      "127.0.0.1 - - [13/Apr/2024 17:00:24] \"POST /get_pre/?age=21&balance=18508&loan=5165&score=580 HTTP/1.1\" 200 -\n",
      "127.0.0.1 - - [13/Apr/2024 17:00:24] \"POST /get_pre/?age=21&balance=18508&loan=5165&score=580 HTTP/1.1\" 200 -\n",
      "127.0.0.1 - - [13/Apr/2024 17:00:24] \"POST /get_pre/?age=21&balance=18508&loan=5165&score=580 HTTP/1.1\" 200 -\n"
     ]
    },
    {
     "name": "stdout",
     "output_type": "stream",
     "text": [
      "[104474.45187385]\n",
      "[104474.45187385]\n",
      "[104474.45187385]\n",
      "[104474.45187385]\n",
      "[104474.45187385]\n",
      "[104474.45187385]\n",
      "[104474.45187385]\n",
      "[104474.45187385]\n",
      "[104474.45187385]\n",
      "[104474.45187385]\n"
     ]
    },
    {
     "name": "stderr",
     "output_type": "stream",
     "text": [
      "127.0.0.1 - - [13/Apr/2024 17:00:24] \"POST /get_pre/?age=21&balance=18508&loan=5165&score=580 HTTP/1.1\" 200 -\n",
      "127.0.0.1 - - [13/Apr/2024 17:00:24] \"POST /get_pre/?age=21&balance=18508&loan=5165&score=580 HTTP/1.1\" 200 -\n",
      "127.0.0.1 - - [13/Apr/2024 17:00:24] \"POST /get_pre/?age=21&balance=18508&loan=5165&score=580 HTTP/1.1\" 200 -\n",
      "127.0.0.1 - - [13/Apr/2024 17:00:24] \"POST /get_pre/?age=21&balance=18508&loan=5165&score=580 HTTP/1.1\" 200 -\n",
      "127.0.0.1 - - [13/Apr/2024 17:00:24] \"POST /get_pre/?age=21&balance=18508&loan=5165&score=580 HTTP/1.1\" 200 -\n",
      "127.0.0.1 - - [13/Apr/2024 17:00:24] \"POST /get_pre/?age=21&balance=18508&loan=5165&score=580 HTTP/1.1\" 200 -\n",
      "127.0.0.1 - - [13/Apr/2024 17:00:24] \"POST /get_pre/?age=21&balance=18508&loan=5165&score=580 HTTP/1.1\" 200 -\n",
      "127.0.0.1 - - [13/Apr/2024 17:00:24] \"POST /get_pre/?age=21&balance=18508&loan=5165&score=580 HTTP/1.1\" 200 -\n",
      "127.0.0.1 - - [13/Apr/2024 17:00:24] \"POST /get_pre/?age=21&balance=18508&loan=5165&score=580 HTTP/1.1\" 200 -\n",
      "127.0.0.1 - - [13/Apr/2024 17:00:24] \"POST /get_pre/?age=21&balance=18508&loan=5165&score=580 HTTP/1.1\" 200 -\n"
     ]
    },
    {
     "name": "stdout",
     "output_type": "stream",
     "text": [
      "[104474.45187385]\n",
      "[104474.45187385]\n",
      "[104474.45187385]\n",
      "[104474.45187385]\n",
      "[104474.45187385]\n",
      "[104474.45187385]\n",
      "[104474.45187385]\n",
      "[104474.45187385]\n",
      "[104474.45187385]\n",
      "[104474.45187385]\n"
     ]
    },
    {
     "name": "stderr",
     "output_type": "stream",
     "text": [
      "127.0.0.1 - - [13/Apr/2024 17:00:24] \"POST /get_pre/?age=21&balance=18508&loan=5165&score=580 HTTP/1.1\" 200 -\n",
      "127.0.0.1 - - [13/Apr/2024 17:00:24] \"POST /get_pre/?age=21&balance=18508&loan=5165&score=580 HTTP/1.1\" 200 -\n",
      "127.0.0.1 - - [13/Apr/2024 17:00:24] \"POST /get_pre/?age=21&balance=18508&loan=5165&score=580 HTTP/1.1\" 200 -\n",
      "127.0.0.1 - - [13/Apr/2024 17:00:24] \"POST /get_pre/?age=21&balance=18508&loan=5165&score=580 HTTP/1.1\" 200 -\n",
      "127.0.0.1 - - [13/Apr/2024 17:00:24] \"POST /get_pre/?age=21&balance=18508&loan=5165&score=580 HTTP/1.1\" 200 -\n",
      "127.0.0.1 - - [13/Apr/2024 17:00:24] \"POST /get_pre/?age=21&balance=18508&loan=5165&score=580 HTTP/1.1\" 200 -\n",
      "127.0.0.1 - - [13/Apr/2024 17:00:24] \"POST /get_pre/?age=21&balance=18508&loan=5165&score=580 HTTP/1.1\" 200 -\n",
      "127.0.0.1 - - [13/Apr/2024 17:00:24] \"POST /get_pre/?age=21&balance=18508&loan=5165&score=580 HTTP/1.1\" 200 -\n",
      "127.0.0.1 - - [13/Apr/2024 17:00:24] \"POST /get_pre/?age=21&balance=18508&loan=5165&score=580 HTTP/1.1\" 200 -\n",
      "127.0.0.1 - - [13/Apr/2024 17:00:24] \"POST /get_pre/?age=21&balance=18508&loan=5165&score=580 HTTP/1.1\" 200 -\n"
     ]
    },
    {
     "name": "stdout",
     "output_type": "stream",
     "text": [
      "[104474.45187385]\n",
      "[104474.45187385]\n",
      "[104474.45187385]\n",
      "[104474.45187385]\n",
      "[104474.45187385]\n",
      "[104474.45187385]\n",
      "[104474.45187385]\n",
      "[104474.45187385]\n",
      "[104474.45187385]\n",
      "[104474.45187385]\n"
     ]
    },
    {
     "name": "stderr",
     "output_type": "stream",
     "text": [
      "127.0.0.1 - - [13/Apr/2024 17:00:24] \"POST /get_pre/?age=21&balance=18508&loan=5165&score=580 HTTP/1.1\" 200 -\n",
      "127.0.0.1 - - [13/Apr/2024 17:00:24] \"POST /get_pre/?age=21&balance=18508&loan=5165&score=580 HTTP/1.1\" 200 -\n",
      "127.0.0.1 - - [13/Apr/2024 17:00:24] \"POST /get_pre/?age=21&balance=18508&loan=5165&score=580 HTTP/1.1\" 200 -\n",
      "127.0.0.1 - - [13/Apr/2024 17:00:24] \"POST /get_pre/?age=21&balance=18508&loan=5165&score=580 HTTP/1.1\" 200 -\n",
      "127.0.0.1 - - [13/Apr/2024 17:00:24] \"POST /get_pre/?age=21&balance=18508&loan=5165&score=580 HTTP/1.1\" 200 -\n",
      "127.0.0.1 - - [13/Apr/2024 17:00:24] \"POST /get_pre/?age=21&balance=18508&loan=5165&score=580 HTTP/1.1\" 200 -\n",
      "127.0.0.1 - - [13/Apr/2024 17:00:24] \"POST /get_pre/?age=21&balance=18508&loan=5165&score=580 HTTP/1.1\" 200 -\n",
      "127.0.0.1 - - [13/Apr/2024 17:00:24] \"POST /get_pre/?age=21&balance=18508&loan=5165&score=580 HTTP/1.1\" 200 -\n",
      "127.0.0.1 - - [13/Apr/2024 17:00:24] \"POST /get_pre/?age=21&balance=18508&loan=5165&score=580 HTTP/1.1\" 200 -\n",
      "127.0.0.1 - - [13/Apr/2024 17:00:24] \"POST /get_pre/?age=21&balance=18508&loan=5165&score=580 HTTP/1.1\" 200 -\n",
      "127.0.0.1 - - [13/Apr/2024 17:00:25] \"POST /get_pre/?age=21&balance=18508&loan=5165&score=580 HTTP/1.1\" 200 -\n"
     ]
    },
    {
     "name": "stdout",
     "output_type": "stream",
     "text": [
      "[104474.45187385]\n",
      "[104474.45187385]\n",
      "[104474.45187385]\n",
      "[104474.45187385]\n",
      "[104474.45187385]\n",
      "[104474.45187385]\n",
      "[104474.45187385]\n",
      "[104474.45187385]\n",
      "[104474.45187385]\n",
      "[104474.45187385]\n",
      "[104474.45187385]\n"
     ]
    },
    {
     "name": "stderr",
     "output_type": "stream",
     "text": [
      "127.0.0.1 - - [13/Apr/2024 17:00:25] \"POST /get_pre/?age=21&balance=18508&loan=5165&score=580 HTTP/1.1\" 200 -\n",
      "127.0.0.1 - - [13/Apr/2024 17:00:25] \"POST /get_pre/?age=21&balance=18508&loan=5165&score=580 HTTP/1.1\" 200 -\n",
      "127.0.0.1 - - [13/Apr/2024 17:00:25] \"POST /get_pre/?age=21&balance=18508&loan=5165&score=580 HTTP/1.1\" 200 -\n",
      "127.0.0.1 - - [13/Apr/2024 17:00:25] \"POST /get_pre/?age=21&balance=18508&loan=5165&score=580 HTTP/1.1\" 200 -\n",
      "127.0.0.1 - - [13/Apr/2024 17:00:25] \"POST /get_pre/?age=21&balance=18508&loan=5165&score=580 HTTP/1.1\" 200 -\n",
      "127.0.0.1 - - [13/Apr/2024 17:00:25] \"POST /get_pre/?age=21&balance=18508&loan=5165&score=580 HTTP/1.1\" 200 -\n",
      "127.0.0.1 - - [13/Apr/2024 17:00:25] \"POST /get_pre/?age=21&balance=18508&loan=5165&score=580 HTTP/1.1\" 200 -\n",
      "127.0.0.1 - - [13/Apr/2024 17:00:25] \"POST /get_pre/?age=21&balance=18508&loan=5165&score=580 HTTP/1.1\" 200 -\n",
      "127.0.0.1 - - [13/Apr/2024 17:00:25] \"POST /get_pre/?age=21&balance=18508&loan=5165&score=580 HTTP/1.1\" 200 -\n",
      "127.0.0.1 - - [13/Apr/2024 17:00:25] \"POST /get_pre/?age=21&balance=18508&loan=5165&score=580 HTTP/1.1\" 200 -\n"
     ]
    },
    {
     "name": "stdout",
     "output_type": "stream",
     "text": [
      "[104474.45187385]\n",
      "[104474.45187385]\n",
      "[104474.45187385]\n",
      "[104474.45187385]\n",
      "[104474.45187385]\n",
      "[104474.45187385]\n",
      "[104474.45187385]\n",
      "[104474.45187385]\n",
      "[104474.45187385]\n",
      "[104474.45187385]\n"
     ]
    },
    {
     "name": "stderr",
     "output_type": "stream",
     "text": [
      "127.0.0.1 - - [13/Apr/2024 17:00:25] \"POST /get_pre/?age=21&balance=18508&loan=5165&score=580 HTTP/1.1\" 200 -\n",
      "127.0.0.1 - - [13/Apr/2024 17:00:25] \"POST /get_pre/?age=21&balance=18508&loan=5165&score=580 HTTP/1.1\" 200 -\n",
      "127.0.0.1 - - [13/Apr/2024 17:00:25] \"POST /get_pre/?age=21&balance=18508&loan=5165&score=580 HTTP/1.1\" 200 -\n",
      "127.0.0.1 - - [13/Apr/2024 17:00:25] \"POST /get_pre/?age=21&balance=18508&loan=5165&score=580 HTTP/1.1\" 200 -\n",
      "127.0.0.1 - - [13/Apr/2024 17:00:25] \"POST /get_pre/?age=21&balance=18508&loan=5165&score=580 HTTP/1.1\" 200 -\n",
      "127.0.0.1 - - [13/Apr/2024 17:00:25] \"POST /get_pre/?age=21&balance=18508&loan=5165&score=580 HTTP/1.1\" 200 -\n"
     ]
    },
    {
     "name": "stdout",
     "output_type": "stream",
     "text": [
      "[104474.45187385]\n",
      "[104474.45187385]\n",
      "[104474.45187385]\n",
      "[104474.45187385]\n",
      "[104474.45187385]\n",
      "[104474.45187385]\n"
     ]
    },
    {
     "name": "stderr",
     "output_type": "stream",
     "text": [
      "127.0.0.1 - - [13/Apr/2024 17:00:25] \"POST /get_pre/?age=21&balance=18508&loan=5165&score=580 HTTP/1.1\" 200 -\n",
      "127.0.0.1 - - [13/Apr/2024 17:00:25] \"POST /get_pre/?age=21&balance=18508&loan=5165&score=580 HTTP/1.1\" 200 -\n",
      "127.0.0.1 - - [13/Apr/2024 17:00:25] \"POST /get_pre/?age=21&balance=18508&loan=5165&score=580 HTTP/1.1\" 200 -\n",
      "127.0.0.1 - - [13/Apr/2024 17:00:25] \"POST /get_pre/?age=21&balance=18508&loan=5165&score=580 HTTP/1.1\" 200 -\n",
      "127.0.0.1 - - [13/Apr/2024 17:00:25] \"POST /get_pre/?age=21&balance=18508&loan=5165&score=580 HTTP/1.1\" 200 -\n",
      "127.0.0.1 - - [13/Apr/2024 17:00:25] \"POST /get_pre/?age=21&balance=18508&loan=5165&score=580 HTTP/1.1\" 200 -\n",
      "127.0.0.1 - - [13/Apr/2024 17:00:25] \"POST /get_pre/?age=21&balance=18508&loan=5165&score=580 HTTP/1.1\" 200 -\n",
      "127.0.0.1 - - [13/Apr/2024 17:00:25] \"POST /get_pre/?age=21&balance=18508&loan=5165&score=580 HTTP/1.1\" 200 -\n",
      "127.0.0.1 - - [13/Apr/2024 17:00:25] \"POST /get_pre/?age=21&balance=18508&loan=5165&score=580 HTTP/1.1\" 200 -\n"
     ]
    },
    {
     "name": "stdout",
     "output_type": "stream",
     "text": [
      "[104474.45187385]\n",
      "[104474.45187385]\n",
      "[104474.45187385]\n",
      "[104474.45187385]\n",
      "[104474.45187385]\n",
      "[104474.45187385]\n",
      "[104474.45187385]\n",
      "[104474.45187385]\n",
      "[104474.45187385]\n"
     ]
    },
    {
     "name": "stderr",
     "output_type": "stream",
     "text": [
      "127.0.0.1 - - [13/Apr/2024 17:00:25] \"POST /get_pre/?age=21&balance=18508&loan=5165&score=580 HTTP/1.1\" 200 -\n",
      "127.0.0.1 - - [13/Apr/2024 17:00:25] \"POST /get_pre/?age=21&balance=18508&loan=5165&score=580 HTTP/1.1\" 200 -\n",
      "127.0.0.1 - - [13/Apr/2024 17:00:25] \"POST /get_pre/?age=21&balance=18508&loan=5165&score=580 HTTP/1.1\" 200 -\n",
      "127.0.0.1 - - [13/Apr/2024 17:00:25] \"POST /get_pre/?age=21&balance=18508&loan=5165&score=580 HTTP/1.1\" 200 -\n",
      "127.0.0.1 - - [13/Apr/2024 17:00:25] \"POST /get_pre/?age=21&balance=18508&loan=5165&score=580 HTTP/1.1\" 200 -\n",
      "127.0.0.1 - - [13/Apr/2024 17:00:25] \"POST /get_pre/?age=21&balance=18508&loan=5165&score=580 HTTP/1.1\" 200 -\n",
      "127.0.0.1 - - [13/Apr/2024 17:00:25] \"POST /get_pre/?age=21&balance=18508&loan=5165&score=580 HTTP/1.1\" 200 -\n",
      "127.0.0.1 - - [13/Apr/2024 17:00:25] \"POST /get_pre/?age=21&balance=18508&loan=5165&score=580 HTTP/1.1\" 200 -\n",
      "127.0.0.1 - - [13/Apr/2024 17:00:25] \"POST /get_pre/?age=21&balance=18508&loan=5165&score=580 HTTP/1.1\" 200 -\n",
      "127.0.0.1 - - [13/Apr/2024 17:00:25] \"POST /get_pre/?age=21&balance=18508&loan=5165&score=580 HTTP/1.1\" 200 -\n"
     ]
    },
    {
     "name": "stdout",
     "output_type": "stream",
     "text": [
      "[104474.45187385]\n",
      "[104474.45187385]\n",
      "[104474.45187385]\n",
      "[104474.45187385]\n",
      "[104474.45187385]\n",
      "[104474.45187385]\n",
      "[104474.45187385]\n",
      "[104474.45187385]\n",
      "[104474.45187385]\n",
      "[104474.45187385]\n"
     ]
    },
    {
     "name": "stderr",
     "output_type": "stream",
     "text": [
      "127.0.0.1 - - [13/Apr/2024 17:00:25] \"POST /get_pre/?age=21&balance=18508&loan=5165&score=580 HTTP/1.1\" 200 -\n",
      "127.0.0.1 - - [13/Apr/2024 17:00:25] \"POST /get_pre/?age=21&balance=18508&loan=5165&score=580 HTTP/1.1\" 200 -\n",
      "127.0.0.1 - - [13/Apr/2024 17:00:25] \"POST /get_pre/?age=21&balance=18508&loan=5165&score=580 HTTP/1.1\" 200 -\n",
      "127.0.0.1 - - [13/Apr/2024 17:00:25] \"POST /get_pre/?age=21&balance=18508&loan=5165&score=580 HTTP/1.1\" 200 -\n",
      "127.0.0.1 - - [13/Apr/2024 17:00:25] \"POST /get_pre/?age=21&balance=18508&loan=5165&score=580 HTTP/1.1\" 200 -\n",
      "127.0.0.1 - - [13/Apr/2024 17:00:25] \"POST /get_pre/?age=21&balance=18508&loan=5165&score=580 HTTP/1.1\" 200 -\n",
      "127.0.0.1 - - [13/Apr/2024 17:00:25] \"POST /get_pre/?age=21&balance=18508&loan=5165&score=580 HTTP/1.1\" 200 -\n",
      "127.0.0.1 - - [13/Apr/2024 17:00:25] \"POST /get_pre/?age=21&balance=18508&loan=5165&score=580 HTTP/1.1\" 200 -\n",
      "127.0.0.1 - - [13/Apr/2024 17:00:26] \"POST /get_pre/?age=21&balance=18508&loan=5165&score=580 HTTP/1.1\" 200 -\n",
      "127.0.0.1 - - [13/Apr/2024 17:00:26] \"POST /get_pre/?age=21&balance=18508&loan=5165&score=580 HTTP/1.1\" 200 -\n"
     ]
    },
    {
     "name": "stdout",
     "output_type": "stream",
     "text": [
      "[104474.45187385]\n",
      "[104474.45187385]\n",
      "[104474.45187385]\n",
      "[104474.45187385]\n",
      "[104474.45187385]\n",
      "[104474.45187385]\n",
      "[104474.45187385]\n",
      "[104474.45187385]\n",
      "[104474.45187385]\n",
      "[104474.45187385]\n"
     ]
    },
    {
     "name": "stderr",
     "output_type": "stream",
     "text": [
      "127.0.0.1 - - [13/Apr/2024 17:00:26] \"POST /get_pre/?age=21&balance=18508&loan=5165&score=580 HTTP/1.1\" 200 -\n",
      "127.0.0.1 - - [13/Apr/2024 17:00:26] \"POST /get_pre/?age=21&balance=18508&loan=5165&score=580 HTTP/1.1\" 200 -\n",
      "127.0.0.1 - - [13/Apr/2024 17:00:26] \"POST /get_pre/?age=21&balance=18508&loan=5165&score=580 HTTP/1.1\" 200 -\n",
      "127.0.0.1 - - [13/Apr/2024 17:00:26] \"POST /get_pre/?age=21&balance=18508&loan=5165&score=580 HTTP/1.1\" 200 -\n",
      "127.0.0.1 - - [13/Apr/2024 17:00:26] \"POST /get_pre/?age=21&balance=18508&loan=5165&score=580 HTTP/1.1\" 200 -\n",
      "127.0.0.1 - - [13/Apr/2024 17:00:26] \"POST /get_pre/?age=21&balance=18508&loan=5165&score=580 HTTP/1.1\" 200 -\n",
      "127.0.0.1 - - [13/Apr/2024 17:00:26] \"POST /get_pre/?age=21&balance=18508&loan=5165&score=580 HTTP/1.1\" 200 -\n",
      "127.0.0.1 - - [13/Apr/2024 17:00:26] \"POST /get_pre/?age=21&balance=18508&loan=5165&score=580 HTTP/1.1\" 200 -\n",
      "127.0.0.1 - - [13/Apr/2024 17:00:26] \"POST /get_pre/?age=21&balance=18508&loan=5165&score=580 HTTP/1.1\" 200 -\n",
      "127.0.0.1 - - [13/Apr/2024 17:00:26] \"POST /get_pre/?age=21&balance=18508&loan=5165&score=580 HTTP/1.1\" 200 -\n"
     ]
    },
    {
     "name": "stdout",
     "output_type": "stream",
     "text": [
      "[104474.45187385]\n",
      "[104474.45187385]\n",
      "[104474.45187385]\n",
      "[104474.45187385]\n",
      "[104474.45187385]\n",
      "[104474.45187385]\n",
      "[104474.45187385]\n",
      "[104474.45187385]\n",
      "[104474.45187385]\n",
      "[104474.45187385]\n"
     ]
    },
    {
     "name": "stderr",
     "output_type": "stream",
     "text": [
      "127.0.0.1 - - [13/Apr/2024 17:00:26] \"POST /get_pre/?age=21&balance=18508&loan=5165&score=580 HTTP/1.1\" 200 -\n",
      "127.0.0.1 - - [13/Apr/2024 17:00:26] \"POST /get_pre/?age=21&balance=18508&loan=5165&score=580 HTTP/1.1\" 200 -\n",
      "127.0.0.1 - - [13/Apr/2024 17:00:26] \"POST /get_pre/?age=21&balance=18508&loan=5165&score=580 HTTP/1.1\" 200 -\n",
      "127.0.0.1 - - [13/Apr/2024 17:00:26] \"POST /get_pre/?age=21&balance=18508&loan=5165&score=580 HTTP/1.1\" 200 -\n",
      "127.0.0.1 - - [13/Apr/2024 17:00:26] \"POST /get_pre/?age=21&balance=18508&loan=5165&score=580 HTTP/1.1\" 200 -\n",
      "127.0.0.1 - - [13/Apr/2024 17:00:26] \"POST /get_pre/?age=21&balance=18508&loan=5165&score=580 HTTP/1.1\" 200 -\n",
      "127.0.0.1 - - [13/Apr/2024 17:00:26] \"POST /get_pre/?age=21&balance=18508&loan=5165&score=580 HTTP/1.1\" 200 -\n",
      "127.0.0.1 - - [13/Apr/2024 17:00:26] \"POST /get_pre/?age=21&balance=18508&loan=5165&score=580 HTTP/1.1\" 200 -\n",
      "127.0.0.1 - - [13/Apr/2024 17:00:26] \"POST /get_pre/?age=21&balance=18508&loan=5165&score=580 HTTP/1.1\" 200 -\n",
      "127.0.0.1 - - [13/Apr/2024 17:00:26] \"POST /get_pre/?age=21&balance=18508&loan=5165&score=580 HTTP/1.1\" 200 -\n"
     ]
    },
    {
     "name": "stdout",
     "output_type": "stream",
     "text": [
      "[104474.45187385]\n",
      "[104474.45187385]\n",
      "[104474.45187385]\n",
      "[104474.45187385]\n",
      "[104474.45187385]\n",
      "[104474.45187385]\n",
      "[104474.45187385]\n",
      "[104474.45187385]\n",
      "[104474.45187385]\n",
      "[104474.45187385]\n"
     ]
    },
    {
     "name": "stderr",
     "output_type": "stream",
     "text": [
      "127.0.0.1 - - [13/Apr/2024 17:00:26] \"POST /get_pre/?age=21&balance=18508&loan=5165&score=580 HTTP/1.1\" 200 -\n",
      "127.0.0.1 - - [13/Apr/2024 17:00:26] \"POST /get_pre/?age=21&balance=18508&loan=5165&score=580 HTTP/1.1\" 200 -\n",
      "127.0.0.1 - - [13/Apr/2024 17:00:26] \"POST /get_pre/?age=21&balance=18508&loan=5165&score=580 HTTP/1.1\" 200 -\n",
      "127.0.0.1 - - [13/Apr/2024 17:00:26] \"POST /get_pre/?age=21&balance=18508&loan=5165&score=580 HTTP/1.1\" 200 -\n",
      "127.0.0.1 - - [13/Apr/2024 17:00:26] \"POST /get_pre/?age=21&balance=18508&loan=5165&score=580 HTTP/1.1\" 200 -\n",
      "127.0.0.1 - - [13/Apr/2024 17:00:26] \"POST /get_pre/?age=21&balance=18508&loan=5165&score=580 HTTP/1.1\" 200 -\n",
      "127.0.0.1 - - [13/Apr/2024 17:00:26] \"POST /get_pre/?age=21&balance=18508&loan=5165&score=580 HTTP/1.1\" 200 -\n",
      "127.0.0.1 - - [13/Apr/2024 17:00:26] \"POST /get_pre/?age=21&balance=18508&loan=5165&score=580 HTTP/1.1\" 200 -\n",
      "127.0.0.1 - - [13/Apr/2024 17:00:26] \"POST /get_pre/?age=21&balance=18508&loan=5165&score=580 HTTP/1.1\" 200 -\n",
      "127.0.0.1 - - [13/Apr/2024 17:00:26] \"POST /get_pre/?age=21&balance=18508&loan=5165&score=580 HTTP/1.1\" 200 -\n"
     ]
    },
    {
     "name": "stdout",
     "output_type": "stream",
     "text": [
      "[104474.45187385]\n",
      "[104474.45187385]\n",
      "[104474.45187385]\n",
      "[104474.45187385]\n",
      "[104474.45187385]\n",
      "[104474.45187385]\n",
      "[104474.45187385]\n",
      "[104474.45187385]\n",
      "[104474.45187385]\n",
      "[104474.45187385]\n"
     ]
    },
    {
     "name": "stderr",
     "output_type": "stream",
     "text": [
      "127.0.0.1 - - [13/Apr/2024 17:00:26] \"POST /get_pre/?age=21&balance=18508&loan=5165&score=580 HTTP/1.1\" 200 -\n",
      "127.0.0.1 - - [13/Apr/2024 17:00:26] \"POST /get_pre/?age=21&balance=18508&loan=5165&score=580 HTTP/1.1\" 200 -\n",
      "127.0.0.1 - - [13/Apr/2024 17:00:26] \"POST /get_pre/?age=21&balance=18508&loan=5165&score=580 HTTP/1.1\" 200 -\n",
      "127.0.0.1 - - [13/Apr/2024 17:00:26] \"POST /get_pre/?age=21&balance=18508&loan=5165&score=580 HTTP/1.1\" 200 -\n",
      "127.0.0.1 - - [13/Apr/2024 17:00:26] \"POST /get_pre/?age=21&balance=18508&loan=5165&score=580 HTTP/1.1\" 200 -\n",
      "127.0.0.1 - - [13/Apr/2024 17:00:26] \"POST /get_pre/?age=21&balance=18508&loan=5165&score=580 HTTP/1.1\" 200 -\n",
      "127.0.0.1 - - [13/Apr/2024 17:00:26] \"POST /get_pre/?age=21&balance=18508&loan=5165&score=580 HTTP/1.1\" 200 -\n",
      "127.0.0.1 - - [13/Apr/2024 17:00:26] \"POST /get_pre/?age=21&balance=18508&loan=5165&score=580 HTTP/1.1\" 200 -\n",
      "127.0.0.1 - - [13/Apr/2024 17:00:26] \"POST /get_pre/?age=21&balance=18508&loan=5165&score=580 HTTP/1.1\" 200 -\n",
      "127.0.0.1 - - [13/Apr/2024 17:00:26] \"POST /get_pre/?age=21&balance=18508&loan=5165&score=580 HTTP/1.1\" 200 -\n",
      "127.0.0.1 - - [13/Apr/2024 17:00:26] \"POST /get_pre/?age=21&balance=18508&loan=5165&score=580 HTTP/1.1\" 200 -\n"
     ]
    },
    {
     "name": "stdout",
     "output_type": "stream",
     "text": [
      "[104474.45187385]\n",
      "[104474.45187385]\n",
      "[104474.45187385]\n",
      "[104474.45187385]\n",
      "[104474.45187385]\n",
      "[104474.45187385]\n",
      "[104474.45187385]\n",
      "[104474.45187385]\n",
      "[104474.45187385]\n",
      "[104474.45187385]\n",
      "[104474.45187385]\n"
     ]
    },
    {
     "name": "stderr",
     "output_type": "stream",
     "text": [
      "127.0.0.1 - - [13/Apr/2024 17:00:26] \"POST /get_pre/?age=21&balance=18508&loan=5165&score=580 HTTP/1.1\" 200 -\n",
      "127.0.0.1 - - [13/Apr/2024 17:00:26] \"POST /get_pre/?age=21&balance=18508&loan=5165&score=580 HTTP/1.1\" 200 -\n",
      "127.0.0.1 - - [13/Apr/2024 17:00:26] \"POST /get_pre/?age=21&balance=18508&loan=5165&score=580 HTTP/1.1\" 200 -\n",
      "127.0.0.1 - - [13/Apr/2024 17:00:26] \"POST /get_pre/?age=21&balance=18508&loan=5165&score=580 HTTP/1.1\" 200 -\n",
      "127.0.0.1 - - [13/Apr/2024 17:00:26] \"POST /get_pre/?age=21&balance=18508&loan=5165&score=580 HTTP/1.1\" 200 -\n",
      "127.0.0.1 - - [13/Apr/2024 17:00:26] \"POST /get_pre/?age=21&balance=18508&loan=5165&score=580 HTTP/1.1\" 200 -\n",
      "127.0.0.1 - - [13/Apr/2024 17:00:27] \"POST /get_pre/?age=21&balance=18508&loan=5165&score=580 HTTP/1.1\" 200 -\n",
      "127.0.0.1 - - [13/Apr/2024 17:00:27] \"POST /get_pre/?age=21&balance=18508&loan=5165&score=580 HTTP/1.1\" 200 -\n",
      "127.0.0.1 - - [13/Apr/2024 17:00:27] \"POST /get_pre/?age=21&balance=18508&loan=5165&score=580 HTTP/1.1\" 200 -\n",
      "127.0.0.1 - - [13/Apr/2024 17:00:27] \"POST /get_pre/?age=21&balance=18508&loan=5165&score=580 HTTP/1.1\" 200 -\n"
     ]
    },
    {
     "name": "stdout",
     "output_type": "stream",
     "text": [
      "[104474.45187385]\n",
      "[104474.45187385]\n",
      "[104474.45187385]\n",
      "[104474.45187385]\n",
      "[104474.45187385]\n",
      "[104474.45187385]\n",
      "[104474.45187385]\n",
      "[104474.45187385]\n",
      "[104474.45187385]\n",
      "[104474.45187385]\n"
     ]
    },
    {
     "name": "stderr",
     "output_type": "stream",
     "text": [
      "127.0.0.1 - - [13/Apr/2024 17:00:27] \"POST /get_pre/?age=21&balance=18508&loan=5165&score=580 HTTP/1.1\" 200 -\n",
      "127.0.0.1 - - [13/Apr/2024 17:00:27] \"POST /get_pre/?age=21&balance=18508&loan=5165&score=580 HTTP/1.1\" 200 -\n",
      "127.0.0.1 - - [13/Apr/2024 17:00:27] \"POST /get_pre/?age=21&balance=18508&loan=5165&score=580 HTTP/1.1\" 200 -\n",
      "127.0.0.1 - - [13/Apr/2024 17:00:27] \"POST /get_pre/?age=21&balance=18508&loan=5165&score=580 HTTP/1.1\" 200 -\n",
      "127.0.0.1 - - [13/Apr/2024 17:00:27] \"POST /get_pre/?age=21&balance=18508&loan=5165&score=580 HTTP/1.1\" 200 -\n",
      "127.0.0.1 - - [13/Apr/2024 17:00:27] \"POST /get_pre/?age=21&balance=18508&loan=5165&score=580 HTTP/1.1\" 200 -\n",
      "127.0.0.1 - - [13/Apr/2024 17:00:27] \"POST /get_pre/?age=21&balance=18508&loan=5165&score=580 HTTP/1.1\" 200 -\n",
      "127.0.0.1 - - [13/Apr/2024 17:00:27] \"POST /get_pre/?age=21&balance=18508&loan=5165&score=580 HTTP/1.1\" 200 -\n",
      "127.0.0.1 - - [13/Apr/2024 17:00:27] \"POST /get_pre/?age=21&balance=18508&loan=5165&score=580 HTTP/1.1\" 200 -\n",
      "127.0.0.1 - - [13/Apr/2024 17:00:27] \"POST /get_pre/?age=21&balance=18508&loan=5165&score=580 HTTP/1.1\" 200 -\n"
     ]
    },
    {
     "name": "stdout",
     "output_type": "stream",
     "text": [
      "[104474.45187385]\n",
      "[104474.45187385]\n",
      "[104474.45187385]\n",
      "[104474.45187385]\n",
      "[104474.45187385]\n",
      "[104474.45187385]\n",
      "[104474.45187385]\n",
      "[104474.45187385]\n",
      "[104474.45187385]\n",
      "[104474.45187385]\n"
     ]
    },
    {
     "name": "stderr",
     "output_type": "stream",
     "text": [
      "127.0.0.1 - - [13/Apr/2024 17:00:27] \"POST /get_pre/?age=21&balance=18508&loan=5165&score=580 HTTP/1.1\" 200 -\n",
      "127.0.0.1 - - [13/Apr/2024 17:00:27] \"POST /get_pre/?age=21&balance=18508&loan=5165&score=580 HTTP/1.1\" 200 -\n",
      "127.0.0.1 - - [13/Apr/2024 17:00:27] \"POST /get_pre/?age=21&balance=18508&loan=5165&score=580 HTTP/1.1\" 200 -\n",
      "127.0.0.1 - - [13/Apr/2024 17:00:27] \"POST /get_pre/?age=21&balance=18508&loan=5165&score=580 HTTP/1.1\" 200 -\n",
      "127.0.0.1 - - [13/Apr/2024 17:00:27] \"POST /get_pre/?age=21&balance=18508&loan=5165&score=580 HTTP/1.1\" 200 -\n",
      "127.0.0.1 - - [13/Apr/2024 17:00:27] \"POST /get_pre/?age=21&balance=18508&loan=5165&score=580 HTTP/1.1\" 200 -\n",
      "127.0.0.1 - - [13/Apr/2024 17:00:27] \"POST /get_pre/?age=21&balance=18508&loan=5165&score=580 HTTP/1.1\" 200 -\n",
      "127.0.0.1 - - [13/Apr/2024 17:00:27] \"POST /get_pre/?age=21&balance=18508&loan=5165&score=580 HTTP/1.1\" 200 -\n",
      "127.0.0.1 - - [13/Apr/2024 17:00:27] \"POST /get_pre/?age=21&balance=18508&loan=5165&score=580 HTTP/1.1\" 200 -\n",
      "127.0.0.1 - - [13/Apr/2024 17:00:27] \"POST /get_pre/?age=21&balance=18508&loan=5165&score=580 HTTP/1.1\" 200 -\n"
     ]
    },
    {
     "name": "stdout",
     "output_type": "stream",
     "text": [
      "[104474.45187385]\n",
      "[104474.45187385]\n",
      "[104474.45187385]\n",
      "[104474.45187385]\n",
      "[104474.45187385]\n",
      "[104474.45187385]\n",
      "[104474.45187385]\n",
      "[104474.45187385]\n",
      "[104474.45187385]\n",
      "[104474.45187385]\n"
     ]
    },
    {
     "name": "stderr",
     "output_type": "stream",
     "text": [
      "127.0.0.1 - - [13/Apr/2024 17:00:27] \"POST /get_pre/?age=21&balance=18508&loan=5165&score=580 HTTP/1.1\" 200 -\n",
      "127.0.0.1 - - [13/Apr/2024 17:00:27] \"POST /get_pre/?age=21&balance=18508&loan=5165&score=580 HTTP/1.1\" 200 -\n",
      "127.0.0.1 - - [13/Apr/2024 17:00:27] \"POST /get_pre/?age=21&balance=18508&loan=5165&score=580 HTTP/1.1\" 200 -\n",
      "127.0.0.1 - - [13/Apr/2024 17:00:27] \"POST /get_pre/?age=21&balance=18508&loan=5165&score=580 HTTP/1.1\" 200 -\n",
      "127.0.0.1 - - [13/Apr/2024 17:00:27] \"POST /get_pre/?age=21&balance=18508&loan=5165&score=580 HTTP/1.1\" 200 -\n",
      "127.0.0.1 - - [13/Apr/2024 17:00:27] \"POST /get_pre/?age=21&balance=18508&loan=5165&score=580 HTTP/1.1\" 200 -\n",
      "127.0.0.1 - - [13/Apr/2024 17:00:27] \"POST /get_pre/?age=21&balance=18508&loan=5165&score=580 HTTP/1.1\" 200 -\n",
      "127.0.0.1 - - [13/Apr/2024 17:00:27] \"POST /get_pre/?age=21&balance=18508&loan=5165&score=580 HTTP/1.1\" 200 -\n",
      "127.0.0.1 - - [13/Apr/2024 17:00:27] \"POST /get_pre/?age=21&balance=18508&loan=5165&score=580 HTTP/1.1\" 200 -\n",
      "127.0.0.1 - - [13/Apr/2024 17:00:27] \"POST /get_pre/?age=21&balance=18508&loan=5165&score=580 HTTP/1.1\" 200 -\n",
      "127.0.0.1 - - [13/Apr/2024 17:00:27] \"POST /get_pre/?age=21&balance=18508&loan=5165&score=580 HTTP/1.1\" 200 -\n"
     ]
    },
    {
     "name": "stdout",
     "output_type": "stream",
     "text": [
      "[104474.45187385]\n",
      "[104474.45187385]\n",
      "[104474.45187385]\n",
      "[104474.45187385]\n",
      "[104474.45187385]\n",
      "[104474.45187385]\n",
      "[104474.45187385]\n",
      "[104474.45187385]\n",
      "[104474.45187385]\n",
      "[104474.45187385]\n",
      "[104474.45187385]\n"
     ]
    },
    {
     "name": "stderr",
     "output_type": "stream",
     "text": [
      "127.0.0.1 - - [13/Apr/2024 17:00:27] \"POST /get_pre/?age=21&balance=18508&loan=5165&score=580 HTTP/1.1\" 200 -\n",
      "127.0.0.1 - - [13/Apr/2024 17:00:27] \"POST /get_pre/?age=21&balance=18508&loan=5165&score=580 HTTP/1.1\" 200 -\n",
      "127.0.0.1 - - [13/Apr/2024 17:00:27] \"POST /get_pre/?age=21&balance=18508&loan=5165&score=580 HTTP/1.1\" 200 -\n",
      "127.0.0.1 - - [13/Apr/2024 17:00:27] \"POST /get_pre/?age=21&balance=18508&loan=5165&score=580 HTTP/1.1\" 200 -\n",
      "127.0.0.1 - - [13/Apr/2024 17:00:27] \"POST /get_pre/?age=21&balance=18508&loan=5165&score=580 HTTP/1.1\" 200 -\n",
      "127.0.0.1 - - [13/Apr/2024 17:00:27] \"POST /get_pre/?age=21&balance=18508&loan=5165&score=580 HTTP/1.1\" 200 -\n",
      "127.0.0.1 - - [13/Apr/2024 17:00:27] \"POST /get_pre/?age=21&balance=18508&loan=5165&score=580 HTTP/1.1\" 200 -\n",
      "127.0.0.1 - - [13/Apr/2024 17:00:27] \"POST /get_pre/?age=21&balance=18508&loan=5165&score=580 HTTP/1.1\" 200 -\n",
      "127.0.0.1 - - [13/Apr/2024 17:00:27] \"POST /get_pre/?age=21&balance=18508&loan=5165&score=580 HTTP/1.1\" 200 -\n",
      "127.0.0.1 - - [13/Apr/2024 17:00:27] \"POST /get_pre/?age=21&balance=18508&loan=5165&score=580 HTTP/1.1\" 200 -\n"
     ]
    },
    {
     "name": "stdout",
     "output_type": "stream",
     "text": [
      "[104474.45187385]\n",
      "[104474.45187385]\n",
      "[104474.45187385]\n",
      "[104474.45187385]\n",
      "[104474.45187385]\n",
      "[104474.45187385]\n",
      "[104474.45187385]\n",
      "[104474.45187385]\n",
      "[104474.45187385]\n",
      "[104474.45187385]\n"
     ]
    },
    {
     "name": "stderr",
     "output_type": "stream",
     "text": [
      "127.0.0.1 - - [13/Apr/2024 17:00:27] \"POST /get_pre/?age=21&balance=18508&loan=5165&score=580 HTTP/1.1\" 200 -\n",
      "127.0.0.1 - - [13/Apr/2024 17:00:27] \"POST /get_pre/?age=21&balance=18508&loan=5165&score=580 HTTP/1.1\" 200 -\n",
      "127.0.0.1 - - [13/Apr/2024 17:00:27] \"POST /get_pre/?age=21&balance=18508&loan=5165&score=580 HTTP/1.1\" 200 -\n",
      "127.0.0.1 - - [13/Apr/2024 17:00:27] \"POST /get_pre/?age=21&balance=18508&loan=5165&score=580 HTTP/1.1\" 200 -\n",
      "127.0.0.1 - - [13/Apr/2024 17:00:28] \"POST /get_pre/?age=21&balance=18508&loan=5165&score=580 HTTP/1.1\" 200 -\n",
      "127.0.0.1 - - [13/Apr/2024 17:00:28] \"POST /get_pre/?age=21&balance=18508&loan=5165&score=580 HTTP/1.1\" 200 -\n",
      "127.0.0.1 - - [13/Apr/2024 17:00:28] \"POST /get_pre/?age=21&balance=18508&loan=5165&score=580 HTTP/1.1\" 200 -\n",
      "127.0.0.1 - - [13/Apr/2024 17:00:28] \"POST /get_pre/?age=21&balance=18508&loan=5165&score=580 HTTP/1.1\" 200 -\n",
      "127.0.0.1 - - [13/Apr/2024 17:00:28] \"POST /get_pre/?age=21&balance=18508&loan=5165&score=580 HTTP/1.1\" 200 -\n",
      "127.0.0.1 - - [13/Apr/2024 17:00:28] \"POST /get_pre/?age=21&balance=18508&loan=5165&score=580 HTTP/1.1\" 200 -\n"
     ]
    },
    {
     "name": "stdout",
     "output_type": "stream",
     "text": [
      "[104474.45187385]\n",
      "[104474.45187385]\n",
      "[104474.45187385]\n",
      "[104474.45187385]\n",
      "[104474.45187385]\n",
      "[104474.45187385]\n",
      "[104474.45187385]\n",
      "[104474.45187385]\n",
      "[104474.45187385]\n",
      "[104474.45187385]\n"
     ]
    },
    {
     "name": "stderr",
     "output_type": "stream",
     "text": [
      "127.0.0.1 - - [13/Apr/2024 17:00:28] \"POST /get_pre/?age=21&balance=18508&loan=5165&score=580 HTTP/1.1\" 200 -\n",
      "127.0.0.1 - - [13/Apr/2024 17:00:28] \"POST /get_pre/?age=21&balance=18508&loan=5165&score=580 HTTP/1.1\" 200 -\n",
      "127.0.0.1 - - [13/Apr/2024 17:00:28] \"POST /get_pre/?age=21&balance=18508&loan=5165&score=580 HTTP/1.1\" 200 -\n",
      "127.0.0.1 - - [13/Apr/2024 17:00:28] \"POST /get_pre/?age=21&balance=18508&loan=5165&score=580 HTTP/1.1\" 200 -\n",
      "127.0.0.1 - - [13/Apr/2024 17:00:28] \"POST /get_pre/?age=21&balance=18508&loan=5165&score=580 HTTP/1.1\" 200 -\n",
      "127.0.0.1 - - [13/Apr/2024 17:00:28] \"POST /get_pre/?age=21&balance=18508&loan=5165&score=580 HTTP/1.1\" 200 -\n",
      "127.0.0.1 - - [13/Apr/2024 17:00:28] \"POST /get_pre/?age=21&balance=18508&loan=5165&score=580 HTTP/1.1\" 200 -\n",
      "127.0.0.1 - - [13/Apr/2024 17:00:28] \"POST /get_pre/?age=21&balance=18508&loan=5165&score=580 HTTP/1.1\" 200 -\n",
      "127.0.0.1 - - [13/Apr/2024 17:00:28] \"POST /get_pre/?age=21&balance=18508&loan=5165&score=580 HTTP/1.1\" 200 -\n",
      "127.0.0.1 - - [13/Apr/2024 17:00:28] \"POST /get_pre/?age=21&balance=18508&loan=5165&score=580 HTTP/1.1\" 200 -\n"
     ]
    },
    {
     "name": "stdout",
     "output_type": "stream",
     "text": [
      "[104474.45187385]\n",
      "[104474.45187385]\n",
      "[104474.45187385]\n",
      "[104474.45187385]\n",
      "[104474.45187385]\n",
      "[104474.45187385]\n",
      "[104474.45187385]\n",
      "[104474.45187385]\n",
      "[104474.45187385]\n",
      "[104474.45187385]\n"
     ]
    },
    {
     "name": "stderr",
     "output_type": "stream",
     "text": [
      "127.0.0.1 - - [13/Apr/2024 17:00:28] \"POST /get_pre/?age=21&balance=18508&loan=5165&score=580 HTTP/1.1\" 200 -\n",
      "127.0.0.1 - - [13/Apr/2024 17:00:28] \"POST /get_pre/?age=21&balance=18508&loan=5165&score=580 HTTP/1.1\" 200 -\n",
      "127.0.0.1 - - [13/Apr/2024 17:00:28] \"POST /get_pre/?age=21&balance=18508&loan=5165&score=580 HTTP/1.1\" 200 -\n",
      "127.0.0.1 - - [13/Apr/2024 17:00:28] \"POST /get_pre/?age=21&balance=18508&loan=5165&score=580 HTTP/1.1\" 200 -\n",
      "127.0.0.1 - - [13/Apr/2024 17:00:28] \"POST /get_pre/?age=21&balance=18508&loan=5165&score=580 HTTP/1.1\" 200 -\n",
      "127.0.0.1 - - [13/Apr/2024 17:00:28] \"POST /get_pre/?age=21&balance=18508&loan=5165&score=580 HTTP/1.1\" 200 -\n",
      "127.0.0.1 - - [13/Apr/2024 17:00:28] \"POST /get_pre/?age=21&balance=18508&loan=5165&score=580 HTTP/1.1\" 200 -\n",
      "127.0.0.1 - - [13/Apr/2024 17:00:28] \"POST /get_pre/?age=21&balance=18508&loan=5165&score=580 HTTP/1.1\" 200 -\n",
      "127.0.0.1 - - [13/Apr/2024 17:00:28] \"POST /get_pre/?age=21&balance=18508&loan=5165&score=580 HTTP/1.1\" 200 -\n",
      "127.0.0.1 - - [13/Apr/2024 17:00:28] \"POST /get_pre/?age=21&balance=18508&loan=5165&score=580 HTTP/1.1\" 200 -\n"
     ]
    },
    {
     "name": "stdout",
     "output_type": "stream",
     "text": [
      "[104474.45187385]\n",
      "[104474.45187385]\n",
      "[104474.45187385]\n",
      "[104474.45187385]\n",
      "[104474.45187385]\n",
      "[104474.45187385]\n",
      "[104474.45187385]\n",
      "[104474.45187385]\n",
      "[104474.45187385]\n",
      "[104474.45187385]\n"
     ]
    },
    {
     "name": "stderr",
     "output_type": "stream",
     "text": [
      "127.0.0.1 - - [13/Apr/2024 17:00:28] \"POST /get_pre/?age=21&balance=18508&loan=5165&score=580 HTTP/1.1\" 200 -\n",
      "127.0.0.1 - - [13/Apr/2024 17:00:28] \"POST /get_pre/?age=21&balance=18508&loan=5165&score=580 HTTP/1.1\" 200 -\n",
      "127.0.0.1 - - [13/Apr/2024 17:00:28] \"POST /get_pre/?age=21&balance=18508&loan=5165&score=580 HTTP/1.1\" 200 -\n",
      "127.0.0.1 - - [13/Apr/2024 17:00:28] \"POST /get_pre/?age=21&balance=18508&loan=5165&score=580 HTTP/1.1\" 200 -\n",
      "127.0.0.1 - - [13/Apr/2024 17:00:28] \"POST /get_pre/?age=21&balance=18508&loan=5165&score=580 HTTP/1.1\" 200 -\n",
      "127.0.0.1 - - [13/Apr/2024 17:00:28] \"POST /get_pre/?age=21&balance=18508&loan=5165&score=580 HTTP/1.1\" 200 -\n",
      "127.0.0.1 - - [13/Apr/2024 17:00:28] \"POST /get_pre/?age=21&balance=18508&loan=5165&score=580 HTTP/1.1\" 200 -\n",
      "127.0.0.1 - - [13/Apr/2024 17:00:28] \"POST /get_pre/?age=21&balance=18508&loan=5165&score=580 HTTP/1.1\" 200 -\n",
      "127.0.0.1 - - [13/Apr/2024 17:00:28] \"POST /get_pre/?age=21&balance=18508&loan=5165&score=580 HTTP/1.1\" 200 -\n"
     ]
    },
    {
     "name": "stdout",
     "output_type": "stream",
     "text": [
      "[104474.45187385]\n",
      "[104474.45187385]\n",
      "[104474.45187385]\n",
      "[104474.45187385]\n",
      "[104474.45187385]\n",
      "[104474.45187385]\n",
      "[104474.45187385]\n",
      "[104474.45187385]\n",
      "[104474.45187385]\n"
     ]
    },
    {
     "name": "stderr",
     "output_type": "stream",
     "text": [
      "127.0.0.1 - - [13/Apr/2024 17:00:28] \"POST /get_pre/?age=21&balance=18508&loan=5165&score=580 HTTP/1.1\" 200 -\n",
      "127.0.0.1 - - [13/Apr/2024 17:00:28] \"POST /get_pre/?age=21&balance=18508&loan=5165&score=580 HTTP/1.1\" 200 -\n",
      "127.0.0.1 - - [13/Apr/2024 17:00:28] \"POST /get_pre/?age=21&balance=18508&loan=5165&score=580 HTTP/1.1\" 200 -\n",
      "127.0.0.1 - - [13/Apr/2024 17:00:28] \"POST /get_pre/?age=21&balance=18508&loan=5165&score=580 HTTP/1.1\" 200 -\n",
      "127.0.0.1 - - [13/Apr/2024 17:00:28] \"POST /get_pre/?age=21&balance=18508&loan=5165&score=580 HTTP/1.1\" 200 -\n",
      "127.0.0.1 - - [13/Apr/2024 17:00:28] \"POST /get_pre/?age=21&balance=18508&loan=5165&score=580 HTTP/1.1\" 200 -\n",
      "127.0.0.1 - - [13/Apr/2024 17:00:28] \"POST /get_pre/?age=21&balance=18508&loan=5165&score=580 HTTP/1.1\" 200 -\n",
      "127.0.0.1 - - [13/Apr/2024 17:00:28] \"POST /get_pre/?age=21&balance=18508&loan=5165&score=580 HTTP/1.1\" 200 -\n",
      "127.0.0.1 - - [13/Apr/2024 17:00:28] \"POST /get_pre/?age=21&balance=18508&loan=5165&score=580 HTTP/1.1\" 200 -\n",
      "127.0.0.1 - - [13/Apr/2024 17:00:28] \"POST /get_pre/?age=21&balance=18508&loan=5165&score=580 HTTP/1.1\" 200 -\n"
     ]
    },
    {
     "name": "stdout",
     "output_type": "stream",
     "text": [
      "[104474.45187385]\n",
      "[104474.45187385]\n",
      "[104474.45187385]\n",
      "[104474.45187385]\n",
      "[104474.45187385]\n",
      "[104474.45187385]\n",
      "[104474.45187385]\n",
      "[104474.45187385]\n",
      "[104474.45187385]\n",
      "[104474.45187385]\n"
     ]
    },
    {
     "name": "stderr",
     "output_type": "stream",
     "text": [
      "127.0.0.1 - - [13/Apr/2024 17:00:28] \"POST /get_pre/?age=21&balance=18508&loan=5165&score=580 HTTP/1.1\" 200 -\n",
      "127.0.0.1 - - [13/Apr/2024 17:00:28] \"POST /get_pre/?age=21&balance=18508&loan=5165&score=580 HTTP/1.1\" 200 -\n",
      "127.0.0.1 - - [13/Apr/2024 17:00:29] \"POST /get_pre/?age=21&balance=18508&loan=5165&score=580 HTTP/1.1\" 200 -\n",
      "127.0.0.1 - - [13/Apr/2024 17:00:29] \"POST /get_pre/?age=21&balance=18508&loan=5165&score=580 HTTP/1.1\" 200 -\n",
      "127.0.0.1 - - [13/Apr/2024 17:00:29] \"POST /get_pre/?age=21&balance=18508&loan=5165&score=580 HTTP/1.1\" 200 -\n",
      "127.0.0.1 - - [13/Apr/2024 17:00:29] \"POST /get_pre/?age=21&balance=18508&loan=5165&score=580 HTTP/1.1\" 200 -\n",
      "127.0.0.1 - - [13/Apr/2024 17:00:29] \"POST /get_pre/?age=21&balance=18508&loan=5165&score=580 HTTP/1.1\" 200 -\n",
      "127.0.0.1 - - [13/Apr/2024 17:00:29] \"POST /get_pre/?age=21&balance=18508&loan=5165&score=580 HTTP/1.1\" 200 -\n",
      "127.0.0.1 - - [13/Apr/2024 17:00:29] \"POST /get_pre/?age=21&balance=18508&loan=5165&score=580 HTTP/1.1\" 200 -\n",
      "127.0.0.1 - - [13/Apr/2024 17:00:29] \"POST /get_pre/?age=21&balance=18508&loan=5165&score=580 HTTP/1.1\" 200 -\n"
     ]
    },
    {
     "name": "stdout",
     "output_type": "stream",
     "text": [
      "[104474.45187385]\n",
      "[104474.45187385]\n",
      "[104474.45187385]\n",
      "[104474.45187385]\n",
      "[104474.45187385]\n",
      "[104474.45187385]\n",
      "[104474.45187385]\n",
      "[104474.45187385]\n",
      "[104474.45187385]\n",
      "[104474.45187385]\n"
     ]
    },
    {
     "name": "stderr",
     "output_type": "stream",
     "text": [
      "127.0.0.1 - - [13/Apr/2024 17:00:29] \"POST /get_pre/?age=21&balance=18508&loan=5165&score=580 HTTP/1.1\" 200 -\n",
      "127.0.0.1 - - [13/Apr/2024 17:00:29] \"POST /get_pre/?age=21&balance=18508&loan=5165&score=580 HTTP/1.1\" 200 -\n",
      "127.0.0.1 - - [13/Apr/2024 17:00:29] \"POST /get_pre/?age=21&balance=18508&loan=5165&score=580 HTTP/1.1\" 200 -\n",
      "127.0.0.1 - - [13/Apr/2024 17:00:29] \"POST /get_pre/?age=21&balance=18508&loan=5165&score=580 HTTP/1.1\" 200 -\n",
      "127.0.0.1 - - [13/Apr/2024 17:00:29] \"POST /get_pre/?age=21&balance=18508&loan=5165&score=580 HTTP/1.1\" 200 -\n",
      "127.0.0.1 - - [13/Apr/2024 17:00:29] \"POST /get_pre/?age=21&balance=18508&loan=5165&score=580 HTTP/1.1\" 200 -\n",
      "127.0.0.1 - - [13/Apr/2024 17:00:29] \"POST /get_pre/?age=21&balance=18508&loan=5165&score=580 HTTP/1.1\" 200 -\n",
      "127.0.0.1 - - [13/Apr/2024 17:00:29] \"POST /get_pre/?age=21&balance=18508&loan=5165&score=580 HTTP/1.1\" 200 -\n",
      "127.0.0.1 - - [13/Apr/2024 17:00:29] \"POST /get_pre/?age=21&balance=18508&loan=5165&score=580 HTTP/1.1\" 200 -\n",
      "127.0.0.1 - - [13/Apr/2024 17:00:29] \"POST /get_pre/?age=21&balance=18508&loan=5165&score=580 HTTP/1.1\" 200 -\n"
     ]
    },
    {
     "name": "stdout",
     "output_type": "stream",
     "text": [
      "[104474.45187385]\n",
      "[104474.45187385]\n",
      "[104474.45187385]\n",
      "[104474.45187385]\n",
      "[104474.45187385]\n",
      "[104474.45187385]\n",
      "[104474.45187385]\n",
      "[104474.45187385]\n",
      "[104474.45187385]\n",
      "[104474.45187385]\n"
     ]
    },
    {
     "name": "stderr",
     "output_type": "stream",
     "text": [
      "127.0.0.1 - - [13/Apr/2024 17:00:29] \"POST /get_pre/?age=21&balance=18508&loan=5165&score=580 HTTP/1.1\" 200 -\n",
      "127.0.0.1 - - [13/Apr/2024 17:00:29] \"POST /get_pre/?age=21&balance=18508&loan=5165&score=580 HTTP/1.1\" 200 -\n",
      "127.0.0.1 - - [13/Apr/2024 17:00:29] \"POST /get_pre/?age=21&balance=18508&loan=5165&score=580 HTTP/1.1\" 200 -\n",
      "127.0.0.1 - - [13/Apr/2024 17:00:29] \"POST /get_pre/?age=21&balance=18508&loan=5165&score=580 HTTP/1.1\" 200 -\n",
      "127.0.0.1 - - [13/Apr/2024 17:00:29] \"POST /get_pre/?age=21&balance=18508&loan=5165&score=580 HTTP/1.1\" 200 -\n",
      "127.0.0.1 - - [13/Apr/2024 17:00:29] \"POST /get_pre/?age=21&balance=18508&loan=5165&score=580 HTTP/1.1\" 200 -\n",
      "127.0.0.1 - - [13/Apr/2024 17:00:29] \"POST /get_pre/?age=21&balance=18508&loan=5165&score=580 HTTP/1.1\" 200 -\n",
      "127.0.0.1 - - [13/Apr/2024 17:00:29] \"POST /get_pre/?age=21&balance=18508&loan=5165&score=580 HTTP/1.1\" 200 -\n",
      "127.0.0.1 - - [13/Apr/2024 17:00:29] \"POST /get_pre/?age=21&balance=18508&loan=5165&score=580 HTTP/1.1\" 200 -\n",
      "127.0.0.1 - - [13/Apr/2024 17:00:29] \"POST /get_pre/?age=21&balance=18508&loan=5165&score=580 HTTP/1.1\" 200 -\n"
     ]
    },
    {
     "name": "stdout",
     "output_type": "stream",
     "text": [
      "[104474.45187385]\n",
      "[104474.45187385]\n",
      "[104474.45187385]\n",
      "[104474.45187385]\n",
      "[104474.45187385]\n",
      "[104474.45187385]\n",
      "[104474.45187385]\n",
      "[104474.45187385]\n",
      "[104474.45187385]\n",
      "[104474.45187385]\n"
     ]
    },
    {
     "name": "stderr",
     "output_type": "stream",
     "text": [
      "127.0.0.1 - - [13/Apr/2024 17:00:29] \"POST /get_pre/?age=21&balance=18508&loan=5165&score=580 HTTP/1.1\" 200 -\n",
      "127.0.0.1 - - [13/Apr/2024 17:00:29] \"POST /get_pre/?age=21&balance=18508&loan=5165&score=580 HTTP/1.1\" 200 -\n",
      "127.0.0.1 - - [13/Apr/2024 17:00:29] \"POST /get_pre/?age=21&balance=18508&loan=5165&score=580 HTTP/1.1\" 200 -\n",
      "127.0.0.1 - - [13/Apr/2024 17:00:29] \"POST /get_pre/?age=21&balance=18508&loan=5165&score=580 HTTP/1.1\" 200 -\n",
      "127.0.0.1 - - [13/Apr/2024 17:00:29] \"POST /get_pre/?age=21&balance=18508&loan=5165&score=580 HTTP/1.1\" 200 -\n",
      "127.0.0.1 - - [13/Apr/2024 17:00:29] \"POST /get_pre/?age=21&balance=18508&loan=5165&score=580 HTTP/1.1\" 200 -\n",
      "127.0.0.1 - - [13/Apr/2024 17:00:29] \"POST /get_pre/?age=21&balance=18508&loan=5165&score=580 HTTP/1.1\" 200 -\n",
      "127.0.0.1 - - [13/Apr/2024 17:00:29] \"POST /get_pre/?age=21&balance=18508&loan=5165&score=580 HTTP/1.1\" 200 -\n",
      "127.0.0.1 - - [13/Apr/2024 17:00:29] \"POST /get_pre/?age=21&balance=18508&loan=5165&score=580 HTTP/1.1\" 200 -\n",
      "127.0.0.1 - - [13/Apr/2024 17:00:29] \"POST /get_pre/?age=21&balance=18508&loan=5165&score=580 HTTP/1.1\" 200 -\n"
     ]
    },
    {
     "name": "stdout",
     "output_type": "stream",
     "text": [
      "[104474.45187385]\n",
      "[104474.45187385]\n",
      "[104474.45187385]\n",
      "[104474.45187385]\n",
      "[104474.45187385]\n",
      "[104474.45187385]\n",
      "[104474.45187385]\n",
      "[104474.45187385]\n",
      "[104474.45187385]\n",
      "[104474.45187385]\n"
     ]
    },
    {
     "name": "stderr",
     "output_type": "stream",
     "text": [
      "127.0.0.1 - - [13/Apr/2024 17:00:29] \"POST /get_pre/?age=21&balance=18508&loan=5165&score=580 HTTP/1.1\" 200 -\n",
      "127.0.0.1 - - [13/Apr/2024 17:00:29] \"POST /get_pre/?age=21&balance=18508&loan=5165&score=580 HTTP/1.1\" 200 -\n",
      "127.0.0.1 - - [13/Apr/2024 17:00:29] \"POST /get_pre/?age=21&balance=18508&loan=5165&score=580 HTTP/1.1\" 200 -\n",
      "127.0.0.1 - - [13/Apr/2024 17:00:29] \"POST /get_pre/?age=21&balance=18508&loan=5165&score=580 HTTP/1.1\" 200 -\n",
      "127.0.0.1 - - [13/Apr/2024 17:00:29] \"POST /get_pre/?age=21&balance=18508&loan=5165&score=580 HTTP/1.1\" 200 -\n",
      "127.0.0.1 - - [13/Apr/2024 17:00:29] \"POST /get_pre/?age=21&balance=18508&loan=5165&score=580 HTTP/1.1\" 200 -\n",
      "127.0.0.1 - - [13/Apr/2024 17:00:29] \"POST /get_pre/?age=21&balance=18508&loan=5165&score=580 HTTP/1.1\" 200 -\n",
      "127.0.0.1 - - [13/Apr/2024 17:00:29] \"POST /get_pre/?age=21&balance=18508&loan=5165&score=580 HTTP/1.1\" 200 -\n",
      "127.0.0.1 - - [13/Apr/2024 17:00:29] \"POST /get_pre/?age=21&balance=18508&loan=5165&score=580 HTTP/1.1\" 200 -\n",
      "127.0.0.1 - - [13/Apr/2024 17:00:29] \"POST /get_pre/?age=21&balance=18508&loan=5165&score=580 HTTP/1.1\" 200 -\n",
      "127.0.0.1 - - [13/Apr/2024 17:00:30] \"POST /get_pre/?age=21&balance=18508&loan=5165&score=580 HTTP/1.1\" 200 -\n"
     ]
    },
    {
     "name": "stdout",
     "output_type": "stream",
     "text": [
      "[104474.45187385]\n",
      "[104474.45187385]\n",
      "[104474.45187385]\n",
      "[104474.45187385]\n",
      "[104474.45187385]\n",
      "[104474.45187385]\n",
      "[104474.45187385]\n",
      "[104474.45187385]\n",
      "[104474.45187385]\n",
      "[104474.45187385]\n",
      "[104474.45187385]\n"
     ]
    },
    {
     "name": "stderr",
     "output_type": "stream",
     "text": [
      "127.0.0.1 - - [13/Apr/2024 17:00:30] \"POST /get_pre/?age=21&balance=18508&loan=5165&score=580 HTTP/1.1\" 200 -\n",
      "127.0.0.1 - - [13/Apr/2024 17:00:30] \"POST /get_pre/?age=21&balance=18508&loan=5165&score=580 HTTP/1.1\" 200 -\n",
      "127.0.0.1 - - [13/Apr/2024 17:00:30] \"POST /get_pre/?age=21&balance=18508&loan=5165&score=580 HTTP/1.1\" 200 -\n",
      "127.0.0.1 - - [13/Apr/2024 17:00:30] \"POST /get_pre/?age=21&balance=18508&loan=5165&score=580 HTTP/1.1\" 200 -\n",
      "127.0.0.1 - - [13/Apr/2024 17:00:30] \"POST /get_pre/?age=21&balance=18508&loan=5165&score=580 HTTP/1.1\" 200 -\n",
      "127.0.0.1 - - [13/Apr/2024 17:00:30] \"POST /get_pre/?age=21&balance=18508&loan=5165&score=580 HTTP/1.1\" 200 -\n",
      "127.0.0.1 - - [13/Apr/2024 17:00:30] \"POST /get_pre/?age=21&balance=18508&loan=5165&score=580 HTTP/1.1\" 200 -\n",
      "127.0.0.1 - - [13/Apr/2024 17:00:30] \"POST /get_pre/?age=21&balance=18508&loan=5165&score=580 HTTP/1.1\" 200 -\n",
      "127.0.0.1 - - [13/Apr/2024 17:00:30] \"POST /get_pre/?age=21&balance=18508&loan=5165&score=580 HTTP/1.1\" 200 -\n",
      "127.0.0.1 - - [13/Apr/2024 17:00:30] \"POST /get_pre/?age=21&balance=18508&loan=5165&score=580 HTTP/1.1\" 200 -\n"
     ]
    },
    {
     "name": "stdout",
     "output_type": "stream",
     "text": [
      "[104474.45187385]\n",
      "[104474.45187385]\n",
      "[104474.45187385]\n",
      "[104474.45187385]\n",
      "[104474.45187385]\n",
      "[104474.45187385]\n",
      "[104474.45187385]\n",
      "[104474.45187385]\n",
      "[104474.45187385]\n",
      "[104474.45187385]\n"
     ]
    },
    {
     "name": "stderr",
     "output_type": "stream",
     "text": [
      "127.0.0.1 - - [13/Apr/2024 17:00:30] \"POST /get_pre/?age=21&balance=18508&loan=5165&score=580 HTTP/1.1\" 200 -\n",
      "127.0.0.1 - - [13/Apr/2024 17:00:30] \"POST /get_pre/?age=21&balance=18508&loan=5165&score=580 HTTP/1.1\" 200 -\n",
      "127.0.0.1 - - [13/Apr/2024 17:00:30] \"POST /get_pre/?age=21&balance=18508&loan=5165&score=580 HTTP/1.1\" 200 -\n",
      "127.0.0.1 - - [13/Apr/2024 17:00:30] \"POST /get_pre/?age=21&balance=18508&loan=5165&score=580 HTTP/1.1\" 200 -\n",
      "127.0.0.1 - - [13/Apr/2024 17:00:30] \"POST /get_pre/?age=21&balance=18508&loan=5165&score=580 HTTP/1.1\" 200 -\n",
      "127.0.0.1 - - [13/Apr/2024 17:00:30] \"POST /get_pre/?age=21&balance=18508&loan=5165&score=580 HTTP/1.1\" 200 -\n",
      "127.0.0.1 - - [13/Apr/2024 17:00:30] \"POST /get_pre/?age=21&balance=18508&loan=5165&score=580 HTTP/1.1\" 200 -\n",
      "127.0.0.1 - - [13/Apr/2024 17:00:30] \"POST /get_pre/?age=21&balance=18508&loan=5165&score=580 HTTP/1.1\" 200 -\n",
      "127.0.0.1 - - [13/Apr/2024 17:00:30] \"POST /get_pre/?age=21&balance=18508&loan=5165&score=580 HTTP/1.1\" 200 -\n",
      "127.0.0.1 - - [13/Apr/2024 17:00:30] \"POST /get_pre/?age=21&balance=18508&loan=5165&score=580 HTTP/1.1\" 200 -\n"
     ]
    },
    {
     "name": "stdout",
     "output_type": "stream",
     "text": [
      "[104474.45187385]\n",
      "[104474.45187385]\n",
      "[104474.45187385]\n",
      "[104474.45187385]\n",
      "[104474.45187385]\n",
      "[104474.45187385]\n",
      "[104474.45187385]\n",
      "[104474.45187385]\n",
      "[104474.45187385]\n",
      "[104474.45187385]\n"
     ]
    },
    {
     "name": "stderr",
     "output_type": "stream",
     "text": [
      "127.0.0.1 - - [13/Apr/2024 17:00:30] \"POST /get_pre/?age=21&balance=18508&loan=5165&score=580 HTTP/1.1\" 200 -\n",
      "127.0.0.1 - - [13/Apr/2024 17:00:30] \"POST /get_pre/?age=21&balance=18508&loan=5165&score=580 HTTP/1.1\" 200 -\n",
      "127.0.0.1 - - [13/Apr/2024 17:00:30] \"POST /get_pre/?age=21&balance=18508&loan=5165&score=580 HTTP/1.1\" 200 -\n",
      "127.0.0.1 - - [13/Apr/2024 17:00:30] \"POST /get_pre/?age=21&balance=18508&loan=5165&score=580 HTTP/1.1\" 200 -\n",
      "127.0.0.1 - - [13/Apr/2024 17:00:30] \"POST /get_pre/?age=21&balance=18508&loan=5165&score=580 HTTP/1.1\" 200 -\n",
      "127.0.0.1 - - [13/Apr/2024 17:00:30] \"POST /get_pre/?age=21&balance=18508&loan=5165&score=580 HTTP/1.1\" 200 -\n",
      "127.0.0.1 - - [13/Apr/2024 17:00:30] \"POST /get_pre/?age=21&balance=18508&loan=5165&score=580 HTTP/1.1\" 200 -\n",
      "127.0.0.1 - - [13/Apr/2024 17:00:30] \"POST /get_pre/?age=21&balance=18508&loan=5165&score=580 HTTP/1.1\" 200 -\n",
      "127.0.0.1 - - [13/Apr/2024 17:00:30] \"POST /get_pre/?age=21&balance=18508&loan=5165&score=580 HTTP/1.1\" 200 -\n",
      "127.0.0.1 - - [13/Apr/2024 17:00:30] \"POST /get_pre/?age=21&balance=18508&loan=5165&score=580 HTTP/1.1\" 200 -\n"
     ]
    },
    {
     "name": "stdout",
     "output_type": "stream",
     "text": [
      "[104474.45187385]\n",
      "[104474.45187385]\n",
      "[104474.45187385]\n",
      "[104474.45187385]\n",
      "[104474.45187385]\n",
      "[104474.45187385]\n",
      "[104474.45187385]\n",
      "[104474.45187385]\n",
      "[104474.45187385]\n",
      "[104474.45187385]\n"
     ]
    },
    {
     "name": "stderr",
     "output_type": "stream",
     "text": [
      "127.0.0.1 - - [13/Apr/2024 17:00:30] \"POST /get_pre/?age=21&balance=18508&loan=5165&score=580 HTTP/1.1\" 200 -\n",
      "127.0.0.1 - - [13/Apr/2024 17:00:30] \"POST /get_pre/?age=21&balance=18508&loan=5165&score=580 HTTP/1.1\" 200 -\n",
      "127.0.0.1 - - [13/Apr/2024 17:00:30] \"POST /get_pre/?age=21&balance=18508&loan=5165&score=580 HTTP/1.1\" 200 -\n",
      "127.0.0.1 - - [13/Apr/2024 17:00:30] \"POST /get_pre/?age=21&balance=18508&loan=5165&score=580 HTTP/1.1\" 200 -\n",
      "127.0.0.1 - - [13/Apr/2024 17:00:30] \"POST /get_pre/?age=21&balance=18508&loan=5165&score=580 HTTP/1.1\" 200 -\n",
      "127.0.0.1 - - [13/Apr/2024 17:00:30] \"POST /get_pre/?age=21&balance=18508&loan=5165&score=580 HTTP/1.1\" 200 -\n",
      "127.0.0.1 - - [13/Apr/2024 17:00:30] \"POST /get_pre/?age=21&balance=18508&loan=5165&score=580 HTTP/1.1\" 200 -\n",
      "127.0.0.1 - - [13/Apr/2024 17:00:30] \"POST /get_pre/?age=21&balance=18508&loan=5165&score=580 HTTP/1.1\" 200 -\n",
      "127.0.0.1 - - [13/Apr/2024 17:00:30] \"POST /get_pre/?age=21&balance=18508&loan=5165&score=580 HTTP/1.1\" 200 -\n",
      "127.0.0.1 - - [13/Apr/2024 17:00:30] \"POST /get_pre/?age=21&balance=18508&loan=5165&score=580 HTTP/1.1\" 200 -\n",
      "127.0.0.1 - - [13/Apr/2024 17:00:30] \"POST /get_pre/?age=21&balance=18508&loan=5165&score=580 HTTP/1.1\" 200 -\n"
     ]
    },
    {
     "name": "stdout",
     "output_type": "stream",
     "text": [
      "[104474.45187385]\n",
      "[104474.45187385]\n",
      "[104474.45187385]\n",
      "[104474.45187385]\n",
      "[104474.45187385]\n",
      "[104474.45187385]\n",
      "[104474.45187385]\n",
      "[104474.45187385]\n",
      "[104474.45187385]\n",
      "[104474.45187385]\n",
      "[104474.45187385]\n"
     ]
    },
    {
     "name": "stderr",
     "output_type": "stream",
     "text": [
      "127.0.0.1 - - [13/Apr/2024 17:00:30] \"POST /get_pre/?age=21&balance=18508&loan=5165&score=580 HTTP/1.1\" 200 -\n",
      "127.0.0.1 - - [13/Apr/2024 17:00:30] \"POST /get_pre/?age=21&balance=18508&loan=5165&score=580 HTTP/1.1\" 200 -\n",
      "127.0.0.1 - - [13/Apr/2024 17:00:30] \"POST /get_pre/?age=21&balance=18508&loan=5165&score=580 HTTP/1.1\" 200 -\n",
      "127.0.0.1 - - [13/Apr/2024 17:00:30] \"POST /get_pre/?age=21&balance=18508&loan=5165&score=580 HTTP/1.1\" 200 -\n",
      "127.0.0.1 - - [13/Apr/2024 17:00:30] \"POST /get_pre/?age=21&balance=18508&loan=5165&score=580 HTTP/1.1\" 200 -\n",
      "127.0.0.1 - - [13/Apr/2024 17:00:31] \"POST /get_pre/?age=21&balance=18508&loan=5165&score=580 HTTP/1.1\" 200 -\n",
      "127.0.0.1 - - [13/Apr/2024 17:00:31] \"POST /get_pre/?age=21&balance=18508&loan=5165&score=580 HTTP/1.1\" 200 -\n",
      "127.0.0.1 - - [13/Apr/2024 17:00:31] \"POST /get_pre/?age=21&balance=18508&loan=5165&score=580 HTTP/1.1\" 200 -\n",
      "127.0.0.1 - - [13/Apr/2024 17:00:31] \"POST /get_pre/?age=21&balance=18508&loan=5165&score=580 HTTP/1.1\" 200 -\n",
      "127.0.0.1 - - [13/Apr/2024 17:00:31] \"POST /get_pre/?age=21&balance=18508&loan=5165&score=580 HTTP/1.1\" 200 -\n"
     ]
    },
    {
     "name": "stdout",
     "output_type": "stream",
     "text": [
      "[104474.45187385]\n",
      "[104474.45187385]\n",
      "[104474.45187385]\n",
      "[104474.45187385]\n",
      "[104474.45187385]\n",
      "[104474.45187385]\n",
      "[104474.45187385]\n",
      "[104474.45187385]\n",
      "[104474.45187385]\n",
      "[104474.45187385]\n"
     ]
    },
    {
     "name": "stderr",
     "output_type": "stream",
     "text": [
      "127.0.0.1 - - [13/Apr/2024 17:00:31] \"POST /get_pre/?age=21&balance=18508&loan=5165&score=580 HTTP/1.1\" 200 -\n",
      "127.0.0.1 - - [13/Apr/2024 17:00:31] \"POST /get_pre/?age=21&balance=18508&loan=5165&score=580 HTTP/1.1\" 200 -\n",
      "127.0.0.1 - - [13/Apr/2024 17:00:31] \"POST /get_pre/?age=21&balance=18508&loan=5165&score=580 HTTP/1.1\" 200 -\n",
      "127.0.0.1 - - [13/Apr/2024 17:00:31] \"POST /get_pre/?age=21&balance=18508&loan=5165&score=580 HTTP/1.1\" 200 -\n",
      "127.0.0.1 - - [13/Apr/2024 17:00:31] \"POST /get_pre/?age=21&balance=18508&loan=5165&score=580 HTTP/1.1\" 200 -\n",
      "127.0.0.1 - - [13/Apr/2024 17:00:31] \"POST /get_pre/?age=21&balance=18508&loan=5165&score=580 HTTP/1.1\" 200 -\n",
      "127.0.0.1 - - [13/Apr/2024 17:00:31] \"POST /get_pre/?age=21&balance=18508&loan=5165&score=580 HTTP/1.1\" 200 -\n",
      "127.0.0.1 - - [13/Apr/2024 17:00:31] \"POST /get_pre/?age=21&balance=18508&loan=5165&score=580 HTTP/1.1\" 200 -\n",
      "127.0.0.1 - - [13/Apr/2024 17:00:31] \"POST /get_pre/?age=21&balance=18508&loan=5165&score=580 HTTP/1.1\" 200 -\n",
      "127.0.0.1 - - [13/Apr/2024 17:00:31] \"POST /get_pre/?age=21&balance=18508&loan=5165&score=580 HTTP/1.1\" 200 -\n",
      "127.0.0.1 - - [13/Apr/2024 17:00:31] \"POST /get_pre/?age=21&balance=18508&loan=5165&score=580 HTTP/1.1\" 200 -\n"
     ]
    },
    {
     "name": "stdout",
     "output_type": "stream",
     "text": [
      "[104474.45187385]\n",
      "[104474.45187385]\n",
      "[104474.45187385]\n",
      "[104474.45187385]\n",
      "[104474.45187385]\n",
      "[104474.45187385]\n",
      "[104474.45187385]\n",
      "[104474.45187385]\n",
      "[104474.45187385]\n",
      "[104474.45187385]\n",
      "[104474.45187385]\n"
     ]
    },
    {
     "name": "stderr",
     "output_type": "stream",
     "text": [
      "127.0.0.1 - - [13/Apr/2024 17:00:31] \"POST /get_pre/?age=21&balance=18508&loan=5165&score=580 HTTP/1.1\" 200 -\n",
      "127.0.0.1 - - [13/Apr/2024 17:00:31] \"POST /get_pre/?age=21&balance=18508&loan=5165&score=580 HTTP/1.1\" 200 -\n",
      "127.0.0.1 - - [13/Apr/2024 17:00:31] \"POST /get_pre/?age=21&balance=18508&loan=5165&score=580 HTTP/1.1\" 200 -\n",
      "127.0.0.1 - - [13/Apr/2024 17:00:31] \"POST /get_pre/?age=21&balance=18508&loan=5165&score=580 HTTP/1.1\" 200 -\n",
      "127.0.0.1 - - [13/Apr/2024 17:00:31] \"POST /get_pre/?age=21&balance=18508&loan=5165&score=580 HTTP/1.1\" 200 -\n",
      "127.0.0.1 - - [13/Apr/2024 17:00:31] \"POST /get_pre/?age=21&balance=18508&loan=5165&score=580 HTTP/1.1\" 200 -\n",
      "127.0.0.1 - - [13/Apr/2024 17:00:31] \"POST /get_pre/?age=21&balance=18508&loan=5165&score=580 HTTP/1.1\" 200 -\n",
      "127.0.0.1 - - [13/Apr/2024 17:00:31] \"POST /get_pre/?age=21&balance=18508&loan=5165&score=580 HTTP/1.1\" 200 -\n",
      "127.0.0.1 - - [13/Apr/2024 17:00:31] \"POST /get_pre/?age=21&balance=18508&loan=5165&score=580 HTTP/1.1\" 200 -\n",
      "127.0.0.1 - - [13/Apr/2024 17:00:31] \"POST /get_pre/?age=21&balance=18508&loan=5165&score=580 HTTP/1.1\" 200 -\n"
     ]
    },
    {
     "name": "stdout",
     "output_type": "stream",
     "text": [
      "[104474.45187385]\n",
      "[104474.45187385]\n",
      "[104474.45187385]\n",
      "[104474.45187385]\n",
      "[104474.45187385]\n",
      "[104474.45187385]\n",
      "[104474.45187385]\n",
      "[104474.45187385]\n",
      "[104474.45187385]\n",
      "[104474.45187385]\n"
     ]
    },
    {
     "name": "stderr",
     "output_type": "stream",
     "text": [
      "127.0.0.1 - - [13/Apr/2024 17:00:31] \"POST /get_pre/?age=21&balance=18508&loan=5165&score=580 HTTP/1.1\" 200 -\n",
      "127.0.0.1 - - [13/Apr/2024 17:00:31] \"POST /get_pre/?age=21&balance=18508&loan=5165&score=580 HTTP/1.1\" 200 -\n",
      "127.0.0.1 - - [13/Apr/2024 17:00:31] \"POST /get_pre/?age=21&balance=18508&loan=5165&score=580 HTTP/1.1\" 200 -\n",
      "127.0.0.1 - - [13/Apr/2024 17:00:31] \"POST /get_pre/?age=21&balance=18508&loan=5165&score=580 HTTP/1.1\" 200 -\n",
      "127.0.0.1 - - [13/Apr/2024 17:00:31] \"POST /get_pre/?age=21&balance=18508&loan=5165&score=580 HTTP/1.1\" 200 -\n",
      "127.0.0.1 - - [13/Apr/2024 17:00:31] \"POST /get_pre/?age=21&balance=18508&loan=5165&score=580 HTTP/1.1\" 200 -\n",
      "127.0.0.1 - - [13/Apr/2024 17:00:31] \"POST /get_pre/?age=21&balance=18508&loan=5165&score=580 HTTP/1.1\" 200 -\n",
      "127.0.0.1 - - [13/Apr/2024 17:00:31] \"POST /get_pre/?age=21&balance=18508&loan=5165&score=580 HTTP/1.1\" 200 -\n",
      "127.0.0.1 - - [13/Apr/2024 17:00:31] \"POST /get_pre/?age=21&balance=18508&loan=5165&score=580 HTTP/1.1\" 200 -\n"
     ]
    },
    {
     "name": "stdout",
     "output_type": "stream",
     "text": [
      "[104474.45187385]\n",
      "[104474.45187385]\n",
      "[104474.45187385]\n",
      "[104474.45187385]\n",
      "[104474.45187385]\n",
      "[104474.45187385]\n",
      "[104474.45187385]\n",
      "[104474.45187385]\n",
      "[104474.45187385]\n"
     ]
    },
    {
     "name": "stderr",
     "output_type": "stream",
     "text": [
      "127.0.0.1 - - [13/Apr/2024 17:00:31] \"POST /get_pre/?age=21&balance=18508&loan=5165&score=580 HTTP/1.1\" 200 -\n",
      "127.0.0.1 - - [13/Apr/2024 17:00:31] \"POST /get_pre/?age=21&balance=18508&loan=5165&score=580 HTTP/1.1\" 200 -\n",
      "127.0.0.1 - - [13/Apr/2024 17:00:31] \"POST /get_pre/?age=21&balance=18508&loan=5165&score=580 HTTP/1.1\" 200 -\n",
      "127.0.0.1 - - [13/Apr/2024 17:00:31] \"POST /get_pre/?age=21&balance=18508&loan=5165&score=580 HTTP/1.1\" 200 -\n",
      "127.0.0.1 - - [13/Apr/2024 17:00:31] \"POST /get_pre/?age=21&balance=18508&loan=5165&score=580 HTTP/1.1\" 200 -\n",
      "127.0.0.1 - - [13/Apr/2024 17:00:31] \"POST /get_pre/?age=21&balance=18508&loan=5165&score=580 HTTP/1.1\" 200 -\n",
      "127.0.0.1 - - [13/Apr/2024 17:00:31] \"POST /get_pre/?age=21&balance=18508&loan=5165&score=580 HTTP/1.1\" 200 -\n",
      "127.0.0.1 - - [13/Apr/2024 17:00:31] \"POST /get_pre/?age=21&balance=18508&loan=5165&score=580 HTTP/1.1\" 200 -\n",
      "127.0.0.1 - - [13/Apr/2024 17:00:31] \"POST /get_pre/?age=21&balance=18508&loan=5165&score=580 HTTP/1.1\" 200 -\n",
      "127.0.0.1 - - [13/Apr/2024 17:00:31] \"POST /get_pre/?age=21&balance=18508&loan=5165&score=580 HTTP/1.1\" 200 -\n"
     ]
    },
    {
     "name": "stdout",
     "output_type": "stream",
     "text": [
      "[104474.45187385]\n",
      "[104474.45187385]\n",
      "[104474.45187385]\n",
      "[104474.45187385]\n",
      "[104474.45187385]\n",
      "[104474.45187385]\n",
      "[104474.45187385]\n",
      "[104474.45187385]\n",
      "[104474.45187385]\n",
      "[104474.45187385]\n"
     ]
    },
    {
     "name": "stderr",
     "output_type": "stream",
     "text": [
      "127.0.0.1 - - [13/Apr/2024 17:00:31] \"POST /get_pre/?age=21&balance=18508&loan=5165&score=580 HTTP/1.1\" 200 -\n",
      "127.0.0.1 - - [13/Apr/2024 17:00:31] \"POST /get_pre/?age=21&balance=18508&loan=5165&score=580 HTTP/1.1\" 200 -\n",
      "127.0.0.1 - - [13/Apr/2024 17:00:31] \"POST /get_pre/?age=21&balance=18508&loan=5165&score=580 HTTP/1.1\" 200 -\n",
      "127.0.0.1 - - [13/Apr/2024 17:00:32] \"POST /get_pre/?age=21&balance=18508&loan=5165&score=580 HTTP/1.1\" 200 -\n",
      "127.0.0.1 - - [13/Apr/2024 17:00:32] \"POST /get_pre/?age=21&balance=18508&loan=5165&score=580 HTTP/1.1\" 200 -\n",
      "127.0.0.1 - - [13/Apr/2024 17:00:32] \"POST /get_pre/?age=21&balance=18508&loan=5165&score=580 HTTP/1.1\" 200 -\n",
      "127.0.0.1 - - [13/Apr/2024 17:00:32] \"POST /get_pre/?age=21&balance=18508&loan=5165&score=580 HTTP/1.1\" 200 -\n",
      "127.0.0.1 - - [13/Apr/2024 17:00:32] \"POST /get_pre/?age=21&balance=18508&loan=5165&score=580 HTTP/1.1\" 200 -\n",
      "127.0.0.1 - - [13/Apr/2024 17:00:32] \"POST /get_pre/?age=21&balance=18508&loan=5165&score=580 HTTP/1.1\" 200 -\n",
      "127.0.0.1 - - [13/Apr/2024 17:00:32] \"POST /get_pre/?age=21&balance=18508&loan=5165&score=580 HTTP/1.1\" 200 -\n",
      "127.0.0.1 - - [13/Apr/2024 17:00:32] \"POST /get_pre/?age=21&balance=18508&loan=5165&score=580 HTTP/1.1\" 200 -\n"
     ]
    },
    {
     "name": "stdout",
     "output_type": "stream",
     "text": [
      "[104474.45187385]\n",
      "[104474.45187385]\n",
      "[104474.45187385]\n",
      "[104474.45187385]\n",
      "[104474.45187385]\n",
      "[104474.45187385]\n",
      "[104474.45187385]\n",
      "[104474.45187385]\n",
      "[104474.45187385]\n",
      "[104474.45187385]\n",
      "[104474.45187385]\n"
     ]
    },
    {
     "name": "stderr",
     "output_type": "stream",
     "text": [
      "127.0.0.1 - - [13/Apr/2024 17:00:32] \"POST /get_pre/?age=21&balance=18508&loan=5165&score=580 HTTP/1.1\" 200 -\n",
      "127.0.0.1 - - [13/Apr/2024 17:00:32] \"POST /get_pre/?age=21&balance=18508&loan=5165&score=580 HTTP/1.1\" 200 -\n",
      "127.0.0.1 - - [13/Apr/2024 17:00:32] \"POST /get_pre/?age=21&balance=18508&loan=5165&score=580 HTTP/1.1\" 200 -\n",
      "127.0.0.1 - - [13/Apr/2024 17:00:32] \"POST /get_pre/?age=21&balance=18508&loan=5165&score=580 HTTP/1.1\" 200 -\n",
      "127.0.0.1 - - [13/Apr/2024 17:00:32] \"POST /get_pre/?age=21&balance=18508&loan=5165&score=580 HTTP/1.1\" 200 -\n",
      "127.0.0.1 - - [13/Apr/2024 17:00:32] \"POST /get_pre/?age=21&balance=18508&loan=5165&score=580 HTTP/1.1\" 200 -\n",
      "127.0.0.1 - - [13/Apr/2024 17:00:32] \"POST /get_pre/?age=21&balance=18508&loan=5165&score=580 HTTP/1.1\" 200 -\n",
      "127.0.0.1 - - [13/Apr/2024 17:00:32] \"POST /get_pre/?age=21&balance=18508&loan=5165&score=580 HTTP/1.1\" 200 -\n",
      "127.0.0.1 - - [13/Apr/2024 17:00:32] \"POST /get_pre/?age=21&balance=18508&loan=5165&score=580 HTTP/1.1\" 200 -\n",
      "127.0.0.1 - - [13/Apr/2024 17:00:32] \"POST /get_pre/?age=21&balance=18508&loan=5165&score=580 HTTP/1.1\" 200 -\n"
     ]
    },
    {
     "name": "stdout",
     "output_type": "stream",
     "text": [
      "[104474.45187385]\n",
      "[104474.45187385]\n",
      "[104474.45187385]\n",
      "[104474.45187385]\n",
      "[104474.45187385]\n",
      "[104474.45187385]\n",
      "[104474.45187385]\n",
      "[104474.45187385]\n",
      "[104474.45187385]\n",
      "[104474.45187385]\n"
     ]
    },
    {
     "name": "stderr",
     "output_type": "stream",
     "text": [
      "127.0.0.1 - - [13/Apr/2024 17:00:32] \"POST /get_pre/?age=21&balance=18508&loan=5165&score=580 HTTP/1.1\" 200 -\n",
      "127.0.0.1 - - [13/Apr/2024 17:00:32] \"POST /get_pre/?age=21&balance=18508&loan=5165&score=580 HTTP/1.1\" 200 -\n",
      "127.0.0.1 - - [13/Apr/2024 17:00:32] \"POST /get_pre/?age=21&balance=18508&loan=5165&score=580 HTTP/1.1\" 200 -\n",
      "127.0.0.1 - - [13/Apr/2024 17:00:32] \"POST /get_pre/?age=21&balance=18508&loan=5165&score=580 HTTP/1.1\" 200 -\n",
      "127.0.0.1 - - [13/Apr/2024 17:00:32] \"POST /get_pre/?age=21&balance=18508&loan=5165&score=580 HTTP/1.1\" 200 -\n",
      "127.0.0.1 - - [13/Apr/2024 17:00:32] \"POST /get_pre/?age=21&balance=18508&loan=5165&score=580 HTTP/1.1\" 200 -\n",
      "127.0.0.1 - - [13/Apr/2024 17:00:32] \"POST /get_pre/?age=21&balance=18508&loan=5165&score=580 HTTP/1.1\" 200 -\n",
      "127.0.0.1 - - [13/Apr/2024 17:00:32] \"POST /get_pre/?age=21&balance=18508&loan=5165&score=580 HTTP/1.1\" 200 -\n",
      "127.0.0.1 - - [13/Apr/2024 17:00:32] \"POST /get_pre/?age=21&balance=18508&loan=5165&score=580 HTTP/1.1\" 200 -\n",
      "127.0.0.1 - - [13/Apr/2024 17:00:32] \"POST /get_pre/?age=21&balance=18508&loan=5165&score=580 HTTP/1.1\" 200 -\n"
     ]
    },
    {
     "name": "stdout",
     "output_type": "stream",
     "text": [
      "[104474.45187385]\n",
      "[104474.45187385]\n",
      "[104474.45187385]\n",
      "[104474.45187385]\n",
      "[104474.45187385]\n",
      "[104474.45187385]\n",
      "[104474.45187385]\n",
      "[104474.45187385]\n",
      "[104474.45187385]\n",
      "[104474.45187385]\n"
     ]
    },
    {
     "name": "stderr",
     "output_type": "stream",
     "text": [
      "127.0.0.1 - - [13/Apr/2024 17:00:32] \"POST /get_pre/?age=21&balance=18508&loan=5165&score=580 HTTP/1.1\" 200 -\n",
      "127.0.0.1 - - [13/Apr/2024 17:00:32] \"POST /get_pre/?age=21&balance=18508&loan=5165&score=580 HTTP/1.1\" 200 -\n",
      "127.0.0.1 - - [13/Apr/2024 17:00:32] \"POST /get_pre/?age=21&balance=18508&loan=5165&score=580 HTTP/1.1\" 200 -\n",
      "127.0.0.1 - - [13/Apr/2024 17:00:32] \"POST /get_pre/?age=21&balance=18508&loan=5165&score=580 HTTP/1.1\" 200 -\n",
      "127.0.0.1 - - [13/Apr/2024 17:00:32] \"POST /get_pre/?age=21&balance=18508&loan=5165&score=580 HTTP/1.1\" 200 -\n",
      "127.0.0.1 - - [13/Apr/2024 17:00:32] \"POST /get_pre/?age=21&balance=18508&loan=5165&score=580 HTTP/1.1\" 200 -\n",
      "127.0.0.1 - - [13/Apr/2024 17:00:32] \"POST /get_pre/?age=21&balance=18508&loan=5165&score=580 HTTP/1.1\" 200 -\n",
      "127.0.0.1 - - [13/Apr/2024 17:00:32] \"POST /get_pre/?age=21&balance=18508&loan=5165&score=580 HTTP/1.1\" 200 -\n",
      "127.0.0.1 - - [13/Apr/2024 17:00:32] \"POST /get_pre/?age=21&balance=18508&loan=5165&score=580 HTTP/1.1\" 200 -\n"
     ]
    },
    {
     "name": "stdout",
     "output_type": "stream",
     "text": [
      "[104474.45187385]\n",
      "[104474.45187385]\n",
      "[104474.45187385]\n",
      "[104474.45187385]\n",
      "[104474.45187385]\n",
      "[104474.45187385]\n",
      "[104474.45187385]\n",
      "[104474.45187385]\n",
      "[104474.45187385]\n"
     ]
    },
    {
     "name": "stderr",
     "output_type": "stream",
     "text": [
      "127.0.0.1 - - [13/Apr/2024 17:00:32] \"POST /get_pre/?age=21&balance=18508&loan=5165&score=580 HTTP/1.1\" 200 -\n",
      "127.0.0.1 - - [13/Apr/2024 17:00:32] \"POST /get_pre/?age=21&balance=18508&loan=5165&score=580 HTTP/1.1\" 200 -\n",
      "127.0.0.1 - - [13/Apr/2024 17:00:32] \"POST /get_pre/?age=21&balance=18508&loan=5165&score=580 HTTP/1.1\" 200 -\n",
      "127.0.0.1 - - [13/Apr/2024 17:00:32] \"POST /get_pre/?age=21&balance=18508&loan=5165&score=580 HTTP/1.1\" 200 -\n",
      "127.0.0.1 - - [13/Apr/2024 17:00:32] \"POST /get_pre/?age=21&balance=18508&loan=5165&score=580 HTTP/1.1\" 200 -\n",
      "127.0.0.1 - - [13/Apr/2024 17:00:32] \"POST /get_pre/?age=21&balance=18508&loan=5165&score=580 HTTP/1.1\" 200 -\n",
      "127.0.0.1 - - [13/Apr/2024 17:00:32] \"POST /get_pre/?age=21&balance=18508&loan=5165&score=580 HTTP/1.1\" 200 -\n",
      "127.0.0.1 - - [13/Apr/2024 17:00:32] \"POST /get_pre/?age=21&balance=18508&loan=5165&score=580 HTTP/1.1\" 200 -\n",
      "127.0.0.1 - - [13/Apr/2024 17:00:32] \"POST /get_pre/?age=21&balance=18508&loan=5165&score=580 HTTP/1.1\" 200 -\n",
      "127.0.0.1 - - [13/Apr/2024 17:00:32] \"POST /get_pre/?age=21&balance=18508&loan=5165&score=580 HTTP/1.1\" 200 -\n"
     ]
    },
    {
     "name": "stdout",
     "output_type": "stream",
     "text": [
      "[104474.45187385]\n",
      "[104474.45187385]\n",
      "[104474.45187385]\n",
      "[104474.45187385]\n",
      "[104474.45187385]\n",
      "[104474.45187385]\n",
      "[104474.45187385]\n",
      "[104474.45187385]\n",
      "[104474.45187385]\n",
      "[104474.45187385]\n"
     ]
    },
    {
     "name": "stderr",
     "output_type": "stream",
     "text": [
      "127.0.0.1 - - [13/Apr/2024 17:00:32] \"POST /get_pre/?age=21&balance=18508&loan=5165&score=580 HTTP/1.1\" 200 -\n",
      "127.0.0.1 - - [13/Apr/2024 17:00:33] \"POST /get_pre/?age=21&balance=18508&loan=5165&score=580 HTTP/1.1\" 200 -\n",
      "127.0.0.1 - - [13/Apr/2024 17:00:33] \"POST /get_pre/?age=21&balance=18508&loan=5165&score=580 HTTP/1.1\" 200 -\n",
      "127.0.0.1 - - [13/Apr/2024 17:00:33] \"POST /get_pre/?age=21&balance=18508&loan=5165&score=580 HTTP/1.1\" 200 -\n",
      "127.0.0.1 - - [13/Apr/2024 17:00:33] \"POST /get_pre/?age=21&balance=18508&loan=5165&score=580 HTTP/1.1\" 200 -\n"
     ]
    },
    {
     "name": "stdout",
     "output_type": "stream",
     "text": [
      "[104474.45187385]\n",
      "[104474.45187385]\n",
      "[104474.45187385]\n",
      "[104474.45187385]\n",
      "[104474.45187385]\n"
     ]
    },
    {
     "name": "stderr",
     "output_type": "stream",
     "text": [
      "127.0.0.1 - - [13/Apr/2024 17:00:33] \"POST /get_pre/?age=21&balance=18508&loan=5165&score=580 HTTP/1.1\" 200 -\n",
      "127.0.0.1 - - [13/Apr/2024 17:00:33] \"POST /get_pre/?age=21&balance=18508&loan=5165&score=580 HTTP/1.1\" 200 -\n",
      "127.0.0.1 - - [13/Apr/2024 17:00:33] \"POST /get_pre/?age=21&balance=18508&loan=5165&score=580 HTTP/1.1\" 200 -\n",
      "127.0.0.1 - - [13/Apr/2024 17:00:33] \"POST /get_pre/?age=21&balance=18508&loan=5165&score=580 HTTP/1.1\" 200 -\n",
      "127.0.0.1 - - [13/Apr/2024 17:00:33] \"POST /get_pre/?age=21&balance=18508&loan=5165&score=580 HTTP/1.1\" 200 -\n",
      "127.0.0.1 - - [13/Apr/2024 17:00:33] \"POST /get_pre/?age=21&balance=18508&loan=5165&score=580 HTTP/1.1\" 200 -\n",
      "127.0.0.1 - - [13/Apr/2024 17:00:33] \"POST /get_pre/?age=21&balance=18508&loan=5165&score=580 HTTP/1.1\" 200 -\n",
      "127.0.0.1 - - [13/Apr/2024 17:00:33] \"POST /get_pre/?age=21&balance=18508&loan=5165&score=580 HTTP/1.1\" 200 -\n",
      "127.0.0.1 - - [13/Apr/2024 17:00:33] \"POST /get_pre/?age=21&balance=18508&loan=5165&score=580 HTTP/1.1\" 200 -\n"
     ]
    },
    {
     "name": "stdout",
     "output_type": "stream",
     "text": [
      "[104474.45187385]\n",
      "[104474.45187385]\n",
      "[104474.45187385]\n",
      "[104474.45187385]\n",
      "[104474.45187385]\n",
      "[104474.45187385]\n",
      "[104474.45187385]\n",
      "[104474.45187385]\n",
      "[104474.45187385]\n"
     ]
    },
    {
     "name": "stderr",
     "output_type": "stream",
     "text": [
      "127.0.0.1 - - [13/Apr/2024 17:00:33] \"POST /get_pre/?age=21&balance=18508&loan=5165&score=580 HTTP/1.1\" 200 -\n",
      "127.0.0.1 - - [13/Apr/2024 17:00:33] \"POST /get_pre/?age=21&balance=18508&loan=5165&score=580 HTTP/1.1\" 200 -\n",
      "127.0.0.1 - - [13/Apr/2024 17:00:33] \"POST /get_pre/?age=21&balance=18508&loan=5165&score=580 HTTP/1.1\" 200 -\n",
      "127.0.0.1 - - [13/Apr/2024 17:00:33] \"POST /get_pre/?age=21&balance=18508&loan=5165&score=580 HTTP/1.1\" 200 -\n",
      "127.0.0.1 - - [13/Apr/2024 17:00:33] \"POST /get_pre/?age=21&balance=18508&loan=5165&score=580 HTTP/1.1\" 200 -\n",
      "127.0.0.1 - - [13/Apr/2024 17:00:33] \"POST /get_pre/?age=21&balance=18508&loan=5165&score=580 HTTP/1.1\" 200 -\n",
      "127.0.0.1 - - [13/Apr/2024 17:00:33] \"POST /get_pre/?age=21&balance=18508&loan=5165&score=580 HTTP/1.1\" 200 -\n",
      "127.0.0.1 - - [13/Apr/2024 17:00:33] \"POST /get_pre/?age=21&balance=18508&loan=5165&score=580 HTTP/1.1\" 200 -\n",
      "127.0.0.1 - - [13/Apr/2024 17:00:33] \"POST /get_pre/?age=21&balance=18508&loan=5165&score=580 HTTP/1.1\" 200 -\n",
      "127.0.0.1 - - [13/Apr/2024 17:00:33] \"POST /get_pre/?age=21&balance=18508&loan=5165&score=580 HTTP/1.1\" 200 -\n"
     ]
    },
    {
     "name": "stdout",
     "output_type": "stream",
     "text": [
      "[104474.45187385]\n",
      "[104474.45187385]\n",
      "[104474.45187385]\n",
      "[104474.45187385]\n",
      "[104474.45187385]\n",
      "[104474.45187385]\n",
      "[104474.45187385]\n",
      "[104474.45187385]\n",
      "[104474.45187385]\n",
      "[104474.45187385]\n"
     ]
    },
    {
     "name": "stderr",
     "output_type": "stream",
     "text": [
      "127.0.0.1 - - [13/Apr/2024 17:00:33] \"POST /get_pre/?age=21&balance=18508&loan=5165&score=580 HTTP/1.1\" 200 -\n",
      "127.0.0.1 - - [13/Apr/2024 17:00:33] \"POST /get_pre/?age=21&balance=18508&loan=5165&score=580 HTTP/1.1\" 200 -\n",
      "127.0.0.1 - - [13/Apr/2024 17:00:33] \"POST /get_pre/?age=21&balance=18508&loan=5165&score=580 HTTP/1.1\" 200 -\n",
      "127.0.0.1 - - [13/Apr/2024 17:00:33] \"POST /get_pre/?age=21&balance=18508&loan=5165&score=580 HTTP/1.1\" 200 -\n",
      "127.0.0.1 - - [13/Apr/2024 17:00:33] \"POST /get_pre/?age=21&balance=18508&loan=5165&score=580 HTTP/1.1\" 200 -\n",
      "127.0.0.1 - - [13/Apr/2024 17:00:33] \"POST /get_pre/?age=21&balance=18508&loan=5165&score=580 HTTP/1.1\" 200 -\n",
      "127.0.0.1 - - [13/Apr/2024 17:00:33] \"POST /get_pre/?age=21&balance=18508&loan=5165&score=580 HTTP/1.1\" 200 -\n",
      "127.0.0.1 - - [13/Apr/2024 17:00:33] \"POST /get_pre/?age=21&balance=18508&loan=5165&score=580 HTTP/1.1\" 200 -\n",
      "127.0.0.1 - - [13/Apr/2024 17:00:33] \"POST /get_pre/?age=21&balance=18508&loan=5165&score=580 HTTP/1.1\" 200 -\n",
      "127.0.0.1 - - [13/Apr/2024 17:00:33] \"POST /get_pre/?age=21&balance=18508&loan=5165&score=580 HTTP/1.1\" 200 -\n"
     ]
    },
    {
     "name": "stdout",
     "output_type": "stream",
     "text": [
      "[104474.45187385]\n",
      "[104474.45187385]\n",
      "[104474.45187385]\n",
      "[104474.45187385]\n",
      "[104474.45187385]\n",
      "[104474.45187385]\n",
      "[104474.45187385]\n",
      "[104474.45187385]\n",
      "[104474.45187385]\n",
      "[104474.45187385]\n"
     ]
    },
    {
     "name": "stderr",
     "output_type": "stream",
     "text": [
      "127.0.0.1 - - [13/Apr/2024 17:00:33] \"POST /get_pre/?age=21&balance=18508&loan=5165&score=580 HTTP/1.1\" 200 -\n",
      "127.0.0.1 - - [13/Apr/2024 17:00:33] \"POST /get_pre/?age=21&balance=18508&loan=5165&score=580 HTTP/1.1\" 200 -\n",
      "127.0.0.1 - - [13/Apr/2024 17:00:33] \"POST /get_pre/?age=21&balance=18508&loan=5165&score=580 HTTP/1.1\" 200 -\n",
      "127.0.0.1 - - [13/Apr/2024 17:00:33] \"POST /get_pre/?age=21&balance=18508&loan=5165&score=580 HTTP/1.1\" 200 -\n",
      "127.0.0.1 - - [13/Apr/2024 17:00:33] \"POST /get_pre/?age=21&balance=18508&loan=5165&score=580 HTTP/1.1\" 200 -\n",
      "127.0.0.1 - - [13/Apr/2024 17:00:33] \"POST /get_pre/?age=21&balance=18508&loan=5165&score=580 HTTP/1.1\" 200 -\n",
      "127.0.0.1 - - [13/Apr/2024 17:00:33] \"POST /get_pre/?age=21&balance=18508&loan=5165&score=580 HTTP/1.1\" 200 -\n",
      "127.0.0.1 - - [13/Apr/2024 17:00:33] \"POST /get_pre/?age=21&balance=18508&loan=5165&score=580 HTTP/1.1\" 200 -\n",
      "127.0.0.1 - - [13/Apr/2024 17:00:33] \"POST /get_pre/?age=21&balance=18508&loan=5165&score=580 HTTP/1.1\" 200 -\n",
      "127.0.0.1 - - [13/Apr/2024 17:00:33] \"POST /get_pre/?age=21&balance=18508&loan=5165&score=580 HTTP/1.1\" 200 -\n",
      "127.0.0.1 - - [13/Apr/2024 17:00:34] \"POST /get_pre/?age=21&balance=18508&loan=5165&score=580 HTTP/1.1\" 200 -\n"
     ]
    },
    {
     "name": "stdout",
     "output_type": "stream",
     "text": [
      "[104474.45187385]\n",
      "[104474.45187385]\n",
      "[104474.45187385]\n",
      "[104474.45187385]\n",
      "[104474.45187385]\n",
      "[104474.45187385]\n",
      "[104474.45187385]\n",
      "[104474.45187385]\n",
      "[104474.45187385]\n",
      "[104474.45187385]\n",
      "[104474.45187385]\n"
     ]
    },
    {
     "name": "stderr",
     "output_type": "stream",
     "text": [
      "127.0.0.1 - - [13/Apr/2024 17:00:34] \"POST /get_pre/?age=21&balance=18508&loan=5165&score=580 HTTP/1.1\" 200 -\n",
      "127.0.0.1 - - [13/Apr/2024 17:00:34] \"POST /get_pre/?age=21&balance=18508&loan=5165&score=580 HTTP/1.1\" 200 -\n",
      "127.0.0.1 - - [13/Apr/2024 17:00:34] \"POST /get_pre/?age=21&balance=18508&loan=5165&score=580 HTTP/1.1\" 200 -\n",
      "127.0.0.1 - - [13/Apr/2024 17:00:34] \"POST /get_pre/?age=21&balance=18508&loan=5165&score=580 HTTP/1.1\" 200 -\n",
      "127.0.0.1 - - [13/Apr/2024 17:00:34] \"POST /get_pre/?age=21&balance=18508&loan=5165&score=580 HTTP/1.1\" 200 -\n",
      "127.0.0.1 - - [13/Apr/2024 17:00:34] \"POST /get_pre/?age=21&balance=18508&loan=5165&score=580 HTTP/1.1\" 200 -\n",
      "127.0.0.1 - - [13/Apr/2024 17:00:34] \"POST /get_pre/?age=21&balance=18508&loan=5165&score=580 HTTP/1.1\" 200 -\n",
      "127.0.0.1 - - [13/Apr/2024 17:00:34] \"POST /get_pre/?age=21&balance=18508&loan=5165&score=580 HTTP/1.1\" 200 -\n",
      "127.0.0.1 - - [13/Apr/2024 17:00:34] \"POST /get_pre/?age=21&balance=18508&loan=5165&score=580 HTTP/1.1\" 200 -\n",
      "127.0.0.1 - - [13/Apr/2024 17:00:34] \"POST /get_pre/?age=21&balance=18508&loan=5165&score=580 HTTP/1.1\" 200 -\n",
      "127.0.0.1 - - [13/Apr/2024 17:00:34] \"POST /get_pre/?age=21&balance=18508&loan=5165&score=580 HTTP/1.1\" 200 -\n"
     ]
    },
    {
     "name": "stdout",
     "output_type": "stream",
     "text": [
      "[104474.45187385]\n",
      "[104474.45187385]\n",
      "[104474.45187385]\n",
      "[104474.45187385]\n",
      "[104474.45187385]\n",
      "[104474.45187385]\n",
      "[104474.45187385]\n",
      "[104474.45187385]\n",
      "[104474.45187385]\n",
      "[104474.45187385]\n",
      "[104474.45187385]\n"
     ]
    },
    {
     "name": "stderr",
     "output_type": "stream",
     "text": [
      "127.0.0.1 - - [13/Apr/2024 17:00:34] \"POST /get_pre/?age=21&balance=18508&loan=5165&score=580 HTTP/1.1\" 200 -\n",
      "127.0.0.1 - - [13/Apr/2024 17:00:34] \"POST /get_pre/?age=21&balance=18508&loan=5165&score=580 HTTP/1.1\" 200 -\n",
      "127.0.0.1 - - [13/Apr/2024 17:00:34] \"POST /get_pre/?age=21&balance=18508&loan=5165&score=580 HTTP/1.1\" 200 -\n",
      "127.0.0.1 - - [13/Apr/2024 17:00:34] \"POST /get_pre/?age=21&balance=18508&loan=5165&score=580 HTTP/1.1\" 200 -\n",
      "127.0.0.1 - - [13/Apr/2024 17:00:34] \"POST /get_pre/?age=21&balance=18508&loan=5165&score=580 HTTP/1.1\" 200 -\n",
      "127.0.0.1 - - [13/Apr/2024 17:00:34] \"POST /get_pre/?age=21&balance=18508&loan=5165&score=580 HTTP/1.1\" 200 -\n",
      "127.0.0.1 - - [13/Apr/2024 17:00:34] \"POST /get_pre/?age=21&balance=18508&loan=5165&score=580 HTTP/1.1\" 200 -\n",
      "127.0.0.1 - - [13/Apr/2024 17:00:34] \"POST /get_pre/?age=21&balance=18508&loan=5165&score=580 HTTP/1.1\" 200 -\n",
      "127.0.0.1 - - [13/Apr/2024 17:00:34] \"POST /get_pre/?age=21&balance=18508&loan=5165&score=580 HTTP/1.1\" 200 -\n",
      "127.0.0.1 - - [13/Apr/2024 17:00:34] \"POST /get_pre/?age=21&balance=18508&loan=5165&score=580 HTTP/1.1\" 200 -\n"
     ]
    },
    {
     "name": "stdout",
     "output_type": "stream",
     "text": [
      "[104474.45187385]\n",
      "[104474.45187385]\n",
      "[104474.45187385]\n",
      "[104474.45187385]\n",
      "[104474.45187385]\n",
      "[104474.45187385]\n",
      "[104474.45187385]\n",
      "[104474.45187385]\n",
      "[104474.45187385]\n",
      "[104474.45187385]\n"
     ]
    },
    {
     "name": "stderr",
     "output_type": "stream",
     "text": [
      "127.0.0.1 - - [13/Apr/2024 17:00:34] \"POST /get_pre/?age=21&balance=18508&loan=5165&score=580 HTTP/1.1\" 200 -\n",
      "127.0.0.1 - - [13/Apr/2024 17:00:34] \"POST /get_pre/?age=21&balance=18508&loan=5165&score=580 HTTP/1.1\" 200 -\n",
      "127.0.0.1 - - [13/Apr/2024 17:00:34] \"POST /get_pre/?age=21&balance=18508&loan=5165&score=580 HTTP/1.1\" 200 -\n",
      "127.0.0.1 - - [13/Apr/2024 17:00:34] \"POST /get_pre/?age=21&balance=18508&loan=5165&score=580 HTTP/1.1\" 200 -\n",
      "127.0.0.1 - - [13/Apr/2024 17:00:34] \"POST /get_pre/?age=21&balance=18508&loan=5165&score=580 HTTP/1.1\" 200 -\n",
      "127.0.0.1 - - [13/Apr/2024 17:00:34] \"POST /get_pre/?age=21&balance=18508&loan=5165&score=580 HTTP/1.1\" 200 -\n",
      "127.0.0.1 - - [13/Apr/2024 17:00:34] \"POST /get_pre/?age=21&balance=18508&loan=5165&score=580 HTTP/1.1\" 200 -\n",
      "127.0.0.1 - - [13/Apr/2024 17:00:34] \"POST /get_pre/?age=21&balance=18508&loan=5165&score=580 HTTP/1.1\" 200 -\n",
      "127.0.0.1 - - [13/Apr/2024 17:00:34] \"POST /get_pre/?age=21&balance=18508&loan=5165&score=580 HTTP/1.1\" 200 -\n",
      "127.0.0.1 - - [13/Apr/2024 17:00:34] \"POST /get_pre/?age=21&balance=18508&loan=5165&score=580 HTTP/1.1\" 200 -\n"
     ]
    },
    {
     "name": "stdout",
     "output_type": "stream",
     "text": [
      "[104474.45187385]\n",
      "[104474.45187385]\n",
      "[104474.45187385]\n",
      "[104474.45187385]\n",
      "[104474.45187385]\n",
      "[104474.45187385]\n",
      "[104474.45187385]\n",
      "[104474.45187385]\n",
      "[104474.45187385]\n",
      "[104474.45187385]\n"
     ]
    },
    {
     "name": "stderr",
     "output_type": "stream",
     "text": [
      "127.0.0.1 - - [13/Apr/2024 17:00:34] \"POST /get_pre/?age=21&balance=18508&loan=5165&score=580 HTTP/1.1\" 200 -\n",
      "127.0.0.1 - - [13/Apr/2024 17:00:34] \"POST /get_pre/?age=21&balance=18508&loan=5165&score=580 HTTP/1.1\" 200 -\n",
      "127.0.0.1 - - [13/Apr/2024 17:00:34] \"POST /get_pre/?age=21&balance=18508&loan=5165&score=580 HTTP/1.1\" 200 -\n",
      "127.0.0.1 - - [13/Apr/2024 17:00:34] \"POST /get_pre/?age=21&balance=18508&loan=5165&score=580 HTTP/1.1\" 200 -\n",
      "127.0.0.1 - - [13/Apr/2024 17:00:34] \"POST /get_pre/?age=21&balance=18508&loan=5165&score=580 HTTP/1.1\" 200 -\n",
      "127.0.0.1 - - [13/Apr/2024 17:00:34] \"POST /get_pre/?age=21&balance=18508&loan=5165&score=580 HTTP/1.1\" 200 -\n",
      "127.0.0.1 - - [13/Apr/2024 17:00:34] \"POST /get_pre/?age=21&balance=18508&loan=5165&score=580 HTTP/1.1\" 200 -\n",
      "127.0.0.1 - - [13/Apr/2024 17:00:34] \"POST /get_pre/?age=21&balance=18508&loan=5165&score=580 HTTP/1.1\" 200 -\n",
      "127.0.0.1 - - [13/Apr/2024 17:00:34] \"POST /get_pre/?age=21&balance=18508&loan=5165&score=580 HTTP/1.1\" 200 -\n",
      "127.0.0.1 - - [13/Apr/2024 17:00:34] \"POST /get_pre/?age=21&balance=18508&loan=5165&score=580 HTTP/1.1\" 200 -\n"
     ]
    },
    {
     "name": "stdout",
     "output_type": "stream",
     "text": [
      "[104474.45187385]\n",
      "[104474.45187385]\n",
      "[104474.45187385]\n",
      "[104474.45187385]\n",
      "[104474.45187385]\n",
      "[104474.45187385]\n",
      "[104474.45187385]\n",
      "[104474.45187385]\n",
      "[104474.45187385]\n",
      "[104474.45187385]\n"
     ]
    },
    {
     "name": "stderr",
     "output_type": "stream",
     "text": [
      "127.0.0.1 - - [13/Apr/2024 17:00:34] \"POST /get_pre/?age=21&balance=18508&loan=5165&score=580 HTTP/1.1\" 200 -\n",
      "127.0.0.1 - - [13/Apr/2024 17:00:34] \"POST /get_pre/?age=21&balance=18508&loan=5165&score=580 HTTP/1.1\" 200 -\n",
      "127.0.0.1 - - [13/Apr/2024 17:00:34] \"POST /get_pre/?age=21&balance=18508&loan=5165&score=580 HTTP/1.1\" 200 -\n",
      "127.0.0.1 - - [13/Apr/2024 17:00:34] \"POST /get_pre/?age=21&balance=18508&loan=5165&score=580 HTTP/1.1\" 200 -\n",
      "127.0.0.1 - - [13/Apr/2024 17:00:34] \"POST /get_pre/?age=21&balance=18508&loan=5165&score=580 HTTP/1.1\" 200 -\n",
      "127.0.0.1 - - [13/Apr/2024 17:00:34] \"POST /get_pre/?age=21&balance=18508&loan=5165&score=580 HTTP/1.1\" 200 -\n",
      "127.0.0.1 - - [13/Apr/2024 17:00:34] \"POST /get_pre/?age=21&balance=18508&loan=5165&score=580 HTTP/1.1\" 200 -\n",
      "127.0.0.1 - - [13/Apr/2024 17:00:35] \"POST /get_pre/?age=21&balance=18508&loan=5165&score=580 HTTP/1.1\" 200 -\n",
      "127.0.0.1 - - [13/Apr/2024 17:00:35] \"POST /get_pre/?age=21&balance=18508&loan=5165&score=580 HTTP/1.1\" 200 -\n",
      "127.0.0.1 - - [13/Apr/2024 17:00:35] \"POST /get_pre/?age=21&balance=18508&loan=5165&score=580 HTTP/1.1\" 200 -\n"
     ]
    },
    {
     "name": "stdout",
     "output_type": "stream",
     "text": [
      "[104474.45187385]\n",
      "[104474.45187385]\n",
      "[104474.45187385]\n",
      "[104474.45187385]\n",
      "[104474.45187385]\n",
      "[104474.45187385]\n",
      "[104474.45187385]\n",
      "[104474.45187385]\n",
      "[104474.45187385]\n",
      "[104474.45187385]\n"
     ]
    },
    {
     "name": "stderr",
     "output_type": "stream",
     "text": [
      "127.0.0.1 - - [13/Apr/2024 17:00:35] \"POST /get_pre/?age=21&balance=18508&loan=5165&score=580 HTTP/1.1\" 200 -\n",
      "127.0.0.1 - - [13/Apr/2024 17:00:35] \"POST /get_pre/?age=21&balance=18508&loan=5165&score=580 HTTP/1.1\" 200 -\n",
      "127.0.0.1 - - [13/Apr/2024 17:00:35] \"POST /get_pre/?age=21&balance=18508&loan=5165&score=580 HTTP/1.1\" 200 -\n",
      "127.0.0.1 - - [13/Apr/2024 17:00:35] \"POST /get_pre/?age=21&balance=18508&loan=5165&score=580 HTTP/1.1\" 200 -\n",
      "127.0.0.1 - - [13/Apr/2024 17:00:35] \"POST /get_pre/?age=21&balance=18508&loan=5165&score=580 HTTP/1.1\" 200 -\n",
      "127.0.0.1 - - [13/Apr/2024 17:00:35] \"POST /get_pre/?age=21&balance=18508&loan=5165&score=580 HTTP/1.1\" 200 -\n",
      "127.0.0.1 - - [13/Apr/2024 17:00:35] \"POST /get_pre/?age=21&balance=18508&loan=5165&score=580 HTTP/1.1\" 200 -\n",
      "127.0.0.1 - - [13/Apr/2024 17:00:35] \"POST /get_pre/?age=21&balance=18508&loan=5165&score=580 HTTP/1.1\" 200 -\n",
      "127.0.0.1 - - [13/Apr/2024 17:00:35] \"POST /get_pre/?age=21&balance=18508&loan=5165&score=580 HTTP/1.1\" 200 -\n",
      "127.0.0.1 - - [13/Apr/2024 17:00:35] \"POST /get_pre/?age=21&balance=18508&loan=5165&score=580 HTTP/1.1\" 200 -\n"
     ]
    },
    {
     "name": "stdout",
     "output_type": "stream",
     "text": [
      "[104474.45187385]\n",
      "[104474.45187385]\n",
      "[104474.45187385]\n",
      "[104474.45187385]\n",
      "[104474.45187385]\n",
      "[104474.45187385]\n",
      "[104474.45187385]\n",
      "[104474.45187385]\n",
      "[104474.45187385]\n",
      "[104474.45187385]\n"
     ]
    },
    {
     "name": "stderr",
     "output_type": "stream",
     "text": [
      "127.0.0.1 - - [13/Apr/2024 17:00:35] \"POST /get_pre/?age=21&balance=18508&loan=5165&score=580 HTTP/1.1\" 200 -\n",
      "127.0.0.1 - - [13/Apr/2024 17:00:35] \"POST /get_pre/?age=21&balance=18508&loan=5165&score=580 HTTP/1.1\" 200 -\n",
      "127.0.0.1 - - [13/Apr/2024 17:00:35] \"POST /get_pre/?age=21&balance=18508&loan=5165&score=580 HTTP/1.1\" 200 -\n",
      "127.0.0.1 - - [13/Apr/2024 17:00:35] \"POST /get_pre/?age=21&balance=18508&loan=5165&score=580 HTTP/1.1\" 200 -\n",
      "127.0.0.1 - - [13/Apr/2024 17:00:35] \"POST /get_pre/?age=21&balance=18508&loan=5165&score=580 HTTP/1.1\" 200 -\n",
      "127.0.0.1 - - [13/Apr/2024 17:00:35] \"POST /get_pre/?age=21&balance=18508&loan=5165&score=580 HTTP/1.1\" 200 -\n",
      "127.0.0.1 - - [13/Apr/2024 17:00:35] \"POST /get_pre/?age=21&balance=18508&loan=5165&score=580 HTTP/1.1\" 200 -\n",
      "127.0.0.1 - - [13/Apr/2024 17:00:35] \"POST /get_pre/?age=21&balance=18508&loan=5165&score=580 HTTP/1.1\" 200 -\n",
      "127.0.0.1 - - [13/Apr/2024 17:00:35] \"POST /get_pre/?age=21&balance=18508&loan=5165&score=580 HTTP/1.1\" 200 -\n",
      "127.0.0.1 - - [13/Apr/2024 17:00:35] \"POST /get_pre/?age=21&balance=18508&loan=5165&score=580 HTTP/1.1\" 200 -\n",
      "127.0.0.1 - - [13/Apr/2024 17:00:35] \"POST /get_pre/?age=21&balance=18508&loan=5165&score=580 HTTP/1.1\" 200 -\n"
     ]
    },
    {
     "name": "stdout",
     "output_type": "stream",
     "text": [
      "[104474.45187385]\n",
      "[104474.45187385]\n",
      "[104474.45187385]\n",
      "[104474.45187385]\n",
      "[104474.45187385]\n",
      "[104474.45187385]\n",
      "[104474.45187385]\n",
      "[104474.45187385]\n",
      "[104474.45187385]\n",
      "[104474.45187385]\n",
      "[104474.45187385]\n"
     ]
    },
    {
     "name": "stderr",
     "output_type": "stream",
     "text": [
      "127.0.0.1 - - [13/Apr/2024 17:00:35] \"POST /get_pre/?age=21&balance=18508&loan=5165&score=580 HTTP/1.1\" 200 -\n",
      "127.0.0.1 - - [13/Apr/2024 17:00:35] \"POST /get_pre/?age=21&balance=18508&loan=5165&score=580 HTTP/1.1\" 200 -\n",
      "127.0.0.1 - - [13/Apr/2024 17:00:35] \"POST /get_pre/?age=21&balance=18508&loan=5165&score=580 HTTP/1.1\" 200 -\n",
      "127.0.0.1 - - [13/Apr/2024 17:00:35] \"POST /get_pre/?age=21&balance=18508&loan=5165&score=580 HTTP/1.1\" 200 -\n",
      "127.0.0.1 - - [13/Apr/2024 17:00:35] \"POST /get_pre/?age=21&balance=18508&loan=5165&score=580 HTTP/1.1\" 200 -\n",
      "127.0.0.1 - - [13/Apr/2024 17:00:35] \"POST /get_pre/?age=21&balance=18508&loan=5165&score=580 HTTP/1.1\" 200 -\n",
      "127.0.0.1 - - [13/Apr/2024 17:00:35] \"POST /get_pre/?age=21&balance=18508&loan=5165&score=580 HTTP/1.1\" 200 -\n",
      "127.0.0.1 - - [13/Apr/2024 17:00:35] \"POST /get_pre/?age=21&balance=18508&loan=5165&score=580 HTTP/1.1\" 200 -\n",
      "127.0.0.1 - - [13/Apr/2024 17:00:35] \"POST /get_pre/?age=21&balance=18508&loan=5165&score=580 HTTP/1.1\" 200 -\n",
      "127.0.0.1 - - [13/Apr/2024 17:00:35] \"POST /get_pre/?age=21&balance=18508&loan=5165&score=580 HTTP/1.1\" 200 -\n",
      "127.0.0.1 - - [13/Apr/2024 17:00:35] \"POST /get_pre/?age=21&balance=18508&loan=5165&score=580 HTTP/1.1\" 200 -\n"
     ]
    },
    {
     "name": "stdout",
     "output_type": "stream",
     "text": [
      "[104474.45187385]\n",
      "[104474.45187385]\n",
      "[104474.45187385]\n",
      "[104474.45187385]\n",
      "[104474.45187385]\n",
      "[104474.45187385]\n",
      "[104474.45187385]\n",
      "[104474.45187385]\n",
      "[104474.45187385]\n",
      "[104474.45187385]\n",
      "[104474.45187385]\n"
     ]
    },
    {
     "name": "stderr",
     "output_type": "stream",
     "text": [
      "127.0.0.1 - - [13/Apr/2024 17:00:35] \"POST /get_pre/?age=21&balance=18508&loan=5165&score=580 HTTP/1.1\" 200 -\n",
      "127.0.0.1 - - [13/Apr/2024 17:00:35] \"POST /get_pre/?age=21&balance=18508&loan=5165&score=580 HTTP/1.1\" 200 -\n",
      "127.0.0.1 - - [13/Apr/2024 17:00:35] \"POST /get_pre/?age=21&balance=18508&loan=5165&score=580 HTTP/1.1\" 200 -\n",
      "127.0.0.1 - - [13/Apr/2024 17:00:35] \"POST /get_pre/?age=21&balance=18508&loan=5165&score=580 HTTP/1.1\" 200 -\n",
      "127.0.0.1 - - [13/Apr/2024 17:00:35] \"POST /get_pre/?age=21&balance=18508&loan=5165&score=580 HTTP/1.1\" 200 -\n",
      "127.0.0.1 - - [13/Apr/2024 17:00:35] \"POST /get_pre/?age=21&balance=18508&loan=5165&score=580 HTTP/1.1\" 200 -\n",
      "127.0.0.1 - - [13/Apr/2024 17:00:35] \"POST /get_pre/?age=21&balance=18508&loan=5165&score=580 HTTP/1.1\" 200 -\n",
      "127.0.0.1 - - [13/Apr/2024 17:00:35] \"POST /get_pre/?age=21&balance=18508&loan=5165&score=580 HTTP/1.1\" 200 -\n",
      "127.0.0.1 - - [13/Apr/2024 17:00:35] \"POST /get_pre/?age=21&balance=18508&loan=5165&score=580 HTTP/1.1\" 200 -\n",
      "127.0.0.1 - - [13/Apr/2024 17:00:35] \"POST /get_pre/?age=21&balance=18508&loan=5165&score=580 HTTP/1.1\" 200 -\n",
      "127.0.0.1 - - [13/Apr/2024 17:00:35] \"POST /get_pre/?age=21&balance=18508&loan=5165&score=580 HTTP/1.1\" 200 -\n"
     ]
    },
    {
     "name": "stdout",
     "output_type": "stream",
     "text": [
      "[104474.45187385]\n",
      "[104474.45187385]\n",
      "[104474.45187385]\n",
      "[104474.45187385]\n",
      "[104474.45187385]\n",
      "[104474.45187385]\n",
      "[104474.45187385]\n",
      "[104474.45187385]\n",
      "[104474.45187385]\n",
      "[104474.45187385]\n",
      "[104474.45187385]\n"
     ]
    },
    {
     "name": "stderr",
     "output_type": "stream",
     "text": [
      "127.0.0.1 - - [13/Apr/2024 17:00:35] \"POST /get_pre/?age=21&balance=18508&loan=5165&score=580 HTTP/1.1\" 200 -\n",
      "127.0.0.1 - - [13/Apr/2024 17:00:35] \"POST /get_pre/?age=21&balance=18508&loan=5165&score=580 HTTP/1.1\" 200 -\n",
      "127.0.0.1 - - [13/Apr/2024 17:00:35] \"POST /get_pre/?age=21&balance=18508&loan=5165&score=580 HTTP/1.1\" 200 -\n",
      "127.0.0.1 - - [13/Apr/2024 17:00:36] \"POST /get_pre/?age=21&balance=18508&loan=5165&score=580 HTTP/1.1\" 200 -\n",
      "127.0.0.1 - - [13/Apr/2024 17:00:36] \"POST /get_pre/?age=21&balance=18508&loan=5165&score=580 HTTP/1.1\" 200 -\n",
      "127.0.0.1 - - [13/Apr/2024 17:00:36] \"POST /get_pre/?age=21&balance=18508&loan=5165&score=580 HTTP/1.1\" 200 -\n",
      "127.0.0.1 - - [13/Apr/2024 17:00:36] \"POST /get_pre/?age=21&balance=18508&loan=5165&score=580 HTTP/1.1\" 200 -\n",
      "127.0.0.1 - - [13/Apr/2024 17:00:36] \"POST /get_pre/?age=21&balance=18508&loan=5165&score=580 HTTP/1.1\" 200 -\n",
      "127.0.0.1 - - [13/Apr/2024 17:00:36] \"POST /get_pre/?age=21&balance=18508&loan=5165&score=580 HTTP/1.1\" 200 -\n",
      "127.0.0.1 - - [13/Apr/2024 17:00:36] \"POST /get_pre/?age=21&balance=18508&loan=5165&score=580 HTTP/1.1\" 200 -\n",
      "127.0.0.1 - - [13/Apr/2024 17:00:36] \"POST /get_pre/?age=21&balance=18508&loan=5165&score=580 HTTP/1.1\" 200 -\n"
     ]
    },
    {
     "name": "stdout",
     "output_type": "stream",
     "text": [
      "[104474.45187385]\n",
      "[104474.45187385]\n",
      "[104474.45187385]\n",
      "[104474.45187385]\n",
      "[104474.45187385]\n",
      "[104474.45187385]\n",
      "[104474.45187385]\n",
      "[104474.45187385]\n",
      "[104474.45187385]\n",
      "[104474.45187385]\n",
      "[104474.45187385]\n"
     ]
    },
    {
     "name": "stderr",
     "output_type": "stream",
     "text": [
      "127.0.0.1 - - [13/Apr/2024 17:00:36] \"POST /get_pre/?age=21&balance=18508&loan=5165&score=580 HTTP/1.1\" 200 -\n",
      "127.0.0.1 - - [13/Apr/2024 17:00:36] \"POST /get_pre/?age=21&balance=18508&loan=5165&score=580 HTTP/1.1\" 200 -\n",
      "127.0.0.1 - - [13/Apr/2024 17:00:36] \"POST /get_pre/?age=21&balance=18508&loan=5165&score=580 HTTP/1.1\" 200 -\n",
      "127.0.0.1 - - [13/Apr/2024 17:00:36] \"POST /get_pre/?age=21&balance=18508&loan=5165&score=580 HTTP/1.1\" 200 -\n",
      "127.0.0.1 - - [13/Apr/2024 17:00:36] \"POST /get_pre/?age=21&balance=18508&loan=5165&score=580 HTTP/1.1\" 200 -\n",
      "127.0.0.1 - - [13/Apr/2024 17:00:36] \"POST /get_pre/?age=21&balance=18508&loan=5165&score=580 HTTP/1.1\" 200 -\n",
      "127.0.0.1 - - [13/Apr/2024 17:00:36] \"POST /get_pre/?age=21&balance=18508&loan=5165&score=580 HTTP/1.1\" 200 -\n",
      "127.0.0.1 - - [13/Apr/2024 17:00:36] \"POST /get_pre/?age=21&balance=18508&loan=5165&score=580 HTTP/1.1\" 200 -\n",
      "127.0.0.1 - - [13/Apr/2024 17:00:36] \"POST /get_pre/?age=21&balance=18508&loan=5165&score=580 HTTP/1.1\" 200 -\n",
      "127.0.0.1 - - [13/Apr/2024 17:00:36] \"POST /get_pre/?age=21&balance=18508&loan=5165&score=580 HTTP/1.1\" 200 -\n"
     ]
    },
    {
     "name": "stdout",
     "output_type": "stream",
     "text": [
      "[104474.45187385]\n",
      "[104474.45187385]\n",
      "[104474.45187385]\n",
      "[104474.45187385]\n",
      "[104474.45187385]\n",
      "[104474.45187385]\n",
      "[104474.45187385]\n",
      "[104474.45187385]\n",
      "[104474.45187385]\n",
      "[104474.45187385]\n"
     ]
    },
    {
     "name": "stderr",
     "output_type": "stream",
     "text": [
      "127.0.0.1 - - [13/Apr/2024 17:00:36] \"POST /get_pre/?age=21&balance=18508&loan=5165&score=580 HTTP/1.1\" 200 -\n",
      "127.0.0.1 - - [13/Apr/2024 17:00:36] \"POST /get_pre/?age=21&balance=18508&loan=5165&score=580 HTTP/1.1\" 200 -\n",
      "127.0.0.1 - - [13/Apr/2024 17:00:36] \"POST /get_pre/?age=21&balance=18508&loan=5165&score=580 HTTP/1.1\" 200 -\n",
      "127.0.0.1 - - [13/Apr/2024 17:00:36] \"POST /get_pre/?age=21&balance=18508&loan=5165&score=580 HTTP/1.1\" 200 -\n",
      "127.0.0.1 - - [13/Apr/2024 17:00:36] \"POST /get_pre/?age=21&balance=18508&loan=5165&score=580 HTTP/1.1\" 200 -\n",
      "127.0.0.1 - - [13/Apr/2024 17:00:36] \"POST /get_pre/?age=21&balance=18508&loan=5165&score=580 HTTP/1.1\" 200 -\n",
      "127.0.0.1 - - [13/Apr/2024 17:00:36] \"POST /get_pre/?age=21&balance=18508&loan=5165&score=580 HTTP/1.1\" 200 -\n",
      "127.0.0.1 - - [13/Apr/2024 17:00:36] \"POST /get_pre/?age=21&balance=18508&loan=5165&score=580 HTTP/1.1\" 200 -\n",
      "127.0.0.1 - - [13/Apr/2024 17:00:36] \"POST /get_pre/?age=21&balance=18508&loan=5165&score=580 HTTP/1.1\" 200 -\n",
      "127.0.0.1 - - [13/Apr/2024 17:00:36] \"POST /get_pre/?age=21&balance=18508&loan=5165&score=580 HTTP/1.1\" 200 -\n"
     ]
    },
    {
     "name": "stdout",
     "output_type": "stream",
     "text": [
      "[104474.45187385]\n",
      "[104474.45187385]\n",
      "[104474.45187385]\n",
      "[104474.45187385]\n",
      "[104474.45187385]\n",
      "[104474.45187385]\n",
      "[104474.45187385]\n",
      "[104474.45187385]\n",
      "[104474.45187385]\n",
      "[104474.45187385]\n"
     ]
    },
    {
     "name": "stderr",
     "output_type": "stream",
     "text": [
      "127.0.0.1 - - [13/Apr/2024 17:00:36] \"POST /get_pre/?age=21&balance=18508&loan=5165&score=580 HTTP/1.1\" 200 -\n",
      "127.0.0.1 - - [13/Apr/2024 17:00:36] \"POST /get_pre/?age=21&balance=18508&loan=5165&score=580 HTTP/1.1\" 200 -\n",
      "127.0.0.1 - - [13/Apr/2024 17:00:36] \"POST /get_pre/?age=21&balance=18508&loan=5165&score=580 HTTP/1.1\" 200 -\n",
      "127.0.0.1 - - [13/Apr/2024 17:00:36] \"POST /get_pre/?age=21&balance=18508&loan=5165&score=580 HTTP/1.1\" 200 -\n",
      "127.0.0.1 - - [13/Apr/2024 17:00:36] \"POST /get_pre/?age=21&balance=18508&loan=5165&score=580 HTTP/1.1\" 200 -\n",
      "127.0.0.1 - - [13/Apr/2024 17:00:36] \"POST /get_pre/?age=21&balance=18508&loan=5165&score=580 HTTP/1.1\" 200 -\n",
      "127.0.0.1 - - [13/Apr/2024 17:00:36] \"POST /get_pre/?age=21&balance=18508&loan=5165&score=580 HTTP/1.1\" 200 -\n",
      "127.0.0.1 - - [13/Apr/2024 17:00:36] \"POST /get_pre/?age=21&balance=18508&loan=5165&score=580 HTTP/1.1\" 200 -\n",
      "127.0.0.1 - - [13/Apr/2024 17:00:36] \"POST /get_pre/?age=21&balance=18508&loan=5165&score=580 HTTP/1.1\" 200 -\n",
      "127.0.0.1 - - [13/Apr/2024 17:00:36] \"POST /get_pre/?age=21&balance=18508&loan=5165&score=580 HTTP/1.1\" 200 -\n"
     ]
    },
    {
     "name": "stdout",
     "output_type": "stream",
     "text": [
      "[104474.45187385]\n",
      "[104474.45187385]\n",
      "[104474.45187385]\n",
      "[104474.45187385]\n",
      "[104474.45187385]\n",
      "[104474.45187385]\n",
      "[104474.45187385]\n",
      "[104474.45187385]\n",
      "[104474.45187385]\n",
      "[104474.45187385]\n"
     ]
    },
    {
     "name": "stderr",
     "output_type": "stream",
     "text": [
      "127.0.0.1 - - [13/Apr/2024 17:00:36] \"POST /get_pre/?age=21&balance=18508&loan=5165&score=580 HTTP/1.1\" 200 -\n",
      "127.0.0.1 - - [13/Apr/2024 17:00:36] \"POST /get_pre/?age=21&balance=18508&loan=5165&score=580 HTTP/1.1\" 200 -\n",
      "127.0.0.1 - - [13/Apr/2024 17:00:36] \"POST /get_pre/?age=21&balance=18508&loan=5165&score=580 HTTP/1.1\" 200 -\n",
      "127.0.0.1 - - [13/Apr/2024 17:00:36] \"POST /get_pre/?age=21&balance=18508&loan=5165&score=580 HTTP/1.1\" 200 -\n",
      "127.0.0.1 - - [13/Apr/2024 17:00:36] \"POST /get_pre/?age=21&balance=18508&loan=5165&score=580 HTTP/1.1\" 200 -\n",
      "127.0.0.1 - - [13/Apr/2024 17:00:36] \"POST /get_pre/?age=21&balance=18508&loan=5165&score=580 HTTP/1.1\" 200 -\n",
      "127.0.0.1 - - [13/Apr/2024 17:00:36] \"POST /get_pre/?age=21&balance=18508&loan=5165&score=580 HTTP/1.1\" 200 -\n",
      "127.0.0.1 - - [13/Apr/2024 17:00:36] \"POST /get_pre/?age=21&balance=18508&loan=5165&score=580 HTTP/1.1\" 200 -\n",
      "127.0.0.1 - - [13/Apr/2024 17:00:36] \"POST /get_pre/?age=21&balance=18508&loan=5165&score=580 HTTP/1.1\" 200 -\n",
      "127.0.0.1 - - [13/Apr/2024 17:00:36] \"POST /get_pre/?age=21&balance=18508&loan=5165&score=580 HTTP/1.1\" 200 -\n"
     ]
    },
    {
     "name": "stdout",
     "output_type": "stream",
     "text": [
      "[104474.45187385]\n",
      "[104474.45187385]\n",
      "[104474.45187385]\n",
      "[104474.45187385]\n",
      "[104474.45187385]\n",
      "[104474.45187385]\n",
      "[104474.45187385]\n",
      "[104474.45187385]\n",
      "[104474.45187385]\n",
      "[104474.45187385]\n"
     ]
    },
    {
     "name": "stderr",
     "output_type": "stream",
     "text": [
      "127.0.0.1 - - [13/Apr/2024 17:00:36] \"POST /get_pre/?age=21&balance=18508&loan=5165&score=580 HTTP/1.1\" 200 -\n",
      "127.0.0.1 - - [13/Apr/2024 17:00:37] \"POST /get_pre/?age=21&balance=18508&loan=5165&score=580 HTTP/1.1\" 200 -\n",
      "127.0.0.1 - - [13/Apr/2024 17:00:37] \"POST /get_pre/?age=21&balance=18508&loan=5165&score=580 HTTP/1.1\" 200 -\n",
      "127.0.0.1 - - [13/Apr/2024 17:00:37] \"POST /get_pre/?age=21&balance=18508&loan=5165&score=580 HTTP/1.1\" 200 -\n",
      "127.0.0.1 - - [13/Apr/2024 17:00:37] \"POST /get_pre/?age=21&balance=18508&loan=5165&score=580 HTTP/1.1\" 200 -\n",
      "127.0.0.1 - - [13/Apr/2024 17:00:37] \"POST /get_pre/?age=21&balance=18508&loan=5165&score=580 HTTP/1.1\" 200 -\n",
      "127.0.0.1 - - [13/Apr/2024 17:00:37] \"POST /get_pre/?age=21&balance=18508&loan=5165&score=580 HTTP/1.1\" 200 -\n",
      "127.0.0.1 - - [13/Apr/2024 17:00:37] \"POST /get_pre/?age=21&balance=18508&loan=5165&score=580 HTTP/1.1\" 200 -\n",
      "127.0.0.1 - - [13/Apr/2024 17:00:37] \"POST /get_pre/?age=21&balance=18508&loan=5165&score=580 HTTP/1.1\" 200 -\n",
      "127.0.0.1 - - [13/Apr/2024 17:00:37] \"POST /get_pre/?age=21&balance=18508&loan=5165&score=580 HTTP/1.1\" 200 -\n"
     ]
    },
    {
     "name": "stdout",
     "output_type": "stream",
     "text": [
      "[104474.45187385]\n",
      "[104474.45187385]\n",
      "[104474.45187385]\n",
      "[104474.45187385]\n",
      "[104474.45187385]\n",
      "[104474.45187385]\n",
      "[104474.45187385]\n",
      "[104474.45187385]\n",
      "[104474.45187385]\n",
      "[104474.45187385]\n"
     ]
    },
    {
     "name": "stderr",
     "output_type": "stream",
     "text": [
      "127.0.0.1 - - [13/Apr/2024 17:00:37] \"POST /get_pre/?age=21&balance=18508&loan=5165&score=580 HTTP/1.1\" 200 -\n",
      "127.0.0.1 - - [13/Apr/2024 17:00:37] \"POST /get_pre/?age=21&balance=18508&loan=5165&score=580 HTTP/1.1\" 200 -\n",
      "127.0.0.1 - - [13/Apr/2024 17:00:37] \"POST /get_pre/?age=21&balance=18508&loan=5165&score=580 HTTP/1.1\" 200 -\n",
      "127.0.0.1 - - [13/Apr/2024 17:00:37] \"POST /get_pre/?age=21&balance=18508&loan=5165&score=580 HTTP/1.1\" 200 -\n",
      "127.0.0.1 - - [13/Apr/2024 17:00:37] \"POST /get_pre/?age=21&balance=18508&loan=5165&score=580 HTTP/1.1\" 200 -\n",
      "127.0.0.1 - - [13/Apr/2024 17:00:37] \"POST /get_pre/?age=21&balance=18508&loan=5165&score=580 HTTP/1.1\" 200 -\n",
      "127.0.0.1 - - [13/Apr/2024 17:00:37] \"POST /get_pre/?age=21&balance=18508&loan=5165&score=580 HTTP/1.1\" 200 -\n",
      "127.0.0.1 - - [13/Apr/2024 17:00:37] \"POST /get_pre/?age=21&balance=18508&loan=5165&score=580 HTTP/1.1\" 200 -\n",
      "127.0.0.1 - - [13/Apr/2024 17:00:37] \"POST /get_pre/?age=21&balance=18508&loan=5165&score=580 HTTP/1.1\" 200 -\n",
      "127.0.0.1 - - [13/Apr/2024 17:00:37] \"POST /get_pre/?age=21&balance=18508&loan=5165&score=580 HTTP/1.1\" 200 -\n"
     ]
    },
    {
     "name": "stdout",
     "output_type": "stream",
     "text": [
      "[104474.45187385]\n",
      "[104474.45187385]\n",
      "[104474.45187385]\n",
      "[104474.45187385]\n",
      "[104474.45187385]\n",
      "[104474.45187385]\n",
      "[104474.45187385]\n",
      "[104474.45187385]\n",
      "[104474.45187385]\n",
      "[104474.45187385]\n"
     ]
    },
    {
     "name": "stderr",
     "output_type": "stream",
     "text": [
      "127.0.0.1 - - [13/Apr/2024 17:00:37] \"POST /get_pre/?age=21&balance=18508&loan=5165&score=580 HTTP/1.1\" 200 -\n",
      "127.0.0.1 - - [13/Apr/2024 17:00:37] \"POST /get_pre/?age=21&balance=18508&loan=5165&score=580 HTTP/1.1\" 200 -\n",
      "127.0.0.1 - - [13/Apr/2024 17:00:37] \"POST /get_pre/?age=21&balance=18508&loan=5165&score=580 HTTP/1.1\" 200 -\n",
      "127.0.0.1 - - [13/Apr/2024 17:00:37] \"POST /get_pre/?age=21&balance=18508&loan=5165&score=580 HTTP/1.1\" 200 -\n",
      "127.0.0.1 - - [13/Apr/2024 17:00:37] \"POST /get_pre/?age=21&balance=18508&loan=5165&score=580 HTTP/1.1\" 200 -\n",
      "127.0.0.1 - - [13/Apr/2024 17:00:37] \"POST /get_pre/?age=21&balance=18508&loan=5165&score=580 HTTP/1.1\" 200 -\n",
      "127.0.0.1 - - [13/Apr/2024 17:00:37] \"POST /get_pre/?age=21&balance=18508&loan=5165&score=580 HTTP/1.1\" 200 -\n",
      "127.0.0.1 - - [13/Apr/2024 17:00:37] \"POST /get_pre/?age=21&balance=18508&loan=5165&score=580 HTTP/1.1\" 200 -\n",
      "127.0.0.1 - - [13/Apr/2024 17:00:37] \"POST /get_pre/?age=21&balance=18508&loan=5165&score=580 HTTP/1.1\" 200 -\n",
      "127.0.0.1 - - [13/Apr/2024 17:00:37] \"POST /get_pre/?age=21&balance=18508&loan=5165&score=580 HTTP/1.1\" 200 -\n"
     ]
    },
    {
     "name": "stdout",
     "output_type": "stream",
     "text": [
      "[104474.45187385]\n",
      "[104474.45187385]\n",
      "[104474.45187385]\n",
      "[104474.45187385]\n",
      "[104474.45187385]\n",
      "[104474.45187385]\n",
      "[104474.45187385]\n",
      "[104474.45187385]\n",
      "[104474.45187385]\n",
      "[104474.45187385]\n"
     ]
    },
    {
     "name": "stderr",
     "output_type": "stream",
     "text": [
      "127.0.0.1 - - [13/Apr/2024 17:00:37] \"POST /get_pre/?age=21&balance=18508&loan=5165&score=580 HTTP/1.1\" 200 -\n",
      "127.0.0.1 - - [13/Apr/2024 17:00:37] \"POST /get_pre/?age=21&balance=18508&loan=5165&score=580 HTTP/1.1\" 200 -\n",
      "127.0.0.1 - - [13/Apr/2024 17:00:37] \"POST /get_pre/?age=21&balance=18508&loan=5165&score=580 HTTP/1.1\" 200 -\n",
      "127.0.0.1 - - [13/Apr/2024 17:00:37] \"POST /get_pre/?age=21&balance=18508&loan=5165&score=580 HTTP/1.1\" 200 -\n",
      "127.0.0.1 - - [13/Apr/2024 17:00:37] \"POST /get_pre/?age=21&balance=18508&loan=5165&score=580 HTTP/1.1\" 200 -\n",
      "127.0.0.1 - - [13/Apr/2024 17:00:37] \"POST /get_pre/?age=21&balance=18508&loan=5165&score=580 HTTP/1.1\" 200 -\n",
      "127.0.0.1 - - [13/Apr/2024 17:00:37] \"POST /get_pre/?age=21&balance=18508&loan=5165&score=580 HTTP/1.1\" 200 -\n",
      "127.0.0.1 - - [13/Apr/2024 17:00:37] \"POST /get_pre/?age=21&balance=18508&loan=5165&score=580 HTTP/1.1\" 200 -\n",
      "127.0.0.1 - - [13/Apr/2024 17:00:37] \"POST /get_pre/?age=21&balance=18508&loan=5165&score=580 HTTP/1.1\" 200 -\n",
      "127.0.0.1 - - [13/Apr/2024 17:00:37] \"POST /get_pre/?age=21&balance=18508&loan=5165&score=580 HTTP/1.1\" 200 -\n"
     ]
    },
    {
     "name": "stdout",
     "output_type": "stream",
     "text": [
      "[104474.45187385]\n",
      "[104474.45187385]\n",
      "[104474.45187385]\n",
      "[104474.45187385]\n",
      "[104474.45187385]\n",
      "[104474.45187385]\n",
      "[104474.45187385]\n",
      "[104474.45187385]\n",
      "[104474.45187385]\n",
      "[104474.45187385]\n"
     ]
    },
    {
     "name": "stderr",
     "output_type": "stream",
     "text": [
      "127.0.0.1 - - [13/Apr/2024 17:00:37] \"POST /get_pre/?age=21&balance=18508&loan=5165&score=580 HTTP/1.1\" 200 -\n",
      "127.0.0.1 - - [13/Apr/2024 17:00:37] \"POST /get_pre/?age=21&balance=18508&loan=5165&score=580 HTTP/1.1\" 200 -\n",
      "127.0.0.1 - - [13/Apr/2024 17:00:37] \"POST /get_pre/?age=21&balance=18508&loan=5165&score=580 HTTP/1.1\" 200 -\n",
      "127.0.0.1 - - [13/Apr/2024 17:00:37] \"POST /get_pre/?age=21&balance=18508&loan=5165&score=580 HTTP/1.1\" 200 -\n",
      "127.0.0.1 - - [13/Apr/2024 17:00:37] \"POST /get_pre/?age=21&balance=18508&loan=5165&score=580 HTTP/1.1\" 200 -\n",
      "127.0.0.1 - - [13/Apr/2024 17:00:37] \"POST /get_pre/?age=21&balance=18508&loan=5165&score=580 HTTP/1.1\" 200 -\n",
      "127.0.0.1 - - [13/Apr/2024 17:00:37] \"POST /get_pre/?age=21&balance=18508&loan=5165&score=580 HTTP/1.1\" 200 -\n",
      "127.0.0.1 - - [13/Apr/2024 17:00:37] \"POST /get_pre/?age=21&balance=18508&loan=5165&score=580 HTTP/1.1\" 200 -\n",
      "127.0.0.1 - - [13/Apr/2024 17:00:37] \"POST /get_pre/?age=21&balance=18508&loan=5165&score=580 HTTP/1.1\" 200 -\n",
      "127.0.0.1 - - [13/Apr/2024 17:00:38] \"POST /get_pre/?age=21&balance=18508&loan=5165&score=580 HTTP/1.1\" 200 -\n"
     ]
    },
    {
     "name": "stdout",
     "output_type": "stream",
     "text": [
      "[104474.45187385]\n",
      "[104474.45187385]\n",
      "[104474.45187385]\n",
      "[104474.45187385]\n",
      "[104474.45187385]\n",
      "[104474.45187385]\n",
      "[104474.45187385]\n",
      "[104474.45187385]\n",
      "[104474.45187385]\n",
      "[104474.45187385]\n"
     ]
    },
    {
     "name": "stderr",
     "output_type": "stream",
     "text": [
      "127.0.0.1 - - [13/Apr/2024 17:00:38] \"POST /get_pre/?age=21&balance=18508&loan=5165&score=580 HTTP/1.1\" 200 -\n",
      "127.0.0.1 - - [13/Apr/2024 17:00:38] \"POST /get_pre/?age=21&balance=18508&loan=5165&score=580 HTTP/1.1\" 200 -\n",
      "127.0.0.1 - - [13/Apr/2024 17:00:38] \"POST /get_pre/?age=21&balance=18508&loan=5165&score=580 HTTP/1.1\" 200 -\n",
      "127.0.0.1 - - [13/Apr/2024 17:00:38] \"POST /get_pre/?age=21&balance=18508&loan=5165&score=580 HTTP/1.1\" 200 -\n",
      "127.0.0.1 - - [13/Apr/2024 17:00:38] \"POST /get_pre/?age=21&balance=18508&loan=5165&score=580 HTTP/1.1\" 200 -\n",
      "127.0.0.1 - - [13/Apr/2024 17:00:38] \"POST /get_pre/?age=21&balance=18508&loan=5165&score=580 HTTP/1.1\" 200 -\n",
      "127.0.0.1 - - [13/Apr/2024 17:00:38] \"POST /get_pre/?age=21&balance=18508&loan=5165&score=580 HTTP/1.1\" 200 -\n",
      "127.0.0.1 - - [13/Apr/2024 17:00:38] \"POST /get_pre/?age=21&balance=18508&loan=5165&score=580 HTTP/1.1\" 200 -\n"
     ]
    },
    {
     "name": "stdout",
     "output_type": "stream",
     "text": [
      "[104474.45187385]\n",
      "[104474.45187385]\n",
      "[104474.45187385]\n",
      "[104474.45187385]\n",
      "[104474.45187385]\n",
      "[104474.45187385]\n",
      "[104474.45187385]\n",
      "[104474.45187385]\n"
     ]
    },
    {
     "name": "stderr",
     "output_type": "stream",
     "text": [
      "127.0.0.1 - - [13/Apr/2024 17:00:38] \"POST /get_pre/?age=21&balance=18508&loan=5165&score=580 HTTP/1.1\" 200 -\n",
      "127.0.0.1 - - [13/Apr/2024 17:00:38] \"POST /get_pre/?age=21&balance=18508&loan=5165&score=580 HTTP/1.1\" 200 -\n",
      "127.0.0.1 - - [13/Apr/2024 17:00:38] \"POST /get_pre/?age=21&balance=18508&loan=5165&score=580 HTTP/1.1\" 200 -\n",
      "127.0.0.1 - - [13/Apr/2024 17:00:38] \"POST /get_pre/?age=21&balance=18508&loan=5165&score=580 HTTP/1.1\" 200 -\n",
      "127.0.0.1 - - [13/Apr/2024 17:00:38] \"POST /get_pre/?age=21&balance=18508&loan=5165&score=580 HTTP/1.1\" 200 -\n",
      "127.0.0.1 - - [13/Apr/2024 17:00:38] \"POST /get_pre/?age=21&balance=18508&loan=5165&score=580 HTTP/1.1\" 200 -\n",
      "127.0.0.1 - - [13/Apr/2024 17:00:38] \"POST /get_pre/?age=21&balance=18508&loan=5165&score=580 HTTP/1.1\" 200 -\n",
      "127.0.0.1 - - [13/Apr/2024 17:00:38] \"POST /get_pre/?age=21&balance=18508&loan=5165&score=580 HTTP/1.1\" 200 -\n",
      "127.0.0.1 - - [13/Apr/2024 17:00:38] \"POST /get_pre/?age=21&balance=18508&loan=5165&score=580 HTTP/1.1\" 200 -\n"
     ]
    },
    {
     "name": "stdout",
     "output_type": "stream",
     "text": [
      "[104474.45187385]\n",
      "[104474.45187385]\n",
      "[104474.45187385]\n",
      "[104474.45187385]\n",
      "[104474.45187385]\n",
      "[104474.45187385]\n",
      "[104474.45187385]\n",
      "[104474.45187385]\n",
      "[104474.45187385]\n"
     ]
    },
    {
     "name": "stderr",
     "output_type": "stream",
     "text": [
      "127.0.0.1 - - [13/Apr/2024 17:00:38] \"POST /get_pre/?age=21&balance=18508&loan=5165&score=580 HTTP/1.1\" 200 -\n",
      "127.0.0.1 - - [13/Apr/2024 17:00:38] \"POST /get_pre/?age=21&balance=18508&loan=5165&score=580 HTTP/1.1\" 200 -\n",
      "127.0.0.1 - - [13/Apr/2024 17:00:38] \"POST /get_pre/?age=21&balance=18508&loan=5165&score=580 HTTP/1.1\" 200 -\n",
      "127.0.0.1 - - [13/Apr/2024 17:00:38] \"POST /get_pre/?age=21&balance=18508&loan=5165&score=580 HTTP/1.1\" 200 -\n",
      "127.0.0.1 - - [13/Apr/2024 17:00:38] \"POST /get_pre/?age=21&balance=18508&loan=5165&score=580 HTTP/1.1\" 200 -\n",
      "127.0.0.1 - - [13/Apr/2024 17:00:38] \"POST /get_pre/?age=21&balance=18508&loan=5165&score=580 HTTP/1.1\" 200 -\n",
      "127.0.0.1 - - [13/Apr/2024 17:00:38] \"POST /get_pre/?age=21&balance=18508&loan=5165&score=580 HTTP/1.1\" 200 -\n",
      "127.0.0.1 - - [13/Apr/2024 17:00:38] \"POST /get_pre/?age=21&balance=18508&loan=5165&score=580 HTTP/1.1\" 200 -\n",
      "127.0.0.1 - - [13/Apr/2024 17:00:38] \"POST /get_pre/?age=21&balance=18508&loan=5165&score=580 HTTP/1.1\" 200 -\n",
      "127.0.0.1 - - [13/Apr/2024 17:00:38] \"POST /get_pre/?age=21&balance=18508&loan=5165&score=580 HTTP/1.1\" 200 -\n"
     ]
    },
    {
     "name": "stdout",
     "output_type": "stream",
     "text": [
      "[104474.45187385]\n",
      "[104474.45187385]\n",
      "[104474.45187385]\n",
      "[104474.45187385]\n",
      "[104474.45187385]\n",
      "[104474.45187385]\n",
      "[104474.45187385]\n",
      "[104474.45187385]\n",
      "[104474.45187385]\n",
      "[104474.45187385]\n"
     ]
    },
    {
     "name": "stderr",
     "output_type": "stream",
     "text": [
      "127.0.0.1 - - [13/Apr/2024 17:00:38] \"POST /get_pre/?age=21&balance=18508&loan=5165&score=580 HTTP/1.1\" 200 -\n",
      "127.0.0.1 - - [13/Apr/2024 17:00:38] \"POST /get_pre/?age=21&balance=18508&loan=5165&score=580 HTTP/1.1\" 200 -\n",
      "127.0.0.1 - - [13/Apr/2024 17:00:38] \"POST /get_pre/?age=21&balance=18508&loan=5165&score=580 HTTP/1.1\" 200 -\n",
      "127.0.0.1 - - [13/Apr/2024 17:00:38] \"POST /get_pre/?age=21&balance=18508&loan=5165&score=580 HTTP/1.1\" 200 -\n",
      "127.0.0.1 - - [13/Apr/2024 17:00:38] \"POST /get_pre/?age=21&balance=18508&loan=5165&score=580 HTTP/1.1\" 200 -\n",
      "127.0.0.1 - - [13/Apr/2024 17:00:38] \"POST /get_pre/?age=21&balance=18508&loan=5165&score=580 HTTP/1.1\" 200 -\n",
      "127.0.0.1 - - [13/Apr/2024 17:00:38] \"POST /get_pre/?age=21&balance=18508&loan=5165&score=580 HTTP/1.1\" 200 -\n",
      "127.0.0.1 - - [13/Apr/2024 17:00:38] \"POST /get_pre/?age=21&balance=18508&loan=5165&score=580 HTTP/1.1\" 200 -\n",
      "127.0.0.1 - - [13/Apr/2024 17:00:38] \"POST /get_pre/?age=21&balance=18508&loan=5165&score=580 HTTP/1.1\" 200 -\n"
     ]
    },
    {
     "name": "stdout",
     "output_type": "stream",
     "text": [
      "[104474.45187385]\n",
      "[104474.45187385]\n",
      "[104474.45187385]\n",
      "[104474.45187385]\n",
      "[104474.45187385]\n",
      "[104474.45187385]\n",
      "[104474.45187385]\n",
      "[104474.45187385]\n",
      "[104474.45187385]\n"
     ]
    },
    {
     "name": "stderr",
     "output_type": "stream",
     "text": [
      "127.0.0.1 - - [13/Apr/2024 17:00:38] \"POST /get_pre/?age=21&balance=18508&loan=5165&score=580 HTTP/1.1\" 200 -\n",
      "127.0.0.1 - - [13/Apr/2024 17:00:38] \"POST /get_pre/?age=21&balance=18508&loan=5165&score=580 HTTP/1.1\" 200 -\n",
      "127.0.0.1 - - [13/Apr/2024 17:00:38] \"POST /get_pre/?age=21&balance=18508&loan=5165&score=580 HTTP/1.1\" 200 -\n",
      "127.0.0.1 - - [13/Apr/2024 17:00:38] \"POST /get_pre/?age=21&balance=18508&loan=5165&score=580 HTTP/1.1\" 200 -\n",
      "127.0.0.1 - - [13/Apr/2024 17:00:38] \"POST /get_pre/?age=21&balance=18508&loan=5165&score=580 HTTP/1.1\" 200 -\n",
      "127.0.0.1 - - [13/Apr/2024 17:00:39] \"POST /get_pre/?age=21&balance=18508&loan=5165&score=580 HTTP/1.1\" 200 -\n",
      "127.0.0.1 - - [13/Apr/2024 17:00:39] \"POST /get_pre/?age=21&balance=18508&loan=5165&score=580 HTTP/1.1\" 200 -\n",
      "127.0.0.1 - - [13/Apr/2024 17:00:39] \"POST /get_pre/?age=21&balance=18508&loan=5165&score=580 HTTP/1.1\" 200 -\n",
      "127.0.0.1 - - [13/Apr/2024 17:00:39] \"POST /get_pre/?age=21&balance=18508&loan=5165&score=580 HTTP/1.1\" 200 -\n",
      "127.0.0.1 - - [13/Apr/2024 17:00:39] \"POST /get_pre/?age=21&balance=18508&loan=5165&score=580 HTTP/1.1\" 200 -\n"
     ]
    },
    {
     "name": "stdout",
     "output_type": "stream",
     "text": [
      "[104474.45187385]\n",
      "[104474.45187385]\n",
      "[104474.45187385]\n",
      "[104474.45187385]\n",
      "[104474.45187385]\n",
      "[104474.45187385]\n",
      "[104474.45187385]\n",
      "[104474.45187385]\n",
      "[104474.45187385]\n",
      "[104474.45187385]\n"
     ]
    },
    {
     "name": "stderr",
     "output_type": "stream",
     "text": [
      "127.0.0.1 - - [13/Apr/2024 17:00:39] \"POST /get_pre/?age=21&balance=18508&loan=5165&score=580 HTTP/1.1\" 200 -\n",
      "127.0.0.1 - - [13/Apr/2024 17:00:39] \"POST /get_pre/?age=21&balance=18508&loan=5165&score=580 HTTP/1.1\" 200 -\n",
      "127.0.0.1 - - [13/Apr/2024 17:00:39] \"POST /get_pre/?age=21&balance=18508&loan=5165&score=580 HTTP/1.1\" 200 -\n",
      "127.0.0.1 - - [13/Apr/2024 17:00:39] \"POST /get_pre/?age=21&balance=18508&loan=5165&score=580 HTTP/1.1\" 200 -\n",
      "127.0.0.1 - - [13/Apr/2024 17:00:39] \"POST /get_pre/?age=21&balance=18508&loan=5165&score=580 HTTP/1.1\" 200 -\n",
      "127.0.0.1 - - [13/Apr/2024 17:00:39] \"POST /get_pre/?age=21&balance=18508&loan=5165&score=580 HTTP/1.1\" 200 -\n",
      "127.0.0.1 - - [13/Apr/2024 17:00:39] \"POST /get_pre/?age=21&balance=18508&loan=5165&score=580 HTTP/1.1\" 200 -\n",
      "127.0.0.1 - - [13/Apr/2024 17:00:39] \"POST /get_pre/?age=21&balance=18508&loan=5165&score=580 HTTP/1.1\" 200 -\n",
      "127.0.0.1 - - [13/Apr/2024 17:00:39] \"POST /get_pre/?age=21&balance=18508&loan=5165&score=580 HTTP/1.1\" 200 -\n",
      "127.0.0.1 - - [13/Apr/2024 17:00:39] \"POST /get_pre/?age=21&balance=18508&loan=5165&score=580 HTTP/1.1\" 200 -\n"
     ]
    },
    {
     "name": "stdout",
     "output_type": "stream",
     "text": [
      "[104474.45187385]\n",
      "[104474.45187385]\n",
      "[104474.45187385]\n",
      "[104474.45187385]\n",
      "[104474.45187385]\n",
      "[104474.45187385]\n",
      "[104474.45187385]\n",
      "[104474.45187385]\n",
      "[104474.45187385]\n",
      "[104474.45187385]\n"
     ]
    },
    {
     "name": "stderr",
     "output_type": "stream",
     "text": [
      "127.0.0.1 - - [13/Apr/2024 17:00:39] \"POST /get_pre/?age=21&balance=18508&loan=5165&score=580 HTTP/1.1\" 200 -\n",
      "127.0.0.1 - - [13/Apr/2024 17:00:39] \"POST /get_pre/?age=21&balance=18508&loan=5165&score=580 HTTP/1.1\" 200 -\n",
      "127.0.0.1 - - [13/Apr/2024 17:00:39] \"POST /get_pre/?age=21&balance=18508&loan=5165&score=580 HTTP/1.1\" 200 -\n",
      "127.0.0.1 - - [13/Apr/2024 17:00:39] \"POST /get_pre/?age=21&balance=18508&loan=5165&score=580 HTTP/1.1\" 200 -\n",
      "127.0.0.1 - - [13/Apr/2024 17:00:39] \"POST /get_pre/?age=21&balance=18508&loan=5165&score=580 HTTP/1.1\" 200 -\n",
      "127.0.0.1 - - [13/Apr/2024 17:00:39] \"POST /get_pre/?age=21&balance=18508&loan=5165&score=580 HTTP/1.1\" 200 -\n",
      "127.0.0.1 - - [13/Apr/2024 17:00:39] \"POST /get_pre/?age=21&balance=18508&loan=5165&score=580 HTTP/1.1\" 200 -\n",
      "127.0.0.1 - - [13/Apr/2024 17:00:39] \"POST /get_pre/?age=21&balance=18508&loan=5165&score=580 HTTP/1.1\" 200 -\n",
      "127.0.0.1 - - [13/Apr/2024 17:00:39] \"POST /get_pre/?age=21&balance=18508&loan=5165&score=580 HTTP/1.1\" 200 -\n",
      "127.0.0.1 - - [13/Apr/2024 17:00:39] \"POST /get_pre/?age=21&balance=18508&loan=5165&score=580 HTTP/1.1\" 200 -\n"
     ]
    },
    {
     "name": "stdout",
     "output_type": "stream",
     "text": [
      "[104474.45187385]\n",
      "[104474.45187385]\n",
      "[104474.45187385]\n",
      "[104474.45187385]\n",
      "[104474.45187385]\n",
      "[104474.45187385]\n",
      "[104474.45187385]\n",
      "[104474.45187385]\n",
      "[104474.45187385]\n",
      "[104474.45187385]\n"
     ]
    },
    {
     "name": "stderr",
     "output_type": "stream",
     "text": [
      "127.0.0.1 - - [13/Apr/2024 17:00:39] \"POST /get_pre/?age=21&balance=18508&loan=5165&score=580 HTTP/1.1\" 200 -\n",
      "127.0.0.1 - - [13/Apr/2024 17:00:39] \"POST /get_pre/?age=21&balance=18508&loan=5165&score=580 HTTP/1.1\" 200 -\n",
      "127.0.0.1 - - [13/Apr/2024 17:00:39] \"POST /get_pre/?age=21&balance=18508&loan=5165&score=580 HTTP/1.1\" 200 -\n",
      "127.0.0.1 - - [13/Apr/2024 17:00:39] \"POST /get_pre/?age=21&balance=18508&loan=5165&score=580 HTTP/1.1\" 200 -\n",
      "127.0.0.1 - - [13/Apr/2024 17:00:39] \"POST /get_pre/?age=21&balance=18508&loan=5165&score=580 HTTP/1.1\" 200 -\n",
      "127.0.0.1 - - [13/Apr/2024 17:00:39] \"POST /get_pre/?age=21&balance=18508&loan=5165&score=580 HTTP/1.1\" 200 -\n",
      "127.0.0.1 - - [13/Apr/2024 17:00:39] \"POST /get_pre/?age=21&balance=18508&loan=5165&score=580 HTTP/1.1\" 200 -\n",
      "127.0.0.1 - - [13/Apr/2024 17:00:39] \"POST /get_pre/?age=21&balance=18508&loan=5165&score=580 HTTP/1.1\" 200 -\n",
      "127.0.0.1 - - [13/Apr/2024 17:00:39] \"POST /get_pre/?age=21&balance=18508&loan=5165&score=580 HTTP/1.1\" 200 -\n",
      "127.0.0.1 - - [13/Apr/2024 17:00:39] \"POST /get_pre/?age=21&balance=18508&loan=5165&score=580 HTTP/1.1\" 200 -\n"
     ]
    },
    {
     "name": "stdout",
     "output_type": "stream",
     "text": [
      "[104474.45187385]\n",
      "[104474.45187385]\n",
      "[104474.45187385]\n",
      "[104474.45187385]\n",
      "[104474.45187385]\n",
      "[104474.45187385]\n",
      "[104474.45187385]\n",
      "[104474.45187385]\n",
      "[104474.45187385]\n",
      "[104474.45187385]\n"
     ]
    },
    {
     "name": "stderr",
     "output_type": "stream",
     "text": [
      "127.0.0.1 - - [13/Apr/2024 17:00:39] \"POST /get_pre/?age=21&balance=18508&loan=5165&score=580 HTTP/1.1\" 200 -\n",
      "127.0.0.1 - - [13/Apr/2024 17:00:39] \"POST /get_pre/?age=21&balance=18508&loan=5165&score=580 HTTP/1.1\" 200 -\n",
      "127.0.0.1 - - [13/Apr/2024 17:00:39] \"POST /get_pre/?age=21&balance=18508&loan=5165&score=580 HTTP/1.1\" 200 -\n",
      "127.0.0.1 - - [13/Apr/2024 17:00:39] \"POST /get_pre/?age=21&balance=18508&loan=5165&score=580 HTTP/1.1\" 200 -\n",
      "127.0.0.1 - - [13/Apr/2024 17:00:39] \"POST /get_pre/?age=21&balance=18508&loan=5165&score=580 HTTP/1.1\" 200 -\n",
      "127.0.0.1 - - [13/Apr/2024 17:00:39] \"POST /get_pre/?age=21&balance=18508&loan=5165&score=580 HTTP/1.1\" 200 -\n",
      "127.0.0.1 - - [13/Apr/2024 17:00:39] \"POST /get_pre/?age=21&balance=18508&loan=5165&score=580 HTTP/1.1\" 200 -\n",
      "127.0.0.1 - - [13/Apr/2024 17:00:39] \"POST /get_pre/?age=21&balance=18508&loan=5165&score=580 HTTP/1.1\" 200 -\n",
      "127.0.0.1 - - [13/Apr/2024 17:00:39] \"POST /get_pre/?age=21&balance=18508&loan=5165&score=580 HTTP/1.1\" 200 -\n",
      "127.0.0.1 - - [13/Apr/2024 17:00:39] \"POST /get_pre/?age=21&balance=18508&loan=5165&score=580 HTTP/1.1\" 200 -\n"
     ]
    },
    {
     "name": "stdout",
     "output_type": "stream",
     "text": [
      "[104474.45187385]\n",
      "[104474.45187385]\n",
      "[104474.45187385]\n",
      "[104474.45187385]\n",
      "[104474.45187385]\n",
      "[104474.45187385]\n",
      "[104474.45187385]\n",
      "[104474.45187385]\n",
      "[104474.45187385]\n",
      "[104474.45187385]\n"
     ]
    },
    {
     "name": "stderr",
     "output_type": "stream",
     "text": [
      "127.0.0.1 - - [13/Apr/2024 17:00:39] \"POST /get_pre/?age=21&balance=18508&loan=5165&score=580 HTTP/1.1\" 200 -\n",
      "127.0.0.1 - - [13/Apr/2024 17:00:39] \"POST /get_pre/?age=21&balance=18508&loan=5165&score=580 HTTP/1.1\" 200 -\n",
      "127.0.0.1 - - [13/Apr/2024 17:00:39] \"POST /get_pre/?age=21&balance=18508&loan=5165&score=580 HTTP/1.1\" 200 -\n",
      "127.0.0.1 - - [13/Apr/2024 17:00:40] \"POST /get_pre/?age=21&balance=18508&loan=5165&score=580 HTTP/1.1\" 200 -\n",
      "127.0.0.1 - - [13/Apr/2024 17:00:40] \"POST /get_pre/?age=21&balance=18508&loan=5165&score=580 HTTP/1.1\" 200 -\n",
      "127.0.0.1 - - [13/Apr/2024 17:00:40] \"POST /get_pre/?age=21&balance=18508&loan=5165&score=580 HTTP/1.1\" 200 -\n",
      "127.0.0.1 - - [13/Apr/2024 17:00:40] \"POST /get_pre/?age=21&balance=18508&loan=5165&score=580 HTTP/1.1\" 200 -\n",
      "127.0.0.1 - - [13/Apr/2024 17:00:40] \"POST /get_pre/?age=21&balance=18508&loan=5165&score=580 HTTP/1.1\" 200 -\n",
      "127.0.0.1 - - [13/Apr/2024 17:00:40] \"POST /get_pre/?age=21&balance=18508&loan=5165&score=580 HTTP/1.1\" 200 -\n",
      "127.0.0.1 - - [13/Apr/2024 17:00:40] \"POST /get_pre/?age=21&balance=18508&loan=5165&score=580 HTTP/1.1\" 200 -\n"
     ]
    },
    {
     "name": "stdout",
     "output_type": "stream",
     "text": [
      "[104474.45187385]\n",
      "[104474.45187385]\n",
      "[104474.45187385]\n",
      "[104474.45187385]\n",
      "[104474.45187385]\n",
      "[104474.45187385]\n",
      "[104474.45187385]\n",
      "[104474.45187385]\n",
      "[104474.45187385]\n",
      "[104474.45187385]\n"
     ]
    },
    {
     "name": "stderr",
     "output_type": "stream",
     "text": [
      "127.0.0.1 - - [13/Apr/2024 17:00:40] \"POST /get_pre/?age=21&balance=18508&loan=5165&score=580 HTTP/1.1\" 200 -\n",
      "127.0.0.1 - - [13/Apr/2024 17:00:40] \"POST /get_pre/?age=21&balance=18508&loan=5165&score=580 HTTP/1.1\" 200 -\n",
      "127.0.0.1 - - [13/Apr/2024 17:00:40] \"POST /get_pre/?age=21&balance=18508&loan=5165&score=580 HTTP/1.1\" 200 -\n",
      "127.0.0.1 - - [13/Apr/2024 17:00:40] \"POST /get_pre/?age=21&balance=18508&loan=5165&score=580 HTTP/1.1\" 200 -\n",
      "127.0.0.1 - - [13/Apr/2024 17:00:40] \"POST /get_pre/?age=21&balance=18508&loan=5165&score=580 HTTP/1.1\" 200 -\n",
      "127.0.0.1 - - [13/Apr/2024 17:00:40] \"POST /get_pre/?age=21&balance=18508&loan=5165&score=580 HTTP/1.1\" 200 -\n",
      "127.0.0.1 - - [13/Apr/2024 17:00:40] \"POST /get_pre/?age=21&balance=18508&loan=5165&score=580 HTTP/1.1\" 200 -\n",
      "127.0.0.1 - - [13/Apr/2024 17:00:40] \"POST /get_pre/?age=21&balance=18508&loan=5165&score=580 HTTP/1.1\" 200 -\n",
      "127.0.0.1 - - [13/Apr/2024 17:00:40] \"POST /get_pre/?age=21&balance=18508&loan=5165&score=580 HTTP/1.1\" 200 -\n",
      "127.0.0.1 - - [13/Apr/2024 17:00:40] \"POST /get_pre/?age=21&balance=18508&loan=5165&score=580 HTTP/1.1\" 200 -\n"
     ]
    },
    {
     "name": "stdout",
     "output_type": "stream",
     "text": [
      "[104474.45187385]\n",
      "[104474.45187385]\n",
      "[104474.45187385]\n",
      "[104474.45187385]\n",
      "[104474.45187385]\n",
      "[104474.45187385]\n",
      "[104474.45187385]\n",
      "[104474.45187385]\n",
      "[104474.45187385]\n",
      "[104474.45187385]\n"
     ]
    },
    {
     "name": "stderr",
     "output_type": "stream",
     "text": [
      "127.0.0.1 - - [13/Apr/2024 17:00:40] \"POST /get_pre/?age=21&balance=18508&loan=5165&score=580 HTTP/1.1\" 200 -\n",
      "127.0.0.1 - - [13/Apr/2024 17:00:40] \"POST /get_pre/?age=21&balance=18508&loan=5165&score=580 HTTP/1.1\" 200 -\n",
      "127.0.0.1 - - [13/Apr/2024 17:00:40] \"POST /get_pre/?age=21&balance=18508&loan=5165&score=580 HTTP/1.1\" 200 -\n",
      "127.0.0.1 - - [13/Apr/2024 17:00:40] \"POST /get_pre/?age=21&balance=18508&loan=5165&score=580 HTTP/1.1\" 200 -\n",
      "127.0.0.1 - - [13/Apr/2024 17:00:40] \"POST /get_pre/?age=21&balance=18508&loan=5165&score=580 HTTP/1.1\" 200 -\n",
      "127.0.0.1 - - [13/Apr/2024 17:00:40] \"POST /get_pre/?age=21&balance=18508&loan=5165&score=580 HTTP/1.1\" 200 -\n",
      "127.0.0.1 - - [13/Apr/2024 17:00:40] \"POST /get_pre/?age=21&balance=18508&loan=5165&score=580 HTTP/1.1\" 200 -\n",
      "127.0.0.1 - - [13/Apr/2024 17:00:40] \"POST /get_pre/?age=21&balance=18508&loan=5165&score=580 HTTP/1.1\" 200 -\n",
      "127.0.0.1 - - [13/Apr/2024 17:00:40] \"POST /get_pre/?age=21&balance=18508&loan=5165&score=580 HTTP/1.1\" 200 -\n",
      "127.0.0.1 - - [13/Apr/2024 17:00:40] \"POST /get_pre/?age=21&balance=18508&loan=5165&score=580 HTTP/1.1\" 200 -\n"
     ]
    },
    {
     "name": "stdout",
     "output_type": "stream",
     "text": [
      "[104474.45187385]\n",
      "[104474.45187385]\n",
      "[104474.45187385]\n",
      "[104474.45187385]\n",
      "[104474.45187385]\n",
      "[104474.45187385]\n",
      "[104474.45187385]\n",
      "[104474.45187385]\n",
      "[104474.45187385]\n",
      "[104474.45187385]\n"
     ]
    },
    {
     "name": "stderr",
     "output_type": "stream",
     "text": [
      "127.0.0.1 - - [13/Apr/2024 17:00:40] \"POST /get_pre/?age=21&balance=18508&loan=5165&score=580 HTTP/1.1\" 200 -\n",
      "127.0.0.1 - - [13/Apr/2024 17:00:40] \"POST /get_pre/?age=21&balance=18508&loan=5165&score=580 HTTP/1.1\" 200 -\n",
      "127.0.0.1 - - [13/Apr/2024 17:00:40] \"POST /get_pre/?age=21&balance=18508&loan=5165&score=580 HTTP/1.1\" 200 -\n",
      "127.0.0.1 - - [13/Apr/2024 17:00:40] \"POST /get_pre/?age=21&balance=18508&loan=5165&score=580 HTTP/1.1\" 200 -\n",
      "127.0.0.1 - - [13/Apr/2024 17:00:40] \"POST /get_pre/?age=21&balance=18508&loan=5165&score=580 HTTP/1.1\" 200 -\n",
      "127.0.0.1 - - [13/Apr/2024 17:00:40] \"POST /get_pre/?age=21&balance=18508&loan=5165&score=580 HTTP/1.1\" 200 -\n",
      "127.0.0.1 - - [13/Apr/2024 17:00:40] \"POST /get_pre/?age=21&balance=18508&loan=5165&score=580 HTTP/1.1\" 200 -\n",
      "127.0.0.1 - - [13/Apr/2024 17:00:40] \"POST /get_pre/?age=21&balance=18508&loan=5165&score=580 HTTP/1.1\" 200 -\n",
      "127.0.0.1 - - [13/Apr/2024 17:00:40] \"POST /get_pre/?age=21&balance=18508&loan=5165&score=580 HTTP/1.1\" 200 -\n",
      "127.0.0.1 - - [13/Apr/2024 17:00:40] \"POST /get_pre/?age=21&balance=18508&loan=5165&score=580 HTTP/1.1\" 200 -\n"
     ]
    },
    {
     "name": "stdout",
     "output_type": "stream",
     "text": [
      "[104474.45187385]\n",
      "[104474.45187385]\n",
      "[104474.45187385]\n",
      "[104474.45187385]\n",
      "[104474.45187385]\n",
      "[104474.45187385]\n",
      "[104474.45187385]\n",
      "[104474.45187385]\n",
      "[104474.45187385]\n",
      "[104474.45187385]\n"
     ]
    },
    {
     "name": "stderr",
     "output_type": "stream",
     "text": [
      "127.0.0.1 - - [13/Apr/2024 17:00:40] \"POST /get_pre/?age=21&balance=18508&loan=5165&score=580 HTTP/1.1\" 200 -\n",
      "127.0.0.1 - - [13/Apr/2024 17:00:40] \"POST /get_pre/?age=21&balance=18508&loan=5165&score=580 HTTP/1.1\" 200 -\n",
      "127.0.0.1 - - [13/Apr/2024 17:00:40] \"POST /get_pre/?age=21&balance=18508&loan=5165&score=580 HTTP/1.1\" 200 -\n",
      "127.0.0.1 - - [13/Apr/2024 17:00:40] \"POST /get_pre/?age=21&balance=18508&loan=5165&score=580 HTTP/1.1\" 200 -\n",
      "127.0.0.1 - - [13/Apr/2024 17:00:40] \"POST /get_pre/?age=21&balance=18508&loan=5165&score=580 HTTP/1.1\" 200 -\n",
      "127.0.0.1 - - [13/Apr/2024 17:00:40] \"POST /get_pre/?age=21&balance=18508&loan=5165&score=580 HTTP/1.1\" 200 -\n",
      "127.0.0.1 - - [13/Apr/2024 17:00:40] \"POST /get_pre/?age=21&balance=18508&loan=5165&score=580 HTTP/1.1\" 200 -\n",
      "127.0.0.1 - - [13/Apr/2024 17:00:40] \"POST /get_pre/?age=21&balance=18508&loan=5165&score=580 HTTP/1.1\" 200 -\n",
      "127.0.0.1 - - [13/Apr/2024 17:00:40] \"POST /get_pre/?age=21&balance=18508&loan=5165&score=580 HTTP/1.1\" 200 -\n",
      "127.0.0.1 - - [13/Apr/2024 17:00:40] \"POST /get_pre/?age=21&balance=18508&loan=5165&score=580 HTTP/1.1\" 200 -\n"
     ]
    },
    {
     "name": "stdout",
     "output_type": "stream",
     "text": [
      "[104474.45187385]\n",
      "[104474.45187385]\n",
      "[104474.45187385]\n",
      "[104474.45187385]\n",
      "[104474.45187385]\n",
      "[104474.45187385]\n",
      "[104474.45187385]\n",
      "[104474.45187385]\n",
      "[104474.45187385]\n",
      "[104474.45187385]\n"
     ]
    },
    {
     "name": "stderr",
     "output_type": "stream",
     "text": [
      "127.0.0.1 - - [13/Apr/2024 17:00:41] \"POST /get_pre/?age=21&balance=18508&loan=5165&score=580 HTTP/1.1\" 200 -\n",
      "127.0.0.1 - - [13/Apr/2024 17:00:41] \"POST /get_pre/?age=21&balance=18508&loan=5165&score=580 HTTP/1.1\" 200 -\n",
      "127.0.0.1 - - [13/Apr/2024 17:00:41] \"POST /get_pre/?age=21&balance=18508&loan=5165&score=580 HTTP/1.1\" 200 -\n",
      "127.0.0.1 - - [13/Apr/2024 17:00:41] \"POST /get_pre/?age=21&balance=18508&loan=5165&score=580 HTTP/1.1\" 200 -\n",
      "127.0.0.1 - - [13/Apr/2024 17:00:41] \"POST /get_pre/?age=21&balance=18508&loan=5165&score=580 HTTP/1.1\" 200 -\n",
      "127.0.0.1 - - [13/Apr/2024 17:00:41] \"POST /get_pre/?age=21&balance=18508&loan=5165&score=580 HTTP/1.1\" 200 -\n",
      "127.0.0.1 - - [13/Apr/2024 17:00:41] \"POST /get_pre/?age=21&balance=18508&loan=5165&score=580 HTTP/1.1\" 200 -\n",
      "127.0.0.1 - - [13/Apr/2024 17:00:41] \"POST /get_pre/?age=21&balance=18508&loan=5165&score=580 HTTP/1.1\" 200 -\n",
      "127.0.0.1 - - [13/Apr/2024 17:00:41] \"POST /get_pre/?age=21&balance=18508&loan=5165&score=580 HTTP/1.1\" 200 -\n",
      "127.0.0.1 - - [13/Apr/2024 17:00:41] \"POST /get_pre/?age=21&balance=18508&loan=5165&score=580 HTTP/1.1\" 200 -\n",
      "127.0.0.1 - - [13/Apr/2024 17:00:41] \"POST /get_pre/?age=21&balance=18508&loan=5165&score=580 HTTP/1.1\" 200 -\n"
     ]
    },
    {
     "name": "stdout",
     "output_type": "stream",
     "text": [
      "[104474.45187385]\n",
      "[104474.45187385]\n",
      "[104474.45187385]\n",
      "[104474.45187385]\n",
      "[104474.45187385]\n",
      "[104474.45187385]\n",
      "[104474.45187385]\n",
      "[104474.45187385]\n",
      "[104474.45187385]\n",
      "[104474.45187385]\n",
      "[104474.45187385]\n"
     ]
    },
    {
     "name": "stderr",
     "output_type": "stream",
     "text": [
      "127.0.0.1 - - [13/Apr/2024 17:00:41] \"POST /get_pre/?age=21&balance=18508&loan=5165&score=580 HTTP/1.1\" 200 -\n",
      "127.0.0.1 - - [13/Apr/2024 17:00:41] \"POST /get_pre/?age=21&balance=18508&loan=5165&score=580 HTTP/1.1\" 200 -\n",
      "127.0.0.1 - - [13/Apr/2024 17:00:41] \"POST /get_pre/?age=21&balance=18508&loan=5165&score=580 HTTP/1.1\" 200 -\n",
      "127.0.0.1 - - [13/Apr/2024 17:00:41] \"POST /get_pre/?age=21&balance=18508&loan=5165&score=580 HTTP/1.1\" 200 -\n",
      "127.0.0.1 - - [13/Apr/2024 17:00:41] \"POST /get_pre/?age=21&balance=18508&loan=5165&score=580 HTTP/1.1\" 200 -\n",
      "127.0.0.1 - - [13/Apr/2024 17:00:41] \"POST /get_pre/?age=21&balance=18508&loan=5165&score=580 HTTP/1.1\" 200 -\n",
      "127.0.0.1 - - [13/Apr/2024 17:00:41] \"POST /get_pre/?age=21&balance=18508&loan=5165&score=580 HTTP/1.1\" 200 -\n",
      "127.0.0.1 - - [13/Apr/2024 17:00:41] \"POST /get_pre/?age=21&balance=18508&loan=5165&score=580 HTTP/1.1\" 200 -\n",
      "127.0.0.1 - - [13/Apr/2024 17:00:41] \"POST /get_pre/?age=21&balance=18508&loan=5165&score=580 HTTP/1.1\" 200 -\n",
      "127.0.0.1 - - [13/Apr/2024 17:00:41] \"POST /get_pre/?age=21&balance=18508&loan=5165&score=580 HTTP/1.1\" 200 -\n"
     ]
    },
    {
     "name": "stdout",
     "output_type": "stream",
     "text": [
      "[104474.45187385]\n",
      "[104474.45187385]\n",
      "[104474.45187385]\n",
      "[104474.45187385]\n",
      "[104474.45187385]\n",
      "[104474.45187385]\n",
      "[104474.45187385]\n",
      "[104474.45187385]\n",
      "[104474.45187385]\n",
      "[104474.45187385]\n"
     ]
    },
    {
     "name": "stderr",
     "output_type": "stream",
     "text": [
      "127.0.0.1 - - [13/Apr/2024 17:00:41] \"POST /get_pre/?age=21&balance=18508&loan=5165&score=580 HTTP/1.1\" 200 -\n",
      "127.0.0.1 - - [13/Apr/2024 17:00:41] \"POST /get_pre/?age=21&balance=18508&loan=5165&score=580 HTTP/1.1\" 200 -\n",
      "127.0.0.1 - - [13/Apr/2024 17:00:41] \"POST /get_pre/?age=21&balance=18508&loan=5165&score=580 HTTP/1.1\" 200 -\n",
      "127.0.0.1 - - [13/Apr/2024 17:00:41] \"POST /get_pre/?age=21&balance=18508&loan=5165&score=580 HTTP/1.1\" 200 -\n",
      "127.0.0.1 - - [13/Apr/2024 17:00:41] \"POST /get_pre/?age=21&balance=18508&loan=5165&score=580 HTTP/1.1\" 200 -\n",
      "127.0.0.1 - - [13/Apr/2024 17:00:41] \"POST /get_pre/?age=21&balance=18508&loan=5165&score=580 HTTP/1.1\" 200 -\n",
      "127.0.0.1 - - [13/Apr/2024 17:00:41] \"POST /get_pre/?age=21&balance=18508&loan=5165&score=580 HTTP/1.1\" 200 -\n",
      "127.0.0.1 - - [13/Apr/2024 17:00:41] \"POST /get_pre/?age=21&balance=18508&loan=5165&score=580 HTTP/1.1\" 200 -\n",
      "127.0.0.1 - - [13/Apr/2024 17:00:41] \"POST /get_pre/?age=21&balance=18508&loan=5165&score=580 HTTP/1.1\" 200 -\n",
      "127.0.0.1 - - [13/Apr/2024 17:00:41] \"POST /get_pre/?age=21&balance=18508&loan=5165&score=580 HTTP/1.1\" 200 -\n"
     ]
    },
    {
     "name": "stdout",
     "output_type": "stream",
     "text": [
      "[104474.45187385]\n",
      "[104474.45187385]\n",
      "[104474.45187385]\n",
      "[104474.45187385]\n",
      "[104474.45187385]\n",
      "[104474.45187385]\n",
      "[104474.45187385]\n",
      "[104474.45187385]\n",
      "[104474.45187385]\n",
      "[104474.45187385]\n"
     ]
    },
    {
     "name": "stderr",
     "output_type": "stream",
     "text": [
      "127.0.0.1 - - [13/Apr/2024 17:00:41] \"POST /get_pre/?age=21&balance=18508&loan=5165&score=580 HTTP/1.1\" 200 -\n",
      "127.0.0.1 - - [13/Apr/2024 17:00:41] \"POST /get_pre/?age=21&balance=18508&loan=5165&score=580 HTTP/1.1\" 200 -\n",
      "127.0.0.1 - - [13/Apr/2024 17:00:41] \"POST /get_pre/?age=21&balance=18508&loan=5165&score=580 HTTP/1.1\" 200 -\n",
      "127.0.0.1 - - [13/Apr/2024 17:00:41] \"POST /get_pre/?age=21&balance=18508&loan=5165&score=580 HTTP/1.1\" 200 -\n",
      "127.0.0.1 - - [13/Apr/2024 17:00:41] \"POST /get_pre/?age=21&balance=18508&loan=5165&score=580 HTTP/1.1\" 200 -\n",
      "127.0.0.1 - - [13/Apr/2024 17:00:41] \"POST /get_pre/?age=21&balance=18508&loan=5165&score=580 HTTP/1.1\" 200 -\n",
      "127.0.0.1 - - [13/Apr/2024 17:00:41] \"POST /get_pre/?age=21&balance=18508&loan=5165&score=580 HTTP/1.1\" 200 -\n",
      "127.0.0.1 - - [13/Apr/2024 17:00:41] \"POST /get_pre/?age=21&balance=18508&loan=5165&score=580 HTTP/1.1\" 200 -\n",
      "127.0.0.1 - - [13/Apr/2024 17:00:41] \"POST /get_pre/?age=21&balance=18508&loan=5165&score=580 HTTP/1.1\" 200 -\n",
      "127.0.0.1 - - [13/Apr/2024 17:00:41] \"POST /get_pre/?age=21&balance=18508&loan=5165&score=580 HTTP/1.1\" 200 -\n"
     ]
    },
    {
     "name": "stdout",
     "output_type": "stream",
     "text": [
      "[104474.45187385]\n",
      "[104474.45187385]\n",
      "[104474.45187385]\n",
      "[104474.45187385]\n",
      "[104474.45187385]\n",
      "[104474.45187385]\n",
      "[104474.45187385]\n",
      "[104474.45187385]\n",
      "[104474.45187385]\n",
      "[104474.45187385]\n"
     ]
    },
    {
     "name": "stderr",
     "output_type": "stream",
     "text": [
      "127.0.0.1 - - [13/Apr/2024 17:00:41] \"POST /get_pre/?age=21&balance=18508&loan=5165&score=580 HTTP/1.1\" 200 -\n",
      "127.0.0.1 - - [13/Apr/2024 17:00:41] \"POST /get_pre/?age=21&balance=18508&loan=5165&score=580 HTTP/1.1\" 200 -\n",
      "127.0.0.1 - - [13/Apr/2024 17:00:41] \"POST /get_pre/?age=21&balance=18508&loan=5165&score=580 HTTP/1.1\" 200 -\n",
      "127.0.0.1 - - [13/Apr/2024 17:00:41] \"POST /get_pre/?age=21&balance=18508&loan=5165&score=580 HTTP/1.1\" 200 -\n",
      "127.0.0.1 - - [13/Apr/2024 17:00:41] \"POST /get_pre/?age=21&balance=18508&loan=5165&score=580 HTTP/1.1\" 200 -\n",
      "127.0.0.1 - - [13/Apr/2024 17:00:41] \"POST /get_pre/?age=21&balance=18508&loan=5165&score=580 HTTP/1.1\" 200 -\n",
      "127.0.0.1 - - [13/Apr/2024 17:00:41] \"POST /get_pre/?age=21&balance=18508&loan=5165&score=580 HTTP/1.1\" 200 -\n",
      "127.0.0.1 - - [13/Apr/2024 17:00:41] \"POST /get_pre/?age=21&balance=18508&loan=5165&score=580 HTTP/1.1\" 200 -\n",
      "127.0.0.1 - - [13/Apr/2024 17:00:42] \"POST /get_pre/?age=21&balance=18508&loan=5165&score=580 HTTP/1.1\" 200 -\n",
      "127.0.0.1 - - [13/Apr/2024 17:00:42] \"POST /get_pre/?age=21&balance=18508&loan=5165&score=580 HTTP/1.1\" 200 -\n"
     ]
    },
    {
     "name": "stdout",
     "output_type": "stream",
     "text": [
      "[104474.45187385]\n",
      "[104474.45187385]\n",
      "[104474.45187385]\n",
      "[104474.45187385]\n",
      "[104474.45187385]\n",
      "[104474.45187385]\n",
      "[104474.45187385]\n",
      "[104474.45187385]\n",
      "[104474.45187385]\n",
      "[104474.45187385]\n"
     ]
    },
    {
     "name": "stderr",
     "output_type": "stream",
     "text": [
      "127.0.0.1 - - [13/Apr/2024 17:00:42] \"POST /get_pre/?age=21&balance=18508&loan=5165&score=580 HTTP/1.1\" 200 -\n",
      "127.0.0.1 - - [13/Apr/2024 17:00:42] \"POST /get_pre/?age=21&balance=18508&loan=5165&score=580 HTTP/1.1\" 200 -\n",
      "127.0.0.1 - - [13/Apr/2024 17:00:42] \"POST /get_pre/?age=21&balance=18508&loan=5165&score=580 HTTP/1.1\" 200 -\n",
      "127.0.0.1 - - [13/Apr/2024 17:00:42] \"POST /get_pre/?age=21&balance=18508&loan=5165&score=580 HTTP/1.1\" 200 -\n",
      "127.0.0.1 - - [13/Apr/2024 17:00:42] \"POST /get_pre/?age=21&balance=18508&loan=5165&score=580 HTTP/1.1\" 200 -\n",
      "127.0.0.1 - - [13/Apr/2024 17:00:42] \"POST /get_pre/?age=21&balance=18508&loan=5165&score=580 HTTP/1.1\" 200 -\n",
      "127.0.0.1 - - [13/Apr/2024 17:00:42] \"POST /get_pre/?age=21&balance=18508&loan=5165&score=580 HTTP/1.1\" 200 -\n"
     ]
    },
    {
     "name": "stdout",
     "output_type": "stream",
     "text": [
      "[104474.45187385]\n",
      "[104474.45187385]\n",
      "[104474.45187385]\n",
      "[104474.45187385]\n",
      "[104474.45187385]\n",
      "[104474.45187385]\n",
      "[104474.45187385]\n"
     ]
    },
    {
     "name": "stderr",
     "output_type": "stream",
     "text": [
      "127.0.0.1 - - [13/Apr/2024 17:00:42] \"POST /get_pre/?age=21&balance=18508&loan=5165&score=580 HTTP/1.1\" 200 -\n",
      "127.0.0.1 - - [13/Apr/2024 17:00:42] \"POST /get_pre/?age=21&balance=18508&loan=5165&score=580 HTTP/1.1\" 200 -\n",
      "127.0.0.1 - - [13/Apr/2024 17:00:42] \"POST /get_pre/?age=21&balance=18508&loan=5165&score=580 HTTP/1.1\" 200 -\n",
      "127.0.0.1 - - [13/Apr/2024 17:00:42] \"POST /get_pre/?age=21&balance=18508&loan=5165&score=580 HTTP/1.1\" 200 -\n",
      "127.0.0.1 - - [13/Apr/2024 17:00:42] \"POST /get_pre/?age=21&balance=18508&loan=5165&score=580 HTTP/1.1\" 200 -\n",
      "127.0.0.1 - - [13/Apr/2024 17:00:42] \"POST /get_pre/?age=21&balance=18508&loan=5165&score=580 HTTP/1.1\" 200 -\n",
      "127.0.0.1 - - [13/Apr/2024 17:00:42] \"POST /get_pre/?age=21&balance=18508&loan=5165&score=580 HTTP/1.1\" 200 -\n",
      "127.0.0.1 - - [13/Apr/2024 17:00:42] \"POST /get_pre/?age=21&balance=18508&loan=5165&score=580 HTTP/1.1\" 200 -\n",
      "127.0.0.1 - - [13/Apr/2024 17:00:42] \"POST /get_pre/?age=21&balance=18508&loan=5165&score=580 HTTP/1.1\" 200 -\n",
      "127.0.0.1 - - [13/Apr/2024 17:00:42] \"POST /get_pre/?age=21&balance=18508&loan=5165&score=580 HTTP/1.1\" 200 -\n"
     ]
    },
    {
     "name": "stdout",
     "output_type": "stream",
     "text": [
      "[104474.45187385]\n",
      "[104474.45187385]\n",
      "[104474.45187385]\n",
      "[104474.45187385]\n",
      "[104474.45187385]\n",
      "[104474.45187385]\n",
      "[104474.45187385]\n",
      "[104474.45187385]\n",
      "[104474.45187385]\n",
      "[104474.45187385]\n"
     ]
    },
    {
     "name": "stderr",
     "output_type": "stream",
     "text": [
      "127.0.0.1 - - [13/Apr/2024 17:00:42] \"POST /get_pre/?age=21&balance=18508&loan=5165&score=580 HTTP/1.1\" 200 -\n",
      "127.0.0.1 - - [13/Apr/2024 17:00:42] \"POST /get_pre/?age=21&balance=18508&loan=5165&score=580 HTTP/1.1\" 200 -\n",
      "127.0.0.1 - - [13/Apr/2024 17:00:42] \"POST /get_pre/?age=21&balance=18508&loan=5165&score=580 HTTP/1.1\" 200 -\n",
      "127.0.0.1 - - [13/Apr/2024 17:00:42] \"POST /get_pre/?age=21&balance=18508&loan=5165&score=580 HTTP/1.1\" 200 -\n"
     ]
    },
    {
     "name": "stdout",
     "output_type": "stream",
     "text": [
      "[104474.45187385]\n",
      "[104474.45187385]\n",
      "[104474.45187385]\n",
      "[104474.45187385]\n"
     ]
    },
    {
     "name": "stderr",
     "output_type": "stream",
     "text": [
      "127.0.0.1 - - [13/Apr/2024 17:00:42] \"POST /get_pre/?age=21&balance=18508&loan=5165&score=580 HTTP/1.1\" 200 -\n",
      "127.0.0.1 - - [13/Apr/2024 17:00:42] \"POST /get_pre/?age=21&balance=18508&loan=5165&score=580 HTTP/1.1\" 200 -\n",
      "127.0.0.1 - - [13/Apr/2024 17:00:42] \"POST /get_pre/?age=21&balance=18508&loan=5165&score=580 HTTP/1.1\" 200 -\n",
      "127.0.0.1 - - [13/Apr/2024 17:00:42] \"POST /get_pre/?age=21&balance=18508&loan=5165&score=580 HTTP/1.1\" 200 -\n",
      "127.0.0.1 - - [13/Apr/2024 17:00:42] \"POST /get_pre/?age=21&balance=18508&loan=5165&score=580 HTTP/1.1\" 200 -\n",
      "127.0.0.1 - - [13/Apr/2024 17:00:42] \"POST /get_pre/?age=21&balance=18508&loan=5165&score=580 HTTP/1.1\" 200 -\n",
      "127.0.0.1 - - [13/Apr/2024 17:00:42] \"POST /get_pre/?age=21&balance=18508&loan=5165&score=580 HTTP/1.1\" 200 -\n",
      "127.0.0.1 - - [13/Apr/2024 17:00:42] \"POST /get_pre/?age=21&balance=18508&loan=5165&score=580 HTTP/1.1\" 200 -\n",
      "127.0.0.1 - - [13/Apr/2024 17:00:42] \"POST /get_pre/?age=21&balance=18508&loan=5165&score=580 HTTP/1.1\" 200 -\n",
      "127.0.0.1 - - [13/Apr/2024 17:00:42] \"POST /get_pre/?age=21&balance=18508&loan=5165&score=580 HTTP/1.1\" 200 -\n"
     ]
    },
    {
     "name": "stdout",
     "output_type": "stream",
     "text": [
      "[104474.45187385]\n",
      "[104474.45187385]\n",
      "[104474.45187385]\n",
      "[104474.45187385]\n",
      "[104474.45187385]\n",
      "[104474.45187385]\n",
      "[104474.45187385]\n",
      "[104474.45187385]\n",
      "[104474.45187385]\n",
      "[104474.45187385]\n"
     ]
    },
    {
     "name": "stderr",
     "output_type": "stream",
     "text": [
      "127.0.0.1 - - [13/Apr/2024 17:00:42] \"POST /get_pre/?age=21&balance=18508&loan=5165&score=580 HTTP/1.1\" 200 -\n",
      "127.0.0.1 - - [13/Apr/2024 17:00:42] \"POST /get_pre/?age=21&balance=18508&loan=5165&score=580 HTTP/1.1\" 200 -\n",
      "127.0.0.1 - - [13/Apr/2024 17:00:42] \"POST /get_pre/?age=21&balance=18508&loan=5165&score=580 HTTP/1.1\" 200 -\n",
      "127.0.0.1 - - [13/Apr/2024 17:00:42] \"POST /get_pre/?age=21&balance=18508&loan=5165&score=580 HTTP/1.1\" 200 -\n",
      "127.0.0.1 - - [13/Apr/2024 17:00:43] \"POST /get_pre/?age=21&balance=18508&loan=5165&score=580 HTTP/1.1\" 200 -\n",
      "127.0.0.1 - - [13/Apr/2024 17:00:43] \"POST /get_pre/?age=21&balance=18508&loan=5165&score=580 HTTP/1.1\" 200 -\n",
      "127.0.0.1 - - [13/Apr/2024 17:00:43] \"POST /get_pre/?age=21&balance=18508&loan=5165&score=580 HTTP/1.1\" 200 -\n",
      "127.0.0.1 - - [13/Apr/2024 17:00:43] \"POST /get_pre/?age=21&balance=18508&loan=5165&score=580 HTTP/1.1\" 200 -\n",
      "127.0.0.1 - - [13/Apr/2024 17:00:43] \"POST /get_pre/?age=21&balance=18508&loan=5165&score=580 HTTP/1.1\" 200 -\n",
      "127.0.0.1 - - [13/Apr/2024 17:00:43] \"POST /get_pre/?age=21&balance=18508&loan=5165&score=580 HTTP/1.1\" 200 -\n"
     ]
    },
    {
     "name": "stdout",
     "output_type": "stream",
     "text": [
      "[104474.45187385]\n",
      "[104474.45187385]\n",
      "[104474.45187385]\n",
      "[104474.45187385]\n",
      "[104474.45187385]\n",
      "[104474.45187385]\n",
      "[104474.45187385]\n",
      "[104474.45187385]\n",
      "[104474.45187385]\n",
      "[104474.45187385]\n"
     ]
    },
    {
     "name": "stderr",
     "output_type": "stream",
     "text": [
      "127.0.0.1 - - [13/Apr/2024 17:00:43] \"POST /get_pre/?age=21&balance=18508&loan=5165&score=580 HTTP/1.1\" 200 -\n",
      "127.0.0.1 - - [13/Apr/2024 17:00:43] \"POST /get_pre/?age=21&balance=18508&loan=5165&score=580 HTTP/1.1\" 200 -\n",
      "127.0.0.1 - - [13/Apr/2024 17:00:43] \"POST /get_pre/?age=21&balance=18508&loan=5165&score=580 HTTP/1.1\" 200 -\n",
      "127.0.0.1 - - [13/Apr/2024 17:00:43] \"POST /get_pre/?age=21&balance=18508&loan=5165&score=580 HTTP/1.1\" 200 -\n",
      "127.0.0.1 - - [13/Apr/2024 17:00:43] \"POST /get_pre/?age=21&balance=18508&loan=5165&score=580 HTTP/1.1\" 200 -\n",
      "127.0.0.1 - - [13/Apr/2024 17:00:43] \"POST /get_pre/?age=21&balance=18508&loan=5165&score=580 HTTP/1.1\" 200 -\n",
      "127.0.0.1 - - [13/Apr/2024 17:00:43] \"POST /get_pre/?age=21&balance=18508&loan=5165&score=580 HTTP/1.1\" 200 -\n",
      "127.0.0.1 - - [13/Apr/2024 17:00:43] \"POST /get_pre/?age=21&balance=18508&loan=5165&score=580 HTTP/1.1\" 200 -\n",
      "127.0.0.1 - - [13/Apr/2024 17:00:43] \"POST /get_pre/?age=21&balance=18508&loan=5165&score=580 HTTP/1.1\" 200 -\n",
      "127.0.0.1 - - [13/Apr/2024 17:00:43] \"POST /get_pre/?age=21&balance=18508&loan=5165&score=580 HTTP/1.1\" 200 -\n"
     ]
    },
    {
     "name": "stdout",
     "output_type": "stream",
     "text": [
      "[104474.45187385]\n",
      "[104474.45187385]\n",
      "[104474.45187385]\n",
      "[104474.45187385]\n",
      "[104474.45187385]\n",
      "[104474.45187385]\n",
      "[104474.45187385]\n",
      "[104474.45187385]\n",
      "[104474.45187385]\n",
      "[104474.45187385]\n"
     ]
    },
    {
     "name": "stderr",
     "output_type": "stream",
     "text": [
      "127.0.0.1 - - [13/Apr/2024 17:00:43] \"POST /get_pre/?age=21&balance=18508&loan=5165&score=580 HTTP/1.1\" 200 -\n",
      "127.0.0.1 - - [13/Apr/2024 17:00:43] \"POST /get_pre/?age=21&balance=18508&loan=5165&score=580 HTTP/1.1\" 200 -\n",
      "127.0.0.1 - - [13/Apr/2024 17:00:43] \"POST /get_pre/?age=21&balance=18508&loan=5165&score=580 HTTP/1.1\" 200 -\n",
      "127.0.0.1 - - [13/Apr/2024 17:00:43] \"POST /get_pre/?age=21&balance=18508&loan=5165&score=580 HTTP/1.1\" 200 -\n",
      "127.0.0.1 - - [13/Apr/2024 17:00:43] \"POST /get_pre/?age=21&balance=18508&loan=5165&score=580 HTTP/1.1\" 200 -\n",
      "127.0.0.1 - - [13/Apr/2024 17:00:43] \"POST /get_pre/?age=21&balance=18508&loan=5165&score=580 HTTP/1.1\" 200 -\n",
      "127.0.0.1 - - [13/Apr/2024 17:00:43] \"POST /get_pre/?age=21&balance=18508&loan=5165&score=580 HTTP/1.1\" 200 -\n",
      "127.0.0.1 - - [13/Apr/2024 17:00:43] \"POST /get_pre/?age=21&balance=18508&loan=5165&score=580 HTTP/1.1\" 200 -\n",
      "127.0.0.1 - - [13/Apr/2024 17:00:43] \"POST /get_pre/?age=21&balance=18508&loan=5165&score=580 HTTP/1.1\" 200 -\n",
      "127.0.0.1 - - [13/Apr/2024 17:00:43] \"POST /get_pre/?age=21&balance=18508&loan=5165&score=580 HTTP/1.1\" 200 -\n",
      "127.0.0.1 - - [13/Apr/2024 17:00:43] \"POST /get_pre/?age=21&balance=18508&loan=5165&score=580 HTTP/1.1\" 200 -\n"
     ]
    },
    {
     "name": "stdout",
     "output_type": "stream",
     "text": [
      "[104474.45187385]\n",
      "[104474.45187385]\n",
      "[104474.45187385]\n",
      "[104474.45187385]\n",
      "[104474.45187385]\n",
      "[104474.45187385]\n",
      "[104474.45187385]\n",
      "[104474.45187385]\n",
      "[104474.45187385]\n",
      "[104474.45187385]\n",
      "[104474.45187385]\n"
     ]
    },
    {
     "name": "stderr",
     "output_type": "stream",
     "text": [
      "127.0.0.1 - - [13/Apr/2024 17:00:43] \"POST /get_pre/?age=21&balance=18508&loan=5165&score=580 HTTP/1.1\" 200 -\n",
      "127.0.0.1 - - [13/Apr/2024 17:00:43] \"POST /get_pre/?age=21&balance=18508&loan=5165&score=580 HTTP/1.1\" 200 -\n",
      "127.0.0.1 - - [13/Apr/2024 17:00:43] \"POST /get_pre/?age=21&balance=18508&loan=5165&score=580 HTTP/1.1\" 200 -\n",
      "127.0.0.1 - - [13/Apr/2024 17:00:43] \"POST /get_pre/?age=21&balance=18508&loan=5165&score=580 HTTP/1.1\" 200 -\n",
      "127.0.0.1 - - [13/Apr/2024 17:00:43] \"POST /get_pre/?age=21&balance=18508&loan=5165&score=580 HTTP/1.1\" 200 -\n",
      "127.0.0.1 - - [13/Apr/2024 17:00:43] \"POST /get_pre/?age=21&balance=18508&loan=5165&score=580 HTTP/1.1\" 200 -\n",
      "127.0.0.1 - - [13/Apr/2024 17:00:43] \"POST /get_pre/?age=21&balance=18508&loan=5165&score=580 HTTP/1.1\" 200 -\n",
      "127.0.0.1 - - [13/Apr/2024 17:00:43] \"POST /get_pre/?age=21&balance=18508&loan=5165&score=580 HTTP/1.1\" 200 -\n",
      "127.0.0.1 - - [13/Apr/2024 17:00:43] \"POST /get_pre/?age=21&balance=18508&loan=5165&score=580 HTTP/1.1\" 200 -\n",
      "127.0.0.1 - - [13/Apr/2024 17:00:43] \"POST /get_pre/?age=21&balance=18508&loan=5165&score=580 HTTP/1.1\" 200 -\n",
      "127.0.0.1 - - [13/Apr/2024 17:00:43] \"POST /get_pre/?age=21&balance=18508&loan=5165&score=580 HTTP/1.1\" 200 -\n"
     ]
    },
    {
     "name": "stdout",
     "output_type": "stream",
     "text": [
      "[104474.45187385]\n",
      "[104474.45187385]\n",
      "[104474.45187385]\n",
      "[104474.45187385]\n",
      "[104474.45187385]\n",
      "[104474.45187385]\n",
      "[104474.45187385]\n",
      "[104474.45187385]\n",
      "[104474.45187385]\n",
      "[104474.45187385]\n",
      "[104474.45187385]\n"
     ]
    },
    {
     "name": "stderr",
     "output_type": "stream",
     "text": [
      "127.0.0.1 - - [13/Apr/2024 17:00:43] \"POST /get_pre/?age=21&balance=18508&loan=5165&score=580 HTTP/1.1\" 200 -\n",
      "127.0.0.1 - - [13/Apr/2024 17:00:43] \"POST /get_pre/?age=21&balance=18508&loan=5165&score=580 HTTP/1.1\" 200 -\n",
      "127.0.0.1 - - [13/Apr/2024 17:00:43] \"POST /get_pre/?age=21&balance=18508&loan=5165&score=580 HTTP/1.1\" 200 -\n",
      "127.0.0.1 - - [13/Apr/2024 17:00:43] \"POST /get_pre/?age=21&balance=18508&loan=5165&score=580 HTTP/1.1\" 200 -\n",
      "127.0.0.1 - - [13/Apr/2024 17:00:43] \"POST /get_pre/?age=21&balance=18508&loan=5165&score=580 HTTP/1.1\" 200 -\n",
      "127.0.0.1 - - [13/Apr/2024 17:00:43] \"POST /get_pre/?age=21&balance=18508&loan=5165&score=580 HTTP/1.1\" 200 -\n",
      "127.0.0.1 - - [13/Apr/2024 17:00:43] \"POST /get_pre/?age=21&balance=18508&loan=5165&score=580 HTTP/1.1\" 200 -\n",
      "127.0.0.1 - - [13/Apr/2024 17:00:43] \"POST /get_pre/?age=21&balance=18508&loan=5165&score=580 HTTP/1.1\" 200 -\n",
      "127.0.0.1 - - [13/Apr/2024 17:00:43] \"POST /get_pre/?age=21&balance=18508&loan=5165&score=580 HTTP/1.1\" 200 -\n",
      "127.0.0.1 - - [13/Apr/2024 17:00:43] \"POST /get_pre/?age=21&balance=18508&loan=5165&score=580 HTTP/1.1\" 200 -\n"
     ]
    },
    {
     "name": "stdout",
     "output_type": "stream",
     "text": [
      "[104474.45187385]\n",
      "[104474.45187385]\n",
      "[104474.45187385]\n",
      "[104474.45187385]\n",
      "[104474.45187385]\n",
      "[104474.45187385]\n",
      "[104474.45187385]\n",
      "[104474.45187385]\n",
      "[104474.45187385]\n",
      "[104474.45187385]\n"
     ]
    },
    {
     "name": "stderr",
     "output_type": "stream",
     "text": [
      "127.0.0.1 - - [13/Apr/2024 17:00:43] \"POST /get_pre/?age=21&balance=18508&loan=5165&score=580 HTTP/1.1\" 200 -\n",
      "127.0.0.1 - - [13/Apr/2024 17:00:44] \"POST /get_pre/?age=21&balance=18508&loan=5165&score=580 HTTP/1.1\" 200 -\n",
      "127.0.0.1 - - [13/Apr/2024 17:00:44] \"POST /get_pre/?age=21&balance=18508&loan=5165&score=580 HTTP/1.1\" 200 -\n",
      "127.0.0.1 - - [13/Apr/2024 17:00:44] \"POST /get_pre/?age=21&balance=18508&loan=5165&score=580 HTTP/1.1\" 200 -\n",
      "127.0.0.1 - - [13/Apr/2024 17:00:44] \"POST /get_pre/?age=21&balance=18508&loan=5165&score=580 HTTP/1.1\" 200 -\n",
      "127.0.0.1 - - [13/Apr/2024 17:00:44] \"POST /get_pre/?age=21&balance=18508&loan=5165&score=580 HTTP/1.1\" 200 -\n",
      "127.0.0.1 - - [13/Apr/2024 17:00:44] \"POST /get_pre/?age=21&balance=18508&loan=5165&score=580 HTTP/1.1\" 200 -\n",
      "127.0.0.1 - - [13/Apr/2024 17:00:44] \"POST /get_pre/?age=21&balance=18508&loan=5165&score=580 HTTP/1.1\" 200 -\n",
      "127.0.0.1 - - [13/Apr/2024 17:00:44] \"POST /get_pre/?age=21&balance=18508&loan=5165&score=580 HTTP/1.1\" 200 -\n",
      "127.0.0.1 - - [13/Apr/2024 17:00:44] \"POST /get_pre/?age=21&balance=18508&loan=5165&score=580 HTTP/1.1\" 200 -\n"
     ]
    },
    {
     "name": "stdout",
     "output_type": "stream",
     "text": [
      "[104474.45187385]\n",
      "[104474.45187385]\n",
      "[104474.45187385]\n",
      "[104474.45187385]\n",
      "[104474.45187385]\n",
      "[104474.45187385]\n",
      "[104474.45187385]\n",
      "[104474.45187385]\n",
      "[104474.45187385]\n",
      "[104474.45187385]\n"
     ]
    },
    {
     "name": "stderr",
     "output_type": "stream",
     "text": [
      "127.0.0.1 - - [13/Apr/2024 17:00:44] \"POST /get_pre/?age=21&balance=18508&loan=5165&score=580 HTTP/1.1\" 200 -\n",
      "127.0.0.1 - - [13/Apr/2024 17:00:44] \"POST /get_pre/?age=21&balance=18508&loan=5165&score=580 HTTP/1.1\" 200 -\n",
      "127.0.0.1 - - [13/Apr/2024 17:00:44] \"POST /get_pre/?age=21&balance=18508&loan=5165&score=580 HTTP/1.1\" 200 -\n",
      "127.0.0.1 - - [13/Apr/2024 17:00:44] \"POST /get_pre/?age=21&balance=18508&loan=5165&score=580 HTTP/1.1\" 200 -\n"
     ]
    },
    {
     "name": "stdout",
     "output_type": "stream",
     "text": [
      "[104474.45187385]\n",
      "[104474.45187385]\n",
      "[104474.45187385]\n",
      "[104474.45187385]\n"
     ]
    },
    {
     "name": "stderr",
     "output_type": "stream",
     "text": [
      "127.0.0.1 - - [13/Apr/2024 17:03:26] \"POST /get_pre/?age=21&balance=18508&loan=5165&score=580 HTTP/1.1\" 200 -\n"
     ]
    },
    {
     "name": "stdout",
     "output_type": "stream",
     "text": [
      "[104474.45187385]\n"
     ]
    },
    {
     "name": "stderr",
     "output_type": "stream",
     "text": [
      "127.0.0.1 - - [13/Apr/2024 17:18:01] \"POST /get_pre?age=21&balance=18508&loan=5165&score=580 HTTP/1.1\" 308 -\n",
      "127.0.0.1 - - [13/Apr/2024 17:18:01] \"POST /get_pre/?age=21&balance=18508&loan=5165&score=580 HTTP/1.1\" 200 -\n"
     ]
    },
    {
     "name": "stdout",
     "output_type": "stream",
     "text": [
      "[104474.45187385]\n"
     ]
    },
    {
     "name": "stderr",
     "output_type": "stream",
     "text": [
      "127.0.0.1 - - [13/Apr/2024 17:25:25] \"POST /get_pre/?age=21&balance=18508&loan=5165&score=580 HTTP/1.1\" 200 -\n"
     ]
    },
    {
     "name": "stdout",
     "output_type": "stream",
     "text": [
      "[104474.45187385]\n"
     ]
    }
   ],
   "source": [
    "from flask import Flask, request\n",
    "app =Flask(__name__)\n",
    "import json\n",
    "@app.route('/get_pre/',methods=['GET','POST'])\n",
    "def get_prediction1():\n",
    "    age=request.args.get('age')\n",
    "    balance=request.args.get('balance')\n",
    "    score=request.args.get('score')\n",
    "    loan=request.args.get('loan')\n",
    "    \n",
    "    x=pd.DataFrame({\"Age\":[age],\"Balance\":[balance],\"loan\":[loan],\"score\":[score]})\n",
    "    result = gb_model.predict(x)\n",
    "    print(result)\n",
    "    return str(result) #json.dumps({\"prediction\":result})\n",
    "\n",
    "if __name__ == \"__main__\":\n",
    "    app.debug=False\n",
    "    app.run(host=\"127.0.0.1\",port=5000)\n"
   ]
  },
  {
   "cell_type": "code",
   "execution_count": null,
   "id": "5907e0d0-d0ff-40a4-ad85-ca1adc15d1bb",
   "metadata": {},
   "outputs": [],
   "source": []
  },
  {
   "cell_type": "code",
   "execution_count": null,
   "id": "2a2046a4-26d6-44d4-80e6-2519320a5408",
   "metadata": {},
   "outputs": [],
   "source": []
  },
  {
   "cell_type": "code",
   "execution_count": 17,
   "id": "e9d6ee00-eb2d-4209-93b7-8972e90704e4",
   "metadata": {},
   "outputs": [
    {
     "name": "stdout",
     "output_type": "stream",
     "text": [
      "Requirement already satisfied: flask in c:\\users\\dell\\anaconda3\\lib\\site-packages (2.2.5)\n",
      "Requirement already satisfied: Werkzeug>=2.2.2 in c:\\users\\dell\\anaconda3\\lib\\site-packages (from flask) (2.2.3)\n",
      "Requirement already satisfied: Jinja2>=3.0 in c:\\users\\dell\\anaconda3\\lib\\site-packages (from flask) (3.1.3)\n",
      "Requirement already satisfied: itsdangerous>=2.0 in c:\\users\\dell\\anaconda3\\lib\\site-packages (from flask) (2.0.1)\n",
      "Requirement already satisfied: click>=8.0 in c:\\users\\dell\\anaconda3\\lib\\site-packages (from flask) (8.1.7)\n",
      "Requirement already satisfied: colorama in c:\\users\\dell\\anaconda3\\lib\\site-packages (from click>=8.0->flask) (0.4.6)\n",
      "Requirement already satisfied: MarkupSafe>=2.0 in c:\\users\\dell\\anaconda3\\lib\\site-packages (from Jinja2>=3.0->flask) (2.1.3)\n"
     ]
    }
   ],
   "source": [
    "!pip install flask"
   ]
  },
  {
   "cell_type": "code",
   "execution_count": null,
   "id": "85805fa0-6f3a-4176-bdfa-772bda9ad4ee",
   "metadata": {},
   "outputs": [],
   "source": []
  }
 ],
 "metadata": {
  "kernelspec": {
   "display_name": "Python 3 (ipykernel)",
   "language": "python",
   "name": "python3"
  },
  "language_info": {
   "codemirror_mode": {
    "name": "ipython",
    "version": 3
   },
   "file_extension": ".py",
   "mimetype": "text/x-python",
   "name": "python",
   "nbconvert_exporter": "python",
   "pygments_lexer": "ipython3",
   "version": "3.11.7"
  }
 },
 "nbformat": 4,
 "nbformat_minor": 5
}
